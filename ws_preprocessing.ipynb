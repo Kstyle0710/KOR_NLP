{
 "cells": [
  {
   "cell_type": "code",
   "execution_count": 1,
   "metadata": {},
   "outputs": [
    {
     "name": "stderr",
     "output_type": "stream",
     "text": [
      "[nltk_data] Downloading package punkt to\n",
      "[nltk_data]     C:\\Users\\jongb\\AppData\\Roaming\\nltk_data...\n",
      "[nltk_data]   Package punkt is already up-to-date!\n"
     ]
    },
    {
     "data": {
      "text/plain": [
       "True"
      ]
     },
     "execution_count": 1,
     "metadata": {},
     "output_type": "execute_result"
    }
   ],
   "source": [
    "import pandas as pd\n",
    "from tqdm import tqdm\n",
    "import nltk\n",
    "from nltk.tokenize import RegexpTokenizer\n",
    "from konlpy.tag import Mecab\n",
    "mecab = Mecab(dicpath=r\"C:/mecab/mecab-ko-dic\")\n",
    "nltk.download('punkt')"
   ]
  },
  {
   "cell_type": "code",
   "execution_count": 2,
   "metadata": {},
   "outputs": [
    {
     "name": "stdout",
     "output_type": "stream",
     "text": [
      "['전', '난', '일', '걸', '뭐', '줄', '만', '건', '작업', '분', '위', '개', '끝', '송', '잼', '이거', '부', '동', '번', '중', '듯', '차', '때', '게', '내', '말', '나', '수', '거', '점', '것', '등', '측', '의', '급', '후', '간', '단', '시', '곳']\n"
     ]
    }
   ],
   "source": [
    "stop_word = \"전 난 일 걸 뭐 줄 만 건 작업 분 위 개 끝 송 잼 이거 부 동 번 중 듯 차 때 게 내 말 나 수 거 점 것 등 측 의 급 후 간 단 시 곳\"\n",
    "stop_word = stop_word.split(' ')\n",
    "print(stop_word)"
   ]
  },
  {
   "cell_type": "code",
   "execution_count": 6,
   "metadata": {},
   "outputs": [],
   "source": [
    "df = pd.read_excel('./data/작업표준 목록_조선외.xlsx')\n",
    "target = df[\"표준서명\"]"
   ]
  },
  {
   "cell_type": "code",
   "execution_count": 10,
   "metadata": {},
   "outputs": [],
   "source": [
    "targets = []\n",
    "results = []"
   ]
  },
  {
   "cell_type": "code",
   "execution_count": 46,
   "metadata": {},
   "outputs": [
    {
     "name": "stderr",
     "output_type": "stream",
     "text": [
      "100%|████████████████████████████████████████████████████████████████████| 6187/6187 [00:00<00:00, 43907.64it/s]\n"
     ]
    }
   ],
   "source": [
    "for sentence in tqdm(target):\n",
    "    result = []\n",
    "    tokenizer = RegexpTokenizer(\"[\\w]+\")\n",
    "    tokens = tokenizer.tokenize(sentence)\n",
    "    for token in tokens:\n",
    "        if token not in stop_word:\n",
    "            result.append(token)\n",
    "    targets.append(sentence)\n",
    "    results.append(result)"
   ]
  },
  {
   "cell_type": "code",
   "execution_count": 59,
   "metadata": {},
   "outputs": [
    {
     "data": {
      "text/plain": [
       "['13', '8KV', '110V', 'INCOMING', 'PT', '교체']"
      ]
     },
     "execution_count": 59,
     "metadata": {},
     "output_type": "execute_result"
    }
   ],
   "source": [
    "results[0]"
   ]
  },
  {
   "cell_type": "code",
   "execution_count": null,
   "metadata": {},
   "outputs": [],
   "source": []
  },
  {
   "cell_type": "code",
   "execution_count": 14,
   "metadata": {},
   "outputs": [],
   "source": [
    "df.to_excel(\"./result/ko_nlp_1214(3).xlsx\", encoding='utf-8-sig')"
   ]
  },
  {
   "cell_type": "code",
   "execution_count": 15,
   "metadata": {},
   "outputs": [
    {
     "data": {
      "text/html": [
       "<div>\n",
       "<style scoped>\n",
       "    .dataframe tbody tr th:only-of-type {\n",
       "        vertical-align: middle;\n",
       "    }\n",
       "\n",
       "    .dataframe tbody tr th {\n",
       "        vertical-align: top;\n",
       "    }\n",
       "\n",
       "    .dataframe thead th {\n",
       "        text-align: right;\n",
       "    }\n",
       "</style>\n",
       "<table border=\"1\" class=\"dataframe\">\n",
       "  <thead>\n",
       "    <tr style=\"text-align: right;\">\n",
       "      <th></th>\n",
       "      <th>번호</th>\n",
       "      <th>표준서번호</th>\n",
       "      <th>표준서명</th>\n",
       "      <th>형태소 추출</th>\n",
       "      <th>대분류</th>\n",
       "      <th>기안자</th>\n",
       "      <th>제(개)정일자</th>\n",
       "      <th>BU</th>\n",
       "      <th>tokenized</th>\n",
       "    </tr>\n",
       "  </thead>\n",
       "  <tbody>\n",
       "    <tr>\n",
       "      <th>0</th>\n",
       "      <td>1</td>\n",
       "      <td>HHIMS-W-AAA-01-020</td>\n",
       "      <td>13.8KV 110V INCOMING PT 교체</td>\n",
       "      <td>['교체']</td>\n",
       "      <td>설비운영</td>\n",
       "      <td>U/T지원부</td>\n",
       "      <td>2018.08.17</td>\n",
       "      <td>모스</td>\n",
       "      <td>[13, 8KV, 110V, INCOMING, PT, 교체]</td>\n",
       "    </tr>\n",
       "    <tr>\n",
       "      <th>1</th>\n",
       "      <td>2</td>\n",
       "      <td>HHIMS-W-AAA-03-002</td>\n",
       "      <td>13.8KV CABLE 단말작업(CV 1C 22KV)</td>\n",
       "      <td>['단말']</td>\n",
       "      <td>설비운영</td>\n",
       "      <td>U/T지원부</td>\n",
       "      <td>2018.08.17</td>\n",
       "      <td>모스</td>\n",
       "      <td>[13, 8KV, CABLE, 단말작업, CV, 1C, 22KV]</td>\n",
       "    </tr>\n",
       "    <tr>\n",
       "      <th>2</th>\n",
       "      <td>3</td>\n",
       "      <td>HHIMS-W-AAA-03-001</td>\n",
       "      <td>13.8KV CABLE 접속작업(CV 1C 22KV)</td>\n",
       "      <td>['접속']</td>\n",
       "      <td>설비운영</td>\n",
       "      <td>U/T지원부</td>\n",
       "      <td>2018.08.17</td>\n",
       "      <td>모스</td>\n",
       "      <td>[13, 8KV, CABLE, 접속작업, CV, 1C, 22KV]</td>\n",
       "    </tr>\n",
       "    <tr>\n",
       "      <th>3</th>\n",
       "      <td>4</td>\n",
       "      <td>HHIMS-W-AAA-01-001</td>\n",
       "      <td>154KV 변압기 OLTC 정비작업</td>\n",
       "      <td>['변압기', '정비']</td>\n",
       "      <td>설비운영</td>\n",
       "      <td>U/T지원부</td>\n",
       "      <td>2018.08.17</td>\n",
       "      <td>모스</td>\n",
       "      <td>[154KV, 변압기, OLTC, 정비작업]</td>\n",
       "    </tr>\n",
       "    <tr>\n",
       "      <th>4</th>\n",
       "      <td>5</td>\n",
       "      <td>HHIMS-W-AAA-01-004</td>\n",
       "      <td>154kV 변압기 교체작업</td>\n",
       "      <td>['변압기', '교체']</td>\n",
       "      <td>설비운영</td>\n",
       "      <td>U/T지원부</td>\n",
       "      <td>2018.08.17</td>\n",
       "      <td>모스</td>\n",
       "      <td>[154kV, 변압기, 교체작업]</td>\n",
       "    </tr>\n",
       "  </tbody>\n",
       "</table>\n",
       "</div>"
      ],
      "text/plain": [
       "   번호               표준서번호                           표준서명         형태소 추출   대분류  \\\n",
       "0   1  HHIMS-W-AAA-01-020     13.8KV 110V INCOMING PT 교체         ['교체']  설비운영   \n",
       "1   2  HHIMS-W-AAA-03-002  13.8KV CABLE 단말작업(CV 1C 22KV)         ['단말']  설비운영   \n",
       "2   3  HHIMS-W-AAA-03-001  13.8KV CABLE 접속작업(CV 1C 22KV)         ['접속']  설비운영   \n",
       "3   4  HHIMS-W-AAA-01-001            154KV 변압기 OLTC 정비작업  ['변압기', '정비']  설비운영   \n",
       "4   5  HHIMS-W-AAA-01-004                 154kV 변압기 교체작업  ['변압기', '교체']  설비운영   \n",
       "\n",
       "      기안자     제(개)정일자  BU                             tokenized  \n",
       "0  U/T지원부  2018.08.17  모스     [13, 8KV, 110V, INCOMING, PT, 교체]  \n",
       "1  U/T지원부  2018.08.17  모스  [13, 8KV, CABLE, 단말작업, CV, 1C, 22KV]  \n",
       "2  U/T지원부  2018.08.17  모스  [13, 8KV, CABLE, 접속작업, CV, 1C, 22KV]  \n",
       "3  U/T지원부  2018.08.17  모스              [154KV, 변압기, OLTC, 정비작업]  \n",
       "4  U/T지원부  2018.08.17  모스                    [154kV, 변압기, 교체작업]  "
      ]
     },
     "execution_count": 15,
     "metadata": {},
     "output_type": "execute_result"
    }
   ],
   "source": [
    "df[\"tokenized\"] = results\n",
    "df.head()"
   ]
  },
  {
   "cell_type": "code",
   "execution_count": 60,
   "metadata": {},
   "outputs": [
    {
     "data": {
      "text/plain": [
       "1735        [BAND, SAW, 절단작업, 717M, C]\n",
       "1736    [BED, PLATE, Frame, Box, 가공작업]\n",
       "1737                  [BED, PLATE, 가공]\n",
       "1738       [BED, PLATE, 밀링, 드릴작업, HBM]\n",
       "1739                [BED, PLATE, 운반작업]\n",
       "Name: tokenized, dtype: object"
      ]
     },
     "execution_count": 60,
     "metadata": {},
     "output_type": "execute_result"
    }
   ],
   "source": [
    "i = '기계가공부'\n",
    "t1 = df.loc[df[\"기안자\"] == i, 'tokenized']\n",
    "t1.head()"
   ]
  },
  {
   "cell_type": "code",
   "execution_count": 62,
   "metadata": {},
   "outputs": [
    {
     "data": {
      "text/plain": [
       "'SAW'"
      ]
     },
     "execution_count": 62,
     "metadata": {},
     "output_type": "execute_result"
    }
   ],
   "source": [
    "t2 = t1.values.tolist()\n",
    "t2[0][1]"
   ]
  },
  {
   "cell_type": "code",
   "execution_count": 65,
   "metadata": {},
   "outputs": [
    {
     "name": "stdout",
     "output_type": "stream",
     "text": [
      "{'U/T지원부': ['13', '8KV', '110V', 'INCOMING', 'PT', '교체', 'CABLE', '단말작업', 'CV', '1C', '22KV', '접속작업', '154KV', '변압기', 'OLTC', '정비작업', '154kV', '교체작업', '병렬운전', '절연유', '여과작업', 'AC', '자동', 'POWER', 'SOURCE', '정비', '용접기', '무빙코아', 'AIR', '7', 'GRANDER', 'BELT', 'SANDER', 'COMPRESSOR', '보조설비', '원격', '운영', 'OIL', 'PUMP', '공기압축기', '설치공사', '철거공사', 'DIE', 'GRINDER', 'DRYER', 'DESICCANT', '흡착제', 'HEATER', '전기', 'PANEL', '점검', 'PRE', 'FILTER', 'ASS', 'Y', '설치', '및', '철거', 'ELEMENT', '운전', '공기건조기', '전모델', '각종', 'CONTROL', 'VALVE류', '분해정비', 'HANDLING', 'UNIT', '예방정비', 'IMPACT', 'WRENCH', 'JACK', 'LIGHT', 'HAMMER', 'SPRAY', 'GUN', 'TACKER', 'VACUUM', 'CLEANER', 'WINCH', '구동', 'WATER', 'AIRLESS', 'AUTO', 'CUTTING', 'M', 'C', 'IK', '54D', '72T', 'BATTERY', 'BEND', 'COUPLING', '체결작업', 'CAR', 'CRANE', '안전작업', '표준', 'CARRY', 'CENTAC', '1250HP', 'ROTOR', 'GEAR', 'BOX', '800HP', 'INTER', 'COOLER', '분해', '세척', 'SOFT', 'STARTER', 'CENTACⅡ', 'CHAIN', 'BLOCK', 'LEVER', 'PULLER', 'CO2', 'PCB', '수리', 'AFTER', '세관', 'INLET', '공사', 'MAIN', 'MOTOR', '저장', 'TANK', 'COOLING', 'TOWER', '분해정비작업', '냉각탑', 'CT', '고정용', '시험기', '현장', '교정', '표준작업', '지도서', '유해위험성', '평가서', 'DC', 'DOCK장', 'UT배관', 'DRY', 'OVEN', 'ELECTRIC', 'CUTTER', 'DISC', 'DRILL', 'JIG', 'SAW', 'METAL', 'ENGINE', 'PORTABLE', 'FLUX', 'RECOVERY', 'G', '3Cx35SQ', 'GAS', 'BURNER', 'PICLE', '2', 'BEAVER', 'GOUGING', 'Height', 'Gauge의', 'HYD', 'RAM', 'MOTER', 'PALLET', 'TRUCK', 'TERMINAL', 'CRIMPER', 'TORQUE', 'IVR', 'LIFT', '작업시', '안전수칙', 'MINI', 'SEG', 'ARC', 'CARRIAGE', 'OVER', 'HEAD', 'PANEL내', 'METER', 'PIPE', '밴딩기', '사용방법', 'TIG', 'PPC', 'BLOWER', 'CENTERING', '교정작업', '설치작업', 'PUMP실예방점검', 'ARC용접기용', 'SUSPENSION', 'TURBO', 'TYPE', 'I', 'V', 'SHROUD', 'UT', '개선', '근골격계', '예방', 'VCB', 'VERTICAL', 'CLAMP', '기타', '분전반', 'WIRE', '가공선로', '까치집', '철거작업', '보수작업', '가로등', '소등', '관리', '가연성', '가스배관', '가스용기', '가연성GAS', 'PURGE작업', '건조로', '운전작업', '고소작업차', '고압', '절손', '소손', '복구작업', '특고압', '공동구', '배관설치', '수중PUMP', '공동구내', '공장', '천정등', '천정CRANE', '이용', '공장동', '공장동UT배관', '기계실', '설비', '원격제어', '통합운영', '외측', '마이크로미터의', '내전압', '노출밸브BOX설치방법', '도시가스', '정압기실', '예방점검', '매몰형BOX', '매설', 'GAS배관', '멤브레인', 'PLASMA', '용접', '곡레일', '슬라이드', '케리지', '접촉식', '센서', '용접기용', '냉각기', '물탱크', '청소작업', '바이메탈', '온도계', '발판', 'HAND', 'RAIL', '배관', 'VV', '매설작업', '벽등', '고소차', '변전실', '순회점검', '보일러', '화학세관', '보일러실', '재설치', '보호계전기', 'TAP', '수정작업', 'TEST', '복합가스측정기', 'RIKEN', 'KEIKI', '비상발전기', '운반설치', '구동체', '윤활유', '주유작업', '설비개선', '지그류', '제작', '송풍기', '수변전설비', '안전보호구', '안전장치', '사용', '정비용', '수압', '순환', '펌프', '식용수배관열선', '안벽', 'PE장', '압력계', '표준작업지도서', '유해위험성평가서', '압력용기', '안전검사', '안전변', '토출시험', '엔진', '옥외소화전', 'POST교체작업', 'CLEANING', '먼지제거', '출장', '출장정비', '사내', '이동방법', '용접장비용', '유압', '압착기', '작업표준', '이동변전실', '캐리지', 'SW41', '저수조TANK', '밸브', '저압', 'MCCB', '차단기', 'ACB', '조작작업', '콘덴서', '적산전력계', '계량기', '적외선', '전기식', '지시저울', '분동', '전기톱사용', '전동', '파렛트', '트럭', 'SWP', '3500', '사용법', '전동CUTTING', 'MC', '전사', '휴전', '정전', '재', '송전시', '가동', '방법', '조명', '조명등', '주상변압기', '표준서', '사외지역', '지게차', '지하', 'TUNNEL', '직화식', '냉', '난방기', '1', '2차', '결선', '철탑', '출퇴근', '이동점검', '활동', '측정기', '운송에', '관한', '차량운행', '카', '크레인', '안전', '지시', '요령', '카크레인', '콘터롤러식', '압력계의', '레일주변', '탁상DRILL', '토크렌치', '포설작업', '배전반', '경보', 'OCR', '누유', '전력설비', '열화진단', '특고압CONDENSER', '푸쉬풀', '장력계', '게이지', '환기FAN', '회전', '속도계의', '비접촉식', '휴대용', '전기드릴', '정전작업', '안전표준서', '흡수식', '냉난방기', '결정해지', '진공작업'], '내업설비운영부': ['가공공장', '중앙통로', '진입', '및', '작업방법', '가공소조립5공장', '지게차', '가공소조립5부', '천정크레인', 'HOOK', '운전', '중조공장', 'MAGNET', '강재장', '절단장', '트란스베이', '가공소조립공장', '강재', '적치작업', '마그네트크레인', '상차작업', '장비', '예방점검', '요령', '가동전후', '점검', '정비작업', '1', '2', '이동', '준수사항', '청소', '정비', '크레인', '승하차', '방법', '대조립1공장', '대차', '1팀', '2팀', '빅도어', '운전작업', '수직', '크람프', '사용', '전동', '운행', '대조립1부', '신호', 'LONG', '탑재', '부재하차', '블록', '써포트', '턴오버', '판계', '셋팅', '평곡블록', '반출', '후로아', '신호2', '150TON', '200TON', '30TON', '90TON', '복명복창', '기준', 'AC087', '088', '대조립2부', '전동지게차', '론지탑재', '부재', '하차', '수직크람프', '수평크람프', '주판', '중조블록', '조립', '데크', '평중조', '100Ton', '150Ton', '200Ton', '30Ton', '크레인정비', '대조립5공장', 'BH', '로우더', '준비', '론지', 'OUT', '소부재', '슬링벨트', '중량물', '운반', '120TON', '권양', '주행', '팔레트', '횡행', '소조립공장', '적치장', '짚', '타워', '강풍', '대비작업', '주의사항', '점검사항', '예방정비', '판넬조립5공장', 'ASSY', 'BLT', 'PIPE', '권상작업', '권양준비', '권하작업', '대조', '샤클', '체결', '해체', '수직클람프', '수평클람프', '스키드로우더', '연장', '이동작업', '이송대차', '철의장', '컨베이어', '350TON', '기본수칙', '사고사례', '판넬조립공장', 'AC069', '프레스', 'AZ004', 'Assy', 'CORRUGATION', 'Pipe', '권상', '권하', '적치', '클람프', '배열', '연장부', '철의장품', '예방', '권양물', '작업준비', '줄걸이', '파이프탑재', '운전원', 'AC063', 'AC1166']}\n"
     ]
    }
   ],
   "source": [
    "final ={}\n",
    "depts = df[\"기안자\"].unique()\n",
    "for i in depts[:2]:\n",
    "    temp_list =[]\n",
    "    t7 = df.loc[df[\"기안자\"] == i, 'tokenized']\n",
    "    t8 = t7.values.tolist()\n",
    "    for j in t8:\n",
    "        for m in j:\n",
    "            if m not in temp_list:\n",
    "                temp_list.append(m)\n",
    "            else:\n",
    "                pass\n",
    "\n",
    "    final[i] = temp_list\n",
    "print(final)\n"
   ]
  },
  {
   "cell_type": "code",
   "execution_count": 66,
   "metadata": {},
   "outputs": [
    {
     "data": {
      "text/plain": [
       "dict_keys(['U/T지원부', '내업설비운영부'])"
      ]
     },
     "execution_count": 66,
     "metadata": {},
     "output_type": "execute_result"
    }
   ],
   "source": [
    "final.keys()"
   ]
  },
  {
   "cell_type": "code",
   "execution_count": null,
   "metadata": {},
   "outputs": [],
   "source": []
  },
  {
   "cell_type": "code",
   "execution_count": null,
   "metadata": {},
   "outputs": [],
   "source": []
  }
 ],
 "metadata": {
  "kernelspec": {
   "display_name": "Python 3",
   "language": "python",
   "name": "python3"
  },
  "language_info": {
   "codemirror_mode": {
    "name": "ipython",
    "version": 3
   },
   "file_extension": ".py",
   "mimetype": "text/x-python",
   "name": "python",
   "nbconvert_exporter": "python",
   "pygments_lexer": "ipython3",
   "version": "3.7.7"
  }
 },
 "nbformat": 4,
 "nbformat_minor": 4
}
