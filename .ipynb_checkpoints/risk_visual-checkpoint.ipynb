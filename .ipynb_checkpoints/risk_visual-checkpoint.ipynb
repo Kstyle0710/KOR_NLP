{
 "cells": [
  {
   "cell_type": "code",
   "execution_count": 33,
   "metadata": {},
   "outputs": [],
   "source": [
    "# import import_ipynb\n",
    "# from ws_risk_mother import *"
   ]
  },
  {
   "cell_type": "code",
   "execution_count": 47,
   "metadata": {},
   "outputs": [],
   "source": [
    "import pandas as pd"
   ]
  },
  {
   "cell_type": "markdown",
   "metadata": {},
   "source": [
    "## df 세팅"
   ]
  },
  {
   "cell_type": "code",
   "execution_count": 172,
   "metadata": {},
   "outputs": [
    {
     "name": "stdout",
     "output_type": "stream",
     "text": [
      "<class 'pandas.core.frame.DataFrame'>\n",
      "RangeIndex: 23630 entries, 0 to 23629\n",
      "Data columns (total 14 columns):\n",
      " #   Column         Non-Null Count  Dtype \n",
      "---  ------         --------------  ----- \n",
      " 0   Unnamed: 0     23630 non-null  int64 \n",
      " 1   WORK_STAND_NM  23630 non-null  object\n",
      " 2   WS_ID          23630 non-null  object\n",
      " 3   WORK_UNIT      23630 non-null  object\n",
      " 4   WORK_ACT       23630 non-null  object\n",
      " 5   CHK_INFO       23630 non-null  object\n",
      " 6   부서             23630 non-null  object\n",
      " 7   대구분            23630 non-null  object\n",
      " 8   중구분            23630 non-null  object\n",
      " 9   소구분            23630 non-null  object\n",
      " 10  keyword        23630 non-null  object\n",
      " 11  위험_id          23630 non-null  object\n",
      " 12  위험_id개수        23630 non-null  int64 \n",
      " 13  R_vector       23630 non-null  object\n",
      "dtypes: int64(2), object(12)\n",
      "memory usage: 2.5+ MB\n"
     ]
    }
   ],
   "source": [
    "df_visual = pd.read_excel('./result/mother_file10.xlsx').fillna(\"\")   ## ws_risk_mother 실행 결과인 엑셀 읽어오기\n",
    "df_visual.info()"
   ]
  },
  {
   "cell_type": "code",
   "execution_count": 173,
   "metadata": {},
   "outputs": [],
   "source": [
    "df_visual['R_vector'] = pd.to_numeric(df_visual['R_vector']).fillna(0)"
   ]
  },
  {
   "cell_type": "code",
   "execution_count": 174,
   "metadata": {},
   "outputs": [
    {
     "name": "stdout",
     "output_type": "stream",
     "text": [
      "<class 'pandas.core.frame.DataFrame'>\n",
      "RangeIndex: 23630 entries, 0 to 23629\n",
      "Data columns (total 14 columns):\n",
      " #   Column         Non-Null Count  Dtype  \n",
      "---  ------         --------------  -----  \n",
      " 0   Unnamed: 0     23630 non-null  int64  \n",
      " 1   WORK_STAND_NM  23630 non-null  object \n",
      " 2   WS_ID          23630 non-null  object \n",
      " 3   WORK_UNIT      23630 non-null  object \n",
      " 4   WORK_ACT       23630 non-null  object \n",
      " 5   CHK_INFO       23630 non-null  object \n",
      " 6   부서             23630 non-null  object \n",
      " 7   대구분            23630 non-null  object \n",
      " 8   중구분            23630 non-null  object \n",
      " 9   소구분            23630 non-null  object \n",
      " 10  keyword        23630 non-null  object \n",
      " 11  위험_id          23630 non-null  object \n",
      " 12  위험_id개수        23630 non-null  int64  \n",
      " 13  R_vector       23630 non-null  float64\n",
      "dtypes: float64(1), int64(2), object(11)\n",
      "memory usage: 2.5+ MB\n"
     ]
    }
   ],
   "source": [
    "df_visual.info()"
   ]
  },
  {
   "cell_type": "code",
   "execution_count": 175,
   "metadata": {},
   "outputs": [
    {
     "data": {
      "text/html": [
       "<div>\n",
       "<style scoped>\n",
       "    .dataframe tbody tr th:only-of-type {\n",
       "        vertical-align: middle;\n",
       "    }\n",
       "\n",
       "    .dataframe tbody tr th {\n",
       "        vertical-align: top;\n",
       "    }\n",
       "\n",
       "    .dataframe thead th {\n",
       "        text-align: right;\n",
       "    }\n",
       "</style>\n",
       "<table border=\"1\" class=\"dataframe\">\n",
       "  <thead>\n",
       "    <tr style=\"text-align: right;\">\n",
       "      <th></th>\n",
       "      <th>대구분</th>\n",
       "      <th>중구분</th>\n",
       "      <th>소구분</th>\n",
       "      <th>부서</th>\n",
       "      <th>WS_ID</th>\n",
       "      <th>WORK_STAND_NM</th>\n",
       "      <th>Unnamed: 0</th>\n",
       "      <th>위험_id개수</th>\n",
       "      <th>R_vector</th>\n",
       "    </tr>\n",
       "  </thead>\n",
       "  <tbody>\n",
       "    <tr>\n",
       "      <th>0</th>\n",
       "      <td>LNG공사</td>\n",
       "      <td>MEMB.</td>\n",
       "      <td>MEMB. 보온</td>\n",
       "      <td>LNG공사부</td>\n",
       "      <td>WS_67</td>\n",
       "      <td>CARGO TANK MEMB. PANEL보온 I/P 설치</td>\n",
       "      <td>17143</td>\n",
       "      <td>12</td>\n",
       "      <td>20.0</td>\n",
       "    </tr>\n",
       "    <tr>\n",
       "      <th>1</th>\n",
       "      <td>LNG공사</td>\n",
       "      <td>MEMB.</td>\n",
       "      <td>MEMB. 보온</td>\n",
       "      <td>LNG공사부</td>\n",
       "      <td>WS_68</td>\n",
       "      <td>CARGO TANK MEMB. PANEL보온 TPX/TBP 설치</td>\n",
       "      <td>33615</td>\n",
       "      <td>1</td>\n",
       "      <td>10.0</td>\n",
       "    </tr>\n",
       "    <tr>\n",
       "      <th>2</th>\n",
       "      <td>LNG공사</td>\n",
       "      <td>MEMB.</td>\n",
       "      <td>MEMB. 보온</td>\n",
       "      <td>LNG공사부</td>\n",
       "      <td>WS_69</td>\n",
       "      <td>CARGO TANK MEMB. S/OPENING 보온</td>\n",
       "      <td>11367</td>\n",
       "      <td>11</td>\n",
       "      <td>30.0</td>\n",
       "    </tr>\n",
       "    <tr>\n",
       "      <th>3</th>\n",
       "      <td>LNG공사</td>\n",
       "      <td>MEMB.</td>\n",
       "      <td>MEMB. 설치</td>\n",
       "      <td>LNG공사부</td>\n",
       "      <td>WS_66</td>\n",
       "      <td>CARGO TANK MEMB. MARKING</td>\n",
       "      <td>16947</td>\n",
       "      <td>12</td>\n",
       "      <td>20.0</td>\n",
       "    </tr>\n",
       "    <tr>\n",
       "      <th>4</th>\n",
       "      <td>LNG공사</td>\n",
       "      <td>MEMB.</td>\n",
       "      <td>MEMB. 설치</td>\n",
       "      <td>LNG공사부</td>\n",
       "      <td>WS_70</td>\n",
       "      <td>CARGO TANK MEMB. 설치 MEMB. FIT-UP</td>\n",
       "      <td>7623</td>\n",
       "      <td>8</td>\n",
       "      <td>10.0</td>\n",
       "    </tr>\n",
       "    <tr>\n",
       "      <th>5</th>\n",
       "      <td>LNG공사</td>\n",
       "      <td>MEMB.</td>\n",
       "      <td>MEMB. 설치</td>\n",
       "      <td>LNG공사부</td>\n",
       "      <td>WS_71</td>\n",
       "      <td>CARGO TANK MEMB. 설치 MEMB. 용접</td>\n",
       "      <td>15354</td>\n",
       "      <td>44</td>\n",
       "      <td>90.0</td>\n",
       "    </tr>\n",
       "    <tr>\n",
       "      <th>6</th>\n",
       "      <td>LNG공사</td>\n",
       "      <td>MEMB.</td>\n",
       "      <td>MEMB. 의장설치</td>\n",
       "      <td>LNG공사부</td>\n",
       "      <td>WS_72</td>\n",
       "      <td>CARGO TANK MEMB.의장설치 G/DOME</td>\n",
       "      <td>9023</td>\n",
       "      <td>12</td>\n",
       "      <td>40.0</td>\n",
       "    </tr>\n",
       "    <tr>\n",
       "      <th>7</th>\n",
       "      <td>LNG공사</td>\n",
       "      <td>MEMB.</td>\n",
       "      <td>MEMB. 의장설치</td>\n",
       "      <td>LNG공사부</td>\n",
       "      <td>WS_73</td>\n",
       "      <td>CARGO TANK MEMB.의장설치 N2 PIPE</td>\n",
       "      <td>10372</td>\n",
       "      <td>25</td>\n",
       "      <td>20.0</td>\n",
       "    </tr>\n",
       "    <tr>\n",
       "      <th>8</th>\n",
       "      <td>LNG공사</td>\n",
       "      <td>MEMB.</td>\n",
       "      <td>MEMB. 의장설치</td>\n",
       "      <td>LNG공사부</td>\n",
       "      <td>WS_74</td>\n",
       "      <td>CARGO TANK MEMB.의장설치 NH3 PIPE</td>\n",
       "      <td>9128</td>\n",
       "      <td>17</td>\n",
       "      <td>20.0</td>\n",
       "    </tr>\n",
       "    <tr>\n",
       "      <th>9</th>\n",
       "      <td>LNG공사</td>\n",
       "      <td>MEMB.</td>\n",
       "      <td>MEMB. 의장설치</td>\n",
       "      <td>LNG공사부</td>\n",
       "      <td>WS_75</td>\n",
       "      <td>CARGO TANK MEMB.의장설치 P/TOWER</td>\n",
       "      <td>38338</td>\n",
       "      <td>38</td>\n",
       "      <td>60.0</td>\n",
       "    </tr>\n",
       "  </tbody>\n",
       "</table>\n",
       "</div>"
      ],
      "text/plain": [
       "     대구분    중구분         소구분      부서  WS_ID  \\\n",
       "0  LNG공사  MEMB.    MEMB. 보온  LNG공사부  WS_67   \n",
       "1  LNG공사  MEMB.    MEMB. 보온  LNG공사부  WS_68   \n",
       "2  LNG공사  MEMB.    MEMB. 보온  LNG공사부  WS_69   \n",
       "3  LNG공사  MEMB.    MEMB. 설치  LNG공사부  WS_66   \n",
       "4  LNG공사  MEMB.    MEMB. 설치  LNG공사부  WS_70   \n",
       "5  LNG공사  MEMB.    MEMB. 설치  LNG공사부  WS_71   \n",
       "6  LNG공사  MEMB.  MEMB. 의장설치  LNG공사부  WS_72   \n",
       "7  LNG공사  MEMB.  MEMB. 의장설치  LNG공사부  WS_73   \n",
       "8  LNG공사  MEMB.  MEMB. 의장설치  LNG공사부  WS_74   \n",
       "9  LNG공사  MEMB.  MEMB. 의장설치  LNG공사부  WS_75   \n",
       "\n",
       "                         WORK_STAND_NM  Unnamed: 0  위험_id개수  R_vector  \n",
       "0      CARGO TANK MEMB. PANEL보온 I/P 설치       17143       12      20.0  \n",
       "1  CARGO TANK MEMB. PANEL보온 TPX/TBP 설치       33615        1      10.0  \n",
       "2        CARGO TANK MEMB. S/OPENING 보온       11367       11      30.0  \n",
       "3             CARGO TANK MEMB. MARKING       16947       12      20.0  \n",
       "4     CARGO TANK MEMB. 설치 MEMB. FIT-UP        7623        8      10.0  \n",
       "5         CARGO TANK MEMB. 설치 MEMB. 용접       15354       44      90.0  \n",
       "6          CARGO TANK MEMB.의장설치 G/DOME        9023       12      40.0  \n",
       "7         CARGO TANK MEMB.의장설치 N2 PIPE       10372       25      20.0  \n",
       "8        CARGO TANK MEMB.의장설치 NH3 PIPE        9128       17      20.0  \n",
       "9         CARGO TANK MEMB.의장설치 P/TOWER       38338       38      60.0  "
      ]
     },
     "execution_count": 175,
     "metadata": {},
     "output_type": "execute_result"
    }
   ],
   "source": [
    "gdf = df_visual.groupby(by = [\"대구분\", \"중구분\", \"소구분\", \"부서\", \"WS_ID\", \"WORK_STAND_NM\"], as_index=False).sum().fillna(0)\n",
    "gdf.head(10)"
   ]
  },
  {
   "cell_type": "code",
   "execution_count": 176,
   "metadata": {},
   "outputs": [
    {
     "name": "stdout",
     "output_type": "stream",
     "text": [
      "<class 'pandas.core.frame.DataFrame'>\n",
      "Int64Index: 1414 entries, 0 to 1413\n",
      "Data columns (total 9 columns):\n",
      " #   Column         Non-Null Count  Dtype  \n",
      "---  ------         --------------  -----  \n",
      " 0   대구분            1414 non-null   object \n",
      " 1   중구분            1414 non-null   object \n",
      " 2   소구분            1414 non-null   object \n",
      " 3   부서             1414 non-null   object \n",
      " 4   WS_ID          1414 non-null   object \n",
      " 5   WORK_STAND_NM  1414 non-null   object \n",
      " 6   Unnamed: 0     1414 non-null   int64  \n",
      " 7   위험_id개수        1414 non-null   int64  \n",
      " 8   R_vector       1414 non-null   float64\n",
      "dtypes: float64(1), int64(2), object(6)\n",
      "memory usage: 110.5+ KB\n"
     ]
    }
   ],
   "source": [
    "gdf.info()"
   ]
  },
  {
   "cell_type": "markdown",
   "metadata": {},
   "source": [
    "## 단순 시각화"
   ]
  },
  {
   "cell_type": "code",
   "execution_count": 48,
   "metadata": {},
   "outputs": [],
   "source": [
    "import plotly.express as px"
   ]
  },
  {
   "cell_type": "code",
   "execution_count": 113,
   "metadata": {},
   "outputs": [
    {
     "data": {
      "application/vnd.plotly.v1+json": {
       "config": {
        "plotlyServerURL": "https://plotly.com"
       },
       "data": [
        {
         "alignmentgroup": "True",
         "customdata": [
          [
           "LNG공사",
           "CARGO TANK MEMB. PANEL보온 I/P 설치",
           20
          ],
          [
           "LNG공사",
           "CARGO TANK MEMB. PANEL보온 TPX/TBP 설치",
           10
          ],
          [
           "LNG공사",
           "CARGO TANK MEMB. S/OPENING 보온",
           30
          ],
          [
           "LNG공사",
           "CARGO TANK MEMB. MARKING",
           20
          ],
          [
           "LNG공사",
           "CARGO TANK MEMB. 설치 MEMB. FIT-UP",
           10
          ],
          [
           "LNG공사",
           "CARGO TANK MEMB. 설치 MEMB. 용접",
           90
          ],
          [
           "LNG공사",
           "CARGO TANK MEMB.의장설치 G/DOME",
           40
          ],
          [
           "LNG공사",
           "CARGO TANK MEMB.의장설치 N2 PIPE",
           20
          ],
          [
           "LNG공사",
           "CARGO TANK MEMB.의장설치 NH3 PIPE",
           20
          ],
          [
           "LNG공사",
           "CARGO TANK MEMB.의장설치 P/TOWER",
           60
          ],
          [
           "LNG공사",
           "CARGO TANK MEMB.의장설치 SENSOR",
           20
          ],
          [
           "LNG공사",
           "CARGO TANK MEMB.의장설치 SPRAY LINE",
           40
          ],
          [
           "LNG공사",
           "CARGO TANK TIGHTNESS TEST",
           0
          ],
          [
           "LNG공사",
           "LNG Truss 설치",
           20
          ],
          [
           "LNG공사",
           "LNG Truss 조립",
           40
          ],
          [
           "LNG공사",
           "LNG Truss 탑재",
           10
          ],
          [
           "LNG공사",
           "LNG Truss 해체",
           10
          ]
         ],
         "hovertemplate": "대구분=%{customdata[0]}<br>R_vector=%{customdata[2]}<br>부서=%{y}<br>WORK_STAND_NM=%{customdata[1]}<extra></extra>",
         "legendgroup": "LNG공사",
         "marker": {
          "color": "#636efa"
         },
         "name": "LNG공사",
         "offsetgroup": "LNG공사",
         "orientation": "h",
         "showlegend": true,
         "textposition": "auto",
         "type": "bar",
         "x": [
          20,
          10,
          30,
          20,
          10,
          90,
          40,
          20,
          20,
          60,
          20,
          40,
          0,
          20,
          40,
          10,
          10
         ],
         "xaxis": "x",
         "y": [
          "LNG공사부",
          "LNG공사부",
          "LNG공사부",
          "LNG공사부",
          "LNG공사부",
          "LNG공사부",
          "LNG공사부",
          "LNG공사부",
          "LNG공사부",
          "LNG공사부",
          "LNG공사부",
          "LNG공사부",
          "LNG공사부",
          "LNG공사부",
          "LNG공사부",
          "LNG공사부",
          "LNG공사부"
         ],
         "yaxis": "y"
        },
        {
         "alignmentgroup": "True",
         "customdata": [
          [
           "가공",
           "선각 철의장품/치공구류 제작",
           60
          ],
          [
           "가공",
           "주판재/내부재 선별",
           80
          ],
          [
           "가공",
           "성형",
           60
          ],
          [
           "가공",
           "강재 적치",
           50
          ],
          [
           "가공",
           "전처리",
           110
          ],
          [
           "가공",
           "GAS 절단",
           120
          ],
          [
           "가공",
           "플라즈마 절단",
           120
          ]
         ],
         "hovertemplate": "대구분=%{customdata[0]}<br>R_vector=%{customdata[2]}<br>부서=%{y}<br>WORK_STAND_NM=%{customdata[1]}<extra></extra>",
         "legendgroup": "가공",
         "marker": {
          "color": "#EF553B"
         },
         "name": "가공",
         "offsetgroup": "가공",
         "orientation": "h",
         "showlegend": true,
         "textposition": "auto",
         "type": "bar",
         "x": [
          60,
          80,
          60,
          50,
          110,
          120,
          120
         ],
         "xaxis": "x",
         "y": [
          "가공소조립부",
          "가공소조립부",
          "가공소조립부",
          "가공소조립부",
          "가공소조립부",
          "가공소조립부",
          "가공소조립부"
         ],
         "yaxis": "y"
        },
        {
         "alignmentgroup": "True",
         "customdata": [
          [
           "건조",
           "반목 설치",
           40
          ],
          [
           "건조",
           "반목 설치",
           40
          ],
          [
           "건조",
           "반목 설치",
           40
          ],
          [
           "건조",
           "Tank Air Test",
           70
          ],
          [
           "건조",
           "Tank Strength Test",
           160
          ],
          [
           "건조",
           "Tank Air Test",
           70
          ],
          [
           "건조",
           "Tank Strength Test",
           160
          ],
          [
           "건조",
           "Tank Air Test",
           70
          ],
          [
           "건조",
           "Tank Strength Test",
           160
          ],
          [
           "건조",
           "대형철의장(라싱브릿지)",
           50
          ],
          [
           "건조",
           "대형철의장(해치카바)",
           50
          ],
          [
           "건조",
           "대형철의장(홀드)",
           130
          ],
          [
           "건조",
           "일반철의장",
           100
          ],
          [
           "건조",
           "대형철의장(라싱브릿지)",
           70
          ],
          [
           "건조",
           "대형철의장(해치카바)",
           50
          ],
          [
           "건조",
           "대형철의장(홀드)",
           130
          ],
          [
           "건조",
           "일반철의장",
           100
          ],
          [
           "건조",
           "대형철의장(라싱브릿지)",
           50
          ],
          [
           "건조",
           "대형철의장(해치카바)",
           50
          ],
          [
           "건조",
           "대형철의장(홀드)",
           130
          ],
          [
           "건조",
           "일반철의장",
           100
          ],
          [
           "건조",
           "DOCK 취부용접",
           210
          ],
          [
           "건조",
           "외판 Draft Mark 시공",
           240
          ],
          [
           "건조",
           "후PE2 취부용접",
           200
          ],
          [
           "건조",
           "DOCK 취부용접",
           210
          ],
          [
           "건조",
           "외판 Draft Mark 시공",
           240
          ],
          [
           "건조",
           "후PE2 취부용접",
           200
          ],
          [
           "건조",
           "DOCK 취부용접",
           210
          ],
          [
           "건조",
           "외판 Draft Mark 시공",
           240
          ],
          [
           "건조",
           "후PE2 취부용접",
           200
          ],
          [
           "건조",
           "DOCK 철목",
           90
          ],
          [
           "건조",
           "후PE 철목",
           90
          ],
          [
           "건조",
           "DOCK 철목",
           90
          ],
          [
           "건조",
           "후PE 철목",
           90
          ],
          [
           "건조",
           "DOCK 철목",
           90
          ],
          [
           "건조",
           "후PE 철목",
           90
          ]
         ],
         "hovertemplate": "대구분=%{customdata[0]}<br>R_vector=%{customdata[2]}<br>부서=%{y}<br>WORK_STAND_NM=%{customdata[1]}<extra></extra>",
         "legendgroup": "건조",
         "marker": {
          "color": "#00cc96"
         },
         "name": "건조",
         "offsetgroup": "건조",
         "orientation": "h",
         "showlegend": true,
         "textposition": "auto",
         "type": "bar",
         "x": [
          40,
          40,
          40,
          70,
          160,
          70,
          160,
          70,
          160,
          50,
          50,
          130,
          100,
          70,
          50,
          130,
          100,
          50,
          50,
          130,
          100,
          210,
          240,
          200,
          210,
          240,
          200,
          210,
          240,
          200,
          90,
          90,
          90,
          90,
          90,
          90
         ],
         "xaxis": "x",
         "y": [
          "건조1부",
          "건조2부",
          "건조3부",
          "건조1부",
          "건조1부",
          "건조2부",
          "건조2부",
          "건조3부",
          "건조3부",
          "건조1부",
          "건조1부",
          "건조1부",
          "건조1부",
          "건조2부",
          "건조2부",
          "건조2부",
          "건조2부",
          "건조3부",
          "건조3부",
          "건조3부",
          "건조3부",
          "건조1부",
          "건조1부",
          "건조1부",
          "건조2부",
          "건조2부",
          "건조2부",
          "건조3부",
          "건조3부",
          "건조3부",
          "건조1부",
          "건조1부",
          "건조2부",
          "건조2부",
          "건조3부",
          "건조3부"
         ],
         "yaxis": "y"
        },
        {
         "alignmentgroup": "True",
         "customdata": [
          [
           "공사지원",
           "고소장비 라디에이터 교환",
           80
          ],
          [
           "공사지원",
           "고소장비 밧데리 교환",
           10
          ],
          [
           "공사지원",
           "고소장비 붐 스윙 모터 탈 부착 작업",
           20
          ],
          [
           "공사지원",
           "고소장비 붐 트랙 가이드 정비",
           0
          ],
          [
           "공사지원",
           "고소장비 시동모터, 제네레이터  (탈, 부착) 작업",
           0
          ],
          [
           "공사지원",
           "고소장비 연료주입 요령",
           40
          ],
          [
           "공사지원",
           "고소장비 예방정비",
           0
          ],
          [
           "공사지원",
           "고소장비 유압펌프 교체 탈/부착 작업",
           30
          ],
          [
           "공사지원",
           "고소장비 점검 및 조작점검",
           10
          ],
          [
           "공사지원",
           "고소차 관리(도크 및 PE장)",
           0
          ],
          [
           "공사지원",
           "고소차 붐 실린더 분해수리 작업",
           0
          ],
          [
           "공사지원",
           "고소차 붐 와이어 점검/조정 작업",
           0
          ],
          [
           "공사지원",
           "고소차 이동(Dock 및 호선 내,외부)",
           60
          ],
          [
           "공사지원",
           "고소차 타이어 교환 작업",
           110
          ],
          [
           "공사지원",
           "리미트 스위치 교환",
           10
          ],
          [
           "공사지원",
           "블록 입/출고 작업",
           130
          ],
          [
           "공사지원",
           "BALLASTING 작업",
           60
          ],
          [
           "공사지원",
           "D/W 지원 작업",
           0
          ],
          [
           "공사지원",
           "DEBALLASTING 작업",
           150
          ],
          [
           "공사지원",
           "SHORE POWER(S/P) CABLE 설치 및 철거",
           50
          ],
          [
           "공사지원",
           "STRENGTH TEST 지원",
           40
          ],
          [
           "공사지원",
           "U/T, S/P 철거 및 설치",
           20
          ],
          [
           "공사지원",
           "비상 설비 설치 및 철거",
           0
          ],
          [
           "공사지원",
           "생산 장비 결선 및 해체",
           0
          ],
          [
           "공사지원",
           "설비 보수",
           60
          ],
          [
           "공사지원",
           "소방 LINE 설치 및 철거",
           0
          ],
          [
           "공사지원",
           "유틸리티(U/T) 설치 및 철거",
           180
          ],
          [
           "공사지원",
           "조명등 설치 및 철거",
           320
          ],
          [
           "공사지원",
           "태풍 대비 설비 지원",
           10
          ]
         ],
         "hovertemplate": "대구분=%{customdata[0]}<br>R_vector=%{customdata[2]}<br>부서=%{y}<br>WORK_STAND_NM=%{customdata[1]}<extra></extra>",
         "legendgroup": "공사지원",
         "marker": {
          "color": "#ab63fa"
         },
         "name": "공사지원",
         "offsetgroup": "공사지원",
         "orientation": "h",
         "showlegend": true,
         "textposition": "auto",
         "type": "bar",
         "x": [
          80,
          10,
          20,
          0,
          0,
          40,
          0,
          30,
          10,
          0,
          0,
          0,
          60,
          110,
          10,
          130,
          60,
          0,
          150,
          50,
          40,
          20,
          0,
          0,
          60,
          0,
          180,
          320,
          10
         ],
         "xaxis": "x",
         "y": [
          "외업공사지원부",
          "외업공사지원부",
          "외업공사지원부",
          "외업공사지원부",
          "외업공사지원부",
          "외업공사지원부",
          "외업공사지원부",
          "외업공사지원부",
          "외업공사지원부",
          "외업공사지원부",
          "외업공사지원부",
          "외업공사지원부",
          "외업공사지원부",
          "외업공사지원부",
          "외업공사지원부",
          "외업공사지원부",
          "외업공사지원부",
          "외업공사지원부",
          "외업공사지원부",
          "외업공사지원부",
          "외업공사지원부",
          "외업공사지원부",
          "외업공사지원부",
          "외업공사지원부",
          "외업공사지원부",
          "외업공사지원부",
          "외업공사지원부",
          "외업공사지원부",
          "외업공사지원부"
         ],
         "yaxis": "y"
        },
        {
         "alignmentgroup": "True",
         "customdata": [
          [
           "기계의장",
           "Cargo Compressor 설치",
           50
          ],
          [
           "기계의장",
           "COP 설치",
           0
          ],
          [
           "기계의장",
           "COPT 설치",
           30
          ],
          [
           "기계의장",
           "D/WELL PUMP  Seat 설치",
           0
          ],
          [
           "기계의장",
           "D/WELL PUMP 조립 및 탑재",
           10
          ],
          [
           "기계의장",
           "Skid Unit 탑재/설치",
           40
          ],
          [
           "기계의장",
           "Vacuum Pump 설치",
           30
          ],
          [
           "기계의장",
           "Booster Pump 설치",
           0
          ],
          [
           "기계의장",
           "Deck Crane 탑재",
           20
          ],
          [
           "기계의장",
           "Resin & Chock Liner설치",
           0
          ],
          [
           "기계의장",
           "Thruster Motor 설치 및 Seal Test",
           30
          ],
          [
           "기계의장",
           "Winch 설치",
           10
          ],
          [
           "기계의장",
           "Windlass 설치",
           20
          ],
          [
           "기계의장",
           "Aux. M/C Alignment",
           20
          ],
          [
           "기계의장",
           "Aux. M/C 탑재",
           30
          ],
          [
           "기계의장",
           "Boiler 설치",
           0
          ],
          [
           "기계의장",
           "D/G Foundation 설치",
           40
          ],
          [
           "기계의장",
           "D/G 탑재",
           30
          ],
          [
           "기계의장",
           "E/R Crane Load Test",
           40
          ],
          [
           "기계의장",
           "E/R Crane Rack Gear 설치",
           20
          ],
          [
           "기계의장",
           "E/R Crane 설치",
           0
          ],
          [
           "기계의장",
           "Economizer 설치",
           0
          ],
          [
           "기계의장",
           "Generator 설치",
           20
          ],
          [
           "기계의장",
           "I.G.G 장비 설치",
           10
          ],
          [
           "기계의장",
           "Work Shop M/C탑재/용접",
           0
          ],
          [
           "기계의장",
           "Aft Seal Centering",
           20
          ],
          [
           "기계의장",
           "BEARING Acc'y 조립",
           10
          ],
          [
           "기계의장",
           "Bearing Jack-Up",
           30
          ],
          [
           "기계의장",
           "Bearing Liner 설치",
           20
          ],
          [
           "기계의장",
           "BEARING Locking Pin 설치",
           20
          ],
          [
           "기계의장",
           "Bolt 및 Resin 탑재",
           0
          ],
          [
           "기계의장",
           "Bush Fitting",
           70
          ],
          [
           "기계의장",
           "Clutch 설치",
           10
          ],
          [
           "기계의장",
           "Flexible Coupling 조립",
           20
          ],
          [
           "기계의장",
           "Fwd Seal Centering",
           20
          ],
          [
           "기계의장",
           "Fwd Seal 조립",
           10
          ],
          [
           "기계의장",
           "H.D Bolt 설치",
           30
          ],
          [
           "기계의장",
           "H.D.Bolt Hole 시공",
           30
          ],
          [
           "기계의장",
           "Inserting",
           20
          ],
          [
           "기계의장",
           "Jack Down",
           20
          ],
          [
           "기계의장",
           "M/E Setting",
           30
          ],
          [
           "기계의장",
           "M/E 탑재",
           40
          ],
          [
           "기계의장",
           "Nut Stopper 설치",
           10
          ],
          [
           "기계의장",
           "Pre Sighting",
           10
          ],
          [
           "기계의장",
           "Propeller Fitting",
           10
          ],
          [
           "기계의장",
           "Propeller 탑재 조립",
           10
          ],
          [
           "기계의장",
           "R/Gear 탑재",
           10
          ],
          [
           "기계의장",
           "Reamer Bolt 시공",
           40
          ],
          [
           "기계의장",
           "Resin Chock Dam 설치",
           30
          ],
          [
           "기계의장",
           "Resin Chocking",
           20
          ],
          [
           "기계의장",
           "S/T Unit Resin Chocking",
           40
          ],
          [
           "기계의장",
           "S/T 내경 및 편심계측",
           10
          ],
          [
           "기계의장",
           "S/Tube Boring",
           20
          ],
          [
           "기계의장",
           "S/Tube Unit 설치",
           40
          ],
          [
           "기계의장",
           "Sealing & SensorLine 설치",
           10
          ],
          [
           "기계의장",
           "Shaft Alignment",
           60
          ],
          [
           "기계의장",
           "Shaft Coupling Bolt 체결[Hyd.Bolt",
           40
          ],
          [
           "기계의장",
           "Shaft Coupling Bolt 체결[Reamer",
           40
          ],
          [
           "기계의장",
           "Shaft Gen.조립/Centering",
           30
          ],
          [
           "기계의장",
           "Shaft Gen.탑재",
           30
          ],
          [
           "기계의장",
           "Shaft 탑재",
           0
          ],
          [
           "기계의장",
           "Side & End Liner 설치",
           20
          ],
          [
           "기계의장",
           "STUFFING BOX조립 Centering",
           20
          ],
          [
           "기계의장",
           "STUFFING BOX취부/용접",
           0
          ],
          [
           "기계의장",
           "Tooth Contact",
           10
          ],
          [
           "기계의장",
           "Top bracing탑재/설치",
           30
          ],
          [
           "기계의장",
           "가견투",
           20
          ],
          [
           "기계의장",
           "Final Sighting",
           0
          ],
          [
           "기계의장",
           "Lug 제거",
           20
          ],
          [
           "기계의장",
           "P/Bush 설치",
           0
          ],
          [
           "기계의장",
           "R/C Resin Chocking",
           20
          ],
          [
           "기계의장",
           "R/Carrier 조립",
           10
          ],
          [
           "기계의장",
           "R/D Carrier Seat 설치",
           30
          ],
          [
           "기계의장",
           "R/D Stock Fitting",
           30
          ],
          [
           "기계의장",
           "R/D Stock 탑재",
           0
          ],
          [
           "기계의장",
           "Ram Pin 및 Acc'y 조립",
           10
          ],
          [
           "기계의장",
           "Rudder 탑재",
           20
          ],
          [
           "기계의장",
           "S/Gear Alignment",
           30
          ],
          [
           "기계의장",
           "S/Gear Poping Test",
           0
          ],
          [
           "기계의장",
           "S/Gear 탑재",
           0
          ],
          [
           "기계의장",
           "Swing Test 검사",
           10
          ],
          [
           "기계의장",
           "Tiller 설치",
           0
          ]
         ],
         "hovertemplate": "대구분=%{customdata[0]}<br>R_vector=%{customdata[2]}<br>부서=%{y}<br>WORK_STAND_NM=%{customdata[1]}<extra></extra>",
         "legendgroup": "기계의장",
         "marker": {
          "color": "#FFA15A"
         },
         "name": "기계의장",
         "offsetgroup": "기계의장",
         "orientation": "h",
         "showlegend": true,
         "textposition": "auto",
         "type": "bar",
         "x": [
          50,
          0,
          30,
          0,
          10,
          40,
          30,
          0,
          20,
          0,
          30,
          10,
          20,
          20,
          30,
          0,
          40,
          30,
          40,
          20,
          0,
          0,
          20,
          10,
          0,
          20,
          10,
          30,
          20,
          20,
          0,
          70,
          10,
          20,
          20,
          10,
          30,
          30,
          20,
          20,
          30,
          40,
          10,
          10,
          10,
          10,
          10,
          40,
          30,
          20,
          40,
          10,
          20,
          40,
          10,
          60,
          40,
          40,
          30,
          30,
          0,
          20,
          20,
          0,
          10,
          30,
          20,
          0,
          20,
          0,
          20,
          10,
          30,
          30,
          0,
          10,
          20,
          30,
          0,
          0,
          10,
          0
         ],
         "xaxis": "x",
         "y": [
          "기계의장부",
          "기계의장부",
          "기계의장부",
          "기계의장부",
          "기계의장부",
          "기계의장부",
          "기계의장부",
          "기계의장부",
          "기계의장부",
          "기계의장부",
          "기계의장부",
          "기계의장부",
          "기계의장부",
          "기계의장부",
          "기계의장부",
          "기계의장부",
          "기계의장부",
          "기계의장부",
          "기계의장부",
          "기계의장부",
          "기계의장부",
          "기계의장부",
          "기계의장부",
          "기계의장부",
          "기계의장부",
          "기계의장부",
          "기계의장부",
          "기계의장부",
          "기계의장부",
          "기계의장부",
          "기계의장부",
          "기계의장부",
          "기계의장부",
          "기계의장부",
          "기계의장부",
          "기계의장부",
          "기계의장부",
          "기계의장부",
          "기계의장부",
          "기계의장부",
          "기계의장부",
          "기계의장부",
          "기계의장부",
          "기계의장부",
          "기계의장부",
          "기계의장부",
          "기계의장부",
          "기계의장부",
          "기계의장부",
          "기계의장부",
          "기계의장부",
          "기계의장부",
          "기계의장부",
          "기계의장부",
          "기계의장부",
          "기계의장부",
          "기계의장부",
          "기계의장부",
          "기계의장부",
          "기계의장부",
          "기계의장부",
          "기계의장부",
          "기계의장부",
          "기계의장부",
          "기계의장부",
          "기계의장부",
          "기계의장부",
          "기계의장부",
          "기계의장부",
          "기계의장부",
          "기계의장부",
          "기계의장부",
          "기계의장부",
          "기계의장부",
          "기계의장부",
          "기계의장부",
          "기계의장부",
          "기계의장부",
          "기계의장부",
          "기계의장부",
          "기계의장부",
          "기계의장부"
         ],
         "yaxis": "y"
        },
        {
         "alignmentgroup": "True",
         "customdata": [
          [
           "기능",
           "Lug 제거",
           50
          ],
          [
           "기능",
           "Back Heating",
           30
          ],
          [
           "기능",
           "고소차 점검 및 운전",
           100
          ],
          [
           "기능",
           "곤돌라 운전작업",
           80
          ],
          [
           "기능",
           "지게차 운행 및 상하차 작업",
           130
          ],
          [
           "기능",
           "카크레인 상하차 작업",
           150
          ],
          [
           "기능",
           "고소차 점검 및 운전",
           100
          ],
          [
           "기능",
           "곤돌라 운전작업",
           80
          ],
          [
           "기능",
           "지게차 운행 및 상하차 작업",
           130
          ],
          [
           "기능",
           "카크레인 상하차 작업",
           150
          ],
          [
           "기능",
           "고소차 점검 및 운전",
           100
          ],
          [
           "기능",
           "지게차 운행 및 상하차 작업",
           130
          ],
          [
           "기능",
           "카크레인 상하차 작업",
           150
          ],
          [
           "기능",
           "고소차 점검 및 운전",
           100
          ],
          [
           "기능",
           "곤돌라 운전작업",
           80
          ],
          [
           "기능",
           "지게차 운행 및 상하차 작업",
           130
          ],
          [
           "기능",
           "카크레인 상하차 작업",
           150
          ],
          [
           "기능",
           "고소차 점검 및 운전",
           100
          ],
          [
           "기능",
           "곤돌라 운전작업",
           80
          ],
          [
           "기능",
           "지게차 운행 및 상하차 작업",
           130
          ],
          [
           "기능",
           "카크레인 상하차 작업",
           150
          ],
          [
           "기능",
           "고소차 점검 및 운전",
           100
          ],
          [
           "기능",
           "곤돌라 운전작업",
           80
          ],
          [
           "기능",
           "지게차 운행 및 상하차 작업",
           130
          ],
          [
           "기능",
           "카크레인 상하차 작업",
           150
          ],
          [
           "기능",
           "고소차 점검 및 운전",
           100
          ],
          [
           "기능",
           "곤돌라 운전작업",
           80
          ],
          [
           "기능",
           "지게차 운행 및 상하차 작업",
           130
          ],
          [
           "기능",
           "카크레인 상하차 작업",
           150
          ],
          [
           "기능",
           "고소차 점검 및 운전",
           100
          ],
          [
           "기능",
           "곤돌라 운전작업",
           80
          ],
          [
           "기능",
           "지게차 운행 및 상하차 작업",
           130
          ],
          [
           "기능",
           "카크레인 상하차 작업",
           150
          ],
          [
           "기능",
           "고소차 점검 및 운전",
           100
          ],
          [
           "기능",
           "곤돌라 운전작업",
           80
          ],
          [
           "기능",
           "지게차 운행 및 상하차 작업",
           130
          ],
          [
           "기능",
           "카크레인 상하차 작업",
           150
          ],
          [
           "기능",
           "고소차 점검 및 운전",
           100
          ],
          [
           "기능",
           "곤돌라 운전작업",
           80
          ],
          [
           "기능",
           "지게차 운행 및 상하차 작업",
           130
          ],
          [
           "기능",
           "카크레인 상하차 작업",
           150
          ],
          [
           "기능",
           "고소차 점검 및 운전",
           100
          ],
          [
           "기능",
           "곤돌라 운전작업",
           80
          ],
          [
           "기능",
           "지게차 운행 및 상하차 작업",
           130
          ],
          [
           "기능",
           "카크레인 상하차 작업",
           150
          ],
          [
           "기능",
           "고소차 점검 및 운전",
           100
          ],
          [
           "기능",
           "곤돌라 운전작업",
           80
          ],
          [
           "기능",
           "지게차 운행 및 상하차 작업",
           130
          ],
          [
           "기능",
           "카크레인 상하차 작업",
           150
          ],
          [
           "기능",
           "고소차 점검 및 운전",
           100
          ],
          [
           "기능",
           "곤돌라 운전작업",
           80
          ],
          [
           "기능",
           "지게차 운행 및 상하차 작업",
           130
          ],
          [
           "기능",
           "카크레인 상하차 작업",
           150
          ],
          [
           "기능",
           "고소차 점검 및 운전",
           100
          ],
          [
           "기능",
           "곤돌라 운전작업",
           80
          ],
          [
           "기능",
           "지게차 운행 및 상하차 작업",
           130
          ],
          [
           "기능",
           "카크레인 상하차 작업",
           150
          ],
          [
           "기능",
           "고소차 점검 및 운전",
           100
          ],
          [
           "기능",
           "곤돌라 운전작업",
           80
          ],
          [
           "기능",
           "지게차 운행 및 상하차 작업",
           130
          ],
          [
           "기능",
           "카크레인 상하차 작업",
           150
          ],
          [
           "기능",
           "고소차 점검 및 운전",
           100
          ],
          [
           "기능",
           "곤돌라 운전작업",
           80
          ],
          [
           "기능",
           "지게차 운행 및 상하차 작업",
           130
          ],
          [
           "기능",
           "카크레인 상하차 작업",
           150
          ],
          [
           "기능",
           "고소차 점검 및 운전",
           100
          ],
          [
           "기능",
           "곤돌라 운전작업",
           80
          ],
          [
           "기능",
           "지게차 운행 및 상하차 작업",
           130
          ],
          [
           "기능",
           "카크레인 상하차 작업",
           150
          ],
          [
           "기능",
           "고소차 점검 및 운전",
           100
          ],
          [
           "기능",
           "곤돌라 운전작업",
           80
          ],
          [
           "기능",
           "마이티 카 크레인 작업 방법",
           0
          ],
          [
           "기능",
           "지게차 운행 및 상하차 작업",
           130
          ],
          [
           "기능",
           "카크레인 상하차 작업",
           150
          ],
          [
           "기능",
           "지게차 운행 및 상하차 작업",
           130
          ],
          [
           "기능",
           "카크레인 상하차 작업",
           150
          ],
          [
           "기능",
           "고소차 점검 및 운전",
           100
          ],
          [
           "기능",
           "곤돌라 운전작업",
           80
          ],
          [
           "기능",
           "고소차 점검 및 운전",
           100
          ],
          [
           "기능",
           "곤돌라 운전작업",
           80
          ],
          [
           "기능",
           "지게차 운행 및 상하차 작업",
           130
          ],
          [
           "기능",
           "카크레인 상하차 작업",
           150
          ],
          [
           "기능",
           "고소차 점검 및 운전",
           100
          ],
          [
           "기능",
           "곤돌라 운전작업",
           80
          ],
          [
           "기능",
           "지게차 운행 및 상하차 작업",
           130
          ],
          [
           "기능",
           "카크레인 상하차 작업",
           150
          ],
          [
           "기능",
           "고소차 점검 및 운전",
           100
          ],
          [
           "기능",
           "곤돌라 운전작업",
           80
          ],
          [
           "기능",
           "지게차 운행 및 상하차 작업",
           130
          ],
          [
           "기능",
           "카크레인 상하차 작업",
           150
          ],
          [
           "기능",
           "고소차 점검 및 운전",
           100
          ],
          [
           "기능",
           "지게차 운행 및 상하차 작업",
           130
          ],
          [
           "기능",
           "카크레인 상하차 작업",
           150
          ],
          [
           "기능",
           "고소차 점검 및 운전",
           100
          ],
          [
           "기능",
           "곤돌라 운전작업",
           80
          ],
          [
           "기능",
           "지게차 운행 및 상하차 작업",
           130
          ],
          [
           "기능",
           "카크레인 상하차 작업",
           150
          ],
          [
           "기능",
           "고소차 점검 및 운전",
           100
          ],
          [
           "기능",
           "곤돌라 운전작업",
           80
          ],
          [
           "기능",
           "스키드로더 운전",
           130
          ],
          [
           "기능",
           "고소차 점검 및 운전",
           100
          ],
          [
           "기능",
           "곤돌라 운전작업",
           80
          ],
          [
           "기능",
           "고소차 점검 및 운전",
           100
          ],
          [
           "기능",
           "곤돌라 운전작업",
           80
          ],
          [
           "기능",
           "고소차 점검 및 운전",
           100
          ],
          [
           "기능",
           "곤돌라 운전작업",
           80
          ],
          [
           "기능",
           "지게차 운행 및 상하차 작업",
           130
          ],
          [
           "기능",
           "카크레인 상하차 작업",
           150
          ],
          [
           "기능",
           "화물차량(1/2.5/5ton) 운전 및 주정차",
           60
          ],
          [
           "기능",
           "화물차량(1/2.5/5ton) 운전 및 주정차",
           60
          ],
          [
           "기능",
           "화물차량(1/2.5/5ton) 운전 및 주정차",
           60
          ],
          [
           "기능",
           "화물차량(1/2.5/5ton) 운전 및 주정차",
           60
          ],
          [
           "기능",
           "화물차량(1/2.5/5ton) 운전 및 주정차",
           60
          ],
          [
           "기능",
           "화물차량(1/2.5/5ton) 운전 및 주정차",
           60
          ],
          [
           "기능",
           "화물차량(1/2.5/5ton) 운전 및 주정차",
           60
          ],
          [
           "기능",
           "화물차량(1/2.5/5ton) 운전 및 주정차",
           60
          ],
          [
           "기능",
           "화물차량(1/2.5/5ton) 운전 및 주정차",
           60
          ],
          [
           "기능",
           "화물차량(1/2.5/5ton) 운전 및 주정차",
           60
          ],
          [
           "기능",
           "화물차량(1/2.5/5ton) 운전 및 주정차",
           60
          ],
          [
           "기능",
           "화물차량(1/2.5/5ton) 운전 및 주정차",
           60
          ],
          [
           "기능",
           "화물차량(1/2.5/5ton) 운전 및 주정차",
           60
          ],
          [
           "기능",
           "화물차량(1/2.5/5ton) 운전 및 주정차",
           60
          ],
          [
           "기능",
           "화물차량(1/2.5/5ton) 운전 및 주정차",
           60
          ],
          [
           "기능",
           "화물차량(1/2.5/5ton) 운전 및 주정차",
           60
          ],
          [
           "기능",
           "화물차량(1/2.5/5ton) 운전 및 주정차",
           60
          ],
          [
           "기능",
           "화물차량(1/2.5/5ton) 운전 및 주정차",
           60
          ],
          [
           "기능",
           "화물차량(1/2.5/5ton) 운전 및 주정차",
           60
          ],
          [
           "기능",
           "화물차량(1/2.5/5ton) 운전 및 주정차",
           60
          ],
          [
           "기능",
           "화물차량(1/2.5/5ton) 운전 및 주정차",
           60
          ],
          [
           "기능",
           "화물차량(1/2.5/5ton) 운전 및 주정차",
           60
          ],
          [
           "기능",
           "화물차량(1/2.5/5ton) 운전 및 주정차",
           60
          ],
          [
           "기능",
           "화물차량(1/2.5/5ton) 운전 및 주정차",
           60
          ],
          [
           "기능",
           "화물차량(1/2.5/5ton) 운전 및 주정차",
           60
          ],
          [
           "기능",
           "사내/생산현장 이동",
           130
          ],
          [
           "기능",
           "사내/생산현장 이동",
           130
          ],
          [
           "기능",
           "사내/생산현장 이동",
           130
          ],
          [
           "기능",
           "사내/생산현장 이동",
           130
          ],
          [
           "기능",
           "사내/생산현장 이동",
           130
          ],
          [
           "기능",
           "사내/생산현장 이동",
           130
          ],
          [
           "기능",
           "사내/생산현장 이동",
           130
          ],
          [
           "기능",
           "사내/생산현장 이동",
           130
          ],
          [
           "기능",
           "사내/생산현장 이동",
           130
          ],
          [
           "기능",
           "사내/생산현장 이동",
           130
          ],
          [
           "기능",
           "사내/생산현장 이동",
           130
          ],
          [
           "기능",
           "사내/생산현장 이동",
           130
          ],
          [
           "기능",
           "사내/생산현장 이동",
           130
          ],
          [
           "기능",
           "사내/생산현장 이동",
           130
          ],
          [
           "기능",
           "사내/생산현장 이동",
           130
          ],
          [
           "기능",
           "사내/생산현장 이동",
           130
          ],
          [
           "기능",
           "사내/생산현장 이동",
           130
          ],
          [
           "기능",
           "사내/생산현장 이동",
           130
          ],
          [
           "기능",
           "사내/생산현장 이동",
           130
          ],
          [
           "기능",
           "사내/생산현장 이동",
           130
          ],
          [
           "기능",
           "사내/생산현장 이동",
           130
          ],
          [
           "기능",
           "사내/생산현장 이동",
           130
          ],
          [
           "기능",
           "사내/생산현장 이동",
           130
          ],
          [
           "기능",
           "사내/생산현장 이동",
           130
          ],
          [
           "기능",
           "사내/생산현장 이동",
           130
          ],
          [
           "기능",
           "사내/생산현장 이동",
           130
          ],
          [
           "기능",
           "사내/생산현장 이동",
           130
          ],
          [
           "기능",
           "사내/생산현장 이동",
           130
          ],
          [
           "기능",
           "Airless 펌프 이용한 도장작업",
           80
          ],
          [
           "기능",
           "Longi. 도장 작업",
           20
          ],
          [
           "기능",
           "Airless 펌프 이용한 도장작업",
           80
          ],
          [
           "기능",
           "Longi. 도장 작업",
           20
          ],
          [
           "기능",
           "Overhead Spray장비 도장 작업",
           90
          ],
          [
           "기능",
           "Block별 도장구획 Marking",
           80
          ],
          [
           "기능",
           "그라인딩",
           40
          ],
          [
           "기능",
           "그라인딩",
           40
          ],
          [
           "기능",
           "그라인딩",
           40
          ],
          [
           "기능",
           "그라인딩",
           40
          ],
          [
           "기능",
           "그라인딩",
           40
          ],
          [
           "기능",
           "그라인딩",
           40
          ],
          [
           "기능",
           "그라인딩",
           40
          ],
          [
           "기능",
           "그라인딩",
           40
          ],
          [
           "기능",
           "그라인딩",
           40
          ],
          [
           "기능",
           "그라인딩",
           40
          ],
          [
           "기능",
           "그라인딩",
           40
          ],
          [
           "기능",
           "그라인딩",
           40
          ],
          [
           "기능",
           "그라인딩",
           40
          ],
          [
           "기능",
           "그라인딩",
           40
          ],
          [
           "기능",
           "그라인딩",
           40
          ],
          [
           "기능",
           "그라인딩",
           40
          ],
          [
           "기능",
           "그라인딩",
           40
          ],
          [
           "기능",
           "그라인딩",
           40
          ],
          [
           "기능",
           "그라인딩",
           40
          ],
          [
           "기능",
           "그라인딩",
           40
          ],
          [
           "기능",
           "그라인딩",
           50
          ],
          [
           "기능",
           "마킹",
           100
          ],
          [
           "기능",
           "곡외판 마킹",
           40
          ],
          [
           "기능",
           "마킹",
           100
          ],
          [
           "기능",
           "곡외판 마킹",
           40
          ],
          [
           "기능",
           "마킹",
           100
          ],
          [
           "기능",
           "마킹",
           110
          ],
          [
           "기능",
           "FCAW 반자동 용접(CO2 용접)",
           140
          ],
          [
           "기능",
           "FCAW 반자동 용접(CO2 용접)",
           140
          ],
          [
           "기능",
           "FCAW 반자동 용접(CO2 용접)",
           150
          ],
          [
           "기능",
           "40 Pole 자동용접 (부서별 Pole 수에 맞게 검토 요망)",
           80
          ],
          [
           "기능",
           "FCAW 반자동 용접(CO2 용접)",
           140
          ],
          [
           "기능",
           "SW-41 용접",
           50
          ],
          [
           "기능",
           "소부재 취부_수동",
           100
          ],
          [
           "기능",
           "오토 캐리지 용접(FCAW 자동)",
           70
          ],
          [
           "기능",
           "취부",
           40
          ],
          [
           "기능",
           "형강 취부작업_자동",
           90
          ],
          [
           "기능",
           "EGW 용접(건조)",
           360
          ],
          [
           "기능",
           "FCAW 반자동 용접(CO2 용접)",
           140
          ],
          [
           "기능",
           "SW-41 용접",
           50
          ],
          [
           "기능",
           "오토 캐리지 용접(FCAW 자동)",
           70
          ],
          [
           "기능",
           "EGW 용접(건조)",
           400
          ],
          [
           "기능",
           "FCAW 반자동 용접(CO2 용접)",
           140
          ],
          [
           "기능",
           "SW-41 용접",
           40
          ],
          [
           "기능",
           "오토 캐리지 용접(FCAW 자동)",
           80
          ],
          [
           "기능",
           "EGW 용접(건조)",
           400
          ],
          [
           "기능",
           "FCAW 반자동 용접(CO2 용접)",
           140
          ],
          [
           "기능",
           "SW-41 용접",
           50
          ],
          [
           "기능",
           "오토 캐리지 용접(FCAW 자동)",
           70
          ],
          [
           "기능",
           "FCAW 반자동 용접(CO2 용접)",
           140
          ],
          [
           "기능",
           "40 Pole 자동용접 (부서별 Pole 수에 맞게 검토 요망)",
           70
          ],
          [
           "기능",
           "EGW 용접(내업)",
           140
          ],
          [
           "기능",
           "FCAW 반자동 용접(CO2 용접)",
           140
          ],
          [
           "기능",
           "HEBE SAW 자동용접",
           120
          ],
          [
           "기능",
           "SW-41 용접",
           50
          ],
          [
           "기능",
           "곡외판 판계",
           130
          ],
          [
           "기능",
           "곡중조 취부",
           90
          ],
          [
           "기능",
           "소부재 취부_수동",
           90
          ],
          [
           "기능",
           "오토 캐리지 용접(FCAW 자동)",
           60
          ],
          [
           "기능",
           "형강 취부작업_자동",
           30
          ],
          [
           "기능",
           "40 Pole 자동용접 (부서별 Pole 수에 맞게 검토 요망)",
           70
          ],
          [
           "기능",
           "EGW 용접(내업)",
           140
          ],
          [
           "기능",
           "FCAW 반자동 용접(CO2 용접)",
           140
          ],
          [
           "기능",
           "HEBE SAW 자동용접",
           120
          ],
          [
           "기능",
           "SW-41 용접",
           50
          ],
          [
           "기능",
           "곡외판 판계",
           130
          ],
          [
           "기능",
           "곡중조 취부",
           90
          ],
          [
           "기능",
           "소부재 취부_수동",
           90
          ],
          [
           "기능",
           "오토 캐리지 용접(FCAW 자동)",
           60
          ],
          [
           "기능",
           "형강 취부작업_자동",
           30
          ],
          [
           "기능",
           "FCAW 반자동 용접(CO2 용접)",
           140
          ],
          [
           "기능",
           "FCAW 반자동 용접(CO2 용접)",
           140
          ],
          [
           "기능",
           "FCAW 반자동 용접(CO2 용접)",
           140
          ],
          [
           "기능",
           "SW-41 용접",
           50
          ],
          [
           "기능",
           "FCAW 반자동 용접(CO2 용접)",
           140
          ],
          [
           "기능",
           "FCAW 반자동 용접(CO2 용접)",
           140
          ],
          [
           "기능",
           "FCAW 반자동 용접(CO2 용접)",
           140
          ],
          [
           "기능",
           "FCAW 반자동 용접(CO2 용접)",
           150
          ],
          [
           "기능",
           "COMBINED 용접(FCAW+EGW)",
           380
          ],
          [
           "기능",
           "EGW 용접(내업)",
           360
          ],
          [
           "기능",
           "SW-41 용접",
           50
          ],
          [
           "기능",
           "40 Pole 자동용접 (부서별 Pole 수에 맞게 검토 요망)",
           90
          ],
          [
           "기능",
           "EGW 용접(내업)",
           220
          ],
          [
           "기능",
           "FCAW 반자동 용접(CO2 용접)",
           140
          ],
          [
           "기능",
           "HEBE SAW 자동용접",
           210
          ],
          [
           "기능",
           "SW-41 용접",
           50
          ],
          [
           "기능",
           "소부재 취부_수동",
           90
          ],
          [
           "기능",
           "오토 캐리지 용접(FCAW 자동)",
           70
          ],
          [
           "기능",
           "형강 취부작업_자동",
           100
          ],
          [
           "기능",
           "로봇 형강 절단",
           90
          ],
          [
           "기능",
           "컨테이너선 UPPER DECK 후판 반자동 절단",
           50
          ],
          [
           "기능",
           "지그작업",
           140
          ],
          [
           "기능",
           "지그작업",
           140
          ],
          [
           "기능",
           "2600톤 프레스 밴딩 작업",
           110
          ],
          [
           "기능",
           "2600톤 프레스 밴딩 작업",
           110
          ],
          [
           "기능",
           "3400톤 프레스 작업",
           110
          ],
          [
           "기능",
           "Steam Tracing",
           90
          ],
          [
           "기능",
           "관통 Pipe 설치",
           230
          ],
          [
           "기능",
           "Steam Tracing",
           90
          ],
          [
           "기능",
           "관통 Pipe 설치",
           50
          ],
          [
           "기능",
           "보온핀 설치",
           60
          ],
          [
           "기능",
           "Steam Tracing",
           90
          ],
          [
           "기능",
           "관통 Pipe 설치",
           50
          ],
          [
           "기능",
           "보온핀 설치",
           60
          ],
          [
           "기능",
           "Steam Tracing",
           90
          ],
          [
           "기능",
           "관통 Pipe 설치",
           50
          ],
          [
           "기능",
           "보온핀 설치",
           60
          ],
          [
           "기능",
           "Steam Tracing",
           90
          ],
          [
           "기능",
           "관통 Pipe 설치",
           50
          ],
          [
           "기능",
           "보온핀 설치",
           60
          ],
          [
           "기능",
           "SUS PIPE TIG 용접",
           190
          ],
          [
           "기능",
           "TIG 용접 Argon Gas Purging",
           90
          ],
          [
           "기능",
           "SUS PIPE TIG 용접",
           170
          ],
          [
           "기능",
           "TIG 용접 Argon Gas Purging",
           90
          ],
          [
           "기능",
           "Copper Pipe 용접",
           30
          ],
          [
           "기능",
           "Cu-Ni Pipe 용접",
           30
          ],
          [
           "기능",
           "EXH. Gas Pip 용접",
           20
          ],
          [
           "기능",
           "Heating Coil 용접",
           10
          ],
          [
           "기능",
           "Steel Pipe CO2 용접",
           50
          ],
          [
           "기능",
           "SUS PIPE TIG 용접",
           170
          ],
          [
           "기능",
           "TIG 용접 Argon Gas Purging",
           90
          ],
          [
           "기능",
           "Copper Pipe 용접",
           30
          ],
          [
           "기능",
           "Cu-Ni Pipe 용접",
           30
          ],
          [
           "기능",
           "EXH. Gas Pip 용접",
           10
          ],
          [
           "기능",
           "Heating Coil 용접",
           10
          ],
          [
           "기능",
           "Steel Pipe CO2 용접",
           50
          ],
          [
           "기능",
           "SUS PIPE TIG 용접",
           170
          ],
          [
           "기능",
           "TIG 용접 Argon Gas Purging",
           90
          ],
          [
           "기능",
           "Copper Pipe 용접",
           30
          ],
          [
           "기능",
           "Cu-Ni Pipe 용접",
           30
          ],
          [
           "기능",
           "EXH. Gas Pip 용접",
           10
          ],
          [
           "기능",
           "Heating Coil 용접",
           10
          ],
          [
           "기능",
           "Steel Pipe CO2 용접",
           50
          ],
          [
           "기능",
           "SUS PIPE TIG 용접",
           170
          ],
          [
           "기능",
           "TIG 용접 Argon Gas Purging",
           90
          ],
          [
           "기능",
           "Copper Pipe 용접",
           30
          ],
          [
           "기능",
           "Cu-Ni Pipe 용접",
           30
          ],
          [
           "기능",
           "EXH. Gas Pip 용접",
           10
          ],
          [
           "기능",
           "Heating Coil 용접",
           10
          ],
          [
           "기능",
           "Steel Pipe CO2 용접",
           50
          ],
          [
           "기능",
           "SUS PIPE TIG 용접",
           170
          ],
          [
           "기능",
           "TIG 용접 Argon Gas Purging",
           90
          ],
          [
           "기능",
           "SUS PIPE TIG 용접",
           170
          ],
          [
           "기능",
           "TIG 용접 Argon Gas Purging",
           90
          ],
          [
           "기능",
           "발판기자재 공급 및 수거",
           20
          ],
          [
           "기능",
           "발판기자재 보수 및 제작",
           0
          ],
          [
           "기능",
           "발판기자재 선별",
           20
          ],
          [
           "기능",
           "발판피스 용접 및 제거",
           70
          ],
          [
           "기능",
           "A형 사다리 설치 및 사용",
           30
          ],
          [
           "기능",
           "A형 사다리 설치 및 사용",
           30
          ],
          [
           "기능",
           "A형 사다리 설치 및 사용",
           30
          ],
          [
           "기능",
           "A형 사다리 설치 및 사용",
           30
          ],
          [
           "기능",
           "A형 사다리 설치 및 사용",
           30
          ],
          [
           "기능",
           "A형 사다리 설치 및 사용",
           30
          ],
          [
           "기능",
           "A형 사다리 설치 및 사용",
           30
          ],
          [
           "기능",
           "A형 사다리 설치 및 사용",
           30
          ],
          [
           "기능",
           "A형 사다리 설치 및 사용",
           30
          ],
          [
           "기능",
           "A형 사다리 설치 및 사용",
           30
          ],
          [
           "기능",
           "A형 사다리 설치 및 사용",
           30
          ],
          [
           "기능",
           "A형 사다리 설치 및 사용",
           30
          ],
          [
           "기능",
           "A형 사다리 설치 및 사용",
           30
          ],
          [
           "기능",
           "A형 사다리 설치 및 사용",
           30
          ],
          [
           "기능",
           "A형 사다리 설치 및 사용",
           30
          ],
          [
           "기능",
           "A형 사다리 설치 및 사용",
           30
          ],
          [
           "기능",
           "A형 사다리 설치 및 사용",
           30
          ],
          [
           "기능",
           "A형 사다리 설치 및 사용",
           30
          ],
          [
           "기능",
           "A형 사다리 설치 및 사용",
           30
          ],
          [
           "기능",
           "A형 사다리 설치 및 사용",
           30
          ],
          [
           "기능",
           "A형 사다리 설치 및 사용",
           30
          ],
          [
           "기능",
           "A형 사다리 설치 및 사용",
           30
          ],
          [
           "기능",
           "서비스 타워 설치",
           110
          ],
          [
           "기능",
           "서비스 타워 설치",
           110
          ],
          [
           "기능",
           "서비스 타워 설치",
           110
          ],
          [
           "기능",
           "서비스 타워 설치",
           110
          ],
          [
           "기능",
           "내자재 입출고 작업",
           50
          ],
          [
           "기능",
           "외자재 입출고 작업",
           90
          ]
         ],
         "hovertemplate": "대구분=%{customdata[0]}<br>R_vector=%{customdata[2]}<br>부서=%{y}<br>WORK_STAND_NM=%{customdata[1]}<extra></extra>",
         "legendgroup": "기능",
         "marker": {
          "color": "#19d3f3"
         },
         "name": "기능",
         "offsetgroup": "기능",
         "orientation": "h",
         "showlegend": true,
         "textposition": "auto",
         "type": "bar",
         "x": [
          50,
          30,
          100,
          80,
          130,
          150,
          100,
          80,
          130,
          150,
          100,
          130,
          150,
          100,
          80,
          130,
          150,
          100,
          80,
          130,
          150,
          100,
          80,
          130,
          150,
          100,
          80,
          130,
          150,
          100,
          80,
          130,
          150,
          100,
          80,
          130,
          150,
          100,
          80,
          130,
          150,
          100,
          80,
          130,
          150,
          100,
          80,
          130,
          150,
          100,
          80,
          130,
          150,
          100,
          80,
          130,
          150,
          100,
          80,
          130,
          150,
          100,
          80,
          130,
          150,
          100,
          80,
          130,
          150,
          100,
          80,
          0,
          130,
          150,
          130,
          150,
          100,
          80,
          100,
          80,
          130,
          150,
          100,
          80,
          130,
          150,
          100,
          80,
          130,
          150,
          100,
          130,
          150,
          100,
          80,
          130,
          150,
          100,
          80,
          130,
          100,
          80,
          100,
          80,
          100,
          80,
          130,
          150,
          60,
          60,
          60,
          60,
          60,
          60,
          60,
          60,
          60,
          60,
          60,
          60,
          60,
          60,
          60,
          60,
          60,
          60,
          60,
          60,
          60,
          60,
          60,
          60,
          60,
          130,
          130,
          130,
          130,
          130,
          130,
          130,
          130,
          130,
          130,
          130,
          130,
          130,
          130,
          130,
          130,
          130,
          130,
          130,
          130,
          130,
          130,
          130,
          130,
          130,
          130,
          130,
          130,
          80,
          20,
          80,
          20,
          90,
          80,
          40,
          40,
          40,
          40,
          40,
          40,
          40,
          40,
          40,
          40,
          40,
          40,
          40,
          40,
          40,
          40,
          40,
          40,
          40,
          40,
          50,
          100,
          40,
          100,
          40,
          100,
          110,
          140,
          140,
          150,
          80,
          140,
          50,
          100,
          70,
          40,
          90,
          360,
          140,
          50,
          70,
          400,
          140,
          40,
          80,
          400,
          140,
          50,
          70,
          140,
          70,
          140,
          140,
          120,
          50,
          130,
          90,
          90,
          60,
          30,
          70,
          140,
          140,
          120,
          50,
          130,
          90,
          90,
          60,
          30,
          140,
          140,
          140,
          50,
          140,
          140,
          140,
          150,
          380,
          360,
          50,
          90,
          220,
          140,
          210,
          50,
          90,
          70,
          100,
          90,
          50,
          140,
          140,
          110,
          110,
          110,
          90,
          230,
          90,
          50,
          60,
          90,
          50,
          60,
          90,
          50,
          60,
          90,
          50,
          60,
          190,
          90,
          170,
          90,
          30,
          30,
          20,
          10,
          50,
          170,
          90,
          30,
          30,
          10,
          10,
          50,
          170,
          90,
          30,
          30,
          10,
          10,
          50,
          170,
          90,
          30,
          30,
          10,
          10,
          50,
          170,
          90,
          170,
          90,
          20,
          0,
          20,
          70,
          30,
          30,
          30,
          30,
          30,
          30,
          30,
          30,
          30,
          30,
          30,
          30,
          30,
          30,
          30,
          30,
          30,
          30,
          30,
          30,
          30,
          30,
          110,
          110,
          110,
          110,
          50,
          90
         ],
         "xaxis": "x",
         "y": [
          "선행의장부",
          "선행의장부",
          "CHS공사부",
          "CHS공사부",
          "CHS공사부",
          "CHS공사부",
          "LNG공사부",
          "LNG공사부",
          "LNG공사부",
          "LNG공사부",
          "Unit생산부",
          "Unit생산부",
          "Unit생산부",
          "가공소조립부",
          "가공소조립부",
          "가공소조립부",
          "가공소조립부",
          "건조1부",
          "건조1부",
          "건조1부",
          "건조1부",
          "건조2부",
          "건조2부",
          "건조2부",
          "건조2부",
          "건조3부",
          "건조3부",
          "건조3부",
          "건조3부",
          "기계의장부",
          "기계의장부",
          "기계의장부",
          "기계의장부",
          "대조립1부",
          "대조립1부",
          "대조립1부",
          "대조립1부",
          "대조립2부",
          "대조립2부",
          "대조립2부",
          "대조립2부",
          "도장1부",
          "도장1부",
          "도장1부",
          "도장1부",
          "도장2부",
          "도장2부",
          "도장2부",
          "도장2부",
          "발판지원부",
          "발판지원부",
          "발판지원부",
          "발판지원부",
          "선실생산부",
          "선실생산부",
          "선실생산부",
          "선실생산부",
          "선행도장부",
          "선행도장부",
          "선행도장부",
          "선행도장부",
          "선행의장부",
          "선행의장부",
          "선행의장부",
          "선행의장부",
          "시운전부",
          "시운전부",
          "시운전부",
          "시운전부",
          "외업공사지원부",
          "외업공사지원부",
          "외업공사지원부",
          "외업공사지원부",
          "외업공사지원부",
          "운항관제과",
          "운항관제과",
          "운항관제과",
          "운항관제과",
          "의장1부",
          "의장1부",
          "의장1부",
          "의장1부",
          "의장2부",
          "의장2부",
          "의장2부",
          "의장2부",
          "의장3부",
          "의장3부",
          "의장3부",
          "의장3부",
          "의장생산부",
          "의장생산부",
          "의장생산부",
          "자재운영부",
          "자재운영부",
          "자재운영부",
          "자재운영부",
          "작업표준혁신TF",
          "작업표준혁신TF",
          "작업표준혁신TF",
          "조선해양품질경영1부",
          "조선해양품질경영1부",
          "조선해양품질경영2부",
          "조선해양품질경영2부",
          "판넬조립부",
          "판넬조립부",
          "판넬조립부",
          "판넬조립부",
          "CHS공사부",
          "LNG공사부",
          "Unit생산부",
          "가공소조립부",
          "건조1부",
          "건조2부",
          "건조3부",
          "기계의장부",
          "대조립1부",
          "대조립2부",
          "도장1부",
          "도장2부",
          "발판지원부",
          "선실생산부",
          "선행도장부",
          "선행의장부",
          "시운전부",
          "외업공사지원부",
          "운항관제과",
          "의장1부",
          "의장2부",
          "의장3부",
          "의장생산부",
          "자재운영부",
          "판넬조립부",
          "CHS공사부",
          "LNG공사부",
          "Unit생산부",
          "가공소조립부",
          "건조1부",
          "건조2부",
          "건조3부",
          "기계의장부",
          "대조립1부",
          "대조립2부",
          "도장1부",
          "도장2부",
          "발판지원부",
          "선실생산부",
          "선행도장부",
          "선행의장부",
          "시운전부",
          "외업공사지원부",
          "운항관제과",
          "의장1부",
          "의장2부",
          "의장3부",
          "의장생산부",
          "자재운영부",
          "작업표준혁신TF",
          "조선해양품질경영1부",
          "조선해양품질경영2부",
          "판넬조립부",
          "도장1부",
          "도장1부",
          "선행도장부",
          "선행도장부",
          "선행도장부",
          "선행도장부",
          "CHS공사부",
          "LNG공사부",
          "Unit생산부",
          "가공소조립부",
          "건조1부",
          "건조2부",
          "건조3부",
          "기계의장부",
          "대조립1부",
          "대조립2부",
          "도장1부",
          "도장2부",
          "발판지원부",
          "선실생산부",
          "선행도장부",
          "선행의장부",
          "의장1부",
          "의장2부",
          "의장3부",
          "의장생산부",
          "판넬조립부",
          "가공소조립부",
          "대조립1부",
          "대조립1부",
          "대조립2부",
          "대조립2부",
          "판넬조립부",
          "CHS공사부",
          "LNG공사부",
          "Unit생산부",
          "가공소조립부",
          "가공소조립부",
          "가공소조립부",
          "가공소조립부",
          "가공소조립부",
          "가공소조립부",
          "가공소조립부",
          "건조1부",
          "건조1부",
          "건조1부",
          "건조1부",
          "건조2부",
          "건조2부",
          "건조2부",
          "건조2부",
          "건조3부",
          "건조3부",
          "건조3부",
          "건조3부",
          "기계의장부",
          "대조립1부",
          "대조립1부",
          "대조립1부",
          "대조립1부",
          "대조립1부",
          "대조립1부",
          "대조립1부",
          "대조립1부",
          "대조립1부",
          "대조립1부",
          "대조립2부",
          "대조립2부",
          "대조립2부",
          "대조립2부",
          "대조립2부",
          "대조립2부",
          "대조립2부",
          "대조립2부",
          "대조립2부",
          "대조립2부",
          "발판지원부",
          "선실생산부",
          "선행의장부",
          "선행의장부",
          "의장1부",
          "의장2부",
          "의장3부",
          "의장생산부",
          "작업표준혁신TF",
          "작업표준혁신TF",
          "작업표준혁신TF",
          "판넬조립부",
          "판넬조립부",
          "판넬조립부",
          "판넬조립부",
          "판넬조립부",
          "판넬조립부",
          "판넬조립부",
          "판넬조립부",
          "가공소조립부",
          "가공소조립부",
          "대조립1부",
          "대조립2부",
          "대조립1부",
          "대조립2부",
          "판넬조립부",
          "CHS공사부",
          "CHS공사부",
          "선행의장부",
          "선행의장부",
          "선행의장부",
          "의장1부",
          "의장1부",
          "의장1부",
          "의장2부",
          "의장2부",
          "의장2부",
          "의장3부",
          "의장3부",
          "의장3부",
          "CHS공사부",
          "CHS공사부",
          "Unit생산부",
          "Unit생산부",
          "선행의장부",
          "선행의장부",
          "선행의장부",
          "선행의장부",
          "선행의장부",
          "선행의장부",
          "선행의장부",
          "의장1부",
          "의장1부",
          "의장1부",
          "의장1부",
          "의장1부",
          "의장1부",
          "의장1부",
          "의장2부",
          "의장2부",
          "의장2부",
          "의장2부",
          "의장2부",
          "의장2부",
          "의장2부",
          "의장3부",
          "의장3부",
          "의장3부",
          "의장3부",
          "의장3부",
          "의장3부",
          "의장3부",
          "의장생산부",
          "의장생산부",
          "발판지원부",
          "발판지원부",
          "발판지원부",
          "발판지원부",
          "CHS공사부",
          "LNG공사부",
          "Unit생산부",
          "가공소조립부",
          "건조1부",
          "건조2부",
          "건조3부",
          "기계의장부",
          "대조립1부",
          "대조립2부",
          "도장1부",
          "도장2부",
          "발판지원부",
          "선실생산부",
          "선행도장부",
          "선행의장부",
          "의장1부",
          "의장2부",
          "의장3부",
          "의장생산부",
          "작업표준혁신TF",
          "판넬조립부",
          "건조1부",
          "건조2부",
          "건조3부",
          "작업표준혁신TF",
          "자재운영부",
          "자재운영부"
         ],
         "yaxis": "y"
        },
        {
         "alignmentgroup": "True",
         "customdata": [
          [
           "내업공사",
           "Stock장 배재",
           20
          ],
          [
           "내업공사",
           "공장내 배재",
           20
          ],
          [
           "내업공사",
           "라틸 운전",
           0
          ],
          [
           "내업공사",
           "부재 적치 및 투입",
           20
          ],
          [
           "내업공사",
           "현도장 곡절단",
           10
          ]
         ],
         "hovertemplate": "대구분=%{customdata[0]}<br>R_vector=%{customdata[2]}<br>부서=%{y}<br>WORK_STAND_NM=%{customdata[1]}<extra></extra>",
         "legendgroup": "내업공사",
         "marker": {
          "color": "#FF6692"
         },
         "name": "내업공사",
         "offsetgroup": "내업공사",
         "orientation": "h",
         "showlegend": true,
         "textposition": "auto",
         "type": "bar",
         "x": [
          20,
          20,
          0,
          20,
          10
         ],
         "xaxis": "x",
         "y": [
          "내업공사지원부",
          "내업공사지원부",
          "내업공사지원부",
          "내업공사지원부",
          "내업공사지원부"
         ],
         "yaxis": "y"
        },
        {
         "alignmentgroup": "True",
         "customdata": [
          [
           "대조립",
           "선PE 취부용접",
           230
          ],
          [
           "대조립",
           "선PE 취부용접",
           230
          ],
          [
           "대조립",
           "곡성형(PRESS)",
           20
          ],
          [
           "대조립",
           "곡외판 Line Heating 성형",
           160
          ],
          [
           "대조립",
           "곡성형(PRESS)",
           20
          ],
          [
           "대조립",
           "곡외판 Line Heating 성형",
           160
          ],
          [
           "대조립",
           "곡중조_대조립1공장",
           270
          ],
          [
           "대조립",
           "곡중조_대조립2공장",
           290
          ],
          [
           "대조립",
           "곡중조_2야드대조립공장",
           330
          ],
          [
           "대조립",
           "곡중조_대조립2공장",
           290
          ],
          [
           "대조립",
           "곡조립_대조립1공장",
           380
          ],
          [
           "대조립",
           "Manifold 제작",
           140
          ],
          [
           "대조립",
           "곡조립_2야드대조립공장",
           380
          ],
          [
           "대조립",
           "곡조립_대조립2공장",
           380
          ],
          [
           "대조립",
           "턴오버",
           170
          ],
          [
           "대조립",
           "턴오버",
           170
          ],
          [
           "대조립",
           "턴오버",
           130
          ],
          [
           "대조립",
           "판계(주판)",
           60
          ],
          [
           "대조립",
           "판계(형강)",
           100
          ],
          [
           "대조립",
           "판계(주판)",
           60
          ],
          [
           "대조립",
           "판계(형강)",
           100
          ],
          [
           "대조립",
           "평중조_대조립1공장",
           100
          ],
          [
           "대조립",
           "평중조_2야드대조립공장",
           100
          ],
          [
           "대조립",
           "평중조_대조립2공장",
           110
          ]
         ],
         "hovertemplate": "대구분=%{customdata[0]}<br>R_vector=%{customdata[2]}<br>부서=%{y}<br>WORK_STAND_NM=%{customdata[1]}<extra></extra>",
         "legendgroup": "대조립",
         "marker": {
          "color": "#B6E880"
         },
         "name": "대조립",
         "offsetgroup": "대조립",
         "orientation": "h",
         "showlegend": true,
         "textposition": "auto",
         "type": "bar",
         "x": [
          230,
          230,
          20,
          160,
          20,
          160,
          270,
          290,
          330,
          290,
          380,
          140,
          380,
          380,
          170,
          170,
          130,
          60,
          100,
          60,
          100,
          100,
          100,
          110
         ],
         "xaxis": "x",
         "y": [
          "대조립1부",
          "대조립2부",
          "대조립1부",
          "대조립1부",
          "대조립2부",
          "대조립2부",
          "대조립1부",
          "대조립1부",
          "대조립2부",
          "대조립2부",
          "대조립1부",
          "대조립2부",
          "대조립2부",
          "대조립2부",
          "대조립1부",
          "대조립2부",
          "판넬조립부",
          "대조립1부",
          "대조립1부",
          "대조립2부",
          "대조립2부",
          "대조립1부",
          "대조립2부",
          "대조립2부"
         ],
         "yaxis": "y"
        },
        {
         "alignmentgroup": "True",
         "customdata": [
          [
           "발판지원",
           "발판시설물 설치",
           70
          ],
          [
           "발판지원",
           "발판시설물 점검",
           50
          ],
          [
           "발판지원",
           "발판시설물 철거",
           70
          ],
          [
           "발판지원",
           "블록안전시설 설치",
           140
          ]
         ],
         "hovertemplate": "대구분=%{customdata[0]}<br>R_vector=%{customdata[2]}<br>부서=%{y}<br>WORK_STAND_NM=%{customdata[1]}<extra></extra>",
         "legendgroup": "발판지원",
         "marker": {
          "color": "#FF97FF"
         },
         "name": "발판지원",
         "offsetgroup": "발판지원",
         "orientation": "h",
         "showlegend": true,
         "textposition": "auto",
         "type": "bar",
         "x": [
          70,
          50,
          70,
          140
         ],
         "xaxis": "x",
         "y": [
          "발판지원부",
          "발판지원부",
          "발판지원부",
          "발판지원부"
         ],
         "yaxis": "y"
        },
        {
         "alignmentgroup": "True",
         "customdata": [
          [
           "선실생산",
           "ELEVATOR 설치/검사",
           180
          ],
          [
           "선실생산",
           "AIR CON SYSTEM",
           70
          ],
          [
           "선실생산",
           "PACKAGE AIR CON 설치/검사",
           40
          ],
          [
           "선실생산",
           "냉동 선행 FCU 압력 검사",
           20
          ],
          [
           "선실생산",
           "LIFE-BOAT DAVIT 설치",
           30
          ],
          [
           "선실생산",
           "LIFE-BOAT 후행 검사",
           10
          ],
          [
           "선실생산",
           "COLD CAHMBER ANGLE 설치",
           30
          ],
          [
           "선실생산",
           "COLD CAHMBER PANEL 설치",
           10
          ],
          [
           "선실생산",
           "REF.PLANT SYSTEM",
           50
          ],
          [
           "선실생산",
           "CO2 SYSTEM 선행 작업",
           30
          ],
          [
           "선실생산",
           "CO2 SYSTEM 후행 작업",
           0
          ],
          [
           "선실생산",
           "GALLEY & LAUNDRY 장비 탑재 및 SEAT",
           20
          ],
          [
           "선실생산",
           "GALLEY & LAUNDRY설치/검사",
           20
          ],
          [
           "선실생산",
           "PROVISION CRANE 탑재/조립",
           0
          ],
          [
           "선실생산",
           "PROVISION CRANE 후행 검사",
           50
          ],
          [
           "선실생산",
           "선실 IN/OUTSIDE 도장",
           30
          ],
          [
           "선실생산",
           "선실 IN/OUTSIDE 터치업",
           0
          ],
          [
           "선실생산",
           "선실 OUTSIDE WASHING",
           10
          ],
          [
           "선실생산",
           "선실 IN/OUTSIDE 소지",
           30
          ],
          [
           "선실생산",
           "3-COAT 시공",
           0
          ],
          [
           "선실생산",
           "FLOATING FLOOR 시공",
           20
          ],
          [
           "선실생산",
           "SELF LEVELING 시공",
           0
          ],
          [
           "선실생산",
           "TILE 설치",
           10
          ],
          [
           "선실생산",
           "VINYL SHEET 설치",
           20
          ],
          [
           "선실생산",
           "Wall & Ceiling Panel 설치",
           20
          ],
          [
           "선실생산",
           "드래프트 스탑(DS) 설치",
           20
          ],
          [
           "선실생산",
           "목의장(DOOR HARDWARE 설치)",
           0
          ],
          [
           "선실생산",
           "목의장(PLINTH 설치)",
           30
          ],
          [
           "선실생산",
           "목의장(가구 설치)",
           10
          ],
          [
           "선실생산",
           "목의장(젠다이 설치)",
           20
          ],
          [
           "선실생산",
           "목의장(청소 및 실리콘 시공)",
           0
          ],
          [
           "선실생산",
           "선행화기(Door)",
           80
          ],
          [
           "선실생산",
           "선행화기(Unit Toilet/유티)",
           40
          ],
          [
           "선실생산",
           "선행화기(찬넬)",
           50
          ],
          [
           "선실생산",
           "선행화기(코밍)",
           40
          ],
          [
           "선실생산",
           "A-60 보온",
           0
          ],
          [
           "선실생산",
           "FELT 보온",
           10
          ],
          [
           "선실생산",
           "Thermal 보온",
           0
          ],
          [
           "선실생산",
           "파이프 보온",
           10
          ],
          [
           "선실생산",
           "AIR COMPRESSOR 설치검사",
           20
          ],
          [
           "선실생산",
           "COPPER PIPE 설치",
           30
          ],
          [
           "선실생산",
           "DUCT COVER 설치",
           30
          ],
          [
           "선실생산",
           "DUCT 설치",
           20
          ],
          [
           "선실생산",
           "FOAM TANK 설치",
           10
          ],
          [
           "선실생산",
           "HANDRAIL 추가(수정) 설치",
           40
          ],
          [
           "선실생산",
           "INCLINED LADDER 설치",
           10
          ],
          [
           "선실생산",
           "LOUVER VENT 검사",
           20
          ],
          [
           "선실생산",
           "MULTI CORE 연결",
           30
          ],
          [
           "선실생산",
           "PPR PIPE 설치",
           20
          ],
          [
           "선실생산",
           "PVC PIPE 설치",
           0
          ],
          [
           "선실생산",
           "SANITARY FAN 설치",
           0
          ],
          [
           "선실생산",
           "SANITARY WARE 설치",
           0
          ],
          [
           "선실생산",
           "STEEL DOOR 검사",
           30
          ],
          [
           "선실생산",
           "STEEL PIPE 설치",
           20
          ],
          [
           "선실생산",
           "UNIT TOILET 연결",
           20
          ],
          [
           "선실생산",
           "WINDOW WIPER 설치",
           20
          ],
          [
           "선실생산",
           "건조탑재 곡직 (D/H 도크 FAIRING)",
           10
          ],
          [
           "선실생산",
           "건조탑재 취부/용접",
           100
          ],
          [
           "선실생산",
           "후PE2 곡직 (FAIRING)",
           10
          ],
          [
           "선실생산",
           "후PE2 취부/용접",
           120
          ],
          [
           "선실생산",
           "후PE2 건조철의장",
           50
          ],
          [
           "선실생산",
           "CABLE 포설작업(선행)",
           20
          ],
          [
           "선실생산",
           "CABLE 포설작업(후행)",
           20
          ],
          [
           "선실생산",
           "COMPOUND 시공",
           20
          ],
          [
           "선실생산",
           "LIGHTING 검사",
           0
          ],
          [
           "선실생산",
           "LIGHTING 설치",
           40
          ],
          [
           "선실생산",
           "PANEL CLEANING",
           0
          ],
          [
           "선실생산",
           "PANEL 설치",
           100
          ],
          [
           "선실생산",
           "ROOM 장비설치",
           30
          ],
          [
           "선실생산",
           "선주 공급품 설치",
           10
          ],
          [
           "선실생산",
           "COMPOUND 시공",
           20
          ],
          [
           "선실생산",
           "COMPOUND 시공",
           250
          ],
          [
           "선실생산",
           "COMPOUND 시공",
           20
          ],
          [
           "선실생산",
           "ANTENNA (중소형) 작업",
           50
          ],
          [
           "선실생산",
           "BRIDGE CONTROL CONSOLE 작업",
           40
          ],
          [
           "선실생산",
           "CABIN ROOM 장비 작업",
           40
          ],
          [
           "선실생산",
           "CABLE DUCT 장비 작업",
           10
          ],
          [
           "선실생산",
           "CHART & RADIO TABLE 작업",
           10
          ],
          [
           "선실생산",
           "ELECTRIC EQUIPMENT ROOM 작업",
           20
          ],
          [
           "선실생산",
           "GMDSS CONSOLE 작업",
           40
          ],
          [
           "선실생산",
           "LAN NETWORK 작업",
           20
          ],
          [
           "선실생산",
           "NAVI LOCKER 작업",
           50
          ],
          [
           "선실생산",
           "RADAR 및 대형 ANTENNA 작업",
           40
          ],
          [
           "선실생산",
           "SYSTEM INSPECTION",
           20
          ],
          [
           "선실생산",
           "선실 OUTSIDE 장비(ANTENNA외) 작업",
           40
          ],
          [
           "선실생산",
           "선주공급품 설치",
           20
          ]
         ],
         "hovertemplate": "대구분=%{customdata[0]}<br>R_vector=%{customdata[2]}<br>부서=%{y}<br>WORK_STAND_NM=%{customdata[1]}<extra></extra>",
         "legendgroup": "선실생산",
         "marker": {
          "color": "#FECB52"
         },
         "name": "선실생산",
         "offsetgroup": "선실생산",
         "orientation": "h",
         "showlegend": true,
         "textposition": "auto",
         "type": "bar",
         "x": [
          180,
          70,
          40,
          20,
          30,
          10,
          30,
          10,
          50,
          30,
          0,
          20,
          20,
          0,
          50,
          30,
          0,
          10,
          30,
          0,
          20,
          0,
          10,
          20,
          20,
          20,
          0,
          30,
          10,
          20,
          0,
          80,
          40,
          50,
          40,
          0,
          10,
          0,
          10,
          20,
          30,
          30,
          20,
          10,
          40,
          10,
          20,
          30,
          20,
          0,
          0,
          0,
          30,
          20,
          20,
          20,
          10,
          100,
          10,
          120,
          50,
          20,
          20,
          20,
          0,
          40,
          0,
          100,
          30,
          10,
          20,
          250,
          20,
          50,
          40,
          40,
          10,
          10,
          20,
          40,
          20,
          50,
          40,
          20,
          40,
          20
         ],
         "xaxis": "x",
         "y": [
          "선실생산부",
          "선실생산부",
          "선실생산부",
          "선실생산부",
          "선실생산부",
          "선실생산부",
          "선실생산부",
          "선실생산부",
          "선실생산부",
          "선실생산부",
          "선실생산부",
          "선실생산부",
          "선실생산부",
          "선실생산부",
          "선실생산부",
          "선실생산부",
          "선실생산부",
          "선실생산부",
          "선실생산부",
          "선실생산부",
          "선실생산부",
          "선실생산부",
          "선실생산부",
          "선실생산부",
          "선실생산부",
          "선실생산부",
          "선실생산부",
          "선실생산부",
          "선실생산부",
          "선실생산부",
          "선실생산부",
          "선실생산부",
          "선실생산부",
          "선실생산부",
          "선실생산부",
          "선실생산부",
          "선실생산부",
          "선실생산부",
          "선실생산부",
          "선실생산부",
          "선실생산부",
          "선실생산부",
          "선실생산부",
          "선실생산부",
          "선실생산부",
          "선실생산부",
          "선실생산부",
          "선실생산부",
          "선실생산부",
          "선실생산부",
          "선실생산부",
          "선실생산부",
          "선실생산부",
          "선실생산부",
          "선실생산부",
          "선실생산부",
          "선실생산부",
          "선실생산부",
          "선실생산부",
          "선실생산부",
          "선실생산부",
          "선실생산부",
          "선실생산부",
          "선실생산부",
          "선실생산부",
          "선실생산부",
          "선실생산부",
          "선실생산부",
          "선실생산부",
          "선실생산부",
          "의장1부",
          "의장2부",
          "의장3부",
          "선실생산부",
          "선실생산부",
          "선실생산부",
          "선실생산부",
          "선실생산부",
          "선실생산부",
          "선실생산부",
          "선실생산부",
          "선실생산부",
          "선실생산부",
          "선실생산부",
          "선실생산부",
          "선실생산부"
         ],
         "yaxis": "y"
        },
        {
         "alignmentgroup": "True",
         "customdata": [
          [
           "선실선행의장",
           "Copper Pipe 설치_선실",
           30
          ],
          [
           "선실선행의장",
           "Cu-Ni Pipe 설치_선실",
           30
          ],
          [
           "선실선행의장",
           "Duct 설치 (Spiral, Square)",
           70
          ],
          [
           "선실선행의장",
           "EXH. Gas Pipe 설치_선실",
           40
          ],
          [
           "선실선행의장",
           "Galley Hood 설치",
           40
          ],
          [
           "선실선행의장",
           "Multi Core/Tray 설치",
           30
          ],
          [
           "선실선행의장",
           "PP-R Pipe 설치",
           30
          ],
          [
           "선실선행의장",
           "PVC Pipe Pipe 설치",
           50
          ],
          [
           "선실선행의장",
           "Steel Pipe 설치_선실",
           30
          ],
          [
           "선실선행의장",
           "SUS Pipe 설치_선실",
           20
          ],
          [
           "선실선행의장",
           "Coaming 설치 (Pipe, Oil, Save all)_선실",
           40
          ],
          [
           "선실선행의장",
           "Grating Frame 설치_선실",
           50
          ],
          [
           "선실선행의장",
           "Hatch 설치_선실",
           40
          ],
          [
           "선실선행의장",
           "Mushroom Ventilator 설치_선실",
           60
          ],
          [
           "선실선행의장",
           "Pad 설치_선실",
           70
          ],
          [
           "선실선행의장",
           "Platform 설치_선실",
           30
          ],
          [
           "선실선행의장",
           "Signal Post 설치",
           40
          ],
          [
           "선실선행의장",
           "Support 설치 (Pipe, Duct 등)",
           40
          ],
          [
           "선실선행의장",
           "Trolley Beam 설치_선실",
           50
          ],
          [
           "선실선행의장",
           "철의장 Seat 설치",
           40
          ],
          [
           "선실선행의장",
           "통행용 철의장 설치 (Hand Rail, Inclined Ladder 등)",
           60
          ],
          [
           "선실선행의장",
           "Main Stairway Body 설치",
           60
          ],
          [
           "선실선행의장",
           "목의장 마감재 설치 (Joiner Angle/Channel/Coaming Platae/Profile/HangerRod 등)",
           20
          ],
          [
           "선실선행의장",
           "Insulation Stud Pin 설치_선실",
           20
          ],
          [
           "선실선행의장",
           "Load Test_선실",
           70
          ],
          [
           "선실선행의장",
           "Window Hose Test",
           40
          ],
          [
           "선실선행의장",
           "수압검사 (Hyd. Test)",
           50
          ],
          [
           "선실선행의장",
           "전장 Coaming 설치",
           40
          ],
          [
           "선실선행의장",
           "전장 Seat 설치 (Lighting Seat, Alarm Seat 등)",
           50
          ],
          [
           "선실선행의장",
           "Cable Pipe 설치",
           30
          ],
          [
           "선실선행의장",
           "전로 설치 (Main, FB, SF 등)",
           40
          ],
          [
           "선실선행의장",
           "전장 Coaming 설치_선실",
           50
          ],
          [
           "선실선행의장",
           "전장 Seat 설치 (Lighting Seat, Alarm Seat 등)_선실",
           60
          ]
         ],
         "hovertemplate": "대구분=%{customdata[0]}<br>R_vector=%{customdata[2]}<br>부서=%{y}<br>WORK_STAND_NM=%{customdata[1]}<extra></extra>",
         "legendgroup": "선실선행의장",
         "marker": {
          "color": "#636efa"
         },
         "name": "선실선행의장",
         "offsetgroup": "선실선행의장",
         "orientation": "h",
         "showlegend": true,
         "textposition": "auto",
         "type": "bar",
         "x": [
          30,
          30,
          70,
          40,
          40,
          30,
          30,
          50,
          30,
          20,
          40,
          50,
          40,
          60,
          70,
          30,
          40,
          40,
          50,
          40,
          60,
          60,
          20,
          20,
          70,
          40,
          50,
          40,
          50,
          30,
          40,
          50,
          60
         ],
         "xaxis": "x",
         "y": [
          "선행의장부",
          "선행의장부",
          "선행의장부",
          "선행의장부",
          "선행의장부",
          "선행의장부",
          "선행의장부",
          "선행의장부",
          "선행의장부",
          "선행의장부",
          "선행의장부",
          "선행의장부",
          "선행의장부",
          "선행의장부",
          "선행의장부",
          "선행의장부",
          "선행의장부",
          "선행의장부",
          "선행의장부",
          "선행의장부",
          "선행의장부",
          "선행의장부",
          "선행의장부",
          "선행의장부",
          "선행의장부",
          "선행의장부",
          "선행의장부",
          "선실생산부",
          "선실생산부",
          "선행의장부",
          "선행의장부",
          "선행의장부",
          "선행의장부"
         ],
         "yaxis": "y"
        },
        {
         "alignmentgroup": "True",
         "customdata": [
          [
           "선행도장",
           "블록 보수 도장",
           170
          ],
          [
           "선행도장",
           "스프레이",
           250
          ],
          [
           "선행도장",
           "그리트 블라스팅",
           170
          ],
          [
           "선행도장",
           "그리트 수거",
           100
          ],
          [
           "선행도장",
           "소지 검사",
           100
          ]
         ],
         "hovertemplate": "대구분=%{customdata[0]}<br>R_vector=%{customdata[2]}<br>부서=%{y}<br>WORK_STAND_NM=%{customdata[1]}<extra></extra>",
         "legendgroup": "선행도장",
         "marker": {
          "color": "#EF553B"
         },
         "name": "선행도장",
         "offsetgroup": "선행도장",
         "orientation": "h",
         "showlegend": true,
         "textposition": "auto",
         "type": "bar",
         "x": [
          170,
          250,
          170,
          100,
          100
         ],
         "xaxis": "x",
         "y": [
          "선행도장부",
          "선행도장부",
          "선행도장부",
          "선행도장부",
          "선행도장부"
         ],
         "yaxis": "y"
        },
        {
         "alignmentgroup": "True",
         "customdata": [
          [
           "선행의장",
           "Heating Coil 설치",
           20
          ],
          [
           "선행의장",
           "G.R.E. Pipe 설치",
           10
          ],
          [
           "선행의장",
           "G/Unit 설치 (Group Unit)",
           40
          ],
          [
           "선행의장",
           "Heating Coil 설치",
           20
          ],
          [
           "선행의장",
           "Steel Pipe 설치",
           10
          ],
          [
           "선행의장",
           "SUS Pipe 설치",
           10
          ],
          [
           "선행의장",
           "Copper Pipe 설치",
           20
          ],
          [
           "선행의장",
           "Cu-Ni Pipe 설치",
           20
          ],
          [
           "선행의장",
           "G.R.E. Pipe 설치",
           10
          ],
          [
           "선행의장",
           "G/Unit 설치 (Group Unit)",
           40
          ],
          [
           "선행의장",
           "Heating Coil 설치",
           20
          ],
          [
           "선행의장",
           "Steel Pipe 설치",
           10
          ],
          [
           "선행의장",
           "SUS Pipe 설치",
           10
          ],
          [
           "선행의장",
           "Copper Pipe 설치",
           20
          ],
          [
           "선행의장",
           "Cu-Ni Pipe 설치",
           20
          ],
          [
           "선행의장",
           "EXH. Gas Pipe 설치",
           30
          ],
          [
           "선행의장",
           "G.R.E. Pipe 설치",
           20
          ],
          [
           "선행의장",
           "G/Unit 설치 (Group Unit)",
           50
          ],
          [
           "선행의장",
           "Heating Coil 설치",
           20
          ],
          [
           "선행의장",
           "Steel Pipe 설치",
           70
          ],
          [
           "선행의장",
           "SUS Pipe 설치",
           40
          ],
          [
           "선행의장",
           "Copper Pipe 설치",
           10
          ],
          [
           "선행의장",
           "Cu-Ni Pipe 설치",
           20
          ],
          [
           "선행의장",
           "G.R.E. Pipe 설치",
           30
          ],
          [
           "선행의장",
           "Heating Coil 설치",
           20
          ],
          [
           "선행의장",
           "Steel Pipe 설치",
           70
          ],
          [
           "선행의장",
           "SUS Pipe 설치",
           20
          ],
          [
           "선행의장",
           "Container Stool 설치",
           50
          ],
          [
           "선행의장",
           "Hatch 설치",
           30
          ],
          [
           "선행의장",
           "Mooring 설치 (Bollard, Panama Chock, Chafing Rail, Cross Bit, Capstan)",
           40
          ],
          [
           "선행의장",
           "Grating Frame 설치",
           20
          ],
          [
           "선행의장",
           "Pad 설치",
           40
          ],
          [
           "선행의장",
           "Platform 설치",
           30
          ],
          [
           "선행의장",
           "Seat 설치",
           30
          ],
          [
           "선행의장",
           "Steel Door 설치 (Tight, Non Tight)",
           40
          ],
          [
           "선행의장",
           "Support 설치 (Pipe, Heating Coil, Duct 등)",
           30
          ],
          [
           "선행의장",
           "통행용 설치 (Hand Rail, Hand Grip, Strom Rail, Vertical/Inclined Ladder)",
           40
          ],
          [
           "선행의장",
           "Grating Frame 설치",
           20
          ],
          [
           "선행의장",
           "Hatch 설치",
           30
          ],
          [
           "선행의장",
           "Pad 설치",
           40
          ],
          [
           "선행의장",
           "Platform 설치",
           30
          ],
          [
           "선행의장",
           "Seat 설치",
           30
          ],
          [
           "선행의장",
           "Steel Door 설치 (Tight, Non Tight)",
           40
          ],
          [
           "선행의장",
           "Support 설치 (Pipe, Heating Coil, Duct 등)",
           30
          ],
          [
           "선행의장",
           "통행용 설치 (Hand Rail, Hand Grip, Strom Rail, Vertical/Inclined Ladder)",
           40
          ],
          [
           "선행의장",
           "Boss 설치",
           20
          ],
          [
           "선행의장",
           "Coaming 설치 (Pipe, Oil, Save all)",
           40
          ],
          [
           "선행의장",
           "Container Stool 설치",
           50
          ],
          [
           "선행의장",
           "Container Tool Box 설치",
           40
          ],
          [
           "선행의장",
           "D/G Engine Seat 설치",
           60
          ],
          [
           "선행의장",
           "Duct 설치 (Round, Spiral, Square)",
           60
          ],
          [
           "선행의장",
           "Grating Frame 설치",
           20
          ],
          [
           "선행의장",
           "Hatch 설치",
           30
          ],
          [
           "선행의장",
           "Hose Reel 설치",
           30
          ],
          [
           "선행의장",
           "Mooring 설치 (Bollard, Panama Chock, Chafing Rail, Cross Bit, Capstan)",
           40
          ],
          [
           "선행의장",
           "Mushroom Ventilator 설치",
           50
          ],
          [
           "선행의장",
           "Pad 설치",
           60
          ],
          [
           "선행의장",
           "Pilot/Bunker Door 설치",
           50
          ],
          [
           "선행의장",
           "Platform 설치",
           30
          ],
          [
           "선행의장",
           "Pump 설치",
           90
          ],
          [
           "선행의장",
           "Rigid Plate 설치",
           30
          ],
          [
           "선행의장",
           "Sea Chest Grating 설치",
           30
          ],
          [
           "선행의장",
           "Seat 설치",
           30
          ],
          [
           "선행의장",
           "Steel Door 설치 (Tight, Non Tight)",
           40
          ],
          [
           "선행의장",
           "Support 설치 (Pipe, Heating Coil, Duct 등)",
           30
          ],
          [
           "선행의장",
           "Tool Board 설치",
           30
          ],
          [
           "선행의장",
           "Trolley Beam 설치",
           50
          ],
          [
           "선행의장",
           "천장 마감재 설치 (Joiner Angle/Channel/FlatBAr/Piece, Profile, HangerRod)",
           30
          ],
          [
           "선행의장",
           "통행용 설치 (Hand Rail, Hand Grip, Strom Rail, Vertical/Inclined Ladder)",
           40
          ],
          [
           "선행의장",
           "환기구 설치 (Louver Vent, Shutter Grill)",
           50
          ],
          [
           "선행의장",
           "Grating Frame 설치",
           20
          ],
          [
           "선행의장",
           "Hatch 설치",
           30
          ],
          [
           "선행의장",
           "Pad 설치",
           40
          ],
          [
           "선행의장",
           "Platform 설치",
           30
          ],
          [
           "선행의장",
           "Seat 설치",
           30
          ],
          [
           "선행의장",
           "Steel Door 설치 (Tight, Non Tight)",
           40
          ],
          [
           "선행의장",
           "Support 설치 (Pipe, Heating Coil, Duct 등)",
           30
          ],
          [
           "선행의장",
           "통행용 설치 (Hand Rail, Hand Grip, Strom Rail, Vertical/Inclined Ladder)",
           30
          ],
          [
           "선행의장",
           "Channel 설치",
           20
          ],
          [
           "선행의장",
           "Insulation Stud Pin 설치",
           20
          ],
          [
           "선행의장",
           "T-Bar 설치",
           20
          ],
          [
           "선행의장",
           "의장조인트 작업",
           30
          ],
          [
           "선행의장",
           "선PE 취부용접",
           200
          ],
          [
           "선행의장",
           "선PE 탑재",
           90
          ],
          [
           "선행의장",
           "밀봉 및 마스킹 검사",
           10
          ],
          [
           "선행의장",
           "의장품 설치 검사",
           10
          ],
          [
           "선행의장",
           "밀봉 및 마스킹 검사",
           10
          ],
          [
           "선행의장",
           "의장품 설치 검사",
           10
          ],
          [
           "선행의장",
           "Air Leak Test",
           30
          ],
          [
           "선행의장",
           "Load Test",
           90
          ],
          [
           "선행의장",
           "밀봉 및 마스킹 검사",
           10
          ],
          [
           "선행의장",
           "의장품 설치 검사",
           10
          ],
          [
           "선행의장",
           "밀봉 및 마스킹 검사",
           10
          ],
          [
           "선행의장",
           "의장품 설치 검사",
           10
          ],
          [
           "선행의장",
           "전로 설치 (Main, FB, SF, Multi Core)",
           40
          ],
          [
           "선행의장",
           "Cable Pipe/Duct 설치",
           20
          ],
          [
           "선행의장",
           "Support 설치",
           30
          ],
          [
           "선행의장",
           "전로 설치 (Main, FB, SF, Multi Core)",
           30
          ],
          [
           "선행의장",
           "전장 Coaming 설치",
           40
          ],
          [
           "선행의장",
           "전장 Seat 설치 (Lighting Seat, Alarm Seat 등)",
           50
          ],
          [
           "선행의장",
           "Cable Pipe/Duct 설치",
           20
          ],
          [
           "선행의장",
           "Support 설치",
           30
          ],
          [
           "선행의장",
           "전로 설치 (Main, FB, SF, Multi Core)",
           30
          ],
          [
           "선행의장",
           "전장 Coaming 설치",
           40
          ],
          [
           "선행의장",
           "전장 Seat 설치 (Lighting Seat, Alarm Seat 등)",
           50
          ],
          [
           "선행의장",
           "Support 설치",
           30
          ],
          [
           "선행의장",
           "전로 설치 (Main, FB, SF, Multi Core)",
           30
          ],
          [
           "선행의장",
           "Cable Pipe/Duct 설치",
           30
          ],
          [
           "선행의장",
           "Main Switchboard Seat 설치",
           60
          ],
          [
           "선행의장",
           "Support 설치",
           30
          ],
          [
           "선행의장",
           "전로 설치 (Main, FB, SF, Multi Core)",
           30
          ],
          [
           "선행의장",
           "전장 Coaming 설치",
           40
          ],
          [
           "선행의장",
           "전장 Seat 설치 (Lighting Seat, Alarm Seat 등)",
           50
          ],
          [
           "선행의장",
           "Support 설치",
           30
          ],
          [
           "선행의장",
           "전로 설치 (Main, FB, SF, Multi Core)",
           30
          ],
          [
           "선행의장",
           "Support 설치",
           30
          ],
          [
           "선행의장",
           "전로 설치 (Main, FB, SF, Multi Core)",
           30
          ],
          [
           "선행의장",
           "Support 설치",
           30
          ],
          [
           "선행의장",
           "전로 설치 (Main, FB, SF, Multi Core)",
           30
          ],
          [
           "선행의장",
           "Cable Pipe/Duct 설치",
           20
          ],
          [
           "선행의장",
           "Support 설치",
           30
          ],
          [
           "선행의장",
           "전로 설치 (Main, FB, SF, Multi Core)",
           40
          ],
          [
           "선행의장",
           "전장 Coaming 설치",
           30
          ],
          [
           "선행의장",
           "전장 Seat 설치 (Lighting Seat, Alarm Seat 등)",
           50
          ]
         ],
         "hovertemplate": "대구분=%{customdata[0]}<br>R_vector=%{customdata[2]}<br>부서=%{y}<br>WORK_STAND_NM=%{customdata[1]}<extra></extra>",
         "legendgroup": "선행의장",
         "marker": {
          "color": "#00cc96"
         },
         "name": "선행의장",
         "offsetgroup": "선행의장",
         "orientation": "h",
         "showlegend": true,
         "textposition": "auto",
         "type": "bar",
         "x": [
          20,
          10,
          40,
          20,
          10,
          10,
          20,
          20,
          10,
          40,
          20,
          10,
          10,
          20,
          20,
          30,
          20,
          50,
          20,
          70,
          40,
          10,
          20,
          30,
          20,
          70,
          20,
          50,
          30,
          40,
          20,
          40,
          30,
          30,
          40,
          30,
          40,
          20,
          30,
          40,
          30,
          30,
          40,
          30,
          40,
          20,
          40,
          50,
          40,
          60,
          60,
          20,
          30,
          30,
          40,
          50,
          60,
          50,
          30,
          90,
          30,
          30,
          30,
          40,
          30,
          30,
          50,
          30,
          40,
          50,
          20,
          30,
          40,
          30,
          30,
          40,
          30,
          30,
          20,
          20,
          20,
          30,
          200,
          90,
          10,
          10,
          10,
          10,
          30,
          90,
          10,
          10,
          10,
          10,
          40,
          20,
          30,
          30,
          40,
          50,
          20,
          30,
          30,
          40,
          50,
          30,
          30,
          30,
          60,
          30,
          30,
          40,
          50,
          30,
          30,
          30,
          30,
          30,
          30,
          20,
          30,
          40,
          30,
          50
         ],
         "xaxis": "x",
         "y": [
          "가공소조립부",
          "대조립1부",
          "대조립1부",
          "대조립1부",
          "대조립1부",
          "대조립1부",
          "대조립2부",
          "대조립2부",
          "대조립2부",
          "대조립2부",
          "대조립2부",
          "대조립2부",
          "대조립2부",
          "선행의장부",
          "선행의장부",
          "선행의장부",
          "선행의장부",
          "선행의장부",
          "선행의장부",
          "선행의장부",
          "선행의장부",
          "판넬조립부",
          "판넬조립부",
          "판넬조립부",
          "판넬조립부",
          "판넬조립부",
          "판넬조립부",
          "가공소조립부",
          "가공소조립부",
          "가공소조립부",
          "대조립1부",
          "대조립1부",
          "대조립1부",
          "대조립1부",
          "대조립1부",
          "대조립1부",
          "대조립1부",
          "대조립2부",
          "대조립2부",
          "대조립2부",
          "대조립2부",
          "대조립2부",
          "대조립2부",
          "대조립2부",
          "대조립2부",
          "선행의장부",
          "선행의장부",
          "선행의장부",
          "선행의장부",
          "선행의장부",
          "선행의장부",
          "선행의장부",
          "선행의장부",
          "선행의장부",
          "선행의장부",
          "선행의장부",
          "선행의장부",
          "선행의장부",
          "선행의장부",
          "선행의장부",
          "선행의장부",
          "선행의장부",
          "선행의장부",
          "선행의장부",
          "선행의장부",
          "선행의장부",
          "선행의장부",
          "선행의장부",
          "선행의장부",
          "선행의장부",
          "판넬조립부",
          "판넬조립부",
          "판넬조립부",
          "판넬조립부",
          "판넬조립부",
          "판넬조립부",
          "판넬조립부",
          "판넬조립부",
          "선행의장부",
          "선행의장부",
          "선행의장부",
          "선행의장부",
          "선행의장부",
          "선행의장부",
          "대조립1부",
          "대조립1부",
          "대조립2부",
          "대조립2부",
          "선행의장부",
          "선행의장부",
          "선행의장부",
          "선행의장부",
          "판넬조립부",
          "판넬조립부",
          "가공소조립부",
          "대조립1부",
          "대조립1부",
          "대조립1부",
          "대조립1부",
          "대조립1부",
          "대조립2부",
          "대조립2부",
          "대조립2부",
          "대조립2부",
          "대조립2부",
          "선실생산부",
          "선실생산부",
          "선행의장부",
          "선행의장부",
          "선행의장부",
          "선행의장부",
          "선행의장부",
          "선행의장부",
          "의장1부",
          "의장1부",
          "의장2부",
          "의장2부",
          "의장3부",
          "의장3부",
          "판넬조립부",
          "판넬조립부",
          "판넬조립부",
          "판넬조립부",
          "판넬조립부"
         ],
         "yaxis": "y"
        },
        {
         "alignmentgroup": "True",
         "customdata": [
          [
           "소조립",
           "소조 판계(대형)",
           110
          ],
          [
           "소조립",
           "소조 판계(소형)",
           90
          ],
          [
           "소조립",
           "소조 판계(인서트 부재)",
           130
          ],
          [
           "소조립",
           "소조(평중조)",
           670
          ],
          [
           "소조립",
           "일반 소조(1차 중조)",
           390
          ],
          [
           "소조립",
           "일반 소조(BOX중조)",
           700
          ],
          [
           "소조립",
           "일반 소조(T/O)",
           310
          ],
          [
           "소조립",
           "일반 소조(기본)",
           190
          ],
          [
           "소조립",
           "일반 소조(다층 중조)",
           540
          ],
          [
           "소조립",
           "일반 소조(박판)",
           260
          ],
          [
           "소조립",
           "선실 소조(일반)",
           240
          ],
          [
           "소조립",
           "선실 소조(판계)",
           110
          ]
         ],
         "hovertemplate": "대구분=%{customdata[0]}<br>R_vector=%{customdata[2]}<br>부서=%{y}<br>WORK_STAND_NM=%{customdata[1]}<extra></extra>",
         "legendgroup": "소조립",
         "marker": {
          "color": "#ab63fa"
         },
         "name": "소조립",
         "offsetgroup": "소조립",
         "orientation": "h",
         "showlegend": true,
         "textposition": "auto",
         "type": "bar",
         "x": [
          110,
          90,
          130,
          670,
          390,
          700,
          310,
          190,
          540,
          260,
          240,
          110
         ],
         "xaxis": "x",
         "y": [
          "가공소조립부",
          "가공소조립부",
          "가공소조립부",
          "가공소조립부",
          "가공소조립부",
          "가공소조립부",
          "가공소조립부",
          "가공소조립부",
          "가공소조립부",
          "가공소조립부",
          "가공소조립부",
          "가공소조립부"
         ],
         "yaxis": "y"
        },
        {
         "alignmentgroup": "True",
         "customdata": [
          [
           "시운전",
           "AIR SYSTEM 운전 및 검사",
           20
          ],
          [
           "시운전",
           "AUTO. DISCH FILTER",
           0
          ],
          [
           "시운전",
           "BILGE SUCTION TEST",
           10
          ],
          [
           "시운전",
           "BOILER BUNKER CHANGE",
           20
          ],
          [
           "시운전",
           "BOILER 운전",
           120
          ],
          [
           "시운전",
           "BUNKERING",
           100
          ],
          [
           "시운전",
           "C.O.P.T 운전",
           70
          ],
          [
           "시운전",
           "C.P.P 운전 및 검사",
           50
          ],
          [
           "시운전",
           "CHEMICAL DOSING UNIT",
           0
          ],
          [
           "시운전",
           "D/G 운전",
           30
          ],
          [
           "시운전",
           "DEAD WEIGHT",
           0
          ],
          [
           "시운전",
           "DOMESTIC FRESH WATER SYSTEM 운전",
           30
          ],
          [
           "시운전",
           "E/R FAN CHECK",
           0
          ],
          [
           "시운전",
           "F. W COOLING SYSTEM LEAK CHECK",
           30
          ],
          [
           "시운전",
           "F.O SYSTEM AIR BLOWING 참관",
           0
          ],
          [
           "시운전",
           "F.O TK LEVEL GAUGE 점검",
           0
          ],
          [
           "시운전",
           "FLOWMETER CHECK",
           0
          ],
          [
           "시운전",
           "INCINERATOR TEST",
           0
          ],
          [
           "시운전",
           "LAY-UP 관리",
           0
          ],
          [
           "시운전",
           "M.G.P.S",
           0
          ],
          [
           "시운전",
           "M/E D/G VISCOTHERM CHECK",
           0
          ],
          [
           "시운전",
           "M/E 운전 및 DOCK TRIAL",
           60
          ],
          [
           "시운전",
           "MANUAL HYRO. VALVE",
           0
          ],
          [
           "시운전",
           "OILY W. SEPARATOR 운전",
           10
          ],
          [
           "시운전",
           "PUMP 운전",
           160
          ],
          [
           "시운전",
           "S/T L.O PUMP 운전 & AFT SEAL CHECK",
           0
          ],
          [
           "시운전",
           "SEA WATER LINE LEAK CHECK",
           20
          ],
          [
           "시운전",
           "SEWAGE UNIT",
           0
          ],
          [
           "시운전",
           "SHAFT GENERATOR 운전 및 검사",
           80
          ],
          [
           "시운전",
           "STEAM BLOWING",
           50
          ],
          [
           "시운전",
           "STEAM TRACING LINE CHECK",
           0
          ],
          [
           "시운전",
           "T/GEN. 운전(터빈 제너레이터)",
           30
          ],
          [
           "시운전",
           "TANK SOUNDING 작업",
           10
          ],
          [
           "시운전",
           "VACUUM UNIT",
           0
          ],
          [
           "시운전",
           "VALVES OPERATION",
           0
          ],
          [
           "시운전",
           "WATER FILLING",
           30
          ],
          [
           "시운전",
           "공구 BOX 탑재 및 하선",
           10
          ],
          [
           "시운전",
           "기관실 SYSTEM CHECK",
           20
          ],
          [
           "시운전",
           "명명식 지원(기관)",
           0
          ],
          [
           "시운전",
           "유지보수 관리",
           0
          ],
          [
           "시운전",
           "작업장 이동(기관)",
           0
          ],
          [
           "시운전",
           "잡유 CAN 및 CHEMICAL 탑재",
           30
          ],
          [
           "시운전",
           "조수기 운전 및 검사",
           10
          ],
          [
           "시운전",
           "해상 시운전(가스선)",
           10
          ],
          [
           "시운전",
           "해상 시운전(일반)",
           210
          ],
          [
           "시운전",
           "선구_ACCOM LADDER WIRE RIGGING",
           20
          ],
          [
           "시운전",
           "선구_AIR WHISTLE LINE RIGGING",
           20
          ],
          [
           "시운전",
           "선구_ANCHOR STOPPER WIRE 가공 설치",
           40
          ],
          [
           "시운전",
           "선구_CARGO HOLD LIFE LINE WIRE 가공 설치",
           10
          ],
          [
           "시운전",
           "선구_DECK CRANE HOOK LASHING WIRE 설치",
           40
          ],
          [
           "시운전",
           "선구_DECK CRANE WIRE RIGGING",
           20
          ],
          [
           "시운전",
           "선구_FIRE EXTINGUISHER SEAT SCREW 작업",
           30
          ],
          [
           "시운전",
           "선구_FIRE EXTINGUISHER 운반 설치",
           0
          ],
          [
           "시운전",
           "선구_FIRE FOAM HOSE AND BOX 운반 설치",
           40
          ],
          [
           "시운전",
           "선구_FIRE HOSE AND BOX 운반 설치",
           20
          ],
          [
           "시운전",
           "선구_FIRE HOSE BOX SEAT WELDING",
           10
          ],
          [
           "시운전",
           "선구_FIRE HOSE REEL 운반 설치",
           30
          ],
          [
           "시운전",
           "선구_FIRE LINE WINDING",
           40
          ],
          [
           "시운전",
           "선구_FIRE MAN'S EQUIPMENT 운반 설치",
           10
          ],
          [
           "시운전",
           "선구_FLAG LINE 가공 설치(RADAR/FORE MAST)",
           40
          ],
          [
           "시운전",
           "선구_FORE MAST STAY 운반 설치",
           30
          ],
          [
           "시운전",
           "선구_FORE MAST STAY 제작",
           40
          ],
          [
           "시운전",
           "선구_HATCH COVER LIFE LINE WIRE 가공 설치",
           30
          ],
          [
           "시운전",
           "선구_LIFE BOAT DAVIT WIRE 가공 설치",
           20
          ],
          [
           "시운전",
           "선구_LIFE BOAT FITTINGS 운반 설치",
           40
          ],
          [
           "시운전",
           "선구_LIFE BOAT FITTINGS 제작",
           20
          ],
          [
           "시운전",
           "선구_LIFE BOAT INVENTORY 운반 설치",
           0
          ],
          [
           "시운전",
           "선구_LIFE BUOY 운반 설치",
           20
          ],
          [
           "시운전",
           "선구_LIFE JACKET 운반 설치",
           10
          ],
          [
           "시운전",
           "선구_LIFT LINE WIRE ROPE 가공 설치",
           60
          ],
          [
           "시운전",
           "선구_LIFT RAFT 운반 설치",
           10
          ],
          [
           "시운전",
           "선구_LIFTING WIRE ROPE RIGGING",
           20
          ],
          [
           "시운전",
           "선구_MOORING WIRE ROPE WINDING",
           20
          ],
          [
           "시운전",
           "선구_MOVABLE RAMP WIRE RIGGING",
           20
          ],
          [
           "시운전",
           "선구_PILOT ROPE LADDER 운반 설치",
           40
          ],
          [
           "시운전",
           "선구_PILOT SLANT LADDER WIRE RIGGING",
           20
          ],
          [
           "시운전",
           "선구_RADAR MAST STAY 제작 설치",
           40
          ],
          [
           "시운전",
           "선구_RESCUE BOAT DAVIT WIRE RIGGING",
           40
          ],
          [
           "시운전",
           "선구_ROPE LADDER 운반 설치",
           20
          ],
          [
           "시운전",
           "선구_S/T용 ROPE LADDER/LIFE RAFT 운반 설치",
           30
          ],
          [
           "시운전",
           "선구_SHIP'S BELL 운반 설치",
           30
          ],
          [
           "시운전",
           "선구_SIDE RAMP WIRE RIGGING",
           30
          ],
          [
           "시운전",
           "선구_SPREADING WIRE RIGGING",
           40
          ],
          [
           "시운전",
           "선구_SPUD WIRE ROPE RIGGING",
           40
          ],
          [
           "시운전",
           "선구_STERN RAMP WIRE RIGGING",
           40
          ],
          [
           "시운전",
           "선구_SWING ANCHOR WIRE RIGGING",
           20
          ],
          [
           "시운전",
           "선구_TOWING WIRE ROPE WINDING",
           30
          ],
          [
           "시운전",
           "선구_WIRE SOCKET 작업",
           10
          ],
          [
           "시운전",
           "Anchor chain 탑재",
           20
          ],
          [
           "시운전",
           "Anchoring test",
           30
          ],
          [
           "시운전",
           "Anti-heeling system",
           10
          ],
          [
           "시운전",
           "AUS",
           20
          ],
          [
           "시운전",
           "Bilge suction system",
           40
          ],
          [
           "시운전",
           "Bilge suction system(COSP 사용)",
           10
          ],
          [
           "시운전",
           "Bilge suction system(IS bilge well)",
           0
          ],
          [
           "시운전",
           "Bow loading system",
           0
          ],
          [
           "시운전",
           "Bow thruster",
           0
          ],
          [
           "시운전",
           "BWTS(Ballast water treatment system)",
           10
          ],
          [
           "시운전",
           "Cargo oil pump",
           0
          ],
          [
           "시운전",
           "Cargo oil stripping pump",
           20
          ],
          [
           "시운전",
           "Cargo tank drying & Inerting (LPG)",
           20
          ],
          [
           "시운전",
           "Cargo tank level gauge(Tanker)",
           10
          ],
          [
           "시운전",
           "Cofferdam Glycol heating system",
           50
          ],
          [
           "시운전",
           "Crane",
           20
          ],
          [
           "시운전",
           "Deck machinery(Hyd & Elec type)",
           50
          ],
          [
           "시운전",
           "Dry powder system",
           20
          ],
          [
           "시운전",
           "DWT(Dead Weignt Test, 경사시험 포함)",
           40
          ],
          [
           "시운전",
           "Emergency fire pump",
           10
          ],
          [
           "시운전",
           "F.W/Glycol cooling system",
           20
          ],
          [
           "시운전",
           "Foam system",
           0
          ],
          [
           "시운전",
           "Framo cargo pump system",
           0
          ],
          [
           "시운전",
           "Gas sampling system",
           30
          ],
          [
           "시운전",
           "Hyd. Manual valve",
           10
          ],
          [
           "시운전",
           "IGG",
           0
          ],
          [
           "시운전",
           "IGS",
           0
          ],
          [
           "시운전",
           "Load master computer",
           10
          ],
          [
           "시운전",
           "Mooring winch auto tension test",
           20
          ],
          [
           "시운전",
           "ODME(Oil Discharge Monitoring System)",
           10
          ],
          [
           "시운전",
           "Pneumatic control valve",
           60
          ],
          [
           "시운전",
           "Remote valve(Elec. Type)",
           40
          ],
          [
           "시운전",
           "Remote valve(Hyd. Type)",
           30
          ],
          [
           "시운전",
           "RO-RO equipment system(Movable ramp)",
           0
          ],
          [
           "시운전",
           "RO-RO equipment system(Side ramp)",
           0
          ],
          [
           "시운전",
           "RO-RO equipment system(Stern ramp)",
           0
          ],
          [
           "시운전",
           "Sea water fire fighting system",
           40
          ],
          [
           "시운전",
           "Sea water spray system",
           10
          ],
          [
           "시운전",
           "Smoke detector system",
           10
          ],
          [
           "시운전",
           "Stripping eductor",
           0
          ],
          [
           "시운전",
           "T/C machinery",
           10
          ],
          [
           "시운전",
           "Tank level gauge(Air purge type)",
           10
          ],
          [
           "시운전",
           "Tank level gauge(Elec. type)",
           40
          ],
          [
           "시운전",
           "Water ballast pump",
           20
          ],
          [
           "시운전",
           "Passivation_LNG PUMP TOWER/VALVE PIECE",
           70
          ],
          [
           "시운전",
           "Passivation_Module Top Side SUS PIPE 및 Tank",
           50
          ],
          [
           "시운전",
           "Passivation_On-Board SUS Material",
           40
          ],
          [
           "시운전",
           "Passivation_밀폐구역 산세척 작업",
           70
          ],
          [
           "시운전",
           "유세_BLOWING",
           40
          ],
          [
           "시운전",
           "유세_FLUSHING",
           130
          ],
          [
           "시운전",
           "유세_TIG 용접",
           50
          ],
          [
           "시운전",
           "유세_그라인더",
           10
          ],
          [
           "시운전",
           "유세_수동 절단기",
           40
          ],
          [
           "시운전",
           "유세_카크레인 상하차 작업",
           110
          ],
          [
           "시운전",
           "유세_크리닝 작업(섬프탱크, 메인엔진 및 발전기)",
           10
          ],
          [
           "시운전",
           "유세_피복 아크용접",
           40
          ],
          [
           "시운전",
           "AGS FUNCTION CHECK",
           40
          ],
          [
           "시운전",
           "AIR COMPRESSOR FUNCTION CHECK",
           50
          ],
          [
           "시운전",
           "AIR LOCK ALARM FUNCTION CHECK",
           10
          ],
          [
           "시운전",
           "AIR LUBRICATION SYSTEM FUNCTION CHECK",
           20
          ],
          [
           "시운전",
           "AIR WHISTLE CONTROL SYSTEM CHECK",
           20
          ],
          [
           "시운전",
           "ANTI HEELING CONTROL FUNC. CHECK",
           40
          ],
          [
           "시운전",
           "BATTERY CHARGER FUNCTION CHECK",
           50
          ],
          [
           "시운전",
           "BLACKOUT RECOVERY & SEQUENTIAL START",
           10
          ],
          [
           "시운전",
           "BNWAS FUNCTION CHECK",
           10
          ],
          [
           "시운전",
           "BOILER CONTROL SYSTEM FUNCTION CHECK",
           20
          ],
          [
           "시운전",
           "BOW THRUSTER CONTROL FUNCTION CHECK",
           0
          ],
          [
           "시운전",
           "BWTS CONTROL FUNCTION CHECK",
           30
          ],
          [
           "시운전",
           "CABLE CHECK",
           80
          ],
          [
           "시운전",
           "CO2 ALARM FUNCTION CHECK",
           40
          ],
          [
           "시운전",
           "CONTROL CONSOLE CHECK",
           40
          ],
          [
           "시운전",
           "DECK MACHINERY CHECK",
           80
          ],
          [
           "시운전",
           "DP TRANSPONDER 설치/회수",
           30
          ],
          [
           "시운전",
           "DYNAMIC POSITIONING SYSTEM CHECK",
           20
          ],
          [
           "시운전",
           "EGCS CONTROL FUNCTION CHECK",
           40
          ],
          [
           "시운전",
           "EMERGENCY D/G CONTROL FUNC. CHECK",
           10
          ],
          [
           "시운전",
           "EMERGENCY SHUTDOWN FUNCTION CHECK",
           70
          ],
          [
           "시운전",
           "EMERGENCY STOP FUNCTION CHECK",
           10
          ],
          [
           "시운전",
           "EXTENSION ALARM PANEL FUNC. CHECK",
           20
          ],
          [
           "시운전",
           "FIRE & GENERAL ALARM FUNCTION CHECK",
           40
          ],
          [
           "시운전",
           "FIRE PUMP FUNCTION CHECK",
           60
          ],
          [
           "시운전",
           "FOAM ALARM FUNCTION CHECK",
           0
          ],
          [
           "시운전",
           "GAS COMBUSTION UNIT CONTROL FUNC. CHECK",
           20
          ],
          [
           "시운전",
           "GAS DETECTION SYSTEM CHECK",
           40
          ],
          [
           "시운전",
           "GAS VALVE UNIT CONTROL FUNC. CHECK",
           20
          ],
          [
           "시운전",
           "GENERATOR ENGINE CONTROL FUNC. CHECK",
           50
          ],
          [
           "시운전",
           "GLYCOL HEATER CONTROL FUNC. CHECK",
           30
          ],
          [
           "시운전",
           "HIGH VOLTAGE CABLE POTENTIAL TEST",
           20
          ],
          [
           "시운전",
           "IAS(Integrated Automation System) CHECK",
           30
          ],
          [
           "시운전",
           "IGG CONTROL FUNCTION CHECK",
           30
          ],
          [
           "시운전",
           "INCINERATOR SYSTEM FUNCTION CHECK",
           20
          ],
          [
           "시운전",
           "LIFT & RAMP CONTROL FUNCTION CHECK",
           30
          ],
          [
           "시운전",
           "LIGHT SIGNAL COLUMN CHECK",
           20
          ],
          [
           "시운전",
           "LOAD TEST",
           50
          ],
          [
           "시운전",
           "LOCAL FIRE FIGHTING SYSTEM FUNCTION CHECK",
           20
          ],
          [
           "시운전",
           "LOCK OUT TAG OUT",
           70
          ],
          [
           "시운전",
           "MACHINERY AUTO CONTROL TEST",
           20
          ],
          [
           "시운전",
           "MAIN ENGINE CONTROL FUNCTION CHECK",
           40
          ],
          [
           "시운전",
           "MEGGER CHECK",
           20
          ],
          [
           "시운전",
           "MISC. ACCOM. IO TEST",
           30
          ],
          [
           "시운전",
           "MISC. CARGO MACHINERY IO TEST",
           60
          ],
          [
           "시운전",
           "MR CONTROL SYSTEM FUNCTION CHECK",
           70
          ],
          [
           "시운전",
           "N2 GENERATOR CONTROL FUNC. CHECK",
           10
          ],
          [
           "시운전",
           "NAVIGATION EQUIPMENT CHECK",
           20
          ],
          [
           "시운전",
           "NAVIGATION/SIGNAL/OUTDOOR LIGHT CHECK",
           30
          ],
          [
           "시운전",
           "POWER MANAGEMENT SYSTEM FUNC. CHECK",
           0
          ],
          [
           "시운전",
           "PROPULSION MOTOR CONTROL FUNC.CHECK",
           10
          ],
          [
           "시운전",
           "RADIO EQUIPMENT CHECK",
           20
          ],
          [
           "시운전",
           "REF GAS DETECTION SYSTEM CHECK",
           20
          ],
          [
           "시운전",
           "REF. CONTAINER BOX SOCKET CHECK",
           30
          ],
          [
           "시운전",
           "REGAS PLANT CONTROL SYSTEM FUNC. CHECK",
           40
          ],
          [
           "시운전",
           "REMOTE DOOR CONTROL FUNC. CHECK",
           0
          ],
          [
           "시운전",
           "REMOTE VALVE CONTROL FUNC. CHECK",
           40
          ],
          [
           "시운전",
           "SCR CONTROL FUNCTION CHECK",
           20
          ],
          [
           "시운전",
           "SENSOR CHECK",
           40
          ],
          [
           "시운전",
           "SHORE POWER CHECK",
           80
          ],
          [
           "시운전",
           "STARTER FUNCTION CHECK",
           40
          ],
          [
           "시운전",
           "STEERING GEAR CONTROL FUNCTION CHECK",
           60
          ],
          [
           "시운전",
           "SWBD FUNCTION CHECK",
           40
          ],
          [
           "시운전",
           "TURBINE PUMP CONTROL FUNCTION CHECK",
           40
          ],
          [
           "시운전",
           "UPS FUNCTION CHECK",
           60
          ],
          [
           "시운전",
           "VENT. FAN CONTROL SYSTEM CHECK",
           60
          ],
          [
           "시운전",
           "명명식 지원(전장)",
           0
          ],
          [
           "시운전",
           "시험장비 및 중량물 이동",
           0
          ],
          [
           "시운전",
           "열화상 촬영",
           30
          ],
          [
           "시운전",
           "인도 준비",
           20
          ],
          [
           "시운전",
           "작업장 이동(전장)",
           20
          ],
          [
           "시운전",
           "정전 작업",
           20
          ],
          [
           "시운전",
           "해상/가스 시운전",
           40
          ]
         ],
         "hovertemplate": "대구분=%{customdata[0]}<br>R_vector=%{customdata[2]}<br>부서=%{y}<br>WORK_STAND_NM=%{customdata[1]}<extra></extra>",
         "legendgroup": "시운전",
         "marker": {
          "color": "#FFA15A"
         },
         "name": "시운전",
         "offsetgroup": "시운전",
         "orientation": "h",
         "showlegend": true,
         "textposition": "auto",
         "type": "bar",
         "x": [
          20,
          0,
          10,
          20,
          120,
          100,
          70,
          50,
          0,
          30,
          0,
          30,
          0,
          30,
          0,
          0,
          0,
          0,
          0,
          0,
          0,
          60,
          0,
          10,
          160,
          0,
          20,
          0,
          80,
          50,
          0,
          30,
          10,
          0,
          0,
          30,
          10,
          20,
          0,
          0,
          0,
          30,
          10,
          10,
          210,
          20,
          20,
          40,
          10,
          40,
          20,
          30,
          0,
          40,
          20,
          10,
          30,
          40,
          10,
          40,
          30,
          40,
          30,
          20,
          40,
          20,
          0,
          20,
          10,
          60,
          10,
          20,
          20,
          20,
          40,
          20,
          40,
          40,
          20,
          30,
          30,
          30,
          40,
          40,
          40,
          20,
          30,
          10,
          20,
          30,
          10,
          20,
          40,
          10,
          0,
          0,
          0,
          10,
          0,
          20,
          20,
          10,
          50,
          20,
          50,
          20,
          40,
          10,
          20,
          0,
          0,
          30,
          10,
          0,
          0,
          10,
          20,
          10,
          60,
          40,
          30,
          0,
          0,
          0,
          40,
          10,
          10,
          0,
          10,
          10,
          40,
          20,
          70,
          50,
          40,
          70,
          40,
          130,
          50,
          10,
          40,
          110,
          10,
          40,
          40,
          50,
          10,
          20,
          20,
          40,
          50,
          10,
          10,
          20,
          0,
          30,
          80,
          40,
          40,
          80,
          30,
          20,
          40,
          10,
          70,
          10,
          20,
          40,
          60,
          0,
          20,
          40,
          20,
          50,
          30,
          20,
          30,
          30,
          20,
          30,
          20,
          50,
          20,
          70,
          20,
          40,
          20,
          30,
          60,
          70,
          10,
          20,
          30,
          0,
          10,
          20,
          20,
          30,
          40,
          0,
          40,
          20,
          40,
          80,
          40,
          60,
          40,
          40,
          60,
          60,
          0,
          0,
          30,
          20,
          20,
          20,
          40
         ],
         "xaxis": "x",
         "y": [
          "시운전부",
          "시운전부",
          "시운전부",
          "시운전부",
          "시운전부",
          "시운전부",
          "시운전부",
          "시운전부",
          "시운전부",
          "시운전부",
          "시운전부",
          "시운전부",
          "시운전부",
          "시운전부",
          "시운전부",
          "시운전부",
          "시운전부",
          "시운전부",
          "시운전부",
          "시운전부",
          "시운전부",
          "시운전부",
          "시운전부",
          "시운전부",
          "시운전부",
          "시운전부",
          "시운전부",
          "시운전부",
          "시운전부",
          "시운전부",
          "시운전부",
          "시운전부",
          "시운전부",
          "시운전부",
          "시운전부",
          "시운전부",
          "시운전부",
          "시운전부",
          "시운전부",
          "시운전부",
          "시운전부",
          "시운전부",
          "시운전부",
          "시운전부",
          "시운전부",
          "시운전부",
          "시운전부",
          "시운전부",
          "시운전부",
          "시운전부",
          "시운전부",
          "시운전부",
          "시운전부",
          "시운전부",
          "시운전부",
          "시운전부",
          "시운전부",
          "시운전부",
          "시운전부",
          "시운전부",
          "시운전부",
          "시운전부",
          "시운전부",
          "시운전부",
          "시운전부",
          "시운전부",
          "시운전부",
          "시운전부",
          "시운전부",
          "시운전부",
          "시운전부",
          "시운전부",
          "시운전부",
          "시운전부",
          "시운전부",
          "시운전부",
          "시운전부",
          "시운전부",
          "시운전부",
          "시운전부",
          "시운전부",
          "시운전부",
          "시운전부",
          "시운전부",
          "시운전부",
          "시운전부",
          "시운전부",
          "시운전부",
          "시운전부",
          "시운전부",
          "시운전부",
          "시운전부",
          "시운전부",
          "시운전부",
          "시운전부",
          "시운전부",
          "시운전부",
          "시운전부",
          "시운전부",
          "시운전부",
          "시운전부",
          "시운전부",
          "시운전부",
          "시운전부",
          "시운전부",
          "시운전부",
          "시운전부",
          "시운전부",
          "시운전부",
          "시운전부",
          "시운전부",
          "시운전부",
          "시운전부",
          "시운전부",
          "시운전부",
          "시운전부",
          "시운전부",
          "시운전부",
          "시운전부",
          "시운전부",
          "시운전부",
          "시운전부",
          "시운전부",
          "시운전부",
          "시운전부",
          "시운전부",
          "시운전부",
          "시운전부",
          "시운전부",
          "시운전부",
          "시운전부",
          "시운전부",
          "시운전부",
          "시운전부",
          "시운전부",
          "시운전부",
          "시운전부",
          "시운전부",
          "시운전부",
          "시운전부",
          "시운전부",
          "시운전부",
          "시운전부",
          "시운전부",
          "시운전부",
          "시운전부",
          "시운전부",
          "시운전부",
          "시운전부",
          "시운전부",
          "시운전부",
          "시운전부",
          "시운전부",
          "시운전부",
          "시운전부",
          "시운전부",
          "시운전부",
          "시운전부",
          "시운전부",
          "시운전부",
          "시운전부",
          "시운전부",
          "시운전부",
          "시운전부",
          "시운전부",
          "시운전부",
          "시운전부",
          "시운전부",
          "시운전부",
          "시운전부",
          "시운전부",
          "시운전부",
          "시운전부",
          "시운전부",
          "시운전부",
          "시운전부",
          "시운전부",
          "시운전부",
          "시운전부",
          "시운전부",
          "시운전부",
          "시운전부",
          "시운전부",
          "시운전부",
          "시운전부",
          "시운전부",
          "시운전부",
          "시운전부",
          "시운전부",
          "시운전부",
          "시운전부",
          "시운전부",
          "시운전부",
          "시운전부",
          "시운전부",
          "시운전부",
          "시운전부",
          "시운전부",
          "시운전부",
          "시운전부",
          "시운전부",
          "시운전부",
          "시운전부",
          "시운전부",
          "시운전부",
          "시운전부",
          "시운전부",
          "시운전부",
          "시운전부",
          "시운전부",
          "시운전부",
          "시운전부",
          "시운전부",
          "시운전부",
          "시운전부",
          "시운전부",
          "시운전부"
         ],
         "yaxis": "y"
        },
        {
         "alignmentgroup": "True",
         "customdata": [
          [
           "운항관제",
           "호선 복선 웨이트 사다리 설치 및 철거",
           10
          ],
          [
           "운항관제",
           "호선 승하선 사다리 (1,2,3단) 설치 및 철거",
           110
          ],
          [
           "운항관제",
           "호선 엔진룸 사다리 설치 및 철거",
           10
          ],
          [
           "운항관제",
           "서비스타워 오버브릿지 설치 및 철거",
           20
          ],
          [
           "운항관제",
           "승하선 시설물 보수작업(고정식)",
           10
          ],
          [
           "운항관제",
           "승하선 시설물 보수작업(이동식)",
           10
          ],
          [
           "운항관제",
           "승하선 시설물 제작",
           10
          ],
          [
           "운항관제",
           "승하선 시설물 폐기",
           10
          ],
          [
           "운항관제",
           "펜더 보수작업",
           10
          ],
          [
           "운항관제",
           "펜더 폐기작업",
           10
          ],
          [
           "운항관제",
           "카크레인 안전작업 요령",
           10
          ],
          [
           "운항관제",
           "안벽호선 DOCK TRIAL 지원작업",
           30
          ],
          [
           "운항관제",
           "육상 무어링로프 작업",
           30
          ],
          [
           "운항관제",
           "로벡스 계류작업",
           40
          ],
          [
           "운항관제",
           "선상 무어링로프 작업",
           70
          ],
          [
           "운항관제",
           "도크게이트 개폐작업(선거)",
           20
          ],
          [
           "운항관제",
           "무어링로프 보수작업",
           20
          ],
          [
           "운항관제",
           "안벽호선 라이프보트 테스트 지원작업",
           60
          ],
          [
           "운항관제",
           "안벽호선 중경사시험 지원작업",
           30
          ],
          [
           "운항관제",
           "펜더 육상 적치방법",
           80
          ],
          [
           "운항관제",
           "도크호선 입.출거 작업",
           140
          ],
          [
           "운항관제",
           "선박 입/출항 작업",
           110
          ],
          [
           "운항관제",
           "포터블윈치 보수작업",
           20
          ],
          [
           "운항관제",
           "호선 리세팅 작업",
           70
          ],
          [
           "운항관제",
           "도크 호선 RE-SETTING 정도확인",
           60
          ],
          [
           "운항관제",
           "부양호선 러그에 무어링로프 작업",
           120
          ],
          [
           "운항관제",
           "포터블윈치 설치 및 작업방법",
           80
          ],
          [
           "운항관제",
           "무어링로프 보강작업",
           100
          ],
          [
           "운항관제",
           "선박 이동작업",
           70
          ],
          [
           "운항관제",
           "에어펜더 설치 및 해체작업",
           70
          ],
          [
           "운항관제",
           "에어펜더 보수작업",
           30
          ],
          [
           "운항관제",
           "메인엔진 분해 및 조립작업",
           70
          ],
          [
           "운항관제",
           "무어링 로프 정리작업",
           50
          ],
          [
           "운항관제",
           "발전기 분해 및 조립작업",
           50
          ],
          [
           "운항관제",
           "비트 유지보수 작업",
           40
          ],
          [
           "운항관제",
           "수심측정 작업",
           60
          ],
          [
           "운항관제",
           "수중 검사 작업",
           120
          ],
          [
           "운항관제",
           "수중 페인팅 작업",
           140
          ],
          [
           "운항관제",
           "안벽 및 도크 거리 마킹작업",
           0
          ],
          [
           "운항관제",
           "고무보트 지원작업",
           40
          ],
          [
           "운항관제",
           "고정식 펜더 청소작업",
           40
          ],
          [
           "운항관제",
           "기타 수중작업 지원",
           70
          ],
          [
           "운항관제",
           "도크게이트 부근 준설작업",
           80
          ],
          [
           "운항관제",
           "도크게이트 수밀작업",
           70
          ],
          [
           "운항관제",
           "수중 크리닝 작업",
           70
          ],
          [
           "운항관제",
           "공기통 충전작업",
           50
          ],
          [
           "운항관제",
           "도크게이트 개폐 작업",
           10
          ],
          [
           "운항관제",
           "입거 수리작업",
           10
          ],
          [
           "운항관제",
           "기타 보기 점검 및 수리작업",
           30
          ],
          [
           "운항관제",
           "마스트 수리작업",
           40
          ],
          [
           "운항관제",
           "선체 유지보수 작업",
           10
          ],
          [
           "운항관제",
           "진수시 호선 예인 작업",
           0
          ],
          [
           "운항관제",
           "윈드라스/윈치 조정 작업",
           0
          ],
          [
           "운항관제",
           "TUG LINE 연결작업(윈치/크레인 지원 불가)",
           10
          ],
          [
           "운항관제",
           "터그보트 선급검사",
           0
          ],
          [
           "운항관제",
           "시운전선 통선 지원작업",
           0
          ],
          [
           "운항관제",
           "펜더 해상이동 작업",
           0
          ]
         ],
         "hovertemplate": "대구분=%{customdata[0]}<br>R_vector=%{customdata[2]}<br>부서=%{y}<br>WORK_STAND_NM=%{customdata[1]}<extra></extra>",
         "legendgroup": "운항관제",
         "marker": {
          "color": "#19d3f3"
         },
         "name": "운항관제",
         "offsetgroup": "운항관제",
         "orientation": "h",
         "showlegend": true,
         "textposition": "auto",
         "type": "bar",
         "x": [
          10,
          110,
          10,
          20,
          10,
          10,
          10,
          10,
          10,
          10,
          10,
          30,
          30,
          40,
          70,
          20,
          20,
          60,
          30,
          80,
          140,
          110,
          20,
          70,
          60,
          120,
          80,
          100,
          70,
          70,
          30,
          70,
          50,
          50,
          40,
          60,
          120,
          140,
          0,
          40,
          40,
          70,
          80,
          70,
          70,
          50,
          10,
          10,
          30,
          40,
          10,
          0,
          0,
          10,
          0,
          0,
          0
         ],
         "xaxis": "x",
         "y": [
          "운항관제과",
          "운항관제과",
          "운항관제과",
          "운항관제과",
          "운항관제과",
          "운항관제과",
          "운항관제과",
          "운항관제과",
          "운항관제과",
          "운항관제과",
          "운항관제과",
          "운항관제과",
          "운항관제과",
          "운항관제과",
          "운항관제과",
          "운항관제과",
          "운항관제과",
          "운항관제과",
          "운항관제과",
          "운항관제과",
          "운항관제과",
          "운항관제과",
          "운항관제과",
          "운항관제과",
          "운항관제과",
          "운항관제과",
          "운항관제과",
          "운항관제과",
          "운항관제과",
          "운항관제과",
          "운항관제과",
          "운항관제과",
          "운항관제과",
          "운항관제과",
          "운항관제과",
          "운항관제과",
          "운항관제과",
          "운항관제과",
          "운항관제과",
          "운항관제과",
          "운항관제과",
          "운항관제과",
          "운항관제과",
          "운항관제과",
          "운항관제과",
          "운항관제과",
          "운항관제과",
          "운항관제과",
          "운항관제과",
          "운항관제과",
          "운항관제과",
          "운항관제과",
          "운항관제과",
          "운항관제과",
          "운항관제과",
          "운항관제과",
          "운항관제과"
         ],
         "yaxis": "y"
        },
        {
         "alignmentgroup": "True",
         "customdata": [
          [
           "의장생산",
           "M/UNIT 설치 (서포트)",
           80
          ],
          [
           "의장생산",
           "M/UNIT 설치 (의장품)",
           230
          ],
          [
           "의장생산",
           "M/UNIT 설치 (파이프)",
           110
          ],
          [
           "의장생산",
           "M/UNIT(2단 탑재)",
           20
          ],
          [
           "의장생산",
           "M/UNIT(반출)",
           10
          ],
          [
           "의장생산",
           "Manifold Sub Unit 제작",
           210
          ],
          [
           "의장생산",
           "SUS 일반 PCS 제작",
           90
          ],
          [
           "의장생산",
           "Manifold Sub Unit 제작",
           210
          ],
          [
           "의장생산",
           "Pump Tower 복관 제작",
           420
          ],
          [
           "의장생산",
           "Pump Tower 총조립 제작",
           370
          ],
          [
           "의장생산",
           "SUS Cargo Valve PCS 제작",
           150
          ],
          [
           "의장생산",
           "SUS 일반 PCS 제작",
           90
          ],
          [
           "의장생산",
           "비철(Copper) PCS 제작",
           50
          ],
          [
           "의장생산",
           "STEEL PCS 제작",
           130
          ],
          [
           "의장생산",
           "CHOCK LINER 가공",
           60
          ],
          [
           "의장생산",
           "COTTER 가공",
           60
          ],
          [
           "의장생산",
           "Coupling Key 홈 가공",
           50
          ],
          [
           "의장생산",
           "PIPE 나사가공",
           20
          ],
          [
           "의장생산",
           "R/D EDGE BAR 제작",
           270
          ],
          [
           "의장생산",
           "REAMER BOLT 제작",
           90
          ],
          [
           "의장생산",
           "SOUNDING PIPE SLOT HOLE 가공",
           40
          ],
          [
           "의장생산",
           "Stern Tubu Bush 가공",
           40
          ],
          [
           "의장생산",
           "사각 & 원형 HOLE 작업",
           20
          ],
          [
           "의장생산",
           "이경 SOCKET 제작",
           30
          ],
          [
           "의장생산",
           "블라스팅",
           70
          ],
          [
           "의장생산",
           "Moudule unit 절단",
           80
          ],
          [
           "의장생산",
           "Moudule unit 제작",
           30
          ],
          [
           "의장생산",
           "러그 절단",
           60
          ],
          [
           "의장생산",
           "러그 제작",
           100
          ],
          [
           "의장생산",
           "철의장품 제작",
           320
          ],
          [
           "의장생산",
           "H/cover fitting류 절단",
           50
          ],
          [
           "의장생산",
           "H/cover fitting류 제작",
           70
          ],
          [
           "의장생산",
           "H/cover fitting류 절단",
           50
          ],
          [
           "의장생산",
           "H/cover fitting류 제작",
           70
          ],
          [
           "의장생산",
           "Moudule unit 절단",
           80
          ],
          [
           "의장생산",
           "Moudule unit 제작",
           30
          ],
          [
           "의장생산",
           "러그 절단",
           60
          ],
          [
           "의장생산",
           "러그 제작",
           100
          ],
          [
           "의장생산",
           "철의장품 제작",
           320
          ],
          [
           "의장생산",
           "스프레이",
           160
          ]
         ],
         "hovertemplate": "대구분=%{customdata[0]}<br>R_vector=%{customdata[2]}<br>부서=%{y}<br>WORK_STAND_NM=%{customdata[1]}<extra></extra>",
         "legendgroup": "의장생산",
         "marker": {
          "color": "#FF6692"
         },
         "name": "의장생산",
         "offsetgroup": "의장생산",
         "orientation": "h",
         "showlegend": true,
         "textposition": "auto",
         "type": "bar",
         "x": [
          80,
          230,
          110,
          20,
          10,
          210,
          90,
          210,
          420,
          370,
          150,
          90,
          50,
          130,
          60,
          60,
          50,
          20,
          270,
          90,
          40,
          40,
          20,
          30,
          70,
          80,
          30,
          60,
          100,
          320,
          50,
          70,
          50,
          70,
          80,
          30,
          60,
          100,
          320,
          160
         ],
         "xaxis": "x",
         "y": [
          "Unit생산부",
          "Unit생산부",
          "Unit생산부",
          "Unit생산부",
          "Unit생산부",
          "Unit생산부",
          "Unit생산부",
          "의장생산부",
          "의장생산부",
          "의장생산부",
          "의장생산부",
          "의장생산부",
          "의장생산부",
          "의장생산부",
          "의장생산부",
          "의장생산부",
          "의장생산부",
          "의장생산부",
          "의장생산부",
          "의장생산부",
          "의장생산부",
          "의장생산부",
          "의장생산부",
          "의장생산부",
          "의장생산부",
          "Unit생산부",
          "Unit생산부",
          "Unit생산부",
          "Unit생산부",
          "Unit생산부",
          "Unit생산부",
          "Unit생산부",
          "의장생산부",
          "의장생산부",
          "의장생산부",
          "의장생산부",
          "의장생산부",
          "의장생산부",
          "의장생산부",
          "의장생산부"
         ],
         "yaxis": "y"
        },
        {
         "alignmentgroup": "True",
         "customdata": [
          [
           "판넬조립",
           "선PE 취부용접",
           200
          ],
          [
           "판넬조립",
           "DOUBLE SLIT",
           140
          ],
          [
           "판넬조립",
           "평조립",
           160
          ],
          [
           "판넬조립",
           "판계(주판)_1야드",
           80
          ],
          [
           "판넬조립",
           "판계(주판)_2야드",
           80
          ],
          [
           "판넬조립",
           "판계(형강)_1야드",
           120
          ],
          [
           "판넬조립",
           "판계(형강)_2야드",
           120
          ],
          [
           "판넬조립",
           "평중조",
           100
          ],
          [
           "판넬조립",
           "평중조(F/Bay)",
           150
          ],
          [
           "판넬조립",
           "선실 조립(용접)",
           80
          ],
          [
           "판넬조립",
           "선실 조립(취부)",
           20
          ],
          [
           "판넬조립",
           "선실 판계(LONGI)",
           10
          ],
          [
           "판넬조립",
           "선실 판계(주판)",
           30
          ],
          [
           "판넬조립",
           "선실 판계(형강)",
           150
          ]
         ],
         "hovertemplate": "대구분=%{customdata[0]}<br>R_vector=%{customdata[2]}<br>부서=%{y}<br>WORK_STAND_NM=%{customdata[1]}<extra></extra>",
         "legendgroup": "판넬조립",
         "marker": {
          "color": "#B6E880"
         },
         "name": "판넬조립",
         "offsetgroup": "판넬조립",
         "orientation": "h",
         "showlegend": true,
         "textposition": "auto",
         "type": "bar",
         "x": [
          200,
          140,
          160,
          80,
          80,
          120,
          120,
          100,
          150,
          80,
          20,
          10,
          30,
          150
         ],
         "xaxis": "x",
         "y": [
          "판넬조립부",
          "판넬조립부",
          "판넬조립부",
          "판넬조립부",
          "판넬조립부",
          "판넬조립부",
          "판넬조립부",
          "판넬조립부",
          "판넬조립부",
          "판넬조립부",
          "판넬조립부",
          "판넬조립부",
          "판넬조립부",
          "판넬조립부"
         ],
         "yaxis": "y"
        },
        {
         "alignmentgroup": "True",
         "customdata": [
          [
           "품질관리",
           "선행도장 및 P/E Block 소지 검사",
           0
          ],
          [
           "품질관리",
           "선행도장 및 P/E Block 후속/Final 검사",
           10
          ],
          [
           "품질관리",
           "후행도장 소지 검사",
           0
          ],
          [
           "품질관리",
           "후행도장 후속/Final 검사",
           10
          ],
          [
           "품질관리",
           "MT검사",
           20
          ],
          [
           "품질관리",
           "CNTR PAUT검사",
           40
          ],
          [
           "품질관리",
           "LNG 멤브레인 DPT 검사",
           10
          ],
          [
           "품질관리",
           "PT검사",
           20
          ],
          [
           "품질관리",
           "RT검사(RT ROOM)",
           50
          ],
          [
           "품질관리",
           "RT검사(옥외)",
           40
          ],
          [
           "품질관리",
           "UT검사",
           20
          ],
          [
           "품질관리",
           "강재,가공 검사",
           0
          ],
          [
           "품질관리",
           "선체 내업 Block 검사",
           10
          ],
          [
           "품질관리",
           "선체 외업 Joint 및 Dimension 검사",
           10
          ],
          [
           "품질관리",
           "선체 외업 Tank Test 검사",
           0
          ],
          [
           "품질관리",
           "시편용접 및 절단작업",
           110
          ],
          [
           "품질관리",
           "기계의장 설치 검사",
           90
          ],
          [
           "품질관리",
           "선실생산 의장 검사",
           30
          ],
          [
           "품질관리",
           "선행의장 검사",
           10
          ],
          [
           "품질관리",
           "시운전 작동 검사",
           80
          ],
          [
           "품질관리",
           "밀폐구역 의장품 검사",
           10
          ],
          [
           "품질관리",
           "의장 배관 설치 & 압력 검사",
           30
          ],
          [
           "품질관리",
           "의장 작동 검사",
           0
          ],
          [
           "품질관리",
           "전장 설치 검사",
           0
          ],
          [
           "품질관리",
           "가공 정도 체크 검사",
           10
          ],
          [
           "품질관리",
           "블록 정도 체크검사",
           50
          ],
          [
           "품질관리",
           "소조 정도 체크 검사",
           0
          ],
          [
           "품질관리",
           "펀치 및 화기데미지 방지 마킹 작업",
           10
          ],
          [
           "품질관리",
           "외업 정도 체크 검사",
           60
          ],
          [
           "품질관리",
           "의장 정도 관리 작업",
           110
          ]
         ],
         "hovertemplate": "대구분=%{customdata[0]}<br>R_vector=%{customdata[2]}<br>부서=%{y}<br>WORK_STAND_NM=%{customdata[1]}<extra></extra>",
         "legendgroup": "품질관리",
         "marker": {
          "color": "#FF97FF"
         },
         "name": "품질관리",
         "offsetgroup": "품질관리",
         "orientation": "h",
         "showlegend": true,
         "textposition": "auto",
         "type": "bar",
         "x": [
          0,
          10,
          0,
          10,
          20,
          40,
          10,
          20,
          50,
          40,
          20,
          0,
          10,
          10,
          0,
          110,
          90,
          30,
          10,
          80,
          10,
          30,
          0,
          0,
          10,
          50,
          0,
          10,
          60,
          110
         ],
         "xaxis": "x",
         "y": [
          "조선해양품질경영1부",
          "조선해양품질경영1부",
          "조선해양품질경영1부",
          "조선해양품질경영1부",
          "조선해양품질경영2부",
          "조선해양품질경영2부",
          "조선해양품질경영2부",
          "조선해양품질경영2부",
          "조선해양품질경영2부",
          "조선해양품질경영2부",
          "조선해양품질경영2부",
          "조선해양품질경영1부",
          "조선해양품질경영1부",
          "조선해양품질경영1부",
          "조선해양품질경영1부",
          "조선해양품질경영2부",
          "조선해양품질경영1부",
          "조선해양품질경영1부",
          "조선해양품질경영1부",
          "조선해양품질경영1부",
          "조선해양품질경영1부",
          "조선해양품질경영1부",
          "조선해양품질경영1부",
          "조선해양품질경영1부",
          "조선해양품질경영2부",
          "조선해양품질경영2부",
          "조선해양품질경영2부",
          "조선해양품질경영2부",
          "조선해양품질경영2부",
          "조선해양품질경영2부"
         ],
         "yaxis": "y"
        },
        {
         "alignmentgroup": "True",
         "customdata": [
          [
           "후행도장",
           "스프레이",
           240
          ],
          [
           "후행도장",
           "청수 세척(워싱)",
           100
          ],
          [
           "후행도장",
           "탱크 도장 착수전 점검",
           40
          ],
          [
           "후행도장",
           "터치업",
           50
          ],
          [
           "후행도장",
           "Airless 펌프 이용한 도장작업",
           80
          ],
          [
           "후행도장",
           "Longi. 도장 작업",
           20
          ],
          [
           "후행도장",
           "스프레이",
           240
          ],
          [
           "후행도장",
           "청수 세척(워싱)",
           100
          ],
          [
           "후행도장",
           "탱크 도장 착수전 점검",
           40
          ],
          [
           "후행도장",
           "터치업",
           50
          ],
          [
           "후행도장",
           "스프레이",
           210
          ],
          [
           "후행도장",
           "청수 세척(워싱)",
           90
          ],
          [
           "후행도장",
           "탱크 도장 착수전 점검",
           70
          ],
          [
           "후행도장",
           "터치업",
           40
          ],
          [
           "후행도장",
           "스프레이",
           210
          ],
          [
           "후행도장",
           "청수 세척(워싱)",
           90
          ],
          [
           "후행도장",
           "탱크 도장 착수전 점검",
           70
          ],
          [
           "후행도장",
           "터치업",
           40
          ],
          [
           "후행도장",
           "스프레이",
           270
          ],
          [
           "후행도장",
           "청수 세척(워싱)",
           90
          ],
          [
           "후행도장",
           "탱크 도장 착수전 점검",
           70
          ],
          [
           "후행도장",
           "터치업",
           40
          ],
          [
           "후행도장",
           "가네트 블라스팅",
           160
          ],
          [
           "후행도장",
           "소지",
           120
          ],
          [
           "후행도장",
           "가네트 블라스팅",
           160
          ],
          [
           "후행도장",
           "소지",
           120
          ],
          [
           "후행도장",
           "소지",
           160
          ],
          [
           "후행도장",
           "소지",
           160
          ],
          [
           "후행도장",
           "소지",
           110
          ]
         ],
         "hovertemplate": "대구분=%{customdata[0]}<br>R_vector=%{customdata[2]}<br>부서=%{y}<br>WORK_STAND_NM=%{customdata[1]}<extra></extra>",
         "legendgroup": "후행도장",
         "marker": {
          "color": "#FECB52"
         },
         "name": "후행도장",
         "offsetgroup": "후행도장",
         "orientation": "h",
         "showlegend": true,
         "textposition": "auto",
         "type": "bar",
         "x": [
          240,
          100,
          40,
          50,
          80,
          20,
          240,
          100,
          40,
          50,
          210,
          90,
          70,
          40,
          210,
          90,
          70,
          40,
          270,
          90,
          70,
          40,
          160,
          120,
          160,
          120,
          160,
          160,
          110
         ],
         "xaxis": "x",
         "y": [
          "도장1부",
          "도장1부",
          "도장1부",
          "도장1부",
          "도장2부",
          "도장2부",
          "도장2부",
          "도장2부",
          "도장2부",
          "도장2부",
          "의장1부",
          "의장1부",
          "의장1부",
          "의장1부",
          "의장2부",
          "의장2부",
          "의장2부",
          "의장2부",
          "의장3부",
          "의장3부",
          "의장3부",
          "의장3부",
          "도장1부",
          "도장1부",
          "도장2부",
          "도장2부",
          "의장1부",
          "의장2부",
          "의장3부"
         ],
         "yaxis": "y"
        },
        {
         "alignmentgroup": "True",
         "customdata": [
          [
           "후행의장",
           "SMR LEAK TEST",
           20
          ],
          [
           "후행의장",
           "시운전부 LN2 TEST",
           50
          ],
          [
           "후행의장",
           "CARGO LINE N2 TEST",
           20
          ],
          [
           "후행의장",
           "GAS DOME 의장 작업",
           40
          ],
          [
           "후행의장",
           "LIQUID DOME 의장 작업",
           50
          ],
          [
           "후행의장",
           "CARGO BELLOWS 설치",
           0
          ],
          [
           "후행의장",
           "SMR SKID 설치",
           60
          ],
          [
           "후행의장",
           "배관 검사_PIPING HYD. TEST (Oil)",
           30
          ],
          [
           "후행의장",
           "배관 검사_PIPING HYD. TEST (Pneumatic)",
           30
          ],
          [
           "후행의장",
           "배관 검사_PIPING HYD. TEST (Water)",
           30
          ],
          [
           "후행의장",
           "철의장 검사_ACC./PILOT SLANT LADDER TEST",
           130
          ],
          [
           "후행의장",
           "철의장 검사_DAVIT & CRANE Test",
           130
          ],
          [
           "후행의장",
           "철의장 검사_DOOR & HATCH  CHALK & HOSE TEST",
           50
          ],
          [
           "후행의장",
           "철의장 검사_FAN & DAMPER OPERATION/VOLUME TEST",
           50
          ],
          [
           "후행의장",
           "철의장 검사_LIFE & RESCUE BOAT/DAVIT TEST",
           170
          ],
          [
           "후행의장",
           "배관 검사_PIPING HYD. TEST (Oil)",
           30
          ],
          [
           "후행의장",
           "배관 검사_PIPING HYD. TEST (Pneumatic)",
           30
          ],
          [
           "후행의장",
           "배관 검사_PIPING HYD. TEST (Water)",
           30
          ],
          [
           "후행의장",
           "철의장 검사_ACC./PILOT SLANT LADDER TEST",
           130
          ],
          [
           "후행의장",
           "철의장 검사_DAVIT & CRANE Test",
           130
          ],
          [
           "후행의장",
           "철의장 검사_DOOR & HATCH  CHALK & HOSE TEST",
           50
          ],
          [
           "후행의장",
           "철의장 검사_FAN & DAMPER OPERATION/VOLUME TEST",
           50
          ],
          [
           "후행의장",
           "철의장 검사_LIFE & RESCUE BOAT/DAVIT TEST",
           170
          ],
          [
           "후행의장",
           "배관 검사_PIPING HYD. TEST (Oil)",
           30
          ],
          [
           "후행의장",
           "배관 검사_PIPING HYD. TEST (Pneumatic)",
           30
          ],
          [
           "후행의장",
           "배관 검사_PIPING HYD. TEST (Water)",
           30
          ],
          [
           "후행의장",
           "철의장 검사_ACC./PILOT SLANT LADDER TEST",
           130
          ],
          [
           "후행의장",
           "철의장 검사_DAVIT & CRANE Test",
           130
          ],
          [
           "후행의장",
           "철의장 검사_DOOR & HATCH  CHALK & HOSE TEST",
           50
          ],
          [
           "후행의장",
           "철의장 검사_FAN & DAMPER OPERATION/VOLUME TEST",
           50
          ],
          [
           "후행의장",
           "철의장 검사_LIFE & RESCUE BOAT/DAVIT TEST",
           170
          ],
          [
           "후행의장",
           "배관 검사_PIPING HYD. TEST (Oil)",
           30
          ],
          [
           "후행의장",
           "배관 검사_PIPING HYD. TEST (Pneumatic)",
           30
          ],
          [
           "후행의장",
           "배관 검사_PIPING HYD. TEST (Water)",
           30
          ],
          [
           "후행의장",
           "철의장 검사_ACC./PILOT SLANT LADDER TEST",
           130
          ],
          [
           "후행의장",
           "철의장 검사_DAVIT & CRANE Test",
           130
          ],
          [
           "후행의장",
           "철의장 검사_DOOR & HATCH  CHALK & HOSE TEST",
           50
          ],
          [
           "후행의장",
           "철의장 검사_FAN & DAMPER OPERATION/VOLUME TEST",
           50
          ],
          [
           "후행의장",
           "철의장 검사_LIFE & RESCUE BOAT/DAVIT TEST",
           170
          ],
          [
           "후행의장",
           "COUPLING JOINT 설치",
           10
          ],
          [
           "후행의장",
           "FLANGE JOINT 설치",
           40
          ],
          [
           "후행의장",
           "MULTI-CORE 설치",
           150
          ],
          [
           "후행의장",
           "SLEEVE JOINT 설치",
           80
          ],
          [
           "후행의장",
           "SOCKET/DRP JOINT 설치",
           40
          ],
          [
           "후행의장",
           "계측관 설치",
           10
          ],
          [
           "후행의장",
           "고정관 설치",
           30
          ],
          [
           "후행의장",
           "관통관 설치",
           50
          ],
          [
           "후행의장",
           "조정관 설치",
           180
          ],
          [
           "후행의장",
           "BUTT JOINT 설치",
           80
          ],
          [
           "후행의장",
           "조정관 설치",
           180
          ],
          [
           "후행의장",
           "BUTT JOINT 설치",
           80
          ],
          [
           "후행의장",
           "COUPLING JOINT 설치",
           10
          ],
          [
           "후행의장",
           "FLANGE JOINT 설치",
           40
          ],
          [
           "후행의장",
           "MULTI-CORE 설치",
           150
          ],
          [
           "후행의장",
           "SLEEVE JOINT 설치",
           80
          ],
          [
           "후행의장",
           "SOCKET/DRP JOINT 설치",
           40
          ],
          [
           "후행의장",
           "계측관 설치",
           10
          ],
          [
           "후행의장",
           "고정관 설치",
           30
          ],
          [
           "후행의장",
           "관통관 설치",
           50
          ],
          [
           "후행의장",
           "조정관 설치",
           180
          ],
          [
           "후행의장",
           "BUTT JOINT 설치",
           80
          ],
          [
           "후행의장",
           "COUPLING JOINT 설치",
           10
          ],
          [
           "후행의장",
           "FLANGE JOINT 설치",
           40
          ],
          [
           "후행의장",
           "MULTI-CORE 설치",
           150
          ],
          [
           "후행의장",
           "SLEEVE JOINT 설치",
           80
          ],
          [
           "후행의장",
           "SOCKET/DRP JOINT 설치",
           40
          ],
          [
           "후행의장",
           "계측관 설치",
           10
          ],
          [
           "후행의장",
           "고정관 설치",
           30
          ],
          [
           "후행의장",
           "관통관 설치",
           50
          ],
          [
           "후행의장",
           "조정관 설치",
           180
          ],
          [
           "후행의장",
           "BUTT JOINT 설치",
           80
          ],
          [
           "후행의장",
           "COUPLING JOINT 설치",
           10
          ],
          [
           "후행의장",
           "FLANGE JOINT 설치",
           40
          ],
          [
           "후행의장",
           "MULTI-CORE 설치",
           150
          ],
          [
           "후행의장",
           "SLEEVE JOINT 설치",
           80
          ],
          [
           "후행의장",
           "SOCKET/DRP JOINT 설치",
           40
          ],
          [
           "후행의장",
           "계측관 설치",
           10
          ],
          [
           "후행의장",
           "고정관 설치",
           30
          ],
          [
           "후행의장",
           "관통관 설치",
           50
          ],
          [
           "후행의장",
           "조정관 설치",
           180
          ],
          [
           "후행의장",
           "ANCHOR류 설치 (ANCHOR CHAIN)",
           70
          ],
          [
           "후행의장",
           "LIFE/RESCUE DAVIT & BOAT 설치",
           40
          ],
          [
           "후행의장",
           "UNIT 설치 (MODULE, PACKAGE, GROUP, HEATING COIL)",
           110
          ],
          [
           "후행의장",
           "승하선 장치류 설치 (ACC. & SLANT LADDER)",
           60
          ],
          [
           "후행의장",
           "ANCHOR류 설치 (ANCHOR CHAIN)",
           70
          ],
          [
           "후행의장",
           "LIFE/RESCUE DAVIT & BOAT 설치",
           40
          ],
          [
           "후행의장",
           "UNIT 설치 (MODULE, PACKAGE, GROUP, HEATING COIL)",
           110
          ],
          [
           "후행의장",
           "승하선 장치류 설치 (ACC. & SLANT LADDER)",
           60
          ],
          [
           "후행의장",
           "ANCHOR류 설치 (ANCHOR CHAIN)",
           70
          ],
          [
           "후행의장",
           "LIFE/RESCUE DAVIT & BOAT 설치",
           40
          ],
          [
           "후행의장",
           "UNIT 설치 (MODULE, PACKAGE, GROUP, HEATING COIL)",
           110
          ],
          [
           "후행의장",
           "승하선 장치류 설치 (ACC. & SLANT LADDER)",
           60
          ],
          [
           "후행의장",
           "ANCHOR류 설치 (ANCHOR CHAIN)",
           70
          ],
          [
           "후행의장",
           "LIFE/RESCUE DAVIT & BOAT 설치",
           40
          ],
          [
           "후행의장",
           "UNIT 설치 (MODULE, PACKAGE, GROUP, HEATING COIL)",
           110
          ],
          [
           "후행의장",
           "승하선 장치류 설치 (ACC. & SLANT LADDER)",
           60
          ],
          [
           "후행의장",
           "COAMING류 설치",
           120
          ],
          [
           "후행의장",
           "COVER류 설치",
           100
          ],
          [
           "후행의장",
           "DAVIT류 설치",
           110
          ],
          [
           "후행의장",
           "DOOR류 설치",
           120
          ],
          [
           "후행의장",
           "Duct 설치 (Round, Spiral, Square)",
           50
          ],
          [
           "후행의장",
           "EYE, PAD, LUG류 설치",
           100
          ],
          [
           "후행의장",
           "ANODE 설치",
           100
          ],
          [
           "후행의장",
           "HATCH류 설치",
           110
          ],
          [
           "후행의장",
           "H-RAIL류 설치",
           100
          ],
          [
           "후행의장",
           "LADDER류 설치",
           100
          ],
          [
           "후행의장",
           "PLATFORM류 설치",
           100
          ],
          [
           "후행의장",
           "POST & MAST 설치",
           100
          ],
          [
           "후행의장",
           "SEAT류 설치",
           100
          ],
          [
           "후행의장",
           "SHELF류 설치",
           100
          ],
          [
           "후행의장",
           "STEP류 설치",
           100
          ],
          [
           "후행의장",
           "SUPPORT류 설치",
           100
          ],
          [
           "후행의장",
           "BAR류 설치",
           100
          ],
          [
           "후행의장",
           "VENT 및 DAMPER류 설치",
           100
          ],
          [
           "후행의장",
           "대형 철의장류 설치",
           100
          ],
          [
           "후행의장",
           "BOX, LOCKER, CABINET류 설치",
           100
          ],
          [
           "후행의장",
           "일반 공통설치",
           100
          ],
          [
           "후행의장",
           "BRACING류 설치",
           100
          ],
          [
           "후행의장",
           "ANODE 설치",
           100
          ],
          [
           "후행의장",
           "BAR류 설치",
           100
          ],
          [
           "후행의장",
           "BOX, LOCKER, CABINET류 설치",
           100
          ],
          [
           "후행의장",
           "BRACING류 설치",
           100
          ],
          [
           "후행의장",
           "COAMING류 설치",
           120
          ],
          [
           "후행의장",
           "COVER류 설치",
           100
          ],
          [
           "후행의장",
           "DAVIT류 설치",
           110
          ],
          [
           "후행의장",
           "DOOR류 설치",
           120
          ],
          [
           "후행의장",
           "Duct 설치 (Round, Spiral, Square)",
           50
          ],
          [
           "후행의장",
           "EYE, PAD, LUG류 설치",
           100
          ],
          [
           "후행의장",
           "HATCH류 설치",
           110
          ],
          [
           "후행의장",
           "H-RAIL류 설치",
           100
          ],
          [
           "후행의장",
           "LADDER류 설치",
           100
          ],
          [
           "후행의장",
           "PLATFORM류 설치",
           100
          ],
          [
           "후행의장",
           "POST & MAST 설치",
           100
          ],
          [
           "후행의장",
           "SEAT류 설치",
           100
          ],
          [
           "후행의장",
           "SHELF류 설치",
           100
          ],
          [
           "후행의장",
           "STEP류 설치",
           100
          ],
          [
           "후행의장",
           "SUPPORT류 설치",
           100
          ],
          [
           "후행의장",
           "VENT 및 DAMPER류 설치",
           100
          ],
          [
           "후행의장",
           "대형 철의장류 설치",
           100
          ],
          [
           "후행의장",
           "일반 공통설치",
           100
          ],
          [
           "후행의장",
           "ANODE 설치",
           100
          ],
          [
           "후행의장",
           "BAR류 설치",
           100
          ],
          [
           "후행의장",
           "BOX, LOCKER, CABINET류 설치",
           100
          ],
          [
           "후행의장",
           "BRACING류 설치",
           100
          ],
          [
           "후행의장",
           "COAMING류 설치",
           120
          ],
          [
           "후행의장",
           "COVER류 설치",
           100
          ],
          [
           "후행의장",
           "DAVIT류 설치",
           110
          ],
          [
           "후행의장",
           "DOOR류 설치",
           120
          ],
          [
           "후행의장",
           "Duct 설치 (Round, Spiral, Square)",
           50
          ],
          [
           "후행의장",
           "EYE, PAD, LUG류 설치",
           100
          ],
          [
           "후행의장",
           "HATCH류 설치",
           110
          ],
          [
           "후행의장",
           "H-RAIL류 설치",
           100
          ],
          [
           "후행의장",
           "LADDER류 설치",
           100
          ],
          [
           "후행의장",
           "PLATFORM류 설치",
           100
          ],
          [
           "후행의장",
           "POST & MAST 설치",
           100
          ],
          [
           "후행의장",
           "SEAT류 설치",
           100
          ],
          [
           "후행의장",
           "SHELF류 설치",
           100
          ],
          [
           "후행의장",
           "STEP류 설치",
           100
          ],
          [
           "후행의장",
           "SUPPORT류 설치",
           100
          ],
          [
           "후행의장",
           "VENT 및 DAMPER류 설치",
           100
          ],
          [
           "후행의장",
           "대형 철의장류 설치",
           100
          ],
          [
           "후행의장",
           "일반 공통설치",
           100
          ],
          [
           "후행의장",
           "ANODE 설치",
           100
          ],
          [
           "후행의장",
           "BAR류 설치",
           100
          ],
          [
           "후행의장",
           "BOX, LOCKER, CABINET류 설치",
           100
          ],
          [
           "후행의장",
           "BRACING류 설치",
           100
          ],
          [
           "후행의장",
           "COAMING류 설치",
           120
          ],
          [
           "후행의장",
           "COVER류 설치",
           100
          ],
          [
           "후행의장",
           "DAVIT류 설치",
           110
          ],
          [
           "후행의장",
           "DOOR류 설치",
           120
          ],
          [
           "후행의장",
           "Duct 설치 (Round, Spiral, Square)",
           50
          ],
          [
           "후행의장",
           "EYE, PAD, LUG류 설치",
           100
          ],
          [
           "후행의장",
           "HATCH류 설치",
           110
          ],
          [
           "후행의장",
           "H-RAIL류 설치",
           100
          ],
          [
           "후행의장",
           "LADDER류 설치",
           100
          ],
          [
           "후행의장",
           "PLATFORM류 설치",
           100
          ],
          [
           "후행의장",
           "POST & MAST 설치",
           100
          ],
          [
           "후행의장",
           "SEAT류 설치",
           100
          ],
          [
           "후행의장",
           "SHELF류 설치",
           100
          ],
          [
           "후행의장",
           "STEP류 설치",
           100
          ],
          [
           "후행의장",
           "SUPPORT류 설치",
           100
          ],
          [
           "후행의장",
           "VENT 및 DAMPER류 설치",
           100
          ],
          [
           "후행의장",
           "대형 철의장류 설치",
           100
          ],
          [
           "후행의장",
           "일반 공통설치",
           100
          ],
          [
           "후행의장",
           "Dock 전장 설치",
           190
          ],
          [
           "후행의장",
           "선행Block 전장 설치",
           80
          ],
          [
           "후행의장",
           "안벽 전장 설치",
           120
          ],
          [
           "후행의장",
           "전장 Coaming 설치",
           40
          ],
          [
           "후행의장",
           "전장 Seat 설치 (Lighting Seat, Alarm Seat 등)",
           50
          ],
          [
           "후행의장",
           "후PE 전장 설치",
           580
          ],
          [
           "후행의장",
           "Dock 전장 설치",
           190
          ],
          [
           "후행의장",
           "선행Block 전장 설치",
           80
          ],
          [
           "후행의장",
           "안벽 전장 설치",
           120
          ],
          [
           "후행의장",
           "전장 Coaming 설치",
           40
          ],
          [
           "후행의장",
           "전장 Seat 설치 (Lighting Seat, Alarm Seat 등)",
           50
          ],
          [
           "후행의장",
           "후PE 전장 설치",
           160
          ],
          [
           "후행의장",
           "Dock 전장 설치",
           190
          ],
          [
           "후행의장",
           "선행Block 전장 설치",
           80
          ],
          [
           "후행의장",
           "안벽 전장 설치",
           120
          ],
          [
           "후행의장",
           "전장 Coaming 설치",
           40
          ],
          [
           "후행의장",
           "전장 Seat 설치 (Lighting Seat, Alarm Seat 등)",
           50
          ],
          [
           "후행의장",
           "후PE 전장 설치",
           160
          ],
          [
           "후행의장",
           "전로도장(엔진룸)",
           210
          ],
          [
           "후행의장",
           "전로도장(엔진룸)",
           210
          ],
          [
           "후행의장",
           "전로도장(엔진룸)",
           210
          ],
          [
           "후행의장",
           "A-60 보온",
           50
          ],
          [
           "후행의장",
           "Insulation Stud Pin 설치(엔진룸)",
           60
          ],
          [
           "후행의장",
           "Pipe 보온",
           90
          ],
          [
           "후행의장",
           "Thermal 보온",
           30
          ],
          [
           "후행의장",
           "함석시공",
           100
          ],
          [
           "후행의장",
           "A-60 보온",
           50
          ],
          [
           "후행의장",
           "Insulation Stud Pin 설치(엔진룸)",
           60
          ],
          [
           "후행의장",
           "Pipe 보온",
           90
          ],
          [
           "후행의장",
           "Thermal 보온",
           30
          ],
          [
           "후행의장",
           "함석시공",
           100
          ],
          [
           "후행의장",
           "A-60 보온",
           50
          ],
          [
           "후행의장",
           "Insulation Stud Pin 설치(엔진룸)",
           60
          ],
          [
           "후행의장",
           "Pipe 보온",
           90
          ],
          [
           "후행의장",
           "Thermal 보온",
           30
          ],
          [
           "후행의장",
           "함석시공",
           100
          ]
         ],
         "hovertemplate": "대구분=%{customdata[0]}<br>R_vector=%{customdata[2]}<br>부서=%{y}<br>WORK_STAND_NM=%{customdata[1]}<extra></extra>",
         "legendgroup": "후행의장",
         "marker": {
          "color": "#636efa"
         },
         "name": "후행의장",
         "offsetgroup": "후행의장",
         "orientation": "h",
         "showlegend": true,
         "textposition": "auto",
         "type": "bar",
         "x": [
          20,
          50,
          20,
          40,
          50,
          0,
          60,
          30,
          30,
          30,
          130,
          130,
          50,
          50,
          170,
          30,
          30,
          30,
          130,
          130,
          50,
          50,
          170,
          30,
          30,
          30,
          130,
          130,
          50,
          50,
          170,
          30,
          30,
          30,
          130,
          130,
          50,
          50,
          170,
          10,
          40,
          150,
          80,
          40,
          10,
          30,
          50,
          180,
          80,
          180,
          80,
          10,
          40,
          150,
          80,
          40,
          10,
          30,
          50,
          180,
          80,
          10,
          40,
          150,
          80,
          40,
          10,
          30,
          50,
          180,
          80,
          10,
          40,
          150,
          80,
          40,
          10,
          30,
          50,
          180,
          70,
          40,
          110,
          60,
          70,
          40,
          110,
          60,
          70,
          40,
          110,
          60,
          70,
          40,
          110,
          60,
          120,
          100,
          110,
          120,
          50,
          100,
          100,
          110,
          100,
          100,
          100,
          100,
          100,
          100,
          100,
          100,
          100,
          100,
          100,
          100,
          100,
          100,
          100,
          100,
          100,
          100,
          120,
          100,
          110,
          120,
          50,
          100,
          110,
          100,
          100,
          100,
          100,
          100,
          100,
          100,
          100,
          100,
          100,
          100,
          100,
          100,
          100,
          100,
          120,
          100,
          110,
          120,
          50,
          100,
          110,
          100,
          100,
          100,
          100,
          100,
          100,
          100,
          100,
          100,
          100,
          100,
          100,
          100,
          100,
          100,
          120,
          100,
          110,
          120,
          50,
          100,
          110,
          100,
          100,
          100,
          100,
          100,
          100,
          100,
          100,
          100,
          100,
          100,
          190,
          80,
          120,
          40,
          50,
          580,
          190,
          80,
          120,
          40,
          50,
          160,
          190,
          80,
          120,
          40,
          50,
          160,
          210,
          210,
          210,
          50,
          60,
          90,
          30,
          100,
          50,
          60,
          90,
          30,
          100,
          50,
          60,
          90,
          30,
          100
         ],
         "xaxis": "x",
         "y": [
          "CHS공사부",
          "CHS공사부",
          "CHS공사부",
          "CHS공사부",
          "CHS공사부",
          "CHS공사부",
          "CHS공사부",
          "CHS공사부",
          "CHS공사부",
          "CHS공사부",
          "CHS공사부",
          "CHS공사부",
          "CHS공사부",
          "CHS공사부",
          "CHS공사부",
          "의장1부",
          "의장1부",
          "의장1부",
          "의장1부",
          "의장1부",
          "의장1부",
          "의장1부",
          "의장1부",
          "의장2부",
          "의장2부",
          "의장2부",
          "의장2부",
          "의장2부",
          "의장2부",
          "의장2부",
          "의장2부",
          "의장3부",
          "의장3부",
          "의장3부",
          "의장3부",
          "의장3부",
          "의장3부",
          "의장3부",
          "의장3부",
          "CHS공사부",
          "CHS공사부",
          "CHS공사부",
          "CHS공사부",
          "CHS공사부",
          "CHS공사부",
          "CHS공사부",
          "CHS공사부",
          "CHS공사부",
          "CHS공사부",
          "선실생산부",
          "의장1부",
          "의장1부",
          "의장1부",
          "의장1부",
          "의장1부",
          "의장1부",
          "의장1부",
          "의장1부",
          "의장1부",
          "의장1부",
          "의장2부",
          "의장2부",
          "의장2부",
          "의장2부",
          "의장2부",
          "의장2부",
          "의장2부",
          "의장2부",
          "의장2부",
          "의장2부",
          "의장3부",
          "의장3부",
          "의장3부",
          "의장3부",
          "의장3부",
          "의장3부",
          "의장3부",
          "의장3부",
          "의장3부",
          "의장3부",
          "CHS공사부",
          "CHS공사부",
          "CHS공사부",
          "CHS공사부",
          "의장1부",
          "의장1부",
          "의장1부",
          "의장1부",
          "의장2부",
          "의장2부",
          "의장2부",
          "의장2부",
          "의장3부",
          "의장3부",
          "의장3부",
          "의장3부",
          "CHS공사부",
          "CHS공사부",
          "CHS공사부",
          "CHS공사부",
          "CHS공사부",
          "CHS공사부",
          "CHS공사부",
          "CHS공사부",
          "CHS공사부",
          "CHS공사부",
          "CHS공사부",
          "CHS공사부",
          "CHS공사부",
          "CHS공사부",
          "CHS공사부",
          "CHS공사부",
          "CHS공사부",
          "CHS공사부",
          "CHS공사부",
          "CHS공사부",
          "CHS공사부",
          "CHS공사부",
          "의장1부",
          "의장1부",
          "의장1부",
          "의장1부",
          "의장1부",
          "의장1부",
          "의장1부",
          "의장1부",
          "의장1부",
          "의장1부",
          "의장1부",
          "의장1부",
          "의장1부",
          "의장1부",
          "의장1부",
          "의장1부",
          "의장1부",
          "의장1부",
          "의장1부",
          "의장1부",
          "의장1부",
          "의장1부",
          "의장2부",
          "의장2부",
          "의장2부",
          "의장2부",
          "의장2부",
          "의장2부",
          "의장2부",
          "의장2부",
          "의장2부",
          "의장2부",
          "의장2부",
          "의장2부",
          "의장2부",
          "의장2부",
          "의장2부",
          "의장2부",
          "의장2부",
          "의장2부",
          "의장2부",
          "의장2부",
          "의장2부",
          "의장2부",
          "의장3부",
          "의장3부",
          "의장3부",
          "의장3부",
          "의장3부",
          "의장3부",
          "의장3부",
          "의장3부",
          "의장3부",
          "의장3부",
          "의장3부",
          "의장3부",
          "의장3부",
          "의장3부",
          "의장3부",
          "의장3부",
          "의장3부",
          "의장3부",
          "의장3부",
          "의장3부",
          "의장3부",
          "의장3부",
          "의장1부",
          "의장1부",
          "의장1부",
          "의장1부",
          "의장1부",
          "의장1부",
          "의장2부",
          "의장2부",
          "의장2부",
          "의장2부",
          "의장2부",
          "의장2부",
          "의장3부",
          "의장3부",
          "의장3부",
          "의장3부",
          "의장3부",
          "의장3부",
          "의장1부",
          "의장2부",
          "의장3부",
          "의장1부",
          "의장1부",
          "의장1부",
          "의장1부",
          "의장1부",
          "의장2부",
          "의장2부",
          "의장2부",
          "의장2부",
          "의장2부",
          "의장3부",
          "의장3부",
          "의장3부",
          "의장3부",
          "의장3부"
         ],
         "yaxis": "y"
        }
       ],
       "layout": {
        "barmode": "relative",
        "height": 800,
        "legend": {
         "title": {
          "text": "대구분"
         },
         "tracegroupgap": 0
        },
        "template": {
         "data": {
          "bar": [
           {
            "error_x": {
             "color": "#2a3f5f"
            },
            "error_y": {
             "color": "#2a3f5f"
            },
            "marker": {
             "line": {
              "color": "#E5ECF6",
              "width": 0.5
             }
            },
            "type": "bar"
           }
          ],
          "barpolar": [
           {
            "marker": {
             "line": {
              "color": "#E5ECF6",
              "width": 0.5
             }
            },
            "type": "barpolar"
           }
          ],
          "carpet": [
           {
            "aaxis": {
             "endlinecolor": "#2a3f5f",
             "gridcolor": "white",
             "linecolor": "white",
             "minorgridcolor": "white",
             "startlinecolor": "#2a3f5f"
            },
            "baxis": {
             "endlinecolor": "#2a3f5f",
             "gridcolor": "white",
             "linecolor": "white",
             "minorgridcolor": "white",
             "startlinecolor": "#2a3f5f"
            },
            "type": "carpet"
           }
          ],
          "choropleth": [
           {
            "colorbar": {
             "outlinewidth": 0,
             "ticks": ""
            },
            "type": "choropleth"
           }
          ],
          "contour": [
           {
            "colorbar": {
             "outlinewidth": 0,
             "ticks": ""
            },
            "colorscale": [
             [
              0,
              "#0d0887"
             ],
             [
              0.1111111111111111,
              "#46039f"
             ],
             [
              0.2222222222222222,
              "#7201a8"
             ],
             [
              0.3333333333333333,
              "#9c179e"
             ],
             [
              0.4444444444444444,
              "#bd3786"
             ],
             [
              0.5555555555555556,
              "#d8576b"
             ],
             [
              0.6666666666666666,
              "#ed7953"
             ],
             [
              0.7777777777777778,
              "#fb9f3a"
             ],
             [
              0.8888888888888888,
              "#fdca26"
             ],
             [
              1,
              "#f0f921"
             ]
            ],
            "type": "contour"
           }
          ],
          "contourcarpet": [
           {
            "colorbar": {
             "outlinewidth": 0,
             "ticks": ""
            },
            "type": "contourcarpet"
           }
          ],
          "heatmap": [
           {
            "colorbar": {
             "outlinewidth": 0,
             "ticks": ""
            },
            "colorscale": [
             [
              0,
              "#0d0887"
             ],
             [
              0.1111111111111111,
              "#46039f"
             ],
             [
              0.2222222222222222,
              "#7201a8"
             ],
             [
              0.3333333333333333,
              "#9c179e"
             ],
             [
              0.4444444444444444,
              "#bd3786"
             ],
             [
              0.5555555555555556,
              "#d8576b"
             ],
             [
              0.6666666666666666,
              "#ed7953"
             ],
             [
              0.7777777777777778,
              "#fb9f3a"
             ],
             [
              0.8888888888888888,
              "#fdca26"
             ],
             [
              1,
              "#f0f921"
             ]
            ],
            "type": "heatmap"
           }
          ],
          "heatmapgl": [
           {
            "colorbar": {
             "outlinewidth": 0,
             "ticks": ""
            },
            "colorscale": [
             [
              0,
              "#0d0887"
             ],
             [
              0.1111111111111111,
              "#46039f"
             ],
             [
              0.2222222222222222,
              "#7201a8"
             ],
             [
              0.3333333333333333,
              "#9c179e"
             ],
             [
              0.4444444444444444,
              "#bd3786"
             ],
             [
              0.5555555555555556,
              "#d8576b"
             ],
             [
              0.6666666666666666,
              "#ed7953"
             ],
             [
              0.7777777777777778,
              "#fb9f3a"
             ],
             [
              0.8888888888888888,
              "#fdca26"
             ],
             [
              1,
              "#f0f921"
             ]
            ],
            "type": "heatmapgl"
           }
          ],
          "histogram": [
           {
            "marker": {
             "colorbar": {
              "outlinewidth": 0,
              "ticks": ""
             }
            },
            "type": "histogram"
           }
          ],
          "histogram2d": [
           {
            "colorbar": {
             "outlinewidth": 0,
             "ticks": ""
            },
            "colorscale": [
             [
              0,
              "#0d0887"
             ],
             [
              0.1111111111111111,
              "#46039f"
             ],
             [
              0.2222222222222222,
              "#7201a8"
             ],
             [
              0.3333333333333333,
              "#9c179e"
             ],
             [
              0.4444444444444444,
              "#bd3786"
             ],
             [
              0.5555555555555556,
              "#d8576b"
             ],
             [
              0.6666666666666666,
              "#ed7953"
             ],
             [
              0.7777777777777778,
              "#fb9f3a"
             ],
             [
              0.8888888888888888,
              "#fdca26"
             ],
             [
              1,
              "#f0f921"
             ]
            ],
            "type": "histogram2d"
           }
          ],
          "histogram2dcontour": [
           {
            "colorbar": {
             "outlinewidth": 0,
             "ticks": ""
            },
            "colorscale": [
             [
              0,
              "#0d0887"
             ],
             [
              0.1111111111111111,
              "#46039f"
             ],
             [
              0.2222222222222222,
              "#7201a8"
             ],
             [
              0.3333333333333333,
              "#9c179e"
             ],
             [
              0.4444444444444444,
              "#bd3786"
             ],
             [
              0.5555555555555556,
              "#d8576b"
             ],
             [
              0.6666666666666666,
              "#ed7953"
             ],
             [
              0.7777777777777778,
              "#fb9f3a"
             ],
             [
              0.8888888888888888,
              "#fdca26"
             ],
             [
              1,
              "#f0f921"
             ]
            ],
            "type": "histogram2dcontour"
           }
          ],
          "mesh3d": [
           {
            "colorbar": {
             "outlinewidth": 0,
             "ticks": ""
            },
            "type": "mesh3d"
           }
          ],
          "parcoords": [
           {
            "line": {
             "colorbar": {
              "outlinewidth": 0,
              "ticks": ""
             }
            },
            "type": "parcoords"
           }
          ],
          "pie": [
           {
            "automargin": true,
            "type": "pie"
           }
          ],
          "scatter": [
           {
            "marker": {
             "colorbar": {
              "outlinewidth": 0,
              "ticks": ""
             }
            },
            "type": "scatter"
           }
          ],
          "scatter3d": [
           {
            "line": {
             "colorbar": {
              "outlinewidth": 0,
              "ticks": ""
             }
            },
            "marker": {
             "colorbar": {
              "outlinewidth": 0,
              "ticks": ""
             }
            },
            "type": "scatter3d"
           }
          ],
          "scattercarpet": [
           {
            "marker": {
             "colorbar": {
              "outlinewidth": 0,
              "ticks": ""
             }
            },
            "type": "scattercarpet"
           }
          ],
          "scattergeo": [
           {
            "marker": {
             "colorbar": {
              "outlinewidth": 0,
              "ticks": ""
             }
            },
            "type": "scattergeo"
           }
          ],
          "scattergl": [
           {
            "marker": {
             "colorbar": {
              "outlinewidth": 0,
              "ticks": ""
             }
            },
            "type": "scattergl"
           }
          ],
          "scattermapbox": [
           {
            "marker": {
             "colorbar": {
              "outlinewidth": 0,
              "ticks": ""
             }
            },
            "type": "scattermapbox"
           }
          ],
          "scatterpolar": [
           {
            "marker": {
             "colorbar": {
              "outlinewidth": 0,
              "ticks": ""
             }
            },
            "type": "scatterpolar"
           }
          ],
          "scatterpolargl": [
           {
            "marker": {
             "colorbar": {
              "outlinewidth": 0,
              "ticks": ""
             }
            },
            "type": "scatterpolargl"
           }
          ],
          "scatterternary": [
           {
            "marker": {
             "colorbar": {
              "outlinewidth": 0,
              "ticks": ""
             }
            },
            "type": "scatterternary"
           }
          ],
          "surface": [
           {
            "colorbar": {
             "outlinewidth": 0,
             "ticks": ""
            },
            "colorscale": [
             [
              0,
              "#0d0887"
             ],
             [
              0.1111111111111111,
              "#46039f"
             ],
             [
              0.2222222222222222,
              "#7201a8"
             ],
             [
              0.3333333333333333,
              "#9c179e"
             ],
             [
              0.4444444444444444,
              "#bd3786"
             ],
             [
              0.5555555555555556,
              "#d8576b"
             ],
             [
              0.6666666666666666,
              "#ed7953"
             ],
             [
              0.7777777777777778,
              "#fb9f3a"
             ],
             [
              0.8888888888888888,
              "#fdca26"
             ],
             [
              1,
              "#f0f921"
             ]
            ],
            "type": "surface"
           }
          ],
          "table": [
           {
            "cells": {
             "fill": {
              "color": "#EBF0F8"
             },
             "line": {
              "color": "white"
             }
            },
            "header": {
             "fill": {
              "color": "#C8D4E3"
             },
             "line": {
              "color": "white"
             }
            },
            "type": "table"
           }
          ]
         },
         "layout": {
          "annotationdefaults": {
           "arrowcolor": "#2a3f5f",
           "arrowhead": 0,
           "arrowwidth": 1
          },
          "autotypenumbers": "strict",
          "coloraxis": {
           "colorbar": {
            "outlinewidth": 0,
            "ticks": ""
           }
          },
          "colorscale": {
           "diverging": [
            [
             0,
             "#8e0152"
            ],
            [
             0.1,
             "#c51b7d"
            ],
            [
             0.2,
             "#de77ae"
            ],
            [
             0.3,
             "#f1b6da"
            ],
            [
             0.4,
             "#fde0ef"
            ],
            [
             0.5,
             "#f7f7f7"
            ],
            [
             0.6,
             "#e6f5d0"
            ],
            [
             0.7,
             "#b8e186"
            ],
            [
             0.8,
             "#7fbc41"
            ],
            [
             0.9,
             "#4d9221"
            ],
            [
             1,
             "#276419"
            ]
           ],
           "sequential": [
            [
             0,
             "#0d0887"
            ],
            [
             0.1111111111111111,
             "#46039f"
            ],
            [
             0.2222222222222222,
             "#7201a8"
            ],
            [
             0.3333333333333333,
             "#9c179e"
            ],
            [
             0.4444444444444444,
             "#bd3786"
            ],
            [
             0.5555555555555556,
             "#d8576b"
            ],
            [
             0.6666666666666666,
             "#ed7953"
            ],
            [
             0.7777777777777778,
             "#fb9f3a"
            ],
            [
             0.8888888888888888,
             "#fdca26"
            ],
            [
             1,
             "#f0f921"
            ]
           ],
           "sequentialminus": [
            [
             0,
             "#0d0887"
            ],
            [
             0.1111111111111111,
             "#46039f"
            ],
            [
             0.2222222222222222,
             "#7201a8"
            ],
            [
             0.3333333333333333,
             "#9c179e"
            ],
            [
             0.4444444444444444,
             "#bd3786"
            ],
            [
             0.5555555555555556,
             "#d8576b"
            ],
            [
             0.6666666666666666,
             "#ed7953"
            ],
            [
             0.7777777777777778,
             "#fb9f3a"
            ],
            [
             0.8888888888888888,
             "#fdca26"
            ],
            [
             1,
             "#f0f921"
            ]
           ]
          },
          "colorway": [
           "#636efa",
           "#EF553B",
           "#00cc96",
           "#ab63fa",
           "#FFA15A",
           "#19d3f3",
           "#FF6692",
           "#B6E880",
           "#FF97FF",
           "#FECB52"
          ],
          "font": {
           "color": "#2a3f5f"
          },
          "geo": {
           "bgcolor": "white",
           "lakecolor": "white",
           "landcolor": "#E5ECF6",
           "showlakes": true,
           "showland": true,
           "subunitcolor": "white"
          },
          "hoverlabel": {
           "align": "left"
          },
          "hovermode": "closest",
          "mapbox": {
           "style": "light"
          },
          "paper_bgcolor": "white",
          "plot_bgcolor": "#E5ECF6",
          "polar": {
           "angularaxis": {
            "gridcolor": "white",
            "linecolor": "white",
            "ticks": ""
           },
           "bgcolor": "#E5ECF6",
           "radialaxis": {
            "gridcolor": "white",
            "linecolor": "white",
            "ticks": ""
           }
          },
          "scene": {
           "xaxis": {
            "backgroundcolor": "#E5ECF6",
            "gridcolor": "white",
            "gridwidth": 2,
            "linecolor": "white",
            "showbackground": true,
            "ticks": "",
            "zerolinecolor": "white"
           },
           "yaxis": {
            "backgroundcolor": "#E5ECF6",
            "gridcolor": "white",
            "gridwidth": 2,
            "linecolor": "white",
            "showbackground": true,
            "ticks": "",
            "zerolinecolor": "white"
           },
           "zaxis": {
            "backgroundcolor": "#E5ECF6",
            "gridcolor": "white",
            "gridwidth": 2,
            "linecolor": "white",
            "showbackground": true,
            "ticks": "",
            "zerolinecolor": "white"
           }
          },
          "shapedefaults": {
           "line": {
            "color": "#2a3f5f"
           }
          },
          "ternary": {
           "aaxis": {
            "gridcolor": "white",
            "linecolor": "white",
            "ticks": ""
           },
           "baxis": {
            "gridcolor": "white",
            "linecolor": "white",
            "ticks": ""
           },
           "bgcolor": "#E5ECF6",
           "caxis": {
            "gridcolor": "white",
            "linecolor": "white",
            "ticks": ""
           }
          },
          "title": {
           "x": 0.05
          },
          "xaxis": {
           "automargin": true,
           "gridcolor": "white",
           "linecolor": "white",
           "ticks": "",
           "title": {
            "standoff": 15
           },
           "zerolinecolor": "white",
           "zerolinewidth": 2
          },
          "yaxis": {
           "automargin": true,
           "gridcolor": "white",
           "linecolor": "white",
           "ticks": "",
           "title": {
            "standoff": 15
           },
           "zerolinecolor": "white",
           "zerolinewidth": 2
          }
         }
        },
        "title": {
         "text": "Test1"
        },
        "xaxis": {
         "anchor": "y",
         "domain": [
          0,
          1
         ],
         "title": {
          "text": "R_vector"
         }
        },
        "yaxis": {
         "anchor": "x",
         "categoryarray": [
          "작업표준혁신TF",
          "조선해양품질경영2부",
          "조선해양품질경영1부",
          "자재운영부",
          "운항관제과",
          "시운전부",
          "외업공사지원부",
          "발판지원부",
          "도장2부",
          "도장1부",
          "LNG공사부",
          "기계의장부",
          "CHS공사부",
          "의장3부",
          "의장2부",
          "의장1부",
          "건조3부",
          "건조2부",
          "건조1부",
          "선실생산부",
          "내업공사지원부",
          "선행도장부",
          "Unit생산부",
          "의장생산부",
          "선행의장부",
          "대조립2부",
          "대조립1부",
          "판넬조립부",
          "가공소조립부"
         ],
         "categoryorder": "array",
         "domain": [
          0,
          1
         ],
         "title": {
          "text": "부서"
         }
        }
       }
      },
      "text/html": [
       "<div>                            <div id=\"fc3ad423-8057-48fe-bfd4-17187b69eba3\" class=\"plotly-graph-div\" style=\"height:800px; width:100%;\"></div>            <script type=\"text/javascript\">                require([\"plotly\"], function(Plotly) {                    window.PLOTLYENV=window.PLOTLYENV || {};                                    if (document.getElementById(\"fc3ad423-8057-48fe-bfd4-17187b69eba3\")) {                    Plotly.newPlot(                        \"fc3ad423-8057-48fe-bfd4-17187b69eba3\",                        [{\"alignmentgroup\": \"True\", \"customdata\": [[\"LNG\\uacf5\\uc0ac\", \"CARGO TANK MEMB. PANEL\\ubcf4\\uc628 I/P \\uc124\\uce58\", 20.0], [\"LNG\\uacf5\\uc0ac\", \"CARGO TANK MEMB. PANEL\\ubcf4\\uc628 TPX/TBP \\uc124\\uce58\", 10.0], [\"LNG\\uacf5\\uc0ac\", \"CARGO TANK MEMB. S/OPENING \\ubcf4\\uc628\", 30.0], [\"LNG\\uacf5\\uc0ac\", \"CARGO TANK MEMB. MARKING\", 20.0], [\"LNG\\uacf5\\uc0ac\", \"CARGO TANK MEMB. \\uc124\\uce58 MEMB. FIT-UP\", 10.0], [\"LNG\\uacf5\\uc0ac\", \"CARGO TANK MEMB. \\uc124\\uce58 MEMB. \\uc6a9\\uc811\", 90.0], [\"LNG\\uacf5\\uc0ac\", \"CARGO TANK MEMB.\\uc758\\uc7a5\\uc124\\uce58 G/DOME\", 40.0], [\"LNG\\uacf5\\uc0ac\", \"CARGO TANK MEMB.\\uc758\\uc7a5\\uc124\\uce58 N2 PIPE\", 20.0], [\"LNG\\uacf5\\uc0ac\", \"CARGO TANK MEMB.\\uc758\\uc7a5\\uc124\\uce58 NH3 PIPE\", 20.0], [\"LNG\\uacf5\\uc0ac\", \"CARGO TANK MEMB.\\uc758\\uc7a5\\uc124\\uce58 P/TOWER\", 60.0], [\"LNG\\uacf5\\uc0ac\", \"CARGO TANK MEMB.\\uc758\\uc7a5\\uc124\\uce58 SENSOR\", 20.0], [\"LNG\\uacf5\\uc0ac\", \"CARGO TANK MEMB.\\uc758\\uc7a5\\uc124\\uce58 SPRAY LINE\", 40.0], [\"LNG\\uacf5\\uc0ac\", \"CARGO TANK TIGHTNESS TEST\", 0.0], [\"LNG\\uacf5\\uc0ac\", \"LNG Truss \\uc124\\uce58\", 20.0], [\"LNG\\uacf5\\uc0ac\", \"LNG Truss \\uc870\\ub9bd\", 40.0], [\"LNG\\uacf5\\uc0ac\", \"LNG Truss \\ud0d1\\uc7ac\", 10.0], [\"LNG\\uacf5\\uc0ac\", \"LNG Truss \\ud574\\uccb4\", 10.0]], \"hovertemplate\": \"\\ub300\\uad6c\\ubd84=%{customdata[0]}<br>R_vector=%{customdata[2]}<br>\\ubd80\\uc11c=%{y}<br>WORK_STAND_NM=%{customdata[1]}<extra></extra>\", \"legendgroup\": \"LNG\\uacf5\\uc0ac\", \"marker\": {\"color\": \"#636efa\"}, \"name\": \"LNG\\uacf5\\uc0ac\", \"offsetgroup\": \"LNG\\uacf5\\uc0ac\", \"orientation\": \"h\", \"showlegend\": true, \"textposition\": \"auto\", \"type\": \"bar\", \"x\": [20.0, 10.0, 30.0, 20.0, 10.0, 90.0, 40.0, 20.0, 20.0, 60.0, 20.0, 40.0, 0.0, 20.0, 40.0, 10.0, 10.0], \"xaxis\": \"x\", \"y\": [\"LNG\\uacf5\\uc0ac\\ubd80\", \"LNG\\uacf5\\uc0ac\\ubd80\", \"LNG\\uacf5\\uc0ac\\ubd80\", \"LNG\\uacf5\\uc0ac\\ubd80\", \"LNG\\uacf5\\uc0ac\\ubd80\", \"LNG\\uacf5\\uc0ac\\ubd80\", \"LNG\\uacf5\\uc0ac\\ubd80\", \"LNG\\uacf5\\uc0ac\\ubd80\", \"LNG\\uacf5\\uc0ac\\ubd80\", \"LNG\\uacf5\\uc0ac\\ubd80\", \"LNG\\uacf5\\uc0ac\\ubd80\", \"LNG\\uacf5\\uc0ac\\ubd80\", \"LNG\\uacf5\\uc0ac\\ubd80\", \"LNG\\uacf5\\uc0ac\\ubd80\", \"LNG\\uacf5\\uc0ac\\ubd80\", \"LNG\\uacf5\\uc0ac\\ubd80\", \"LNG\\uacf5\\uc0ac\\ubd80\"], \"yaxis\": \"y\"}, {\"alignmentgroup\": \"True\", \"customdata\": [[\"\\uac00\\uacf5\", \"\\uc120\\uac01 \\ucca0\\uc758\\uc7a5\\ud488/\\uce58\\uacf5\\uad6c\\ub958 \\uc81c\\uc791\", 60.0], [\"\\uac00\\uacf5\", \"\\uc8fc\\ud310\\uc7ac/\\ub0b4\\ubd80\\uc7ac \\uc120\\ubcc4\", 80.0], [\"\\uac00\\uacf5\", \"\\uc131\\ud615\", 60.0], [\"\\uac00\\uacf5\", \"\\uac15\\uc7ac \\uc801\\uce58\", 50.0], [\"\\uac00\\uacf5\", \"\\uc804\\ucc98\\ub9ac\", 110.0], [\"\\uac00\\uacf5\", \"GAS \\uc808\\ub2e8\", 120.0], [\"\\uac00\\uacf5\", \"\\ud50c\\ub77c\\uc988\\ub9c8 \\uc808\\ub2e8\", 120.0]], \"hovertemplate\": \"\\ub300\\uad6c\\ubd84=%{customdata[0]}<br>R_vector=%{customdata[2]}<br>\\ubd80\\uc11c=%{y}<br>WORK_STAND_NM=%{customdata[1]}<extra></extra>\", \"legendgroup\": \"\\uac00\\uacf5\", \"marker\": {\"color\": \"#EF553B\"}, \"name\": \"\\uac00\\uacf5\", \"offsetgroup\": \"\\uac00\\uacf5\", \"orientation\": \"h\", \"showlegend\": true, \"textposition\": \"auto\", \"type\": \"bar\", \"x\": [60.0, 80.0, 60.0, 50.0, 110.0, 120.0, 120.0], \"xaxis\": \"x\", \"y\": [\"\\uac00\\uacf5\\uc18c\\uc870\\ub9bd\\ubd80\", \"\\uac00\\uacf5\\uc18c\\uc870\\ub9bd\\ubd80\", \"\\uac00\\uacf5\\uc18c\\uc870\\ub9bd\\ubd80\", \"\\uac00\\uacf5\\uc18c\\uc870\\ub9bd\\ubd80\", \"\\uac00\\uacf5\\uc18c\\uc870\\ub9bd\\ubd80\", \"\\uac00\\uacf5\\uc18c\\uc870\\ub9bd\\ubd80\", \"\\uac00\\uacf5\\uc18c\\uc870\\ub9bd\\ubd80\"], \"yaxis\": \"y\"}, {\"alignmentgroup\": \"True\", \"customdata\": [[\"\\uac74\\uc870\", \"\\ubc18\\ubaa9 \\uc124\\uce58\", 40.0], [\"\\uac74\\uc870\", \"\\ubc18\\ubaa9 \\uc124\\uce58\", 40.0], [\"\\uac74\\uc870\", \"\\ubc18\\ubaa9 \\uc124\\uce58\", 40.0], [\"\\uac74\\uc870\", \"Tank Air Test\", 70.0], [\"\\uac74\\uc870\", \"Tank Strength Test\", 160.0], [\"\\uac74\\uc870\", \"Tank Air Test\", 70.0], [\"\\uac74\\uc870\", \"Tank Strength Test\", 160.0], [\"\\uac74\\uc870\", \"Tank Air Test\", 70.0], [\"\\uac74\\uc870\", \"Tank Strength Test\", 160.0], [\"\\uac74\\uc870\", \"\\ub300\\ud615\\ucca0\\uc758\\uc7a5(\\ub77c\\uc2f1\\ube0c\\ub9bf\\uc9c0)\", 50.0], [\"\\uac74\\uc870\", \"\\ub300\\ud615\\ucca0\\uc758\\uc7a5(\\ud574\\uce58\\uce74\\ubc14)\", 50.0], [\"\\uac74\\uc870\", \"\\ub300\\ud615\\ucca0\\uc758\\uc7a5(\\ud640\\ub4dc)\", 130.0], [\"\\uac74\\uc870\", \"\\uc77c\\ubc18\\ucca0\\uc758\\uc7a5\", 100.0], [\"\\uac74\\uc870\", \"\\ub300\\ud615\\ucca0\\uc758\\uc7a5(\\ub77c\\uc2f1\\ube0c\\ub9bf\\uc9c0)\", 70.0], [\"\\uac74\\uc870\", \"\\ub300\\ud615\\ucca0\\uc758\\uc7a5(\\ud574\\uce58\\uce74\\ubc14)\", 50.0], [\"\\uac74\\uc870\", \"\\ub300\\ud615\\ucca0\\uc758\\uc7a5(\\ud640\\ub4dc)\", 130.0], [\"\\uac74\\uc870\", \"\\uc77c\\ubc18\\ucca0\\uc758\\uc7a5\", 100.0], [\"\\uac74\\uc870\", \"\\ub300\\ud615\\ucca0\\uc758\\uc7a5(\\ub77c\\uc2f1\\ube0c\\ub9bf\\uc9c0)\", 50.0], [\"\\uac74\\uc870\", \"\\ub300\\ud615\\ucca0\\uc758\\uc7a5(\\ud574\\uce58\\uce74\\ubc14)\", 50.0], [\"\\uac74\\uc870\", \"\\ub300\\ud615\\ucca0\\uc758\\uc7a5(\\ud640\\ub4dc)\", 130.0], [\"\\uac74\\uc870\", \"\\uc77c\\ubc18\\ucca0\\uc758\\uc7a5\", 100.0], [\"\\uac74\\uc870\", \"DOCK \\ucde8\\ubd80\\uc6a9\\uc811\", 210.0], [\"\\uac74\\uc870\", \"\\uc678\\ud310 Draft Mark \\uc2dc\\uacf5\", 240.0], [\"\\uac74\\uc870\", \"\\ud6c4PE2 \\ucde8\\ubd80\\uc6a9\\uc811\", 200.0], [\"\\uac74\\uc870\", \"DOCK \\ucde8\\ubd80\\uc6a9\\uc811\", 210.0], [\"\\uac74\\uc870\", \"\\uc678\\ud310 Draft Mark \\uc2dc\\uacf5\", 240.0], [\"\\uac74\\uc870\", \"\\ud6c4PE2 \\ucde8\\ubd80\\uc6a9\\uc811\", 200.0], [\"\\uac74\\uc870\", \"DOCK \\ucde8\\ubd80\\uc6a9\\uc811\", 210.0], [\"\\uac74\\uc870\", \"\\uc678\\ud310 Draft Mark \\uc2dc\\uacf5\", 240.0], [\"\\uac74\\uc870\", \"\\ud6c4PE2 \\ucde8\\ubd80\\uc6a9\\uc811\", 200.0], [\"\\uac74\\uc870\", \"DOCK \\ucca0\\ubaa9\", 90.0], [\"\\uac74\\uc870\", \"\\ud6c4PE \\ucca0\\ubaa9\", 90.0], [\"\\uac74\\uc870\", \"DOCK \\ucca0\\ubaa9\", 90.0], [\"\\uac74\\uc870\", \"\\ud6c4PE \\ucca0\\ubaa9\", 90.0], [\"\\uac74\\uc870\", \"DOCK \\ucca0\\ubaa9\", 90.0], [\"\\uac74\\uc870\", \"\\ud6c4PE \\ucca0\\ubaa9\", 90.0]], \"hovertemplate\": \"\\ub300\\uad6c\\ubd84=%{customdata[0]}<br>R_vector=%{customdata[2]}<br>\\ubd80\\uc11c=%{y}<br>WORK_STAND_NM=%{customdata[1]}<extra></extra>\", \"legendgroup\": \"\\uac74\\uc870\", \"marker\": {\"color\": \"#00cc96\"}, \"name\": \"\\uac74\\uc870\", \"offsetgroup\": \"\\uac74\\uc870\", \"orientation\": \"h\", \"showlegend\": true, \"textposition\": \"auto\", \"type\": \"bar\", \"x\": [40.0, 40.0, 40.0, 70.0, 160.0, 70.0, 160.0, 70.0, 160.0, 50.0, 50.0, 130.0, 100.0, 70.0, 50.0, 130.0, 100.0, 50.0, 50.0, 130.0, 100.0, 210.0, 240.0, 200.0, 210.0, 240.0, 200.0, 210.0, 240.0, 200.0, 90.0, 90.0, 90.0, 90.0, 90.0, 90.0], \"xaxis\": \"x\", \"y\": [\"\\uac74\\uc8701\\ubd80\", \"\\uac74\\uc8702\\ubd80\", \"\\uac74\\uc8703\\ubd80\", \"\\uac74\\uc8701\\ubd80\", \"\\uac74\\uc8701\\ubd80\", \"\\uac74\\uc8702\\ubd80\", \"\\uac74\\uc8702\\ubd80\", \"\\uac74\\uc8703\\ubd80\", \"\\uac74\\uc8703\\ubd80\", \"\\uac74\\uc8701\\ubd80\", \"\\uac74\\uc8701\\ubd80\", \"\\uac74\\uc8701\\ubd80\", \"\\uac74\\uc8701\\ubd80\", \"\\uac74\\uc8702\\ubd80\", \"\\uac74\\uc8702\\ubd80\", \"\\uac74\\uc8702\\ubd80\", \"\\uac74\\uc8702\\ubd80\", \"\\uac74\\uc8703\\ubd80\", \"\\uac74\\uc8703\\ubd80\", \"\\uac74\\uc8703\\ubd80\", \"\\uac74\\uc8703\\ubd80\", \"\\uac74\\uc8701\\ubd80\", \"\\uac74\\uc8701\\ubd80\", \"\\uac74\\uc8701\\ubd80\", \"\\uac74\\uc8702\\ubd80\", \"\\uac74\\uc8702\\ubd80\", \"\\uac74\\uc8702\\ubd80\", \"\\uac74\\uc8703\\ubd80\", \"\\uac74\\uc8703\\ubd80\", \"\\uac74\\uc8703\\ubd80\", \"\\uac74\\uc8701\\ubd80\", \"\\uac74\\uc8701\\ubd80\", \"\\uac74\\uc8702\\ubd80\", \"\\uac74\\uc8702\\ubd80\", \"\\uac74\\uc8703\\ubd80\", \"\\uac74\\uc8703\\ubd80\"], \"yaxis\": \"y\"}, {\"alignmentgroup\": \"True\", \"customdata\": [[\"\\uacf5\\uc0ac\\uc9c0\\uc6d0\", \"\\uace0\\uc18c\\uc7a5\\ube44 \\ub77c\\ub514\\uc5d0\\uc774\\ud130 \\uad50\\ud658\", 80.0], [\"\\uacf5\\uc0ac\\uc9c0\\uc6d0\", \"\\uace0\\uc18c\\uc7a5\\ube44 \\ubc27\\ub370\\ub9ac \\uad50\\ud658\", 10.0], [\"\\uacf5\\uc0ac\\uc9c0\\uc6d0\", \"\\uace0\\uc18c\\uc7a5\\ube44 \\ubd90 \\uc2a4\\uc719 \\ubaa8\\ud130 \\ud0c8 \\ubd80\\ucc29 \\uc791\\uc5c5\", 20.0], [\"\\uacf5\\uc0ac\\uc9c0\\uc6d0\", \"\\uace0\\uc18c\\uc7a5\\ube44 \\ubd90 \\ud2b8\\ub799 \\uac00\\uc774\\ub4dc \\uc815\\ube44\", 0.0], [\"\\uacf5\\uc0ac\\uc9c0\\uc6d0\", \"\\uace0\\uc18c\\uc7a5\\ube44 \\uc2dc\\ub3d9\\ubaa8\\ud130, \\uc81c\\ub124\\ub808\\uc774\\ud130  (\\ud0c8, \\ubd80\\ucc29) \\uc791\\uc5c5\", 0.0], [\"\\uacf5\\uc0ac\\uc9c0\\uc6d0\", \"\\uace0\\uc18c\\uc7a5\\ube44 \\uc5f0\\ub8cc\\uc8fc\\uc785 \\uc694\\ub839\", 40.0], [\"\\uacf5\\uc0ac\\uc9c0\\uc6d0\", \"\\uace0\\uc18c\\uc7a5\\ube44 \\uc608\\ubc29\\uc815\\ube44\", 0.0], [\"\\uacf5\\uc0ac\\uc9c0\\uc6d0\", \"\\uace0\\uc18c\\uc7a5\\ube44 \\uc720\\uc555\\ud38c\\ud504 \\uad50\\uccb4 \\ud0c8/\\ubd80\\ucc29 \\uc791\\uc5c5\", 30.0], [\"\\uacf5\\uc0ac\\uc9c0\\uc6d0\", \"\\uace0\\uc18c\\uc7a5\\ube44 \\uc810\\uac80 \\ubc0f \\uc870\\uc791\\uc810\\uac80\", 10.0], [\"\\uacf5\\uc0ac\\uc9c0\\uc6d0\", \"\\uace0\\uc18c\\ucc28 \\uad00\\ub9ac(\\ub3c4\\ud06c \\ubc0f PE\\uc7a5)\", 0.0], [\"\\uacf5\\uc0ac\\uc9c0\\uc6d0\", \"\\uace0\\uc18c\\ucc28 \\ubd90 \\uc2e4\\ub9b0\\ub354 \\ubd84\\ud574\\uc218\\ub9ac \\uc791\\uc5c5\", 0.0], [\"\\uacf5\\uc0ac\\uc9c0\\uc6d0\", \"\\uace0\\uc18c\\ucc28 \\ubd90 \\uc640\\uc774\\uc5b4 \\uc810\\uac80/\\uc870\\uc815 \\uc791\\uc5c5\", 0.0], [\"\\uacf5\\uc0ac\\uc9c0\\uc6d0\", \"\\uace0\\uc18c\\ucc28 \\uc774\\ub3d9(Dock \\ubc0f \\ud638\\uc120 \\ub0b4,\\uc678\\ubd80)\", 60.0], [\"\\uacf5\\uc0ac\\uc9c0\\uc6d0\", \"\\uace0\\uc18c\\ucc28 \\ud0c0\\uc774\\uc5b4 \\uad50\\ud658 \\uc791\\uc5c5\", 110.0], [\"\\uacf5\\uc0ac\\uc9c0\\uc6d0\", \"\\ub9ac\\ubbf8\\ud2b8 \\uc2a4\\uc704\\uce58 \\uad50\\ud658\", 10.0], [\"\\uacf5\\uc0ac\\uc9c0\\uc6d0\", \"\\ube14\\ub85d \\uc785/\\ucd9c\\uace0 \\uc791\\uc5c5\", 130.0], [\"\\uacf5\\uc0ac\\uc9c0\\uc6d0\", \"BALLASTING \\uc791\\uc5c5\", 60.0], [\"\\uacf5\\uc0ac\\uc9c0\\uc6d0\", \"D/W \\uc9c0\\uc6d0 \\uc791\\uc5c5\", 0.0], [\"\\uacf5\\uc0ac\\uc9c0\\uc6d0\", \"DEBALLASTING \\uc791\\uc5c5\", 150.0], [\"\\uacf5\\uc0ac\\uc9c0\\uc6d0\", \"SHORE POWER(S/P) CABLE \\uc124\\uce58 \\ubc0f \\ucca0\\uac70\", 50.0], [\"\\uacf5\\uc0ac\\uc9c0\\uc6d0\", \"STRENGTH TEST \\uc9c0\\uc6d0\", 40.0], [\"\\uacf5\\uc0ac\\uc9c0\\uc6d0\", \"U/T, S/P \\ucca0\\uac70 \\ubc0f \\uc124\\uce58\", 20.0], [\"\\uacf5\\uc0ac\\uc9c0\\uc6d0\", \"\\ube44\\uc0c1 \\uc124\\ube44 \\uc124\\uce58 \\ubc0f \\ucca0\\uac70\", 0.0], [\"\\uacf5\\uc0ac\\uc9c0\\uc6d0\", \"\\uc0dd\\uc0b0 \\uc7a5\\ube44 \\uacb0\\uc120 \\ubc0f \\ud574\\uccb4\", 0.0], [\"\\uacf5\\uc0ac\\uc9c0\\uc6d0\", \"\\uc124\\ube44 \\ubcf4\\uc218\", 60.0], [\"\\uacf5\\uc0ac\\uc9c0\\uc6d0\", \"\\uc18c\\ubc29 LINE \\uc124\\uce58 \\ubc0f \\ucca0\\uac70\", 0.0], [\"\\uacf5\\uc0ac\\uc9c0\\uc6d0\", \"\\uc720\\ud2f8\\ub9ac\\ud2f0(U/T) \\uc124\\uce58 \\ubc0f \\ucca0\\uac70\", 180.0], [\"\\uacf5\\uc0ac\\uc9c0\\uc6d0\", \"\\uc870\\uba85\\ub4f1 \\uc124\\uce58 \\ubc0f \\ucca0\\uac70\", 320.0], [\"\\uacf5\\uc0ac\\uc9c0\\uc6d0\", \"\\ud0dc\\ud48d \\ub300\\ube44 \\uc124\\ube44 \\uc9c0\\uc6d0\", 10.0]], \"hovertemplate\": \"\\ub300\\uad6c\\ubd84=%{customdata[0]}<br>R_vector=%{customdata[2]}<br>\\ubd80\\uc11c=%{y}<br>WORK_STAND_NM=%{customdata[1]}<extra></extra>\", \"legendgroup\": \"\\uacf5\\uc0ac\\uc9c0\\uc6d0\", \"marker\": {\"color\": \"#ab63fa\"}, \"name\": \"\\uacf5\\uc0ac\\uc9c0\\uc6d0\", \"offsetgroup\": \"\\uacf5\\uc0ac\\uc9c0\\uc6d0\", \"orientation\": \"h\", \"showlegend\": true, \"textposition\": \"auto\", \"type\": \"bar\", \"x\": [80.0, 10.0, 20.0, 0.0, 0.0, 40.0, 0.0, 30.0, 10.0, 0.0, 0.0, 0.0, 60.0, 110.0, 10.0, 130.0, 60.0, 0.0, 150.0, 50.0, 40.0, 20.0, 0.0, 0.0, 60.0, 0.0, 180.0, 320.0, 10.0], \"xaxis\": \"x\", \"y\": [\"\\uc678\\uc5c5\\uacf5\\uc0ac\\uc9c0\\uc6d0\\ubd80\", \"\\uc678\\uc5c5\\uacf5\\uc0ac\\uc9c0\\uc6d0\\ubd80\", \"\\uc678\\uc5c5\\uacf5\\uc0ac\\uc9c0\\uc6d0\\ubd80\", \"\\uc678\\uc5c5\\uacf5\\uc0ac\\uc9c0\\uc6d0\\ubd80\", \"\\uc678\\uc5c5\\uacf5\\uc0ac\\uc9c0\\uc6d0\\ubd80\", \"\\uc678\\uc5c5\\uacf5\\uc0ac\\uc9c0\\uc6d0\\ubd80\", \"\\uc678\\uc5c5\\uacf5\\uc0ac\\uc9c0\\uc6d0\\ubd80\", \"\\uc678\\uc5c5\\uacf5\\uc0ac\\uc9c0\\uc6d0\\ubd80\", \"\\uc678\\uc5c5\\uacf5\\uc0ac\\uc9c0\\uc6d0\\ubd80\", \"\\uc678\\uc5c5\\uacf5\\uc0ac\\uc9c0\\uc6d0\\ubd80\", \"\\uc678\\uc5c5\\uacf5\\uc0ac\\uc9c0\\uc6d0\\ubd80\", \"\\uc678\\uc5c5\\uacf5\\uc0ac\\uc9c0\\uc6d0\\ubd80\", \"\\uc678\\uc5c5\\uacf5\\uc0ac\\uc9c0\\uc6d0\\ubd80\", \"\\uc678\\uc5c5\\uacf5\\uc0ac\\uc9c0\\uc6d0\\ubd80\", \"\\uc678\\uc5c5\\uacf5\\uc0ac\\uc9c0\\uc6d0\\ubd80\", \"\\uc678\\uc5c5\\uacf5\\uc0ac\\uc9c0\\uc6d0\\ubd80\", \"\\uc678\\uc5c5\\uacf5\\uc0ac\\uc9c0\\uc6d0\\ubd80\", \"\\uc678\\uc5c5\\uacf5\\uc0ac\\uc9c0\\uc6d0\\ubd80\", \"\\uc678\\uc5c5\\uacf5\\uc0ac\\uc9c0\\uc6d0\\ubd80\", \"\\uc678\\uc5c5\\uacf5\\uc0ac\\uc9c0\\uc6d0\\ubd80\", \"\\uc678\\uc5c5\\uacf5\\uc0ac\\uc9c0\\uc6d0\\ubd80\", \"\\uc678\\uc5c5\\uacf5\\uc0ac\\uc9c0\\uc6d0\\ubd80\", \"\\uc678\\uc5c5\\uacf5\\uc0ac\\uc9c0\\uc6d0\\ubd80\", \"\\uc678\\uc5c5\\uacf5\\uc0ac\\uc9c0\\uc6d0\\ubd80\", \"\\uc678\\uc5c5\\uacf5\\uc0ac\\uc9c0\\uc6d0\\ubd80\", \"\\uc678\\uc5c5\\uacf5\\uc0ac\\uc9c0\\uc6d0\\ubd80\", \"\\uc678\\uc5c5\\uacf5\\uc0ac\\uc9c0\\uc6d0\\ubd80\", \"\\uc678\\uc5c5\\uacf5\\uc0ac\\uc9c0\\uc6d0\\ubd80\", \"\\uc678\\uc5c5\\uacf5\\uc0ac\\uc9c0\\uc6d0\\ubd80\"], \"yaxis\": \"y\"}, {\"alignmentgroup\": \"True\", \"customdata\": [[\"\\uae30\\uacc4\\uc758\\uc7a5\", \"Cargo Compressor \\uc124\\uce58\", 50.0], [\"\\uae30\\uacc4\\uc758\\uc7a5\", \"COP \\uc124\\uce58\", 0.0], [\"\\uae30\\uacc4\\uc758\\uc7a5\", \"COPT \\uc124\\uce58\", 30.0], [\"\\uae30\\uacc4\\uc758\\uc7a5\", \"D/WELL PUMP  Seat \\uc124\\uce58\", 0.0], [\"\\uae30\\uacc4\\uc758\\uc7a5\", \"D/WELL PUMP \\uc870\\ub9bd \\ubc0f \\ud0d1\\uc7ac\", 10.0], [\"\\uae30\\uacc4\\uc758\\uc7a5\", \"Skid Unit \\ud0d1\\uc7ac/\\uc124\\uce58\", 40.0], [\"\\uae30\\uacc4\\uc758\\uc7a5\", \"Vacuum Pump \\uc124\\uce58\", 30.0], [\"\\uae30\\uacc4\\uc758\\uc7a5\", \"Booster Pump \\uc124\\uce58\", 0.0], [\"\\uae30\\uacc4\\uc758\\uc7a5\", \"Deck Crane \\ud0d1\\uc7ac\", 20.0], [\"\\uae30\\uacc4\\uc758\\uc7a5\", \"Resin & Chock Liner\\uc124\\uce58\", 0.0], [\"\\uae30\\uacc4\\uc758\\uc7a5\", \"Thruster Motor \\uc124\\uce58 \\ubc0f Seal Test\", 30.0], [\"\\uae30\\uacc4\\uc758\\uc7a5\", \"Winch \\uc124\\uce58\", 10.0], [\"\\uae30\\uacc4\\uc758\\uc7a5\", \"Windlass \\uc124\\uce58\", 20.0], [\"\\uae30\\uacc4\\uc758\\uc7a5\", \"Aux. M/C Alignment\", 20.0], [\"\\uae30\\uacc4\\uc758\\uc7a5\", \"Aux. M/C \\ud0d1\\uc7ac\", 30.0], [\"\\uae30\\uacc4\\uc758\\uc7a5\", \"Boiler \\uc124\\uce58\", 0.0], [\"\\uae30\\uacc4\\uc758\\uc7a5\", \"D/G Foundation \\uc124\\uce58\", 40.0], [\"\\uae30\\uacc4\\uc758\\uc7a5\", \"D/G \\ud0d1\\uc7ac\", 30.0], [\"\\uae30\\uacc4\\uc758\\uc7a5\", \"E/R Crane Load Test\", 40.0], [\"\\uae30\\uacc4\\uc758\\uc7a5\", \"E/R Crane Rack Gear \\uc124\\uce58\", 20.0], [\"\\uae30\\uacc4\\uc758\\uc7a5\", \"E/R Crane \\uc124\\uce58\", 0.0], [\"\\uae30\\uacc4\\uc758\\uc7a5\", \"Economizer \\uc124\\uce58\", 0.0], [\"\\uae30\\uacc4\\uc758\\uc7a5\", \"Generator \\uc124\\uce58\", 20.0], [\"\\uae30\\uacc4\\uc758\\uc7a5\", \"I.G.G \\uc7a5\\ube44 \\uc124\\uce58\", 10.0], [\"\\uae30\\uacc4\\uc758\\uc7a5\", \"Work Shop M/C\\ud0d1\\uc7ac/\\uc6a9\\uc811\", 0.0], [\"\\uae30\\uacc4\\uc758\\uc7a5\", \"Aft Seal Centering\", 20.0], [\"\\uae30\\uacc4\\uc758\\uc7a5\", \"BEARING Acc'y \\uc870\\ub9bd\", 10.0], [\"\\uae30\\uacc4\\uc758\\uc7a5\", \"Bearing Jack-Up\", 30.0], [\"\\uae30\\uacc4\\uc758\\uc7a5\", \"Bearing Liner \\uc124\\uce58\", 20.0], [\"\\uae30\\uacc4\\uc758\\uc7a5\", \"BEARING Locking Pin \\uc124\\uce58\", 20.0], [\"\\uae30\\uacc4\\uc758\\uc7a5\", \"Bolt \\ubc0f Resin \\ud0d1\\uc7ac\", 0.0], [\"\\uae30\\uacc4\\uc758\\uc7a5\", \"Bush Fitting\", 70.0], [\"\\uae30\\uacc4\\uc758\\uc7a5\", \"Clutch \\uc124\\uce58\", 10.0], [\"\\uae30\\uacc4\\uc758\\uc7a5\", \"Flexible Coupling \\uc870\\ub9bd\", 20.0], [\"\\uae30\\uacc4\\uc758\\uc7a5\", \"Fwd Seal Centering\", 20.0], [\"\\uae30\\uacc4\\uc758\\uc7a5\", \"Fwd Seal \\uc870\\ub9bd\", 10.0], [\"\\uae30\\uacc4\\uc758\\uc7a5\", \"H.D Bolt \\uc124\\uce58\", 30.0], [\"\\uae30\\uacc4\\uc758\\uc7a5\", \"H.D.Bolt Hole \\uc2dc\\uacf5\", 30.0], [\"\\uae30\\uacc4\\uc758\\uc7a5\", \"Inserting\", 20.0], [\"\\uae30\\uacc4\\uc758\\uc7a5\", \"Jack Down\", 20.0], [\"\\uae30\\uacc4\\uc758\\uc7a5\", \"M/E Setting\", 30.0], [\"\\uae30\\uacc4\\uc758\\uc7a5\", \"M/E \\ud0d1\\uc7ac\", 40.0], [\"\\uae30\\uacc4\\uc758\\uc7a5\", \"Nut Stopper \\uc124\\uce58\", 10.0], [\"\\uae30\\uacc4\\uc758\\uc7a5\", \"Pre Sighting\", 10.0], [\"\\uae30\\uacc4\\uc758\\uc7a5\", \"Propeller Fitting\", 10.0], [\"\\uae30\\uacc4\\uc758\\uc7a5\", \"Propeller \\ud0d1\\uc7ac \\uc870\\ub9bd\", 10.0], [\"\\uae30\\uacc4\\uc758\\uc7a5\", \"R/Gear \\ud0d1\\uc7ac\", 10.0], [\"\\uae30\\uacc4\\uc758\\uc7a5\", \"Reamer Bolt \\uc2dc\\uacf5\", 40.0], [\"\\uae30\\uacc4\\uc758\\uc7a5\", \"Resin Chock Dam \\uc124\\uce58\", 30.0], [\"\\uae30\\uacc4\\uc758\\uc7a5\", \"Resin Chocking\", 20.0], [\"\\uae30\\uacc4\\uc758\\uc7a5\", \"S/T Unit Resin Chocking\", 40.0], [\"\\uae30\\uacc4\\uc758\\uc7a5\", \"S/T \\ub0b4\\uacbd \\ubc0f \\ud3b8\\uc2ec\\uacc4\\uce21\", 10.0], [\"\\uae30\\uacc4\\uc758\\uc7a5\", \"S/Tube Boring\", 20.0], [\"\\uae30\\uacc4\\uc758\\uc7a5\", \"S/Tube Unit \\uc124\\uce58\", 40.0], [\"\\uae30\\uacc4\\uc758\\uc7a5\", \"Sealing & SensorLine \\uc124\\uce58\", 10.0], [\"\\uae30\\uacc4\\uc758\\uc7a5\", \"Shaft Alignment\", 60.0], [\"\\uae30\\uacc4\\uc758\\uc7a5\", \"Shaft Coupling Bolt \\uccb4\\uacb0[Hyd.Bolt\", 40.0], [\"\\uae30\\uacc4\\uc758\\uc7a5\", \"Shaft Coupling Bolt \\uccb4\\uacb0[Reamer\", 40.0], [\"\\uae30\\uacc4\\uc758\\uc7a5\", \"Shaft Gen.\\uc870\\ub9bd/Centering\", 30.0], [\"\\uae30\\uacc4\\uc758\\uc7a5\", \"Shaft Gen.\\ud0d1\\uc7ac\", 30.0], [\"\\uae30\\uacc4\\uc758\\uc7a5\", \"Shaft \\ud0d1\\uc7ac\", 0.0], [\"\\uae30\\uacc4\\uc758\\uc7a5\", \"Side & End Liner \\uc124\\uce58\", 20.0], [\"\\uae30\\uacc4\\uc758\\uc7a5\", \"STUFFING BOX\\uc870\\ub9bd Centering\", 20.0], [\"\\uae30\\uacc4\\uc758\\uc7a5\", \"STUFFING BOX\\ucde8\\ubd80/\\uc6a9\\uc811\", 0.0], [\"\\uae30\\uacc4\\uc758\\uc7a5\", \"Tooth Contact\", 10.0], [\"\\uae30\\uacc4\\uc758\\uc7a5\", \"Top bracing\\ud0d1\\uc7ac/\\uc124\\uce58\", 30.0], [\"\\uae30\\uacc4\\uc758\\uc7a5\", \"\\uac00\\uacac\\ud22c\", 20.0], [\"\\uae30\\uacc4\\uc758\\uc7a5\", \"Final Sighting\", 0.0], [\"\\uae30\\uacc4\\uc758\\uc7a5\", \"Lug \\uc81c\\uac70\", 20.0], [\"\\uae30\\uacc4\\uc758\\uc7a5\", \"P/Bush \\uc124\\uce58\", 0.0], [\"\\uae30\\uacc4\\uc758\\uc7a5\", \"R/C Resin Chocking\", 20.0], [\"\\uae30\\uacc4\\uc758\\uc7a5\", \"R/Carrier \\uc870\\ub9bd\", 10.0], [\"\\uae30\\uacc4\\uc758\\uc7a5\", \"R/D Carrier Seat \\uc124\\uce58\", 30.0], [\"\\uae30\\uacc4\\uc758\\uc7a5\", \"R/D Stock Fitting\", 30.0], [\"\\uae30\\uacc4\\uc758\\uc7a5\", \"R/D Stock \\ud0d1\\uc7ac\", 0.0], [\"\\uae30\\uacc4\\uc758\\uc7a5\", \"Ram Pin \\ubc0f Acc'y \\uc870\\ub9bd\", 10.0], [\"\\uae30\\uacc4\\uc758\\uc7a5\", \"Rudder \\ud0d1\\uc7ac\", 20.0], [\"\\uae30\\uacc4\\uc758\\uc7a5\", \"S/Gear Alignment\", 30.0], [\"\\uae30\\uacc4\\uc758\\uc7a5\", \"S/Gear Poping Test\", 0.0], [\"\\uae30\\uacc4\\uc758\\uc7a5\", \"S/Gear \\ud0d1\\uc7ac\", 0.0], [\"\\uae30\\uacc4\\uc758\\uc7a5\", \"Swing Test \\uac80\\uc0ac\", 10.0], [\"\\uae30\\uacc4\\uc758\\uc7a5\", \"Tiller \\uc124\\uce58\", 0.0]], \"hovertemplate\": \"\\ub300\\uad6c\\ubd84=%{customdata[0]}<br>R_vector=%{customdata[2]}<br>\\ubd80\\uc11c=%{y}<br>WORK_STAND_NM=%{customdata[1]}<extra></extra>\", \"legendgroup\": \"\\uae30\\uacc4\\uc758\\uc7a5\", \"marker\": {\"color\": \"#FFA15A\"}, \"name\": \"\\uae30\\uacc4\\uc758\\uc7a5\", \"offsetgroup\": \"\\uae30\\uacc4\\uc758\\uc7a5\", \"orientation\": \"h\", \"showlegend\": true, \"textposition\": \"auto\", \"type\": \"bar\", \"x\": [50.0, 0.0, 30.0, 0.0, 10.0, 40.0, 30.0, 0.0, 20.0, 0.0, 30.0, 10.0, 20.0, 20.0, 30.0, 0.0, 40.0, 30.0, 40.0, 20.0, 0.0, 0.0, 20.0, 10.0, 0.0, 20.0, 10.0, 30.0, 20.0, 20.0, 0.0, 70.0, 10.0, 20.0, 20.0, 10.0, 30.0, 30.0, 20.0, 20.0, 30.0, 40.0, 10.0, 10.0, 10.0, 10.0, 10.0, 40.0, 30.0, 20.0, 40.0, 10.0, 20.0, 40.0, 10.0, 60.0, 40.0, 40.0, 30.0, 30.0, 0.0, 20.0, 20.0, 0.0, 10.0, 30.0, 20.0, 0.0, 20.0, 0.0, 20.0, 10.0, 30.0, 30.0, 0.0, 10.0, 20.0, 30.0, 0.0, 0.0, 10.0, 0.0], \"xaxis\": \"x\", \"y\": [\"\\uae30\\uacc4\\uc758\\uc7a5\\ubd80\", \"\\uae30\\uacc4\\uc758\\uc7a5\\ubd80\", \"\\uae30\\uacc4\\uc758\\uc7a5\\ubd80\", \"\\uae30\\uacc4\\uc758\\uc7a5\\ubd80\", \"\\uae30\\uacc4\\uc758\\uc7a5\\ubd80\", \"\\uae30\\uacc4\\uc758\\uc7a5\\ubd80\", \"\\uae30\\uacc4\\uc758\\uc7a5\\ubd80\", \"\\uae30\\uacc4\\uc758\\uc7a5\\ubd80\", \"\\uae30\\uacc4\\uc758\\uc7a5\\ubd80\", \"\\uae30\\uacc4\\uc758\\uc7a5\\ubd80\", \"\\uae30\\uacc4\\uc758\\uc7a5\\ubd80\", \"\\uae30\\uacc4\\uc758\\uc7a5\\ubd80\", \"\\uae30\\uacc4\\uc758\\uc7a5\\ubd80\", \"\\uae30\\uacc4\\uc758\\uc7a5\\ubd80\", \"\\uae30\\uacc4\\uc758\\uc7a5\\ubd80\", \"\\uae30\\uacc4\\uc758\\uc7a5\\ubd80\", \"\\uae30\\uacc4\\uc758\\uc7a5\\ubd80\", \"\\uae30\\uacc4\\uc758\\uc7a5\\ubd80\", \"\\uae30\\uacc4\\uc758\\uc7a5\\ubd80\", \"\\uae30\\uacc4\\uc758\\uc7a5\\ubd80\", \"\\uae30\\uacc4\\uc758\\uc7a5\\ubd80\", \"\\uae30\\uacc4\\uc758\\uc7a5\\ubd80\", \"\\uae30\\uacc4\\uc758\\uc7a5\\ubd80\", \"\\uae30\\uacc4\\uc758\\uc7a5\\ubd80\", \"\\uae30\\uacc4\\uc758\\uc7a5\\ubd80\", \"\\uae30\\uacc4\\uc758\\uc7a5\\ubd80\", \"\\uae30\\uacc4\\uc758\\uc7a5\\ubd80\", \"\\uae30\\uacc4\\uc758\\uc7a5\\ubd80\", \"\\uae30\\uacc4\\uc758\\uc7a5\\ubd80\", \"\\uae30\\uacc4\\uc758\\uc7a5\\ubd80\", \"\\uae30\\uacc4\\uc758\\uc7a5\\ubd80\", \"\\uae30\\uacc4\\uc758\\uc7a5\\ubd80\", \"\\uae30\\uacc4\\uc758\\uc7a5\\ubd80\", \"\\uae30\\uacc4\\uc758\\uc7a5\\ubd80\", \"\\uae30\\uacc4\\uc758\\uc7a5\\ubd80\", \"\\uae30\\uacc4\\uc758\\uc7a5\\ubd80\", \"\\uae30\\uacc4\\uc758\\uc7a5\\ubd80\", \"\\uae30\\uacc4\\uc758\\uc7a5\\ubd80\", \"\\uae30\\uacc4\\uc758\\uc7a5\\ubd80\", \"\\uae30\\uacc4\\uc758\\uc7a5\\ubd80\", \"\\uae30\\uacc4\\uc758\\uc7a5\\ubd80\", \"\\uae30\\uacc4\\uc758\\uc7a5\\ubd80\", \"\\uae30\\uacc4\\uc758\\uc7a5\\ubd80\", \"\\uae30\\uacc4\\uc758\\uc7a5\\ubd80\", \"\\uae30\\uacc4\\uc758\\uc7a5\\ubd80\", \"\\uae30\\uacc4\\uc758\\uc7a5\\ubd80\", \"\\uae30\\uacc4\\uc758\\uc7a5\\ubd80\", \"\\uae30\\uacc4\\uc758\\uc7a5\\ubd80\", \"\\uae30\\uacc4\\uc758\\uc7a5\\ubd80\", \"\\uae30\\uacc4\\uc758\\uc7a5\\ubd80\", \"\\uae30\\uacc4\\uc758\\uc7a5\\ubd80\", \"\\uae30\\uacc4\\uc758\\uc7a5\\ubd80\", \"\\uae30\\uacc4\\uc758\\uc7a5\\ubd80\", \"\\uae30\\uacc4\\uc758\\uc7a5\\ubd80\", \"\\uae30\\uacc4\\uc758\\uc7a5\\ubd80\", \"\\uae30\\uacc4\\uc758\\uc7a5\\ubd80\", \"\\uae30\\uacc4\\uc758\\uc7a5\\ubd80\", \"\\uae30\\uacc4\\uc758\\uc7a5\\ubd80\", \"\\uae30\\uacc4\\uc758\\uc7a5\\ubd80\", \"\\uae30\\uacc4\\uc758\\uc7a5\\ubd80\", \"\\uae30\\uacc4\\uc758\\uc7a5\\ubd80\", \"\\uae30\\uacc4\\uc758\\uc7a5\\ubd80\", \"\\uae30\\uacc4\\uc758\\uc7a5\\ubd80\", \"\\uae30\\uacc4\\uc758\\uc7a5\\ubd80\", \"\\uae30\\uacc4\\uc758\\uc7a5\\ubd80\", \"\\uae30\\uacc4\\uc758\\uc7a5\\ubd80\", \"\\uae30\\uacc4\\uc758\\uc7a5\\ubd80\", \"\\uae30\\uacc4\\uc758\\uc7a5\\ubd80\", \"\\uae30\\uacc4\\uc758\\uc7a5\\ubd80\", \"\\uae30\\uacc4\\uc758\\uc7a5\\ubd80\", \"\\uae30\\uacc4\\uc758\\uc7a5\\ubd80\", \"\\uae30\\uacc4\\uc758\\uc7a5\\ubd80\", \"\\uae30\\uacc4\\uc758\\uc7a5\\ubd80\", \"\\uae30\\uacc4\\uc758\\uc7a5\\ubd80\", \"\\uae30\\uacc4\\uc758\\uc7a5\\ubd80\", \"\\uae30\\uacc4\\uc758\\uc7a5\\ubd80\", \"\\uae30\\uacc4\\uc758\\uc7a5\\ubd80\", \"\\uae30\\uacc4\\uc758\\uc7a5\\ubd80\", \"\\uae30\\uacc4\\uc758\\uc7a5\\ubd80\", \"\\uae30\\uacc4\\uc758\\uc7a5\\ubd80\", \"\\uae30\\uacc4\\uc758\\uc7a5\\ubd80\", \"\\uae30\\uacc4\\uc758\\uc7a5\\ubd80\"], \"yaxis\": \"y\"}, {\"alignmentgroup\": \"True\", \"customdata\": [[\"\\uae30\\ub2a5\", \"Lug \\uc81c\\uac70\", 50.0], [\"\\uae30\\ub2a5\", \"Back Heating\", 30.0], [\"\\uae30\\ub2a5\", \"\\uace0\\uc18c\\ucc28 \\uc810\\uac80 \\ubc0f \\uc6b4\\uc804\", 100.0], [\"\\uae30\\ub2a5\", \"\\uace4\\ub3cc\\ub77c \\uc6b4\\uc804\\uc791\\uc5c5\", 80.0], [\"\\uae30\\ub2a5\", \"\\uc9c0\\uac8c\\ucc28 \\uc6b4\\ud589 \\ubc0f \\uc0c1\\ud558\\ucc28 \\uc791\\uc5c5\", 130.0], [\"\\uae30\\ub2a5\", \"\\uce74\\ud06c\\ub808\\uc778 \\uc0c1\\ud558\\ucc28 \\uc791\\uc5c5\", 150.0], [\"\\uae30\\ub2a5\", \"\\uace0\\uc18c\\ucc28 \\uc810\\uac80 \\ubc0f \\uc6b4\\uc804\", 100.0], [\"\\uae30\\ub2a5\", \"\\uace4\\ub3cc\\ub77c \\uc6b4\\uc804\\uc791\\uc5c5\", 80.0], [\"\\uae30\\ub2a5\", \"\\uc9c0\\uac8c\\ucc28 \\uc6b4\\ud589 \\ubc0f \\uc0c1\\ud558\\ucc28 \\uc791\\uc5c5\", 130.0], [\"\\uae30\\ub2a5\", \"\\uce74\\ud06c\\ub808\\uc778 \\uc0c1\\ud558\\ucc28 \\uc791\\uc5c5\", 150.0], [\"\\uae30\\ub2a5\", \"\\uace0\\uc18c\\ucc28 \\uc810\\uac80 \\ubc0f \\uc6b4\\uc804\", 100.0], [\"\\uae30\\ub2a5\", \"\\uc9c0\\uac8c\\ucc28 \\uc6b4\\ud589 \\ubc0f \\uc0c1\\ud558\\ucc28 \\uc791\\uc5c5\", 130.0], [\"\\uae30\\ub2a5\", \"\\uce74\\ud06c\\ub808\\uc778 \\uc0c1\\ud558\\ucc28 \\uc791\\uc5c5\", 150.0], [\"\\uae30\\ub2a5\", \"\\uace0\\uc18c\\ucc28 \\uc810\\uac80 \\ubc0f \\uc6b4\\uc804\", 100.0], [\"\\uae30\\ub2a5\", \"\\uace4\\ub3cc\\ub77c \\uc6b4\\uc804\\uc791\\uc5c5\", 80.0], [\"\\uae30\\ub2a5\", \"\\uc9c0\\uac8c\\ucc28 \\uc6b4\\ud589 \\ubc0f \\uc0c1\\ud558\\ucc28 \\uc791\\uc5c5\", 130.0], [\"\\uae30\\ub2a5\", \"\\uce74\\ud06c\\ub808\\uc778 \\uc0c1\\ud558\\ucc28 \\uc791\\uc5c5\", 150.0], [\"\\uae30\\ub2a5\", \"\\uace0\\uc18c\\ucc28 \\uc810\\uac80 \\ubc0f \\uc6b4\\uc804\", 100.0], [\"\\uae30\\ub2a5\", \"\\uace4\\ub3cc\\ub77c \\uc6b4\\uc804\\uc791\\uc5c5\", 80.0], [\"\\uae30\\ub2a5\", \"\\uc9c0\\uac8c\\ucc28 \\uc6b4\\ud589 \\ubc0f \\uc0c1\\ud558\\ucc28 \\uc791\\uc5c5\", 130.0], [\"\\uae30\\ub2a5\", \"\\uce74\\ud06c\\ub808\\uc778 \\uc0c1\\ud558\\ucc28 \\uc791\\uc5c5\", 150.0], [\"\\uae30\\ub2a5\", \"\\uace0\\uc18c\\ucc28 \\uc810\\uac80 \\ubc0f \\uc6b4\\uc804\", 100.0], [\"\\uae30\\ub2a5\", \"\\uace4\\ub3cc\\ub77c \\uc6b4\\uc804\\uc791\\uc5c5\", 80.0], [\"\\uae30\\ub2a5\", \"\\uc9c0\\uac8c\\ucc28 \\uc6b4\\ud589 \\ubc0f \\uc0c1\\ud558\\ucc28 \\uc791\\uc5c5\", 130.0], [\"\\uae30\\ub2a5\", \"\\uce74\\ud06c\\ub808\\uc778 \\uc0c1\\ud558\\ucc28 \\uc791\\uc5c5\", 150.0], [\"\\uae30\\ub2a5\", \"\\uace0\\uc18c\\ucc28 \\uc810\\uac80 \\ubc0f \\uc6b4\\uc804\", 100.0], [\"\\uae30\\ub2a5\", \"\\uace4\\ub3cc\\ub77c \\uc6b4\\uc804\\uc791\\uc5c5\", 80.0], [\"\\uae30\\ub2a5\", \"\\uc9c0\\uac8c\\ucc28 \\uc6b4\\ud589 \\ubc0f \\uc0c1\\ud558\\ucc28 \\uc791\\uc5c5\", 130.0], [\"\\uae30\\ub2a5\", \"\\uce74\\ud06c\\ub808\\uc778 \\uc0c1\\ud558\\ucc28 \\uc791\\uc5c5\", 150.0], [\"\\uae30\\ub2a5\", \"\\uace0\\uc18c\\ucc28 \\uc810\\uac80 \\ubc0f \\uc6b4\\uc804\", 100.0], [\"\\uae30\\ub2a5\", \"\\uace4\\ub3cc\\ub77c \\uc6b4\\uc804\\uc791\\uc5c5\", 80.0], [\"\\uae30\\ub2a5\", \"\\uc9c0\\uac8c\\ucc28 \\uc6b4\\ud589 \\ubc0f \\uc0c1\\ud558\\ucc28 \\uc791\\uc5c5\", 130.0], [\"\\uae30\\ub2a5\", \"\\uce74\\ud06c\\ub808\\uc778 \\uc0c1\\ud558\\ucc28 \\uc791\\uc5c5\", 150.0], [\"\\uae30\\ub2a5\", \"\\uace0\\uc18c\\ucc28 \\uc810\\uac80 \\ubc0f \\uc6b4\\uc804\", 100.0], [\"\\uae30\\ub2a5\", \"\\uace4\\ub3cc\\ub77c \\uc6b4\\uc804\\uc791\\uc5c5\", 80.0], [\"\\uae30\\ub2a5\", \"\\uc9c0\\uac8c\\ucc28 \\uc6b4\\ud589 \\ubc0f \\uc0c1\\ud558\\ucc28 \\uc791\\uc5c5\", 130.0], [\"\\uae30\\ub2a5\", \"\\uce74\\ud06c\\ub808\\uc778 \\uc0c1\\ud558\\ucc28 \\uc791\\uc5c5\", 150.0], [\"\\uae30\\ub2a5\", \"\\uace0\\uc18c\\ucc28 \\uc810\\uac80 \\ubc0f \\uc6b4\\uc804\", 100.0], [\"\\uae30\\ub2a5\", \"\\uace4\\ub3cc\\ub77c \\uc6b4\\uc804\\uc791\\uc5c5\", 80.0], [\"\\uae30\\ub2a5\", \"\\uc9c0\\uac8c\\ucc28 \\uc6b4\\ud589 \\ubc0f \\uc0c1\\ud558\\ucc28 \\uc791\\uc5c5\", 130.0], [\"\\uae30\\ub2a5\", \"\\uce74\\ud06c\\ub808\\uc778 \\uc0c1\\ud558\\ucc28 \\uc791\\uc5c5\", 150.0], [\"\\uae30\\ub2a5\", \"\\uace0\\uc18c\\ucc28 \\uc810\\uac80 \\ubc0f \\uc6b4\\uc804\", 100.0], [\"\\uae30\\ub2a5\", \"\\uace4\\ub3cc\\ub77c \\uc6b4\\uc804\\uc791\\uc5c5\", 80.0], [\"\\uae30\\ub2a5\", \"\\uc9c0\\uac8c\\ucc28 \\uc6b4\\ud589 \\ubc0f \\uc0c1\\ud558\\ucc28 \\uc791\\uc5c5\", 130.0], [\"\\uae30\\ub2a5\", \"\\uce74\\ud06c\\ub808\\uc778 \\uc0c1\\ud558\\ucc28 \\uc791\\uc5c5\", 150.0], [\"\\uae30\\ub2a5\", \"\\uace0\\uc18c\\ucc28 \\uc810\\uac80 \\ubc0f \\uc6b4\\uc804\", 100.0], [\"\\uae30\\ub2a5\", \"\\uace4\\ub3cc\\ub77c \\uc6b4\\uc804\\uc791\\uc5c5\", 80.0], [\"\\uae30\\ub2a5\", \"\\uc9c0\\uac8c\\ucc28 \\uc6b4\\ud589 \\ubc0f \\uc0c1\\ud558\\ucc28 \\uc791\\uc5c5\", 130.0], [\"\\uae30\\ub2a5\", \"\\uce74\\ud06c\\ub808\\uc778 \\uc0c1\\ud558\\ucc28 \\uc791\\uc5c5\", 150.0], [\"\\uae30\\ub2a5\", \"\\uace0\\uc18c\\ucc28 \\uc810\\uac80 \\ubc0f \\uc6b4\\uc804\", 100.0], [\"\\uae30\\ub2a5\", \"\\uace4\\ub3cc\\ub77c \\uc6b4\\uc804\\uc791\\uc5c5\", 80.0], [\"\\uae30\\ub2a5\", \"\\uc9c0\\uac8c\\ucc28 \\uc6b4\\ud589 \\ubc0f \\uc0c1\\ud558\\ucc28 \\uc791\\uc5c5\", 130.0], [\"\\uae30\\ub2a5\", \"\\uce74\\ud06c\\ub808\\uc778 \\uc0c1\\ud558\\ucc28 \\uc791\\uc5c5\", 150.0], [\"\\uae30\\ub2a5\", \"\\uace0\\uc18c\\ucc28 \\uc810\\uac80 \\ubc0f \\uc6b4\\uc804\", 100.0], [\"\\uae30\\ub2a5\", \"\\uace4\\ub3cc\\ub77c \\uc6b4\\uc804\\uc791\\uc5c5\", 80.0], [\"\\uae30\\ub2a5\", \"\\uc9c0\\uac8c\\ucc28 \\uc6b4\\ud589 \\ubc0f \\uc0c1\\ud558\\ucc28 \\uc791\\uc5c5\", 130.0], [\"\\uae30\\ub2a5\", \"\\uce74\\ud06c\\ub808\\uc778 \\uc0c1\\ud558\\ucc28 \\uc791\\uc5c5\", 150.0], [\"\\uae30\\ub2a5\", \"\\uace0\\uc18c\\ucc28 \\uc810\\uac80 \\ubc0f \\uc6b4\\uc804\", 100.0], [\"\\uae30\\ub2a5\", \"\\uace4\\ub3cc\\ub77c \\uc6b4\\uc804\\uc791\\uc5c5\", 80.0], [\"\\uae30\\ub2a5\", \"\\uc9c0\\uac8c\\ucc28 \\uc6b4\\ud589 \\ubc0f \\uc0c1\\ud558\\ucc28 \\uc791\\uc5c5\", 130.0], [\"\\uae30\\ub2a5\", \"\\uce74\\ud06c\\ub808\\uc778 \\uc0c1\\ud558\\ucc28 \\uc791\\uc5c5\", 150.0], [\"\\uae30\\ub2a5\", \"\\uace0\\uc18c\\ucc28 \\uc810\\uac80 \\ubc0f \\uc6b4\\uc804\", 100.0], [\"\\uae30\\ub2a5\", \"\\uace4\\ub3cc\\ub77c \\uc6b4\\uc804\\uc791\\uc5c5\", 80.0], [\"\\uae30\\ub2a5\", \"\\uc9c0\\uac8c\\ucc28 \\uc6b4\\ud589 \\ubc0f \\uc0c1\\ud558\\ucc28 \\uc791\\uc5c5\", 130.0], [\"\\uae30\\ub2a5\", \"\\uce74\\ud06c\\ub808\\uc778 \\uc0c1\\ud558\\ucc28 \\uc791\\uc5c5\", 150.0], [\"\\uae30\\ub2a5\", \"\\uace0\\uc18c\\ucc28 \\uc810\\uac80 \\ubc0f \\uc6b4\\uc804\", 100.0], [\"\\uae30\\ub2a5\", \"\\uace4\\ub3cc\\ub77c \\uc6b4\\uc804\\uc791\\uc5c5\", 80.0], [\"\\uae30\\ub2a5\", \"\\uc9c0\\uac8c\\ucc28 \\uc6b4\\ud589 \\ubc0f \\uc0c1\\ud558\\ucc28 \\uc791\\uc5c5\", 130.0], [\"\\uae30\\ub2a5\", \"\\uce74\\ud06c\\ub808\\uc778 \\uc0c1\\ud558\\ucc28 \\uc791\\uc5c5\", 150.0], [\"\\uae30\\ub2a5\", \"\\uace0\\uc18c\\ucc28 \\uc810\\uac80 \\ubc0f \\uc6b4\\uc804\", 100.0], [\"\\uae30\\ub2a5\", \"\\uace4\\ub3cc\\ub77c \\uc6b4\\uc804\\uc791\\uc5c5\", 80.0], [\"\\uae30\\ub2a5\", \"\\ub9c8\\uc774\\ud2f0 \\uce74 \\ud06c\\ub808\\uc778 \\uc791\\uc5c5 \\ubc29\\ubc95\", 0.0], [\"\\uae30\\ub2a5\", \"\\uc9c0\\uac8c\\ucc28 \\uc6b4\\ud589 \\ubc0f \\uc0c1\\ud558\\ucc28 \\uc791\\uc5c5\", 130.0], [\"\\uae30\\ub2a5\", \"\\uce74\\ud06c\\ub808\\uc778 \\uc0c1\\ud558\\ucc28 \\uc791\\uc5c5\", 150.0], [\"\\uae30\\ub2a5\", \"\\uc9c0\\uac8c\\ucc28 \\uc6b4\\ud589 \\ubc0f \\uc0c1\\ud558\\ucc28 \\uc791\\uc5c5\", 130.0], [\"\\uae30\\ub2a5\", \"\\uce74\\ud06c\\ub808\\uc778 \\uc0c1\\ud558\\ucc28 \\uc791\\uc5c5\", 150.0], [\"\\uae30\\ub2a5\", \"\\uace0\\uc18c\\ucc28 \\uc810\\uac80 \\ubc0f \\uc6b4\\uc804\", 100.0], [\"\\uae30\\ub2a5\", \"\\uace4\\ub3cc\\ub77c \\uc6b4\\uc804\\uc791\\uc5c5\", 80.0], [\"\\uae30\\ub2a5\", \"\\uace0\\uc18c\\ucc28 \\uc810\\uac80 \\ubc0f \\uc6b4\\uc804\", 100.0], [\"\\uae30\\ub2a5\", \"\\uace4\\ub3cc\\ub77c \\uc6b4\\uc804\\uc791\\uc5c5\", 80.0], [\"\\uae30\\ub2a5\", \"\\uc9c0\\uac8c\\ucc28 \\uc6b4\\ud589 \\ubc0f \\uc0c1\\ud558\\ucc28 \\uc791\\uc5c5\", 130.0], [\"\\uae30\\ub2a5\", \"\\uce74\\ud06c\\ub808\\uc778 \\uc0c1\\ud558\\ucc28 \\uc791\\uc5c5\", 150.0], [\"\\uae30\\ub2a5\", \"\\uace0\\uc18c\\ucc28 \\uc810\\uac80 \\ubc0f \\uc6b4\\uc804\", 100.0], [\"\\uae30\\ub2a5\", \"\\uace4\\ub3cc\\ub77c \\uc6b4\\uc804\\uc791\\uc5c5\", 80.0], [\"\\uae30\\ub2a5\", \"\\uc9c0\\uac8c\\ucc28 \\uc6b4\\ud589 \\ubc0f \\uc0c1\\ud558\\ucc28 \\uc791\\uc5c5\", 130.0], [\"\\uae30\\ub2a5\", \"\\uce74\\ud06c\\ub808\\uc778 \\uc0c1\\ud558\\ucc28 \\uc791\\uc5c5\", 150.0], [\"\\uae30\\ub2a5\", \"\\uace0\\uc18c\\ucc28 \\uc810\\uac80 \\ubc0f \\uc6b4\\uc804\", 100.0], [\"\\uae30\\ub2a5\", \"\\uace4\\ub3cc\\ub77c \\uc6b4\\uc804\\uc791\\uc5c5\", 80.0], [\"\\uae30\\ub2a5\", \"\\uc9c0\\uac8c\\ucc28 \\uc6b4\\ud589 \\ubc0f \\uc0c1\\ud558\\ucc28 \\uc791\\uc5c5\", 130.0], [\"\\uae30\\ub2a5\", \"\\uce74\\ud06c\\ub808\\uc778 \\uc0c1\\ud558\\ucc28 \\uc791\\uc5c5\", 150.0], [\"\\uae30\\ub2a5\", \"\\uace0\\uc18c\\ucc28 \\uc810\\uac80 \\ubc0f \\uc6b4\\uc804\", 100.0], [\"\\uae30\\ub2a5\", \"\\uc9c0\\uac8c\\ucc28 \\uc6b4\\ud589 \\ubc0f \\uc0c1\\ud558\\ucc28 \\uc791\\uc5c5\", 130.0], [\"\\uae30\\ub2a5\", \"\\uce74\\ud06c\\ub808\\uc778 \\uc0c1\\ud558\\ucc28 \\uc791\\uc5c5\", 150.0], [\"\\uae30\\ub2a5\", \"\\uace0\\uc18c\\ucc28 \\uc810\\uac80 \\ubc0f \\uc6b4\\uc804\", 100.0], [\"\\uae30\\ub2a5\", \"\\uace4\\ub3cc\\ub77c \\uc6b4\\uc804\\uc791\\uc5c5\", 80.0], [\"\\uae30\\ub2a5\", \"\\uc9c0\\uac8c\\ucc28 \\uc6b4\\ud589 \\ubc0f \\uc0c1\\ud558\\ucc28 \\uc791\\uc5c5\", 130.0], [\"\\uae30\\ub2a5\", \"\\uce74\\ud06c\\ub808\\uc778 \\uc0c1\\ud558\\ucc28 \\uc791\\uc5c5\", 150.0], [\"\\uae30\\ub2a5\", \"\\uace0\\uc18c\\ucc28 \\uc810\\uac80 \\ubc0f \\uc6b4\\uc804\", 100.0], [\"\\uae30\\ub2a5\", \"\\uace4\\ub3cc\\ub77c \\uc6b4\\uc804\\uc791\\uc5c5\", 80.0], [\"\\uae30\\ub2a5\", \"\\uc2a4\\ud0a4\\ub4dc\\ub85c\\ub354 \\uc6b4\\uc804\", 130.0], [\"\\uae30\\ub2a5\", \"\\uace0\\uc18c\\ucc28 \\uc810\\uac80 \\ubc0f \\uc6b4\\uc804\", 100.0], [\"\\uae30\\ub2a5\", \"\\uace4\\ub3cc\\ub77c \\uc6b4\\uc804\\uc791\\uc5c5\", 80.0], [\"\\uae30\\ub2a5\", \"\\uace0\\uc18c\\ucc28 \\uc810\\uac80 \\ubc0f \\uc6b4\\uc804\", 100.0], [\"\\uae30\\ub2a5\", \"\\uace4\\ub3cc\\ub77c \\uc6b4\\uc804\\uc791\\uc5c5\", 80.0], [\"\\uae30\\ub2a5\", \"\\uace0\\uc18c\\ucc28 \\uc810\\uac80 \\ubc0f \\uc6b4\\uc804\", 100.0], [\"\\uae30\\ub2a5\", \"\\uace4\\ub3cc\\ub77c \\uc6b4\\uc804\\uc791\\uc5c5\", 80.0], [\"\\uae30\\ub2a5\", \"\\uc9c0\\uac8c\\ucc28 \\uc6b4\\ud589 \\ubc0f \\uc0c1\\ud558\\ucc28 \\uc791\\uc5c5\", 130.0], [\"\\uae30\\ub2a5\", \"\\uce74\\ud06c\\ub808\\uc778 \\uc0c1\\ud558\\ucc28 \\uc791\\uc5c5\", 150.0], [\"\\uae30\\ub2a5\", \"\\ud654\\ubb3c\\ucc28\\ub7c9(1/2.5/5ton) \\uc6b4\\uc804 \\ubc0f \\uc8fc\\uc815\\ucc28\", 60.0], [\"\\uae30\\ub2a5\", \"\\ud654\\ubb3c\\ucc28\\ub7c9(1/2.5/5ton) \\uc6b4\\uc804 \\ubc0f \\uc8fc\\uc815\\ucc28\", 60.0], [\"\\uae30\\ub2a5\", \"\\ud654\\ubb3c\\ucc28\\ub7c9(1/2.5/5ton) \\uc6b4\\uc804 \\ubc0f \\uc8fc\\uc815\\ucc28\", 60.0], [\"\\uae30\\ub2a5\", \"\\ud654\\ubb3c\\ucc28\\ub7c9(1/2.5/5ton) \\uc6b4\\uc804 \\ubc0f \\uc8fc\\uc815\\ucc28\", 60.0], [\"\\uae30\\ub2a5\", \"\\ud654\\ubb3c\\ucc28\\ub7c9(1/2.5/5ton) \\uc6b4\\uc804 \\ubc0f \\uc8fc\\uc815\\ucc28\", 60.0], [\"\\uae30\\ub2a5\", \"\\ud654\\ubb3c\\ucc28\\ub7c9(1/2.5/5ton) \\uc6b4\\uc804 \\ubc0f \\uc8fc\\uc815\\ucc28\", 60.0], [\"\\uae30\\ub2a5\", \"\\ud654\\ubb3c\\ucc28\\ub7c9(1/2.5/5ton) \\uc6b4\\uc804 \\ubc0f \\uc8fc\\uc815\\ucc28\", 60.0], [\"\\uae30\\ub2a5\", \"\\ud654\\ubb3c\\ucc28\\ub7c9(1/2.5/5ton) \\uc6b4\\uc804 \\ubc0f \\uc8fc\\uc815\\ucc28\", 60.0], [\"\\uae30\\ub2a5\", \"\\ud654\\ubb3c\\ucc28\\ub7c9(1/2.5/5ton) \\uc6b4\\uc804 \\ubc0f \\uc8fc\\uc815\\ucc28\", 60.0], [\"\\uae30\\ub2a5\", \"\\ud654\\ubb3c\\ucc28\\ub7c9(1/2.5/5ton) \\uc6b4\\uc804 \\ubc0f \\uc8fc\\uc815\\ucc28\", 60.0], [\"\\uae30\\ub2a5\", \"\\ud654\\ubb3c\\ucc28\\ub7c9(1/2.5/5ton) \\uc6b4\\uc804 \\ubc0f \\uc8fc\\uc815\\ucc28\", 60.0], [\"\\uae30\\ub2a5\", \"\\ud654\\ubb3c\\ucc28\\ub7c9(1/2.5/5ton) \\uc6b4\\uc804 \\ubc0f \\uc8fc\\uc815\\ucc28\", 60.0], [\"\\uae30\\ub2a5\", \"\\ud654\\ubb3c\\ucc28\\ub7c9(1/2.5/5ton) \\uc6b4\\uc804 \\ubc0f \\uc8fc\\uc815\\ucc28\", 60.0], [\"\\uae30\\ub2a5\", \"\\ud654\\ubb3c\\ucc28\\ub7c9(1/2.5/5ton) \\uc6b4\\uc804 \\ubc0f \\uc8fc\\uc815\\ucc28\", 60.0], [\"\\uae30\\ub2a5\", \"\\ud654\\ubb3c\\ucc28\\ub7c9(1/2.5/5ton) \\uc6b4\\uc804 \\ubc0f \\uc8fc\\uc815\\ucc28\", 60.0], [\"\\uae30\\ub2a5\", \"\\ud654\\ubb3c\\ucc28\\ub7c9(1/2.5/5ton) \\uc6b4\\uc804 \\ubc0f \\uc8fc\\uc815\\ucc28\", 60.0], [\"\\uae30\\ub2a5\", \"\\ud654\\ubb3c\\ucc28\\ub7c9(1/2.5/5ton) \\uc6b4\\uc804 \\ubc0f \\uc8fc\\uc815\\ucc28\", 60.0], [\"\\uae30\\ub2a5\", \"\\ud654\\ubb3c\\ucc28\\ub7c9(1/2.5/5ton) \\uc6b4\\uc804 \\ubc0f \\uc8fc\\uc815\\ucc28\", 60.0], [\"\\uae30\\ub2a5\", \"\\ud654\\ubb3c\\ucc28\\ub7c9(1/2.5/5ton) \\uc6b4\\uc804 \\ubc0f \\uc8fc\\uc815\\ucc28\", 60.0], [\"\\uae30\\ub2a5\", \"\\ud654\\ubb3c\\ucc28\\ub7c9(1/2.5/5ton) \\uc6b4\\uc804 \\ubc0f \\uc8fc\\uc815\\ucc28\", 60.0], [\"\\uae30\\ub2a5\", \"\\ud654\\ubb3c\\ucc28\\ub7c9(1/2.5/5ton) \\uc6b4\\uc804 \\ubc0f \\uc8fc\\uc815\\ucc28\", 60.0], [\"\\uae30\\ub2a5\", \"\\ud654\\ubb3c\\ucc28\\ub7c9(1/2.5/5ton) \\uc6b4\\uc804 \\ubc0f \\uc8fc\\uc815\\ucc28\", 60.0], [\"\\uae30\\ub2a5\", \"\\ud654\\ubb3c\\ucc28\\ub7c9(1/2.5/5ton) \\uc6b4\\uc804 \\ubc0f \\uc8fc\\uc815\\ucc28\", 60.0], [\"\\uae30\\ub2a5\", \"\\ud654\\ubb3c\\ucc28\\ub7c9(1/2.5/5ton) \\uc6b4\\uc804 \\ubc0f \\uc8fc\\uc815\\ucc28\", 60.0], [\"\\uae30\\ub2a5\", \"\\ud654\\ubb3c\\ucc28\\ub7c9(1/2.5/5ton) \\uc6b4\\uc804 \\ubc0f \\uc8fc\\uc815\\ucc28\", 60.0], [\"\\uae30\\ub2a5\", \"\\uc0ac\\ub0b4/\\uc0dd\\uc0b0\\ud604\\uc7a5 \\uc774\\ub3d9\", 130.0], [\"\\uae30\\ub2a5\", \"\\uc0ac\\ub0b4/\\uc0dd\\uc0b0\\ud604\\uc7a5 \\uc774\\ub3d9\", 130.0], [\"\\uae30\\ub2a5\", \"\\uc0ac\\ub0b4/\\uc0dd\\uc0b0\\ud604\\uc7a5 \\uc774\\ub3d9\", 130.0], [\"\\uae30\\ub2a5\", \"\\uc0ac\\ub0b4/\\uc0dd\\uc0b0\\ud604\\uc7a5 \\uc774\\ub3d9\", 130.0], [\"\\uae30\\ub2a5\", \"\\uc0ac\\ub0b4/\\uc0dd\\uc0b0\\ud604\\uc7a5 \\uc774\\ub3d9\", 130.0], [\"\\uae30\\ub2a5\", \"\\uc0ac\\ub0b4/\\uc0dd\\uc0b0\\ud604\\uc7a5 \\uc774\\ub3d9\", 130.0], [\"\\uae30\\ub2a5\", \"\\uc0ac\\ub0b4/\\uc0dd\\uc0b0\\ud604\\uc7a5 \\uc774\\ub3d9\", 130.0], [\"\\uae30\\ub2a5\", \"\\uc0ac\\ub0b4/\\uc0dd\\uc0b0\\ud604\\uc7a5 \\uc774\\ub3d9\", 130.0], [\"\\uae30\\ub2a5\", \"\\uc0ac\\ub0b4/\\uc0dd\\uc0b0\\ud604\\uc7a5 \\uc774\\ub3d9\", 130.0], [\"\\uae30\\ub2a5\", \"\\uc0ac\\ub0b4/\\uc0dd\\uc0b0\\ud604\\uc7a5 \\uc774\\ub3d9\", 130.0], [\"\\uae30\\ub2a5\", \"\\uc0ac\\ub0b4/\\uc0dd\\uc0b0\\ud604\\uc7a5 \\uc774\\ub3d9\", 130.0], [\"\\uae30\\ub2a5\", \"\\uc0ac\\ub0b4/\\uc0dd\\uc0b0\\ud604\\uc7a5 \\uc774\\ub3d9\", 130.0], [\"\\uae30\\ub2a5\", \"\\uc0ac\\ub0b4/\\uc0dd\\uc0b0\\ud604\\uc7a5 \\uc774\\ub3d9\", 130.0], [\"\\uae30\\ub2a5\", \"\\uc0ac\\ub0b4/\\uc0dd\\uc0b0\\ud604\\uc7a5 \\uc774\\ub3d9\", 130.0], [\"\\uae30\\ub2a5\", \"\\uc0ac\\ub0b4/\\uc0dd\\uc0b0\\ud604\\uc7a5 \\uc774\\ub3d9\", 130.0], [\"\\uae30\\ub2a5\", \"\\uc0ac\\ub0b4/\\uc0dd\\uc0b0\\ud604\\uc7a5 \\uc774\\ub3d9\", 130.0], [\"\\uae30\\ub2a5\", \"\\uc0ac\\ub0b4/\\uc0dd\\uc0b0\\ud604\\uc7a5 \\uc774\\ub3d9\", 130.0], [\"\\uae30\\ub2a5\", \"\\uc0ac\\ub0b4/\\uc0dd\\uc0b0\\ud604\\uc7a5 \\uc774\\ub3d9\", 130.0], [\"\\uae30\\ub2a5\", \"\\uc0ac\\ub0b4/\\uc0dd\\uc0b0\\ud604\\uc7a5 \\uc774\\ub3d9\", 130.0], [\"\\uae30\\ub2a5\", \"\\uc0ac\\ub0b4/\\uc0dd\\uc0b0\\ud604\\uc7a5 \\uc774\\ub3d9\", 130.0], [\"\\uae30\\ub2a5\", \"\\uc0ac\\ub0b4/\\uc0dd\\uc0b0\\ud604\\uc7a5 \\uc774\\ub3d9\", 130.0], [\"\\uae30\\ub2a5\", \"\\uc0ac\\ub0b4/\\uc0dd\\uc0b0\\ud604\\uc7a5 \\uc774\\ub3d9\", 130.0], [\"\\uae30\\ub2a5\", \"\\uc0ac\\ub0b4/\\uc0dd\\uc0b0\\ud604\\uc7a5 \\uc774\\ub3d9\", 130.0], [\"\\uae30\\ub2a5\", \"\\uc0ac\\ub0b4/\\uc0dd\\uc0b0\\ud604\\uc7a5 \\uc774\\ub3d9\", 130.0], [\"\\uae30\\ub2a5\", \"\\uc0ac\\ub0b4/\\uc0dd\\uc0b0\\ud604\\uc7a5 \\uc774\\ub3d9\", 130.0], [\"\\uae30\\ub2a5\", \"\\uc0ac\\ub0b4/\\uc0dd\\uc0b0\\ud604\\uc7a5 \\uc774\\ub3d9\", 130.0], [\"\\uae30\\ub2a5\", \"\\uc0ac\\ub0b4/\\uc0dd\\uc0b0\\ud604\\uc7a5 \\uc774\\ub3d9\", 130.0], [\"\\uae30\\ub2a5\", \"\\uc0ac\\ub0b4/\\uc0dd\\uc0b0\\ud604\\uc7a5 \\uc774\\ub3d9\", 130.0], [\"\\uae30\\ub2a5\", \"Airless \\ud38c\\ud504 \\uc774\\uc6a9\\ud55c \\ub3c4\\uc7a5\\uc791\\uc5c5\", 80.0], [\"\\uae30\\ub2a5\", \"Longi. \\ub3c4\\uc7a5 \\uc791\\uc5c5\", 20.0], [\"\\uae30\\ub2a5\", \"Airless \\ud38c\\ud504 \\uc774\\uc6a9\\ud55c \\ub3c4\\uc7a5\\uc791\\uc5c5\", 80.0], [\"\\uae30\\ub2a5\", \"Longi. \\ub3c4\\uc7a5 \\uc791\\uc5c5\", 20.0], [\"\\uae30\\ub2a5\", \"Overhead Spray\\uc7a5\\ube44 \\ub3c4\\uc7a5 \\uc791\\uc5c5\", 90.0], [\"\\uae30\\ub2a5\", \"Block\\ubcc4 \\ub3c4\\uc7a5\\uad6c\\ud68d Marking\", 80.0], [\"\\uae30\\ub2a5\", \"\\uadf8\\ub77c\\uc778\\ub529\", 40.0], [\"\\uae30\\ub2a5\", \"\\uadf8\\ub77c\\uc778\\ub529\", 40.0], [\"\\uae30\\ub2a5\", \"\\uadf8\\ub77c\\uc778\\ub529\", 40.0], [\"\\uae30\\ub2a5\", \"\\uadf8\\ub77c\\uc778\\ub529\", 40.0], [\"\\uae30\\ub2a5\", \"\\uadf8\\ub77c\\uc778\\ub529\", 40.0], [\"\\uae30\\ub2a5\", \"\\uadf8\\ub77c\\uc778\\ub529\", 40.0], [\"\\uae30\\ub2a5\", \"\\uadf8\\ub77c\\uc778\\ub529\", 40.0], [\"\\uae30\\ub2a5\", \"\\uadf8\\ub77c\\uc778\\ub529\", 40.0], [\"\\uae30\\ub2a5\", \"\\uadf8\\ub77c\\uc778\\ub529\", 40.0], [\"\\uae30\\ub2a5\", \"\\uadf8\\ub77c\\uc778\\ub529\", 40.0], [\"\\uae30\\ub2a5\", \"\\uadf8\\ub77c\\uc778\\ub529\", 40.0], [\"\\uae30\\ub2a5\", \"\\uadf8\\ub77c\\uc778\\ub529\", 40.0], [\"\\uae30\\ub2a5\", \"\\uadf8\\ub77c\\uc778\\ub529\", 40.0], [\"\\uae30\\ub2a5\", \"\\uadf8\\ub77c\\uc778\\ub529\", 40.0], [\"\\uae30\\ub2a5\", \"\\uadf8\\ub77c\\uc778\\ub529\", 40.0], [\"\\uae30\\ub2a5\", \"\\uadf8\\ub77c\\uc778\\ub529\", 40.0], [\"\\uae30\\ub2a5\", \"\\uadf8\\ub77c\\uc778\\ub529\", 40.0], [\"\\uae30\\ub2a5\", \"\\uadf8\\ub77c\\uc778\\ub529\", 40.0], [\"\\uae30\\ub2a5\", \"\\uadf8\\ub77c\\uc778\\ub529\", 40.0], [\"\\uae30\\ub2a5\", \"\\uadf8\\ub77c\\uc778\\ub529\", 40.0], [\"\\uae30\\ub2a5\", \"\\uadf8\\ub77c\\uc778\\ub529\", 50.0], [\"\\uae30\\ub2a5\", \"\\ub9c8\\ud0b9\", 100.0], [\"\\uae30\\ub2a5\", \"\\uace1\\uc678\\ud310 \\ub9c8\\ud0b9\", 40.0], [\"\\uae30\\ub2a5\", \"\\ub9c8\\ud0b9\", 100.0], [\"\\uae30\\ub2a5\", \"\\uace1\\uc678\\ud310 \\ub9c8\\ud0b9\", 40.0], [\"\\uae30\\ub2a5\", \"\\ub9c8\\ud0b9\", 100.0], [\"\\uae30\\ub2a5\", \"\\ub9c8\\ud0b9\", 110.0], [\"\\uae30\\ub2a5\", \"FCAW \\ubc18\\uc790\\ub3d9 \\uc6a9\\uc811(CO2 \\uc6a9\\uc811)\", 140.0], [\"\\uae30\\ub2a5\", \"FCAW \\ubc18\\uc790\\ub3d9 \\uc6a9\\uc811(CO2 \\uc6a9\\uc811)\", 140.0], [\"\\uae30\\ub2a5\", \"FCAW \\ubc18\\uc790\\ub3d9 \\uc6a9\\uc811(CO2 \\uc6a9\\uc811)\", 150.0], [\"\\uae30\\ub2a5\", \"40 Pole \\uc790\\ub3d9\\uc6a9\\uc811 (\\ubd80\\uc11c\\ubcc4 Pole \\uc218\\uc5d0 \\ub9de\\uac8c \\uac80\\ud1a0 \\uc694\\ub9dd)\", 80.0], [\"\\uae30\\ub2a5\", \"FCAW \\ubc18\\uc790\\ub3d9 \\uc6a9\\uc811(CO2 \\uc6a9\\uc811)\", 140.0], [\"\\uae30\\ub2a5\", \"SW-41 \\uc6a9\\uc811\", 50.0], [\"\\uae30\\ub2a5\", \"\\uc18c\\ubd80\\uc7ac \\ucde8\\ubd80_\\uc218\\ub3d9\", 100.0], [\"\\uae30\\ub2a5\", \"\\uc624\\ud1a0 \\uce90\\ub9ac\\uc9c0 \\uc6a9\\uc811(FCAW \\uc790\\ub3d9)\", 70.0], [\"\\uae30\\ub2a5\", \"\\ucde8\\ubd80\", 40.0], [\"\\uae30\\ub2a5\", \"\\ud615\\uac15 \\ucde8\\ubd80\\uc791\\uc5c5_\\uc790\\ub3d9\", 90.0], [\"\\uae30\\ub2a5\", \"EGW \\uc6a9\\uc811(\\uac74\\uc870)\", 360.0], [\"\\uae30\\ub2a5\", \"FCAW \\ubc18\\uc790\\ub3d9 \\uc6a9\\uc811(CO2 \\uc6a9\\uc811)\", 140.0], [\"\\uae30\\ub2a5\", \"SW-41 \\uc6a9\\uc811\", 50.0], [\"\\uae30\\ub2a5\", \"\\uc624\\ud1a0 \\uce90\\ub9ac\\uc9c0 \\uc6a9\\uc811(FCAW \\uc790\\ub3d9)\", 70.0], [\"\\uae30\\ub2a5\", \"EGW \\uc6a9\\uc811(\\uac74\\uc870)\", 400.0], [\"\\uae30\\ub2a5\", \"FCAW \\ubc18\\uc790\\ub3d9 \\uc6a9\\uc811(CO2 \\uc6a9\\uc811)\", 140.0], [\"\\uae30\\ub2a5\", \"SW-41 \\uc6a9\\uc811\", 40.0], [\"\\uae30\\ub2a5\", \"\\uc624\\ud1a0 \\uce90\\ub9ac\\uc9c0 \\uc6a9\\uc811(FCAW \\uc790\\ub3d9)\", 80.0], [\"\\uae30\\ub2a5\", \"EGW \\uc6a9\\uc811(\\uac74\\uc870)\", 400.0], [\"\\uae30\\ub2a5\", \"FCAW \\ubc18\\uc790\\ub3d9 \\uc6a9\\uc811(CO2 \\uc6a9\\uc811)\", 140.0], [\"\\uae30\\ub2a5\", \"SW-41 \\uc6a9\\uc811\", 50.0], [\"\\uae30\\ub2a5\", \"\\uc624\\ud1a0 \\uce90\\ub9ac\\uc9c0 \\uc6a9\\uc811(FCAW \\uc790\\ub3d9)\", 70.0], [\"\\uae30\\ub2a5\", \"FCAW \\ubc18\\uc790\\ub3d9 \\uc6a9\\uc811(CO2 \\uc6a9\\uc811)\", 140.0], [\"\\uae30\\ub2a5\", \"40 Pole \\uc790\\ub3d9\\uc6a9\\uc811 (\\ubd80\\uc11c\\ubcc4 Pole \\uc218\\uc5d0 \\ub9de\\uac8c \\uac80\\ud1a0 \\uc694\\ub9dd)\", 70.0], [\"\\uae30\\ub2a5\", \"EGW \\uc6a9\\uc811(\\ub0b4\\uc5c5)\", 140.0], [\"\\uae30\\ub2a5\", \"FCAW \\ubc18\\uc790\\ub3d9 \\uc6a9\\uc811(CO2 \\uc6a9\\uc811)\", 140.0], [\"\\uae30\\ub2a5\", \"HEBE SAW \\uc790\\ub3d9\\uc6a9\\uc811\", 120.0], [\"\\uae30\\ub2a5\", \"SW-41 \\uc6a9\\uc811\", 50.0], [\"\\uae30\\ub2a5\", \"\\uace1\\uc678\\ud310 \\ud310\\uacc4\", 130.0], [\"\\uae30\\ub2a5\", \"\\uace1\\uc911\\uc870 \\ucde8\\ubd80\", 90.0], [\"\\uae30\\ub2a5\", \"\\uc18c\\ubd80\\uc7ac \\ucde8\\ubd80_\\uc218\\ub3d9\", 90.0], [\"\\uae30\\ub2a5\", \"\\uc624\\ud1a0 \\uce90\\ub9ac\\uc9c0 \\uc6a9\\uc811(FCAW \\uc790\\ub3d9)\", 60.0], [\"\\uae30\\ub2a5\", \"\\ud615\\uac15 \\ucde8\\ubd80\\uc791\\uc5c5_\\uc790\\ub3d9\", 30.0], [\"\\uae30\\ub2a5\", \"40 Pole \\uc790\\ub3d9\\uc6a9\\uc811 (\\ubd80\\uc11c\\ubcc4 Pole \\uc218\\uc5d0 \\ub9de\\uac8c \\uac80\\ud1a0 \\uc694\\ub9dd)\", 70.0], [\"\\uae30\\ub2a5\", \"EGW \\uc6a9\\uc811(\\ub0b4\\uc5c5)\", 140.0], [\"\\uae30\\ub2a5\", \"FCAW \\ubc18\\uc790\\ub3d9 \\uc6a9\\uc811(CO2 \\uc6a9\\uc811)\", 140.0], [\"\\uae30\\ub2a5\", \"HEBE SAW \\uc790\\ub3d9\\uc6a9\\uc811\", 120.0], [\"\\uae30\\ub2a5\", \"SW-41 \\uc6a9\\uc811\", 50.0], [\"\\uae30\\ub2a5\", \"\\uace1\\uc678\\ud310 \\ud310\\uacc4\", 130.0], [\"\\uae30\\ub2a5\", \"\\uace1\\uc911\\uc870 \\ucde8\\ubd80\", 90.0], [\"\\uae30\\ub2a5\", \"\\uc18c\\ubd80\\uc7ac \\ucde8\\ubd80_\\uc218\\ub3d9\", 90.0], [\"\\uae30\\ub2a5\", \"\\uc624\\ud1a0 \\uce90\\ub9ac\\uc9c0 \\uc6a9\\uc811(FCAW \\uc790\\ub3d9)\", 60.0], [\"\\uae30\\ub2a5\", \"\\ud615\\uac15 \\ucde8\\ubd80\\uc791\\uc5c5_\\uc790\\ub3d9\", 30.0], [\"\\uae30\\ub2a5\", \"FCAW \\ubc18\\uc790\\ub3d9 \\uc6a9\\uc811(CO2 \\uc6a9\\uc811)\", 140.0], [\"\\uae30\\ub2a5\", \"FCAW \\ubc18\\uc790\\ub3d9 \\uc6a9\\uc811(CO2 \\uc6a9\\uc811)\", 140.0], [\"\\uae30\\ub2a5\", \"FCAW \\ubc18\\uc790\\ub3d9 \\uc6a9\\uc811(CO2 \\uc6a9\\uc811)\", 140.0], [\"\\uae30\\ub2a5\", \"SW-41 \\uc6a9\\uc811\", 50.0], [\"\\uae30\\ub2a5\", \"FCAW \\ubc18\\uc790\\ub3d9 \\uc6a9\\uc811(CO2 \\uc6a9\\uc811)\", 140.0], [\"\\uae30\\ub2a5\", \"FCAW \\ubc18\\uc790\\ub3d9 \\uc6a9\\uc811(CO2 \\uc6a9\\uc811)\", 140.0], [\"\\uae30\\ub2a5\", \"FCAW \\ubc18\\uc790\\ub3d9 \\uc6a9\\uc811(CO2 \\uc6a9\\uc811)\", 140.0], [\"\\uae30\\ub2a5\", \"FCAW \\ubc18\\uc790\\ub3d9 \\uc6a9\\uc811(CO2 \\uc6a9\\uc811)\", 150.0], [\"\\uae30\\ub2a5\", \"COMBINED \\uc6a9\\uc811(FCAW+EGW)\", 380.0], [\"\\uae30\\ub2a5\", \"EGW \\uc6a9\\uc811(\\ub0b4\\uc5c5)\", 360.0], [\"\\uae30\\ub2a5\", \"SW-41 \\uc6a9\\uc811\", 50.0], [\"\\uae30\\ub2a5\", \"40 Pole \\uc790\\ub3d9\\uc6a9\\uc811 (\\ubd80\\uc11c\\ubcc4 Pole \\uc218\\uc5d0 \\ub9de\\uac8c \\uac80\\ud1a0 \\uc694\\ub9dd)\", 90.0], [\"\\uae30\\ub2a5\", \"EGW \\uc6a9\\uc811(\\ub0b4\\uc5c5)\", 220.0], [\"\\uae30\\ub2a5\", \"FCAW \\ubc18\\uc790\\ub3d9 \\uc6a9\\uc811(CO2 \\uc6a9\\uc811)\", 140.0], [\"\\uae30\\ub2a5\", \"HEBE SAW \\uc790\\ub3d9\\uc6a9\\uc811\", 210.0], [\"\\uae30\\ub2a5\", \"SW-41 \\uc6a9\\uc811\", 50.0], [\"\\uae30\\ub2a5\", \"\\uc18c\\ubd80\\uc7ac \\ucde8\\ubd80_\\uc218\\ub3d9\", 90.0], [\"\\uae30\\ub2a5\", \"\\uc624\\ud1a0 \\uce90\\ub9ac\\uc9c0 \\uc6a9\\uc811(FCAW \\uc790\\ub3d9)\", 70.0], [\"\\uae30\\ub2a5\", \"\\ud615\\uac15 \\ucde8\\ubd80\\uc791\\uc5c5_\\uc790\\ub3d9\", 100.0], [\"\\uae30\\ub2a5\", \"\\ub85c\\ubd07 \\ud615\\uac15 \\uc808\\ub2e8\", 90.0], [\"\\uae30\\ub2a5\", \"\\ucee8\\ud14c\\uc774\\ub108\\uc120 UPPER DECK \\ud6c4\\ud310 \\ubc18\\uc790\\ub3d9 \\uc808\\ub2e8\", 50.0], [\"\\uae30\\ub2a5\", \"\\uc9c0\\uadf8\\uc791\\uc5c5\", 140.0], [\"\\uae30\\ub2a5\", \"\\uc9c0\\uadf8\\uc791\\uc5c5\", 140.0], [\"\\uae30\\ub2a5\", \"2600\\ud1a4 \\ud504\\ub808\\uc2a4 \\ubc34\\ub529 \\uc791\\uc5c5\", 110.0], [\"\\uae30\\ub2a5\", \"2600\\ud1a4 \\ud504\\ub808\\uc2a4 \\ubc34\\ub529 \\uc791\\uc5c5\", 110.0], [\"\\uae30\\ub2a5\", \"3400\\ud1a4 \\ud504\\ub808\\uc2a4 \\uc791\\uc5c5\", 110.0], [\"\\uae30\\ub2a5\", \"Steam Tracing\", 90.0], [\"\\uae30\\ub2a5\", \"\\uad00\\ud1b5 Pipe \\uc124\\uce58\", 230.0], [\"\\uae30\\ub2a5\", \"Steam Tracing\", 90.0], [\"\\uae30\\ub2a5\", \"\\uad00\\ud1b5 Pipe \\uc124\\uce58\", 50.0], [\"\\uae30\\ub2a5\", \"\\ubcf4\\uc628\\ud540 \\uc124\\uce58\", 60.0], [\"\\uae30\\ub2a5\", \"Steam Tracing\", 90.0], [\"\\uae30\\ub2a5\", \"\\uad00\\ud1b5 Pipe \\uc124\\uce58\", 50.0], [\"\\uae30\\ub2a5\", \"\\ubcf4\\uc628\\ud540 \\uc124\\uce58\", 60.0], [\"\\uae30\\ub2a5\", \"Steam Tracing\", 90.0], [\"\\uae30\\ub2a5\", \"\\uad00\\ud1b5 Pipe \\uc124\\uce58\", 50.0], [\"\\uae30\\ub2a5\", \"\\ubcf4\\uc628\\ud540 \\uc124\\uce58\", 60.0], [\"\\uae30\\ub2a5\", \"Steam Tracing\", 90.0], [\"\\uae30\\ub2a5\", \"\\uad00\\ud1b5 Pipe \\uc124\\uce58\", 50.0], [\"\\uae30\\ub2a5\", \"\\ubcf4\\uc628\\ud540 \\uc124\\uce58\", 60.0], [\"\\uae30\\ub2a5\", \"SUS PIPE TIG \\uc6a9\\uc811\", 190.0], [\"\\uae30\\ub2a5\", \"TIG \\uc6a9\\uc811 Argon Gas Purging\", 90.0], [\"\\uae30\\ub2a5\", \"SUS PIPE TIG \\uc6a9\\uc811\", 170.0], [\"\\uae30\\ub2a5\", \"TIG \\uc6a9\\uc811 Argon Gas Purging\", 90.0], [\"\\uae30\\ub2a5\", \"Copper Pipe \\uc6a9\\uc811\", 30.0], [\"\\uae30\\ub2a5\", \"Cu-Ni Pipe \\uc6a9\\uc811\", 30.0], [\"\\uae30\\ub2a5\", \"EXH. Gas Pip \\uc6a9\\uc811\", 20.0], [\"\\uae30\\ub2a5\", \"Heating Coil \\uc6a9\\uc811\", 10.0], [\"\\uae30\\ub2a5\", \"Steel Pipe CO2 \\uc6a9\\uc811\", 50.0], [\"\\uae30\\ub2a5\", \"SUS PIPE TIG \\uc6a9\\uc811\", 170.0], [\"\\uae30\\ub2a5\", \"TIG \\uc6a9\\uc811 Argon Gas Purging\", 90.0], [\"\\uae30\\ub2a5\", \"Copper Pipe \\uc6a9\\uc811\", 30.0], [\"\\uae30\\ub2a5\", \"Cu-Ni Pipe \\uc6a9\\uc811\", 30.0], [\"\\uae30\\ub2a5\", \"EXH. Gas Pip \\uc6a9\\uc811\", 10.0], [\"\\uae30\\ub2a5\", \"Heating Coil \\uc6a9\\uc811\", 10.0], [\"\\uae30\\ub2a5\", \"Steel Pipe CO2 \\uc6a9\\uc811\", 50.0], [\"\\uae30\\ub2a5\", \"SUS PIPE TIG \\uc6a9\\uc811\", 170.0], [\"\\uae30\\ub2a5\", \"TIG \\uc6a9\\uc811 Argon Gas Purging\", 90.0], [\"\\uae30\\ub2a5\", \"Copper Pipe \\uc6a9\\uc811\", 30.0], [\"\\uae30\\ub2a5\", \"Cu-Ni Pipe \\uc6a9\\uc811\", 30.0], [\"\\uae30\\ub2a5\", \"EXH. Gas Pip \\uc6a9\\uc811\", 10.0], [\"\\uae30\\ub2a5\", \"Heating Coil \\uc6a9\\uc811\", 10.0], [\"\\uae30\\ub2a5\", \"Steel Pipe CO2 \\uc6a9\\uc811\", 50.0], [\"\\uae30\\ub2a5\", \"SUS PIPE TIG \\uc6a9\\uc811\", 170.0], [\"\\uae30\\ub2a5\", \"TIG \\uc6a9\\uc811 Argon Gas Purging\", 90.0], [\"\\uae30\\ub2a5\", \"Copper Pipe \\uc6a9\\uc811\", 30.0], [\"\\uae30\\ub2a5\", \"Cu-Ni Pipe \\uc6a9\\uc811\", 30.0], [\"\\uae30\\ub2a5\", \"EXH. Gas Pip \\uc6a9\\uc811\", 10.0], [\"\\uae30\\ub2a5\", \"Heating Coil \\uc6a9\\uc811\", 10.0], [\"\\uae30\\ub2a5\", \"Steel Pipe CO2 \\uc6a9\\uc811\", 50.0], [\"\\uae30\\ub2a5\", \"SUS PIPE TIG \\uc6a9\\uc811\", 170.0], [\"\\uae30\\ub2a5\", \"TIG \\uc6a9\\uc811 Argon Gas Purging\", 90.0], [\"\\uae30\\ub2a5\", \"SUS PIPE TIG \\uc6a9\\uc811\", 170.0], [\"\\uae30\\ub2a5\", \"TIG \\uc6a9\\uc811 Argon Gas Purging\", 90.0], [\"\\uae30\\ub2a5\", \"\\ubc1c\\ud310\\uae30\\uc790\\uc7ac \\uacf5\\uae09 \\ubc0f \\uc218\\uac70\", 20.0], [\"\\uae30\\ub2a5\", \"\\ubc1c\\ud310\\uae30\\uc790\\uc7ac \\ubcf4\\uc218 \\ubc0f \\uc81c\\uc791\", 0.0], [\"\\uae30\\ub2a5\", \"\\ubc1c\\ud310\\uae30\\uc790\\uc7ac \\uc120\\ubcc4\", 20.0], [\"\\uae30\\ub2a5\", \"\\ubc1c\\ud310\\ud53c\\uc2a4 \\uc6a9\\uc811 \\ubc0f \\uc81c\\uac70\", 70.0], [\"\\uae30\\ub2a5\", \"A\\ud615 \\uc0ac\\ub2e4\\ub9ac \\uc124\\uce58 \\ubc0f \\uc0ac\\uc6a9\", 30.0], [\"\\uae30\\ub2a5\", \"A\\ud615 \\uc0ac\\ub2e4\\ub9ac \\uc124\\uce58 \\ubc0f \\uc0ac\\uc6a9\", 30.0], [\"\\uae30\\ub2a5\", \"A\\ud615 \\uc0ac\\ub2e4\\ub9ac \\uc124\\uce58 \\ubc0f \\uc0ac\\uc6a9\", 30.0], [\"\\uae30\\ub2a5\", \"A\\ud615 \\uc0ac\\ub2e4\\ub9ac \\uc124\\uce58 \\ubc0f \\uc0ac\\uc6a9\", 30.0], [\"\\uae30\\ub2a5\", \"A\\ud615 \\uc0ac\\ub2e4\\ub9ac \\uc124\\uce58 \\ubc0f \\uc0ac\\uc6a9\", 30.0], [\"\\uae30\\ub2a5\", \"A\\ud615 \\uc0ac\\ub2e4\\ub9ac \\uc124\\uce58 \\ubc0f \\uc0ac\\uc6a9\", 30.0], [\"\\uae30\\ub2a5\", \"A\\ud615 \\uc0ac\\ub2e4\\ub9ac \\uc124\\uce58 \\ubc0f \\uc0ac\\uc6a9\", 30.0], [\"\\uae30\\ub2a5\", \"A\\ud615 \\uc0ac\\ub2e4\\ub9ac \\uc124\\uce58 \\ubc0f \\uc0ac\\uc6a9\", 30.0], [\"\\uae30\\ub2a5\", \"A\\ud615 \\uc0ac\\ub2e4\\ub9ac \\uc124\\uce58 \\ubc0f \\uc0ac\\uc6a9\", 30.0], [\"\\uae30\\ub2a5\", \"A\\ud615 \\uc0ac\\ub2e4\\ub9ac \\uc124\\uce58 \\ubc0f \\uc0ac\\uc6a9\", 30.0], [\"\\uae30\\ub2a5\", \"A\\ud615 \\uc0ac\\ub2e4\\ub9ac \\uc124\\uce58 \\ubc0f \\uc0ac\\uc6a9\", 30.0], [\"\\uae30\\ub2a5\", \"A\\ud615 \\uc0ac\\ub2e4\\ub9ac \\uc124\\uce58 \\ubc0f \\uc0ac\\uc6a9\", 30.0], [\"\\uae30\\ub2a5\", \"A\\ud615 \\uc0ac\\ub2e4\\ub9ac \\uc124\\uce58 \\ubc0f \\uc0ac\\uc6a9\", 30.0], [\"\\uae30\\ub2a5\", \"A\\ud615 \\uc0ac\\ub2e4\\ub9ac \\uc124\\uce58 \\ubc0f \\uc0ac\\uc6a9\", 30.0], [\"\\uae30\\ub2a5\", \"A\\ud615 \\uc0ac\\ub2e4\\ub9ac \\uc124\\uce58 \\ubc0f \\uc0ac\\uc6a9\", 30.0], [\"\\uae30\\ub2a5\", \"A\\ud615 \\uc0ac\\ub2e4\\ub9ac \\uc124\\uce58 \\ubc0f \\uc0ac\\uc6a9\", 30.0], [\"\\uae30\\ub2a5\", \"A\\ud615 \\uc0ac\\ub2e4\\ub9ac \\uc124\\uce58 \\ubc0f \\uc0ac\\uc6a9\", 30.0], [\"\\uae30\\ub2a5\", \"A\\ud615 \\uc0ac\\ub2e4\\ub9ac \\uc124\\uce58 \\ubc0f \\uc0ac\\uc6a9\", 30.0], [\"\\uae30\\ub2a5\", \"A\\ud615 \\uc0ac\\ub2e4\\ub9ac \\uc124\\uce58 \\ubc0f \\uc0ac\\uc6a9\", 30.0], [\"\\uae30\\ub2a5\", \"A\\ud615 \\uc0ac\\ub2e4\\ub9ac \\uc124\\uce58 \\ubc0f \\uc0ac\\uc6a9\", 30.0], [\"\\uae30\\ub2a5\", \"A\\ud615 \\uc0ac\\ub2e4\\ub9ac \\uc124\\uce58 \\ubc0f \\uc0ac\\uc6a9\", 30.0], [\"\\uae30\\ub2a5\", \"A\\ud615 \\uc0ac\\ub2e4\\ub9ac \\uc124\\uce58 \\ubc0f \\uc0ac\\uc6a9\", 30.0], [\"\\uae30\\ub2a5\", \"\\uc11c\\ube44\\uc2a4 \\ud0c0\\uc6cc \\uc124\\uce58\", 110.0], [\"\\uae30\\ub2a5\", \"\\uc11c\\ube44\\uc2a4 \\ud0c0\\uc6cc \\uc124\\uce58\", 110.0], [\"\\uae30\\ub2a5\", \"\\uc11c\\ube44\\uc2a4 \\ud0c0\\uc6cc \\uc124\\uce58\", 110.0], [\"\\uae30\\ub2a5\", \"\\uc11c\\ube44\\uc2a4 \\ud0c0\\uc6cc \\uc124\\uce58\", 110.0], [\"\\uae30\\ub2a5\", \"\\ub0b4\\uc790\\uc7ac \\uc785\\ucd9c\\uace0 \\uc791\\uc5c5\", 50.0], [\"\\uae30\\ub2a5\", \"\\uc678\\uc790\\uc7ac \\uc785\\ucd9c\\uace0 \\uc791\\uc5c5\", 90.0]], \"hovertemplate\": \"\\ub300\\uad6c\\ubd84=%{customdata[0]}<br>R_vector=%{customdata[2]}<br>\\ubd80\\uc11c=%{y}<br>WORK_STAND_NM=%{customdata[1]}<extra></extra>\", \"legendgroup\": \"\\uae30\\ub2a5\", \"marker\": {\"color\": \"#19d3f3\"}, \"name\": \"\\uae30\\ub2a5\", \"offsetgroup\": \"\\uae30\\ub2a5\", \"orientation\": \"h\", \"showlegend\": true, \"textposition\": \"auto\", \"type\": \"bar\", \"x\": [50.0, 30.0, 100.0, 80.0, 130.0, 150.0, 100.0, 80.0, 130.0, 150.0, 100.0, 130.0, 150.0, 100.0, 80.0, 130.0, 150.0, 100.0, 80.0, 130.0, 150.0, 100.0, 80.0, 130.0, 150.0, 100.0, 80.0, 130.0, 150.0, 100.0, 80.0, 130.0, 150.0, 100.0, 80.0, 130.0, 150.0, 100.0, 80.0, 130.0, 150.0, 100.0, 80.0, 130.0, 150.0, 100.0, 80.0, 130.0, 150.0, 100.0, 80.0, 130.0, 150.0, 100.0, 80.0, 130.0, 150.0, 100.0, 80.0, 130.0, 150.0, 100.0, 80.0, 130.0, 150.0, 100.0, 80.0, 130.0, 150.0, 100.0, 80.0, 0.0, 130.0, 150.0, 130.0, 150.0, 100.0, 80.0, 100.0, 80.0, 130.0, 150.0, 100.0, 80.0, 130.0, 150.0, 100.0, 80.0, 130.0, 150.0, 100.0, 130.0, 150.0, 100.0, 80.0, 130.0, 150.0, 100.0, 80.0, 130.0, 100.0, 80.0, 100.0, 80.0, 100.0, 80.0, 130.0, 150.0, 60.0, 60.0, 60.0, 60.0, 60.0, 60.0, 60.0, 60.0, 60.0, 60.0, 60.0, 60.0, 60.0, 60.0, 60.0, 60.0, 60.0, 60.0, 60.0, 60.0, 60.0, 60.0, 60.0, 60.0, 60.0, 130.0, 130.0, 130.0, 130.0, 130.0, 130.0, 130.0, 130.0, 130.0, 130.0, 130.0, 130.0, 130.0, 130.0, 130.0, 130.0, 130.0, 130.0, 130.0, 130.0, 130.0, 130.0, 130.0, 130.0, 130.0, 130.0, 130.0, 130.0, 80.0, 20.0, 80.0, 20.0, 90.0, 80.0, 40.0, 40.0, 40.0, 40.0, 40.0, 40.0, 40.0, 40.0, 40.0, 40.0, 40.0, 40.0, 40.0, 40.0, 40.0, 40.0, 40.0, 40.0, 40.0, 40.0, 50.0, 100.0, 40.0, 100.0, 40.0, 100.0, 110.0, 140.0, 140.0, 150.0, 80.0, 140.0, 50.0, 100.0, 70.0, 40.0, 90.0, 360.0, 140.0, 50.0, 70.0, 400.0, 140.0, 40.0, 80.0, 400.0, 140.0, 50.0, 70.0, 140.0, 70.0, 140.0, 140.0, 120.0, 50.0, 130.0, 90.0, 90.0, 60.0, 30.0, 70.0, 140.0, 140.0, 120.0, 50.0, 130.0, 90.0, 90.0, 60.0, 30.0, 140.0, 140.0, 140.0, 50.0, 140.0, 140.0, 140.0, 150.0, 380.0, 360.0, 50.0, 90.0, 220.0, 140.0, 210.0, 50.0, 90.0, 70.0, 100.0, 90.0, 50.0, 140.0, 140.0, 110.0, 110.0, 110.0, 90.0, 230.0, 90.0, 50.0, 60.0, 90.0, 50.0, 60.0, 90.0, 50.0, 60.0, 90.0, 50.0, 60.0, 190.0, 90.0, 170.0, 90.0, 30.0, 30.0, 20.0, 10.0, 50.0, 170.0, 90.0, 30.0, 30.0, 10.0, 10.0, 50.0, 170.0, 90.0, 30.0, 30.0, 10.0, 10.0, 50.0, 170.0, 90.0, 30.0, 30.0, 10.0, 10.0, 50.0, 170.0, 90.0, 170.0, 90.0, 20.0, 0.0, 20.0, 70.0, 30.0, 30.0, 30.0, 30.0, 30.0, 30.0, 30.0, 30.0, 30.0, 30.0, 30.0, 30.0, 30.0, 30.0, 30.0, 30.0, 30.0, 30.0, 30.0, 30.0, 30.0, 30.0, 110.0, 110.0, 110.0, 110.0, 50.0, 90.0], \"xaxis\": \"x\", \"y\": [\"\\uc120\\ud589\\uc758\\uc7a5\\ubd80\", \"\\uc120\\ud589\\uc758\\uc7a5\\ubd80\", \"CHS\\uacf5\\uc0ac\\ubd80\", \"CHS\\uacf5\\uc0ac\\ubd80\", \"CHS\\uacf5\\uc0ac\\ubd80\", \"CHS\\uacf5\\uc0ac\\ubd80\", \"LNG\\uacf5\\uc0ac\\ubd80\", \"LNG\\uacf5\\uc0ac\\ubd80\", \"LNG\\uacf5\\uc0ac\\ubd80\", \"LNG\\uacf5\\uc0ac\\ubd80\", \"Unit\\uc0dd\\uc0b0\\ubd80\", \"Unit\\uc0dd\\uc0b0\\ubd80\", \"Unit\\uc0dd\\uc0b0\\ubd80\", \"\\uac00\\uacf5\\uc18c\\uc870\\ub9bd\\ubd80\", \"\\uac00\\uacf5\\uc18c\\uc870\\ub9bd\\ubd80\", \"\\uac00\\uacf5\\uc18c\\uc870\\ub9bd\\ubd80\", \"\\uac00\\uacf5\\uc18c\\uc870\\ub9bd\\ubd80\", \"\\uac74\\uc8701\\ubd80\", \"\\uac74\\uc8701\\ubd80\", \"\\uac74\\uc8701\\ubd80\", \"\\uac74\\uc8701\\ubd80\", \"\\uac74\\uc8702\\ubd80\", \"\\uac74\\uc8702\\ubd80\", \"\\uac74\\uc8702\\ubd80\", \"\\uac74\\uc8702\\ubd80\", \"\\uac74\\uc8703\\ubd80\", \"\\uac74\\uc8703\\ubd80\", \"\\uac74\\uc8703\\ubd80\", \"\\uac74\\uc8703\\ubd80\", \"\\uae30\\uacc4\\uc758\\uc7a5\\ubd80\", \"\\uae30\\uacc4\\uc758\\uc7a5\\ubd80\", \"\\uae30\\uacc4\\uc758\\uc7a5\\ubd80\", \"\\uae30\\uacc4\\uc758\\uc7a5\\ubd80\", \"\\ub300\\uc870\\ub9bd1\\ubd80\", \"\\ub300\\uc870\\ub9bd1\\ubd80\", \"\\ub300\\uc870\\ub9bd1\\ubd80\", \"\\ub300\\uc870\\ub9bd1\\ubd80\", \"\\ub300\\uc870\\ub9bd2\\ubd80\", \"\\ub300\\uc870\\ub9bd2\\ubd80\", \"\\ub300\\uc870\\ub9bd2\\ubd80\", \"\\ub300\\uc870\\ub9bd2\\ubd80\", \"\\ub3c4\\uc7a51\\ubd80\", \"\\ub3c4\\uc7a51\\ubd80\", \"\\ub3c4\\uc7a51\\ubd80\", \"\\ub3c4\\uc7a51\\ubd80\", \"\\ub3c4\\uc7a52\\ubd80\", \"\\ub3c4\\uc7a52\\ubd80\", \"\\ub3c4\\uc7a52\\ubd80\", \"\\ub3c4\\uc7a52\\ubd80\", \"\\ubc1c\\ud310\\uc9c0\\uc6d0\\ubd80\", \"\\ubc1c\\ud310\\uc9c0\\uc6d0\\ubd80\", \"\\ubc1c\\ud310\\uc9c0\\uc6d0\\ubd80\", \"\\ubc1c\\ud310\\uc9c0\\uc6d0\\ubd80\", \"\\uc120\\uc2e4\\uc0dd\\uc0b0\\ubd80\", \"\\uc120\\uc2e4\\uc0dd\\uc0b0\\ubd80\", \"\\uc120\\uc2e4\\uc0dd\\uc0b0\\ubd80\", \"\\uc120\\uc2e4\\uc0dd\\uc0b0\\ubd80\", \"\\uc120\\ud589\\ub3c4\\uc7a5\\ubd80\", \"\\uc120\\ud589\\ub3c4\\uc7a5\\ubd80\", \"\\uc120\\ud589\\ub3c4\\uc7a5\\ubd80\", \"\\uc120\\ud589\\ub3c4\\uc7a5\\ubd80\", \"\\uc120\\ud589\\uc758\\uc7a5\\ubd80\", \"\\uc120\\ud589\\uc758\\uc7a5\\ubd80\", \"\\uc120\\ud589\\uc758\\uc7a5\\ubd80\", \"\\uc120\\ud589\\uc758\\uc7a5\\ubd80\", \"\\uc2dc\\uc6b4\\uc804\\ubd80\", \"\\uc2dc\\uc6b4\\uc804\\ubd80\", \"\\uc2dc\\uc6b4\\uc804\\ubd80\", \"\\uc2dc\\uc6b4\\uc804\\ubd80\", \"\\uc678\\uc5c5\\uacf5\\uc0ac\\uc9c0\\uc6d0\\ubd80\", \"\\uc678\\uc5c5\\uacf5\\uc0ac\\uc9c0\\uc6d0\\ubd80\", \"\\uc678\\uc5c5\\uacf5\\uc0ac\\uc9c0\\uc6d0\\ubd80\", \"\\uc678\\uc5c5\\uacf5\\uc0ac\\uc9c0\\uc6d0\\ubd80\", \"\\uc678\\uc5c5\\uacf5\\uc0ac\\uc9c0\\uc6d0\\ubd80\", \"\\uc6b4\\ud56d\\uad00\\uc81c\\uacfc\", \"\\uc6b4\\ud56d\\uad00\\uc81c\\uacfc\", \"\\uc6b4\\ud56d\\uad00\\uc81c\\uacfc\", \"\\uc6b4\\ud56d\\uad00\\uc81c\\uacfc\", \"\\uc758\\uc7a51\\ubd80\", \"\\uc758\\uc7a51\\ubd80\", \"\\uc758\\uc7a51\\ubd80\", \"\\uc758\\uc7a51\\ubd80\", \"\\uc758\\uc7a52\\ubd80\", \"\\uc758\\uc7a52\\ubd80\", \"\\uc758\\uc7a52\\ubd80\", \"\\uc758\\uc7a52\\ubd80\", \"\\uc758\\uc7a53\\ubd80\", \"\\uc758\\uc7a53\\ubd80\", \"\\uc758\\uc7a53\\ubd80\", \"\\uc758\\uc7a53\\ubd80\", \"\\uc758\\uc7a5\\uc0dd\\uc0b0\\ubd80\", \"\\uc758\\uc7a5\\uc0dd\\uc0b0\\ubd80\", \"\\uc758\\uc7a5\\uc0dd\\uc0b0\\ubd80\", \"\\uc790\\uc7ac\\uc6b4\\uc601\\ubd80\", \"\\uc790\\uc7ac\\uc6b4\\uc601\\ubd80\", \"\\uc790\\uc7ac\\uc6b4\\uc601\\ubd80\", \"\\uc790\\uc7ac\\uc6b4\\uc601\\ubd80\", \"\\uc791\\uc5c5\\ud45c\\uc900\\ud601\\uc2e0TF\", \"\\uc791\\uc5c5\\ud45c\\uc900\\ud601\\uc2e0TF\", \"\\uc791\\uc5c5\\ud45c\\uc900\\ud601\\uc2e0TF\", \"\\uc870\\uc120\\ud574\\uc591\\ud488\\uc9c8\\uacbd\\uc6011\\ubd80\", \"\\uc870\\uc120\\ud574\\uc591\\ud488\\uc9c8\\uacbd\\uc6011\\ubd80\", \"\\uc870\\uc120\\ud574\\uc591\\ud488\\uc9c8\\uacbd\\uc6012\\ubd80\", \"\\uc870\\uc120\\ud574\\uc591\\ud488\\uc9c8\\uacbd\\uc6012\\ubd80\", \"\\ud310\\ub12c\\uc870\\ub9bd\\ubd80\", \"\\ud310\\ub12c\\uc870\\ub9bd\\ubd80\", \"\\ud310\\ub12c\\uc870\\ub9bd\\ubd80\", \"\\ud310\\ub12c\\uc870\\ub9bd\\ubd80\", \"CHS\\uacf5\\uc0ac\\ubd80\", \"LNG\\uacf5\\uc0ac\\ubd80\", \"Unit\\uc0dd\\uc0b0\\ubd80\", \"\\uac00\\uacf5\\uc18c\\uc870\\ub9bd\\ubd80\", \"\\uac74\\uc8701\\ubd80\", \"\\uac74\\uc8702\\ubd80\", \"\\uac74\\uc8703\\ubd80\", \"\\uae30\\uacc4\\uc758\\uc7a5\\ubd80\", \"\\ub300\\uc870\\ub9bd1\\ubd80\", \"\\ub300\\uc870\\ub9bd2\\ubd80\", \"\\ub3c4\\uc7a51\\ubd80\", \"\\ub3c4\\uc7a52\\ubd80\", \"\\ubc1c\\ud310\\uc9c0\\uc6d0\\ubd80\", \"\\uc120\\uc2e4\\uc0dd\\uc0b0\\ubd80\", \"\\uc120\\ud589\\ub3c4\\uc7a5\\ubd80\", \"\\uc120\\ud589\\uc758\\uc7a5\\ubd80\", \"\\uc2dc\\uc6b4\\uc804\\ubd80\", \"\\uc678\\uc5c5\\uacf5\\uc0ac\\uc9c0\\uc6d0\\ubd80\", \"\\uc6b4\\ud56d\\uad00\\uc81c\\uacfc\", \"\\uc758\\uc7a51\\ubd80\", \"\\uc758\\uc7a52\\ubd80\", \"\\uc758\\uc7a53\\ubd80\", \"\\uc758\\uc7a5\\uc0dd\\uc0b0\\ubd80\", \"\\uc790\\uc7ac\\uc6b4\\uc601\\ubd80\", \"\\ud310\\ub12c\\uc870\\ub9bd\\ubd80\", \"CHS\\uacf5\\uc0ac\\ubd80\", \"LNG\\uacf5\\uc0ac\\ubd80\", \"Unit\\uc0dd\\uc0b0\\ubd80\", \"\\uac00\\uacf5\\uc18c\\uc870\\ub9bd\\ubd80\", \"\\uac74\\uc8701\\ubd80\", \"\\uac74\\uc8702\\ubd80\", \"\\uac74\\uc8703\\ubd80\", \"\\uae30\\uacc4\\uc758\\uc7a5\\ubd80\", \"\\ub300\\uc870\\ub9bd1\\ubd80\", \"\\ub300\\uc870\\ub9bd2\\ubd80\", \"\\ub3c4\\uc7a51\\ubd80\", \"\\ub3c4\\uc7a52\\ubd80\", \"\\ubc1c\\ud310\\uc9c0\\uc6d0\\ubd80\", \"\\uc120\\uc2e4\\uc0dd\\uc0b0\\ubd80\", \"\\uc120\\ud589\\ub3c4\\uc7a5\\ubd80\", \"\\uc120\\ud589\\uc758\\uc7a5\\ubd80\", \"\\uc2dc\\uc6b4\\uc804\\ubd80\", \"\\uc678\\uc5c5\\uacf5\\uc0ac\\uc9c0\\uc6d0\\ubd80\", \"\\uc6b4\\ud56d\\uad00\\uc81c\\uacfc\", \"\\uc758\\uc7a51\\ubd80\", \"\\uc758\\uc7a52\\ubd80\", \"\\uc758\\uc7a53\\ubd80\", \"\\uc758\\uc7a5\\uc0dd\\uc0b0\\ubd80\", \"\\uc790\\uc7ac\\uc6b4\\uc601\\ubd80\", \"\\uc791\\uc5c5\\ud45c\\uc900\\ud601\\uc2e0TF\", \"\\uc870\\uc120\\ud574\\uc591\\ud488\\uc9c8\\uacbd\\uc6011\\ubd80\", \"\\uc870\\uc120\\ud574\\uc591\\ud488\\uc9c8\\uacbd\\uc6012\\ubd80\", \"\\ud310\\ub12c\\uc870\\ub9bd\\ubd80\", \"\\ub3c4\\uc7a51\\ubd80\", \"\\ub3c4\\uc7a51\\ubd80\", \"\\uc120\\ud589\\ub3c4\\uc7a5\\ubd80\", \"\\uc120\\ud589\\ub3c4\\uc7a5\\ubd80\", \"\\uc120\\ud589\\ub3c4\\uc7a5\\ubd80\", \"\\uc120\\ud589\\ub3c4\\uc7a5\\ubd80\", \"CHS\\uacf5\\uc0ac\\ubd80\", \"LNG\\uacf5\\uc0ac\\ubd80\", \"Unit\\uc0dd\\uc0b0\\ubd80\", \"\\uac00\\uacf5\\uc18c\\uc870\\ub9bd\\ubd80\", \"\\uac74\\uc8701\\ubd80\", \"\\uac74\\uc8702\\ubd80\", \"\\uac74\\uc8703\\ubd80\", \"\\uae30\\uacc4\\uc758\\uc7a5\\ubd80\", \"\\ub300\\uc870\\ub9bd1\\ubd80\", \"\\ub300\\uc870\\ub9bd2\\ubd80\", \"\\ub3c4\\uc7a51\\ubd80\", \"\\ub3c4\\uc7a52\\ubd80\", \"\\ubc1c\\ud310\\uc9c0\\uc6d0\\ubd80\", \"\\uc120\\uc2e4\\uc0dd\\uc0b0\\ubd80\", \"\\uc120\\ud589\\ub3c4\\uc7a5\\ubd80\", \"\\uc120\\ud589\\uc758\\uc7a5\\ubd80\", \"\\uc758\\uc7a51\\ubd80\", \"\\uc758\\uc7a52\\ubd80\", \"\\uc758\\uc7a53\\ubd80\", \"\\uc758\\uc7a5\\uc0dd\\uc0b0\\ubd80\", \"\\ud310\\ub12c\\uc870\\ub9bd\\ubd80\", \"\\uac00\\uacf5\\uc18c\\uc870\\ub9bd\\ubd80\", \"\\ub300\\uc870\\ub9bd1\\ubd80\", \"\\ub300\\uc870\\ub9bd1\\ubd80\", \"\\ub300\\uc870\\ub9bd2\\ubd80\", \"\\ub300\\uc870\\ub9bd2\\ubd80\", \"\\ud310\\ub12c\\uc870\\ub9bd\\ubd80\", \"CHS\\uacf5\\uc0ac\\ubd80\", \"LNG\\uacf5\\uc0ac\\ubd80\", \"Unit\\uc0dd\\uc0b0\\ubd80\", \"\\uac00\\uacf5\\uc18c\\uc870\\ub9bd\\ubd80\", \"\\uac00\\uacf5\\uc18c\\uc870\\ub9bd\\ubd80\", \"\\uac00\\uacf5\\uc18c\\uc870\\ub9bd\\ubd80\", \"\\uac00\\uacf5\\uc18c\\uc870\\ub9bd\\ubd80\", \"\\uac00\\uacf5\\uc18c\\uc870\\ub9bd\\ubd80\", \"\\uac00\\uacf5\\uc18c\\uc870\\ub9bd\\ubd80\", \"\\uac00\\uacf5\\uc18c\\uc870\\ub9bd\\ubd80\", \"\\uac74\\uc8701\\ubd80\", \"\\uac74\\uc8701\\ubd80\", \"\\uac74\\uc8701\\ubd80\", \"\\uac74\\uc8701\\ubd80\", \"\\uac74\\uc8702\\ubd80\", \"\\uac74\\uc8702\\ubd80\", \"\\uac74\\uc8702\\ubd80\", \"\\uac74\\uc8702\\ubd80\", \"\\uac74\\uc8703\\ubd80\", \"\\uac74\\uc8703\\ubd80\", \"\\uac74\\uc8703\\ubd80\", \"\\uac74\\uc8703\\ubd80\", \"\\uae30\\uacc4\\uc758\\uc7a5\\ubd80\", \"\\ub300\\uc870\\ub9bd1\\ubd80\", \"\\ub300\\uc870\\ub9bd1\\ubd80\", \"\\ub300\\uc870\\ub9bd1\\ubd80\", \"\\ub300\\uc870\\ub9bd1\\ubd80\", \"\\ub300\\uc870\\ub9bd1\\ubd80\", \"\\ub300\\uc870\\ub9bd1\\ubd80\", \"\\ub300\\uc870\\ub9bd1\\ubd80\", \"\\ub300\\uc870\\ub9bd1\\ubd80\", \"\\ub300\\uc870\\ub9bd1\\ubd80\", \"\\ub300\\uc870\\ub9bd1\\ubd80\", \"\\ub300\\uc870\\ub9bd2\\ubd80\", \"\\ub300\\uc870\\ub9bd2\\ubd80\", \"\\ub300\\uc870\\ub9bd2\\ubd80\", \"\\ub300\\uc870\\ub9bd2\\ubd80\", \"\\ub300\\uc870\\ub9bd2\\ubd80\", \"\\ub300\\uc870\\ub9bd2\\ubd80\", \"\\ub300\\uc870\\ub9bd2\\ubd80\", \"\\ub300\\uc870\\ub9bd2\\ubd80\", \"\\ub300\\uc870\\ub9bd2\\ubd80\", \"\\ub300\\uc870\\ub9bd2\\ubd80\", \"\\ubc1c\\ud310\\uc9c0\\uc6d0\\ubd80\", \"\\uc120\\uc2e4\\uc0dd\\uc0b0\\ubd80\", \"\\uc120\\ud589\\uc758\\uc7a5\\ubd80\", \"\\uc120\\ud589\\uc758\\uc7a5\\ubd80\", \"\\uc758\\uc7a51\\ubd80\", \"\\uc758\\uc7a52\\ubd80\", \"\\uc758\\uc7a53\\ubd80\", \"\\uc758\\uc7a5\\uc0dd\\uc0b0\\ubd80\", \"\\uc791\\uc5c5\\ud45c\\uc900\\ud601\\uc2e0TF\", \"\\uc791\\uc5c5\\ud45c\\uc900\\ud601\\uc2e0TF\", \"\\uc791\\uc5c5\\ud45c\\uc900\\ud601\\uc2e0TF\", \"\\ud310\\ub12c\\uc870\\ub9bd\\ubd80\", \"\\ud310\\ub12c\\uc870\\ub9bd\\ubd80\", \"\\ud310\\ub12c\\uc870\\ub9bd\\ubd80\", \"\\ud310\\ub12c\\uc870\\ub9bd\\ubd80\", \"\\ud310\\ub12c\\uc870\\ub9bd\\ubd80\", \"\\ud310\\ub12c\\uc870\\ub9bd\\ubd80\", \"\\ud310\\ub12c\\uc870\\ub9bd\\ubd80\", \"\\ud310\\ub12c\\uc870\\ub9bd\\ubd80\", \"\\uac00\\uacf5\\uc18c\\uc870\\ub9bd\\ubd80\", \"\\uac00\\uacf5\\uc18c\\uc870\\ub9bd\\ubd80\", \"\\ub300\\uc870\\ub9bd1\\ubd80\", \"\\ub300\\uc870\\ub9bd2\\ubd80\", \"\\ub300\\uc870\\ub9bd1\\ubd80\", \"\\ub300\\uc870\\ub9bd2\\ubd80\", \"\\ud310\\ub12c\\uc870\\ub9bd\\ubd80\", \"CHS\\uacf5\\uc0ac\\ubd80\", \"CHS\\uacf5\\uc0ac\\ubd80\", \"\\uc120\\ud589\\uc758\\uc7a5\\ubd80\", \"\\uc120\\ud589\\uc758\\uc7a5\\ubd80\", \"\\uc120\\ud589\\uc758\\uc7a5\\ubd80\", \"\\uc758\\uc7a51\\ubd80\", \"\\uc758\\uc7a51\\ubd80\", \"\\uc758\\uc7a51\\ubd80\", \"\\uc758\\uc7a52\\ubd80\", \"\\uc758\\uc7a52\\ubd80\", \"\\uc758\\uc7a52\\ubd80\", \"\\uc758\\uc7a53\\ubd80\", \"\\uc758\\uc7a53\\ubd80\", \"\\uc758\\uc7a53\\ubd80\", \"CHS\\uacf5\\uc0ac\\ubd80\", \"CHS\\uacf5\\uc0ac\\ubd80\", \"Unit\\uc0dd\\uc0b0\\ubd80\", \"Unit\\uc0dd\\uc0b0\\ubd80\", \"\\uc120\\ud589\\uc758\\uc7a5\\ubd80\", \"\\uc120\\ud589\\uc758\\uc7a5\\ubd80\", \"\\uc120\\ud589\\uc758\\uc7a5\\ubd80\", \"\\uc120\\ud589\\uc758\\uc7a5\\ubd80\", \"\\uc120\\ud589\\uc758\\uc7a5\\ubd80\", \"\\uc120\\ud589\\uc758\\uc7a5\\ubd80\", \"\\uc120\\ud589\\uc758\\uc7a5\\ubd80\", \"\\uc758\\uc7a51\\ubd80\", \"\\uc758\\uc7a51\\ubd80\", \"\\uc758\\uc7a51\\ubd80\", \"\\uc758\\uc7a51\\ubd80\", \"\\uc758\\uc7a51\\ubd80\", \"\\uc758\\uc7a51\\ubd80\", \"\\uc758\\uc7a51\\ubd80\", \"\\uc758\\uc7a52\\ubd80\", \"\\uc758\\uc7a52\\ubd80\", \"\\uc758\\uc7a52\\ubd80\", \"\\uc758\\uc7a52\\ubd80\", \"\\uc758\\uc7a52\\ubd80\", \"\\uc758\\uc7a52\\ubd80\", \"\\uc758\\uc7a52\\ubd80\", \"\\uc758\\uc7a53\\ubd80\", \"\\uc758\\uc7a53\\ubd80\", \"\\uc758\\uc7a53\\ubd80\", \"\\uc758\\uc7a53\\ubd80\", \"\\uc758\\uc7a53\\ubd80\", \"\\uc758\\uc7a53\\ubd80\", \"\\uc758\\uc7a53\\ubd80\", \"\\uc758\\uc7a5\\uc0dd\\uc0b0\\ubd80\", \"\\uc758\\uc7a5\\uc0dd\\uc0b0\\ubd80\", \"\\ubc1c\\ud310\\uc9c0\\uc6d0\\ubd80\", \"\\ubc1c\\ud310\\uc9c0\\uc6d0\\ubd80\", \"\\ubc1c\\ud310\\uc9c0\\uc6d0\\ubd80\", \"\\ubc1c\\ud310\\uc9c0\\uc6d0\\ubd80\", \"CHS\\uacf5\\uc0ac\\ubd80\", \"LNG\\uacf5\\uc0ac\\ubd80\", \"Unit\\uc0dd\\uc0b0\\ubd80\", \"\\uac00\\uacf5\\uc18c\\uc870\\ub9bd\\ubd80\", \"\\uac74\\uc8701\\ubd80\", \"\\uac74\\uc8702\\ubd80\", \"\\uac74\\uc8703\\ubd80\", \"\\uae30\\uacc4\\uc758\\uc7a5\\ubd80\", \"\\ub300\\uc870\\ub9bd1\\ubd80\", \"\\ub300\\uc870\\ub9bd2\\ubd80\", \"\\ub3c4\\uc7a51\\ubd80\", \"\\ub3c4\\uc7a52\\ubd80\", \"\\ubc1c\\ud310\\uc9c0\\uc6d0\\ubd80\", \"\\uc120\\uc2e4\\uc0dd\\uc0b0\\ubd80\", \"\\uc120\\ud589\\ub3c4\\uc7a5\\ubd80\", \"\\uc120\\ud589\\uc758\\uc7a5\\ubd80\", \"\\uc758\\uc7a51\\ubd80\", \"\\uc758\\uc7a52\\ubd80\", \"\\uc758\\uc7a53\\ubd80\", \"\\uc758\\uc7a5\\uc0dd\\uc0b0\\ubd80\", \"\\uc791\\uc5c5\\ud45c\\uc900\\ud601\\uc2e0TF\", \"\\ud310\\ub12c\\uc870\\ub9bd\\ubd80\", \"\\uac74\\uc8701\\ubd80\", \"\\uac74\\uc8702\\ubd80\", \"\\uac74\\uc8703\\ubd80\", \"\\uc791\\uc5c5\\ud45c\\uc900\\ud601\\uc2e0TF\", \"\\uc790\\uc7ac\\uc6b4\\uc601\\ubd80\", \"\\uc790\\uc7ac\\uc6b4\\uc601\\ubd80\"], \"yaxis\": \"y\"}, {\"alignmentgroup\": \"True\", \"customdata\": [[\"\\ub0b4\\uc5c5\\uacf5\\uc0ac\", \"Stock\\uc7a5 \\ubc30\\uc7ac\", 20.0], [\"\\ub0b4\\uc5c5\\uacf5\\uc0ac\", \"\\uacf5\\uc7a5\\ub0b4 \\ubc30\\uc7ac\", 20.0], [\"\\ub0b4\\uc5c5\\uacf5\\uc0ac\", \"\\ub77c\\ud2f8 \\uc6b4\\uc804\", 0.0], [\"\\ub0b4\\uc5c5\\uacf5\\uc0ac\", \"\\ubd80\\uc7ac \\uc801\\uce58 \\ubc0f \\ud22c\\uc785\", 20.0], [\"\\ub0b4\\uc5c5\\uacf5\\uc0ac\", \"\\ud604\\ub3c4\\uc7a5 \\uace1\\uc808\\ub2e8\", 10.0]], \"hovertemplate\": \"\\ub300\\uad6c\\ubd84=%{customdata[0]}<br>R_vector=%{customdata[2]}<br>\\ubd80\\uc11c=%{y}<br>WORK_STAND_NM=%{customdata[1]}<extra></extra>\", \"legendgroup\": \"\\ub0b4\\uc5c5\\uacf5\\uc0ac\", \"marker\": {\"color\": \"#FF6692\"}, \"name\": \"\\ub0b4\\uc5c5\\uacf5\\uc0ac\", \"offsetgroup\": \"\\ub0b4\\uc5c5\\uacf5\\uc0ac\", \"orientation\": \"h\", \"showlegend\": true, \"textposition\": \"auto\", \"type\": \"bar\", \"x\": [20.0, 20.0, 0.0, 20.0, 10.0], \"xaxis\": \"x\", \"y\": [\"\\ub0b4\\uc5c5\\uacf5\\uc0ac\\uc9c0\\uc6d0\\ubd80\", \"\\ub0b4\\uc5c5\\uacf5\\uc0ac\\uc9c0\\uc6d0\\ubd80\", \"\\ub0b4\\uc5c5\\uacf5\\uc0ac\\uc9c0\\uc6d0\\ubd80\", \"\\ub0b4\\uc5c5\\uacf5\\uc0ac\\uc9c0\\uc6d0\\ubd80\", \"\\ub0b4\\uc5c5\\uacf5\\uc0ac\\uc9c0\\uc6d0\\ubd80\"], \"yaxis\": \"y\"}, {\"alignmentgroup\": \"True\", \"customdata\": [[\"\\ub300\\uc870\\ub9bd\", \"\\uc120PE \\ucde8\\ubd80\\uc6a9\\uc811\", 230.0], [\"\\ub300\\uc870\\ub9bd\", \"\\uc120PE \\ucde8\\ubd80\\uc6a9\\uc811\", 230.0], [\"\\ub300\\uc870\\ub9bd\", \"\\uace1\\uc131\\ud615(PRESS)\", 20.0], [\"\\ub300\\uc870\\ub9bd\", \"\\uace1\\uc678\\ud310 Line Heating \\uc131\\ud615\", 160.0], [\"\\ub300\\uc870\\ub9bd\", \"\\uace1\\uc131\\ud615(PRESS)\", 20.0], [\"\\ub300\\uc870\\ub9bd\", \"\\uace1\\uc678\\ud310 Line Heating \\uc131\\ud615\", 160.0], [\"\\ub300\\uc870\\ub9bd\", \"\\uace1\\uc911\\uc870_\\ub300\\uc870\\ub9bd1\\uacf5\\uc7a5\", 270.0], [\"\\ub300\\uc870\\ub9bd\", \"\\uace1\\uc911\\uc870_\\ub300\\uc870\\ub9bd2\\uacf5\\uc7a5\", 290.0], [\"\\ub300\\uc870\\ub9bd\", \"\\uace1\\uc911\\uc870_2\\uc57c\\ub4dc\\ub300\\uc870\\ub9bd\\uacf5\\uc7a5\", 330.0], [\"\\ub300\\uc870\\ub9bd\", \"\\uace1\\uc911\\uc870_\\ub300\\uc870\\ub9bd2\\uacf5\\uc7a5\", 290.0], [\"\\ub300\\uc870\\ub9bd\", \"\\uace1\\uc870\\ub9bd_\\ub300\\uc870\\ub9bd1\\uacf5\\uc7a5\", 380.0], [\"\\ub300\\uc870\\ub9bd\", \"Manifold \\uc81c\\uc791\", 140.0], [\"\\ub300\\uc870\\ub9bd\", \"\\uace1\\uc870\\ub9bd_2\\uc57c\\ub4dc\\ub300\\uc870\\ub9bd\\uacf5\\uc7a5\", 380.0], [\"\\ub300\\uc870\\ub9bd\", \"\\uace1\\uc870\\ub9bd_\\ub300\\uc870\\ub9bd2\\uacf5\\uc7a5\", 380.0], [\"\\ub300\\uc870\\ub9bd\", \"\\ud134\\uc624\\ubc84\", 170.0], [\"\\ub300\\uc870\\ub9bd\", \"\\ud134\\uc624\\ubc84\", 170.0], [\"\\ub300\\uc870\\ub9bd\", \"\\ud134\\uc624\\ubc84\", 130.0], [\"\\ub300\\uc870\\ub9bd\", \"\\ud310\\uacc4(\\uc8fc\\ud310)\", 60.0], [\"\\ub300\\uc870\\ub9bd\", \"\\ud310\\uacc4(\\ud615\\uac15)\", 100.0], [\"\\ub300\\uc870\\ub9bd\", \"\\ud310\\uacc4(\\uc8fc\\ud310)\", 60.0], [\"\\ub300\\uc870\\ub9bd\", \"\\ud310\\uacc4(\\ud615\\uac15)\", 100.0], [\"\\ub300\\uc870\\ub9bd\", \"\\ud3c9\\uc911\\uc870_\\ub300\\uc870\\ub9bd1\\uacf5\\uc7a5\", 100.0], [\"\\ub300\\uc870\\ub9bd\", \"\\ud3c9\\uc911\\uc870_2\\uc57c\\ub4dc\\ub300\\uc870\\ub9bd\\uacf5\\uc7a5\", 100.0], [\"\\ub300\\uc870\\ub9bd\", \"\\ud3c9\\uc911\\uc870_\\ub300\\uc870\\ub9bd2\\uacf5\\uc7a5\", 110.0]], \"hovertemplate\": \"\\ub300\\uad6c\\ubd84=%{customdata[0]}<br>R_vector=%{customdata[2]}<br>\\ubd80\\uc11c=%{y}<br>WORK_STAND_NM=%{customdata[1]}<extra></extra>\", \"legendgroup\": \"\\ub300\\uc870\\ub9bd\", \"marker\": {\"color\": \"#B6E880\"}, \"name\": \"\\ub300\\uc870\\ub9bd\", \"offsetgroup\": \"\\ub300\\uc870\\ub9bd\", \"orientation\": \"h\", \"showlegend\": true, \"textposition\": \"auto\", \"type\": \"bar\", \"x\": [230.0, 230.0, 20.0, 160.0, 20.0, 160.0, 270.0, 290.0, 330.0, 290.0, 380.0, 140.0, 380.0, 380.0, 170.0, 170.0, 130.0, 60.0, 100.0, 60.0, 100.0, 100.0, 100.0, 110.0], \"xaxis\": \"x\", \"y\": [\"\\ub300\\uc870\\ub9bd1\\ubd80\", \"\\ub300\\uc870\\ub9bd2\\ubd80\", \"\\ub300\\uc870\\ub9bd1\\ubd80\", \"\\ub300\\uc870\\ub9bd1\\ubd80\", \"\\ub300\\uc870\\ub9bd2\\ubd80\", \"\\ub300\\uc870\\ub9bd2\\ubd80\", \"\\ub300\\uc870\\ub9bd1\\ubd80\", \"\\ub300\\uc870\\ub9bd1\\ubd80\", \"\\ub300\\uc870\\ub9bd2\\ubd80\", \"\\ub300\\uc870\\ub9bd2\\ubd80\", \"\\ub300\\uc870\\ub9bd1\\ubd80\", \"\\ub300\\uc870\\ub9bd2\\ubd80\", \"\\ub300\\uc870\\ub9bd2\\ubd80\", \"\\ub300\\uc870\\ub9bd2\\ubd80\", \"\\ub300\\uc870\\ub9bd1\\ubd80\", \"\\ub300\\uc870\\ub9bd2\\ubd80\", \"\\ud310\\ub12c\\uc870\\ub9bd\\ubd80\", \"\\ub300\\uc870\\ub9bd1\\ubd80\", \"\\ub300\\uc870\\ub9bd1\\ubd80\", \"\\ub300\\uc870\\ub9bd2\\ubd80\", \"\\ub300\\uc870\\ub9bd2\\ubd80\", \"\\ub300\\uc870\\ub9bd1\\ubd80\", \"\\ub300\\uc870\\ub9bd2\\ubd80\", \"\\ub300\\uc870\\ub9bd2\\ubd80\"], \"yaxis\": \"y\"}, {\"alignmentgroup\": \"True\", \"customdata\": [[\"\\ubc1c\\ud310\\uc9c0\\uc6d0\", \"\\ubc1c\\ud310\\uc2dc\\uc124\\ubb3c \\uc124\\uce58\", 70.0], [\"\\ubc1c\\ud310\\uc9c0\\uc6d0\", \"\\ubc1c\\ud310\\uc2dc\\uc124\\ubb3c \\uc810\\uac80\", 50.0], [\"\\ubc1c\\ud310\\uc9c0\\uc6d0\", \"\\ubc1c\\ud310\\uc2dc\\uc124\\ubb3c \\ucca0\\uac70\", 70.0], [\"\\ubc1c\\ud310\\uc9c0\\uc6d0\", \"\\ube14\\ub85d\\uc548\\uc804\\uc2dc\\uc124 \\uc124\\uce58\", 140.0]], \"hovertemplate\": \"\\ub300\\uad6c\\ubd84=%{customdata[0]}<br>R_vector=%{customdata[2]}<br>\\ubd80\\uc11c=%{y}<br>WORK_STAND_NM=%{customdata[1]}<extra></extra>\", \"legendgroup\": \"\\ubc1c\\ud310\\uc9c0\\uc6d0\", \"marker\": {\"color\": \"#FF97FF\"}, \"name\": \"\\ubc1c\\ud310\\uc9c0\\uc6d0\", \"offsetgroup\": \"\\ubc1c\\ud310\\uc9c0\\uc6d0\", \"orientation\": \"h\", \"showlegend\": true, \"textposition\": \"auto\", \"type\": \"bar\", \"x\": [70.0, 50.0, 70.0, 140.0], \"xaxis\": \"x\", \"y\": [\"\\ubc1c\\ud310\\uc9c0\\uc6d0\\ubd80\", \"\\ubc1c\\ud310\\uc9c0\\uc6d0\\ubd80\", \"\\ubc1c\\ud310\\uc9c0\\uc6d0\\ubd80\", \"\\ubc1c\\ud310\\uc9c0\\uc6d0\\ubd80\"], \"yaxis\": \"y\"}, {\"alignmentgroup\": \"True\", \"customdata\": [[\"\\uc120\\uc2e4\\uc0dd\\uc0b0\", \"ELEVATOR \\uc124\\uce58/\\uac80\\uc0ac\", 180.0], [\"\\uc120\\uc2e4\\uc0dd\\uc0b0\", \"AIR CON SYSTEM\", 70.0], [\"\\uc120\\uc2e4\\uc0dd\\uc0b0\", \"PACKAGE AIR CON \\uc124\\uce58/\\uac80\\uc0ac\", 40.0], [\"\\uc120\\uc2e4\\uc0dd\\uc0b0\", \"\\ub0c9\\ub3d9 \\uc120\\ud589 FCU \\uc555\\ub825 \\uac80\\uc0ac\", 20.0], [\"\\uc120\\uc2e4\\uc0dd\\uc0b0\", \"LIFE-BOAT DAVIT \\uc124\\uce58\", 30.0], [\"\\uc120\\uc2e4\\uc0dd\\uc0b0\", \"LIFE-BOAT \\ud6c4\\ud589 \\uac80\\uc0ac\", 10.0], [\"\\uc120\\uc2e4\\uc0dd\\uc0b0\", \"COLD CAHMBER ANGLE \\uc124\\uce58\", 30.0], [\"\\uc120\\uc2e4\\uc0dd\\uc0b0\", \"COLD CAHMBER PANEL \\uc124\\uce58\", 10.0], [\"\\uc120\\uc2e4\\uc0dd\\uc0b0\", \"REF.PLANT SYSTEM\", 50.0], [\"\\uc120\\uc2e4\\uc0dd\\uc0b0\", \"CO2 SYSTEM \\uc120\\ud589 \\uc791\\uc5c5\", 30.0], [\"\\uc120\\uc2e4\\uc0dd\\uc0b0\", \"CO2 SYSTEM \\ud6c4\\ud589 \\uc791\\uc5c5\", 0.0], [\"\\uc120\\uc2e4\\uc0dd\\uc0b0\", \"GALLEY & LAUNDRY \\uc7a5\\ube44 \\ud0d1\\uc7ac \\ubc0f SEAT\", 20.0], [\"\\uc120\\uc2e4\\uc0dd\\uc0b0\", \"GALLEY & LAUNDRY\\uc124\\uce58/\\uac80\\uc0ac\", 20.0], [\"\\uc120\\uc2e4\\uc0dd\\uc0b0\", \"PROVISION CRANE \\ud0d1\\uc7ac/\\uc870\\ub9bd\", 0.0], [\"\\uc120\\uc2e4\\uc0dd\\uc0b0\", \"PROVISION CRANE \\ud6c4\\ud589 \\uac80\\uc0ac\", 50.0], [\"\\uc120\\uc2e4\\uc0dd\\uc0b0\", \"\\uc120\\uc2e4 IN/OUTSIDE \\ub3c4\\uc7a5\", 30.0], [\"\\uc120\\uc2e4\\uc0dd\\uc0b0\", \"\\uc120\\uc2e4 IN/OUTSIDE \\ud130\\uce58\\uc5c5\", 0.0], [\"\\uc120\\uc2e4\\uc0dd\\uc0b0\", \"\\uc120\\uc2e4 OUTSIDE WASHING\", 10.0], [\"\\uc120\\uc2e4\\uc0dd\\uc0b0\", \"\\uc120\\uc2e4 IN/OUTSIDE \\uc18c\\uc9c0\", 30.0], [\"\\uc120\\uc2e4\\uc0dd\\uc0b0\", \"3-COAT \\uc2dc\\uacf5\", 0.0], [\"\\uc120\\uc2e4\\uc0dd\\uc0b0\", \"FLOATING FLOOR \\uc2dc\\uacf5\", 20.0], [\"\\uc120\\uc2e4\\uc0dd\\uc0b0\", \"SELF LEVELING \\uc2dc\\uacf5\", 0.0], [\"\\uc120\\uc2e4\\uc0dd\\uc0b0\", \"TILE \\uc124\\uce58\", 10.0], [\"\\uc120\\uc2e4\\uc0dd\\uc0b0\", \"VINYL SHEET \\uc124\\uce58\", 20.0], [\"\\uc120\\uc2e4\\uc0dd\\uc0b0\", \"Wall & Ceiling Panel \\uc124\\uce58\", 20.0], [\"\\uc120\\uc2e4\\uc0dd\\uc0b0\", \"\\ub4dc\\ub798\\ud504\\ud2b8 \\uc2a4\\ud0d1(DS) \\uc124\\uce58\", 20.0], [\"\\uc120\\uc2e4\\uc0dd\\uc0b0\", \"\\ubaa9\\uc758\\uc7a5(DOOR HARDWARE \\uc124\\uce58)\", 0.0], [\"\\uc120\\uc2e4\\uc0dd\\uc0b0\", \"\\ubaa9\\uc758\\uc7a5(PLINTH \\uc124\\uce58)\", 30.0], [\"\\uc120\\uc2e4\\uc0dd\\uc0b0\", \"\\ubaa9\\uc758\\uc7a5(\\uac00\\uad6c \\uc124\\uce58)\", 10.0], [\"\\uc120\\uc2e4\\uc0dd\\uc0b0\", \"\\ubaa9\\uc758\\uc7a5(\\uc820\\ub2e4\\uc774 \\uc124\\uce58)\", 20.0], [\"\\uc120\\uc2e4\\uc0dd\\uc0b0\", \"\\ubaa9\\uc758\\uc7a5(\\uccad\\uc18c \\ubc0f \\uc2e4\\ub9ac\\ucf58 \\uc2dc\\uacf5)\", 0.0], [\"\\uc120\\uc2e4\\uc0dd\\uc0b0\", \"\\uc120\\ud589\\ud654\\uae30(Door)\", 80.0], [\"\\uc120\\uc2e4\\uc0dd\\uc0b0\", \"\\uc120\\ud589\\ud654\\uae30(Unit Toilet/\\uc720\\ud2f0)\", 40.0], [\"\\uc120\\uc2e4\\uc0dd\\uc0b0\", \"\\uc120\\ud589\\ud654\\uae30(\\ucc2c\\ub12c)\", 50.0], [\"\\uc120\\uc2e4\\uc0dd\\uc0b0\", \"\\uc120\\ud589\\ud654\\uae30(\\ucf54\\ubc0d)\", 40.0], [\"\\uc120\\uc2e4\\uc0dd\\uc0b0\", \"A-60 \\ubcf4\\uc628\", 0.0], [\"\\uc120\\uc2e4\\uc0dd\\uc0b0\", \"FELT \\ubcf4\\uc628\", 10.0], [\"\\uc120\\uc2e4\\uc0dd\\uc0b0\", \"Thermal \\ubcf4\\uc628\", 0.0], [\"\\uc120\\uc2e4\\uc0dd\\uc0b0\", \"\\ud30c\\uc774\\ud504 \\ubcf4\\uc628\", 10.0], [\"\\uc120\\uc2e4\\uc0dd\\uc0b0\", \"AIR COMPRESSOR \\uc124\\uce58\\uac80\\uc0ac\", 20.0], [\"\\uc120\\uc2e4\\uc0dd\\uc0b0\", \"COPPER PIPE \\uc124\\uce58\", 30.0], [\"\\uc120\\uc2e4\\uc0dd\\uc0b0\", \"DUCT COVER \\uc124\\uce58\", 30.0], [\"\\uc120\\uc2e4\\uc0dd\\uc0b0\", \"DUCT \\uc124\\uce58\", 20.0], [\"\\uc120\\uc2e4\\uc0dd\\uc0b0\", \"FOAM TANK \\uc124\\uce58\", 10.0], [\"\\uc120\\uc2e4\\uc0dd\\uc0b0\", \"HANDRAIL \\ucd94\\uac00(\\uc218\\uc815) \\uc124\\uce58\", 40.0], [\"\\uc120\\uc2e4\\uc0dd\\uc0b0\", \"INCLINED LADDER \\uc124\\uce58\", 10.0], [\"\\uc120\\uc2e4\\uc0dd\\uc0b0\", \"LOUVER VENT \\uac80\\uc0ac\", 20.0], [\"\\uc120\\uc2e4\\uc0dd\\uc0b0\", \"MULTI CORE \\uc5f0\\uacb0\", 30.0], [\"\\uc120\\uc2e4\\uc0dd\\uc0b0\", \"PPR PIPE \\uc124\\uce58\", 20.0], [\"\\uc120\\uc2e4\\uc0dd\\uc0b0\", \"PVC PIPE \\uc124\\uce58\", 0.0], [\"\\uc120\\uc2e4\\uc0dd\\uc0b0\", \"SANITARY FAN \\uc124\\uce58\", 0.0], [\"\\uc120\\uc2e4\\uc0dd\\uc0b0\", \"SANITARY WARE \\uc124\\uce58\", 0.0], [\"\\uc120\\uc2e4\\uc0dd\\uc0b0\", \"STEEL DOOR \\uac80\\uc0ac\", 30.0], [\"\\uc120\\uc2e4\\uc0dd\\uc0b0\", \"STEEL PIPE \\uc124\\uce58\", 20.0], [\"\\uc120\\uc2e4\\uc0dd\\uc0b0\", \"UNIT TOILET \\uc5f0\\uacb0\", 20.0], [\"\\uc120\\uc2e4\\uc0dd\\uc0b0\", \"WINDOW WIPER \\uc124\\uce58\", 20.0], [\"\\uc120\\uc2e4\\uc0dd\\uc0b0\", \"\\uac74\\uc870\\ud0d1\\uc7ac \\uace1\\uc9c1 (D/H \\ub3c4\\ud06c FAIRING)\", 10.0], [\"\\uc120\\uc2e4\\uc0dd\\uc0b0\", \"\\uac74\\uc870\\ud0d1\\uc7ac \\ucde8\\ubd80/\\uc6a9\\uc811\", 100.0], [\"\\uc120\\uc2e4\\uc0dd\\uc0b0\", \"\\ud6c4PE2 \\uace1\\uc9c1 (FAIRING)\", 10.0], [\"\\uc120\\uc2e4\\uc0dd\\uc0b0\", \"\\ud6c4PE2 \\ucde8\\ubd80/\\uc6a9\\uc811\", 120.0], [\"\\uc120\\uc2e4\\uc0dd\\uc0b0\", \"\\ud6c4PE2 \\uac74\\uc870\\ucca0\\uc758\\uc7a5\", 50.0], [\"\\uc120\\uc2e4\\uc0dd\\uc0b0\", \"CABLE \\ud3ec\\uc124\\uc791\\uc5c5(\\uc120\\ud589)\", 20.0], [\"\\uc120\\uc2e4\\uc0dd\\uc0b0\", \"CABLE \\ud3ec\\uc124\\uc791\\uc5c5(\\ud6c4\\ud589)\", 20.0], [\"\\uc120\\uc2e4\\uc0dd\\uc0b0\", \"COMPOUND \\uc2dc\\uacf5\", 20.0], [\"\\uc120\\uc2e4\\uc0dd\\uc0b0\", \"LIGHTING \\uac80\\uc0ac\", 0.0], [\"\\uc120\\uc2e4\\uc0dd\\uc0b0\", \"LIGHTING \\uc124\\uce58\", 40.0], [\"\\uc120\\uc2e4\\uc0dd\\uc0b0\", \"PANEL CLEANING\", 0.0], [\"\\uc120\\uc2e4\\uc0dd\\uc0b0\", \"PANEL \\uc124\\uce58\", 100.0], [\"\\uc120\\uc2e4\\uc0dd\\uc0b0\", \"ROOM \\uc7a5\\ube44\\uc124\\uce58\", 30.0], [\"\\uc120\\uc2e4\\uc0dd\\uc0b0\", \"\\uc120\\uc8fc \\uacf5\\uae09\\ud488 \\uc124\\uce58\", 10.0], [\"\\uc120\\uc2e4\\uc0dd\\uc0b0\", \"COMPOUND \\uc2dc\\uacf5\", 20.0], [\"\\uc120\\uc2e4\\uc0dd\\uc0b0\", \"COMPOUND \\uc2dc\\uacf5\", 250.0], [\"\\uc120\\uc2e4\\uc0dd\\uc0b0\", \"COMPOUND \\uc2dc\\uacf5\", 20.0], [\"\\uc120\\uc2e4\\uc0dd\\uc0b0\", \"ANTENNA (\\uc911\\uc18c\\ud615) \\uc791\\uc5c5\", 50.0], [\"\\uc120\\uc2e4\\uc0dd\\uc0b0\", \"BRIDGE CONTROL CONSOLE \\uc791\\uc5c5\", 40.0], [\"\\uc120\\uc2e4\\uc0dd\\uc0b0\", \"CABIN ROOM \\uc7a5\\ube44 \\uc791\\uc5c5\", 40.0], [\"\\uc120\\uc2e4\\uc0dd\\uc0b0\", \"CABLE DUCT \\uc7a5\\ube44 \\uc791\\uc5c5\", 10.0], [\"\\uc120\\uc2e4\\uc0dd\\uc0b0\", \"CHART & RADIO TABLE \\uc791\\uc5c5\", 10.0], [\"\\uc120\\uc2e4\\uc0dd\\uc0b0\", \"ELECTRIC EQUIPMENT ROOM \\uc791\\uc5c5\", 20.0], [\"\\uc120\\uc2e4\\uc0dd\\uc0b0\", \"GMDSS CONSOLE \\uc791\\uc5c5\", 40.0], [\"\\uc120\\uc2e4\\uc0dd\\uc0b0\", \"LAN NETWORK \\uc791\\uc5c5\", 20.0], [\"\\uc120\\uc2e4\\uc0dd\\uc0b0\", \"NAVI LOCKER \\uc791\\uc5c5\", 50.0], [\"\\uc120\\uc2e4\\uc0dd\\uc0b0\", \"RADAR \\ubc0f \\ub300\\ud615 ANTENNA \\uc791\\uc5c5\", 40.0], [\"\\uc120\\uc2e4\\uc0dd\\uc0b0\", \"SYSTEM INSPECTION\", 20.0], [\"\\uc120\\uc2e4\\uc0dd\\uc0b0\", \"\\uc120\\uc2e4 OUTSIDE \\uc7a5\\ube44(ANTENNA\\uc678) \\uc791\\uc5c5\", 40.0], [\"\\uc120\\uc2e4\\uc0dd\\uc0b0\", \"\\uc120\\uc8fc\\uacf5\\uae09\\ud488 \\uc124\\uce58\", 20.0]], \"hovertemplate\": \"\\ub300\\uad6c\\ubd84=%{customdata[0]}<br>R_vector=%{customdata[2]}<br>\\ubd80\\uc11c=%{y}<br>WORK_STAND_NM=%{customdata[1]}<extra></extra>\", \"legendgroup\": \"\\uc120\\uc2e4\\uc0dd\\uc0b0\", \"marker\": {\"color\": \"#FECB52\"}, \"name\": \"\\uc120\\uc2e4\\uc0dd\\uc0b0\", \"offsetgroup\": \"\\uc120\\uc2e4\\uc0dd\\uc0b0\", \"orientation\": \"h\", \"showlegend\": true, \"textposition\": \"auto\", \"type\": \"bar\", \"x\": [180.0, 70.0, 40.0, 20.0, 30.0, 10.0, 30.0, 10.0, 50.0, 30.0, 0.0, 20.0, 20.0, 0.0, 50.0, 30.0, 0.0, 10.0, 30.0, 0.0, 20.0, 0.0, 10.0, 20.0, 20.0, 20.0, 0.0, 30.0, 10.0, 20.0, 0.0, 80.0, 40.0, 50.0, 40.0, 0.0, 10.0, 0.0, 10.0, 20.0, 30.0, 30.0, 20.0, 10.0, 40.0, 10.0, 20.0, 30.0, 20.0, 0.0, 0.0, 0.0, 30.0, 20.0, 20.0, 20.0, 10.0, 100.0, 10.0, 120.0, 50.0, 20.0, 20.0, 20.0, 0.0, 40.0, 0.0, 100.0, 30.0, 10.0, 20.0, 250.0, 20.0, 50.0, 40.0, 40.0, 10.0, 10.0, 20.0, 40.0, 20.0, 50.0, 40.0, 20.0, 40.0, 20.0], \"xaxis\": \"x\", \"y\": [\"\\uc120\\uc2e4\\uc0dd\\uc0b0\\ubd80\", \"\\uc120\\uc2e4\\uc0dd\\uc0b0\\ubd80\", \"\\uc120\\uc2e4\\uc0dd\\uc0b0\\ubd80\", \"\\uc120\\uc2e4\\uc0dd\\uc0b0\\ubd80\", \"\\uc120\\uc2e4\\uc0dd\\uc0b0\\ubd80\", \"\\uc120\\uc2e4\\uc0dd\\uc0b0\\ubd80\", \"\\uc120\\uc2e4\\uc0dd\\uc0b0\\ubd80\", \"\\uc120\\uc2e4\\uc0dd\\uc0b0\\ubd80\", \"\\uc120\\uc2e4\\uc0dd\\uc0b0\\ubd80\", \"\\uc120\\uc2e4\\uc0dd\\uc0b0\\ubd80\", \"\\uc120\\uc2e4\\uc0dd\\uc0b0\\ubd80\", \"\\uc120\\uc2e4\\uc0dd\\uc0b0\\ubd80\", \"\\uc120\\uc2e4\\uc0dd\\uc0b0\\ubd80\", \"\\uc120\\uc2e4\\uc0dd\\uc0b0\\ubd80\", \"\\uc120\\uc2e4\\uc0dd\\uc0b0\\ubd80\", \"\\uc120\\uc2e4\\uc0dd\\uc0b0\\ubd80\", \"\\uc120\\uc2e4\\uc0dd\\uc0b0\\ubd80\", \"\\uc120\\uc2e4\\uc0dd\\uc0b0\\ubd80\", \"\\uc120\\uc2e4\\uc0dd\\uc0b0\\ubd80\", \"\\uc120\\uc2e4\\uc0dd\\uc0b0\\ubd80\", \"\\uc120\\uc2e4\\uc0dd\\uc0b0\\ubd80\", \"\\uc120\\uc2e4\\uc0dd\\uc0b0\\ubd80\", \"\\uc120\\uc2e4\\uc0dd\\uc0b0\\ubd80\", \"\\uc120\\uc2e4\\uc0dd\\uc0b0\\ubd80\", \"\\uc120\\uc2e4\\uc0dd\\uc0b0\\ubd80\", \"\\uc120\\uc2e4\\uc0dd\\uc0b0\\ubd80\", \"\\uc120\\uc2e4\\uc0dd\\uc0b0\\ubd80\", \"\\uc120\\uc2e4\\uc0dd\\uc0b0\\ubd80\", \"\\uc120\\uc2e4\\uc0dd\\uc0b0\\ubd80\", \"\\uc120\\uc2e4\\uc0dd\\uc0b0\\ubd80\", \"\\uc120\\uc2e4\\uc0dd\\uc0b0\\ubd80\", \"\\uc120\\uc2e4\\uc0dd\\uc0b0\\ubd80\", \"\\uc120\\uc2e4\\uc0dd\\uc0b0\\ubd80\", \"\\uc120\\uc2e4\\uc0dd\\uc0b0\\ubd80\", \"\\uc120\\uc2e4\\uc0dd\\uc0b0\\ubd80\", \"\\uc120\\uc2e4\\uc0dd\\uc0b0\\ubd80\", \"\\uc120\\uc2e4\\uc0dd\\uc0b0\\ubd80\", \"\\uc120\\uc2e4\\uc0dd\\uc0b0\\ubd80\", \"\\uc120\\uc2e4\\uc0dd\\uc0b0\\ubd80\", \"\\uc120\\uc2e4\\uc0dd\\uc0b0\\ubd80\", \"\\uc120\\uc2e4\\uc0dd\\uc0b0\\ubd80\", \"\\uc120\\uc2e4\\uc0dd\\uc0b0\\ubd80\", \"\\uc120\\uc2e4\\uc0dd\\uc0b0\\ubd80\", \"\\uc120\\uc2e4\\uc0dd\\uc0b0\\ubd80\", \"\\uc120\\uc2e4\\uc0dd\\uc0b0\\ubd80\", \"\\uc120\\uc2e4\\uc0dd\\uc0b0\\ubd80\", \"\\uc120\\uc2e4\\uc0dd\\uc0b0\\ubd80\", \"\\uc120\\uc2e4\\uc0dd\\uc0b0\\ubd80\", \"\\uc120\\uc2e4\\uc0dd\\uc0b0\\ubd80\", \"\\uc120\\uc2e4\\uc0dd\\uc0b0\\ubd80\", \"\\uc120\\uc2e4\\uc0dd\\uc0b0\\ubd80\", \"\\uc120\\uc2e4\\uc0dd\\uc0b0\\ubd80\", \"\\uc120\\uc2e4\\uc0dd\\uc0b0\\ubd80\", \"\\uc120\\uc2e4\\uc0dd\\uc0b0\\ubd80\", \"\\uc120\\uc2e4\\uc0dd\\uc0b0\\ubd80\", \"\\uc120\\uc2e4\\uc0dd\\uc0b0\\ubd80\", \"\\uc120\\uc2e4\\uc0dd\\uc0b0\\ubd80\", \"\\uc120\\uc2e4\\uc0dd\\uc0b0\\ubd80\", \"\\uc120\\uc2e4\\uc0dd\\uc0b0\\ubd80\", \"\\uc120\\uc2e4\\uc0dd\\uc0b0\\ubd80\", \"\\uc120\\uc2e4\\uc0dd\\uc0b0\\ubd80\", \"\\uc120\\uc2e4\\uc0dd\\uc0b0\\ubd80\", \"\\uc120\\uc2e4\\uc0dd\\uc0b0\\ubd80\", \"\\uc120\\uc2e4\\uc0dd\\uc0b0\\ubd80\", \"\\uc120\\uc2e4\\uc0dd\\uc0b0\\ubd80\", \"\\uc120\\uc2e4\\uc0dd\\uc0b0\\ubd80\", \"\\uc120\\uc2e4\\uc0dd\\uc0b0\\ubd80\", \"\\uc120\\uc2e4\\uc0dd\\uc0b0\\ubd80\", \"\\uc120\\uc2e4\\uc0dd\\uc0b0\\ubd80\", \"\\uc120\\uc2e4\\uc0dd\\uc0b0\\ubd80\", \"\\uc758\\uc7a51\\ubd80\", \"\\uc758\\uc7a52\\ubd80\", \"\\uc758\\uc7a53\\ubd80\", \"\\uc120\\uc2e4\\uc0dd\\uc0b0\\ubd80\", \"\\uc120\\uc2e4\\uc0dd\\uc0b0\\ubd80\", \"\\uc120\\uc2e4\\uc0dd\\uc0b0\\ubd80\", \"\\uc120\\uc2e4\\uc0dd\\uc0b0\\ubd80\", \"\\uc120\\uc2e4\\uc0dd\\uc0b0\\ubd80\", \"\\uc120\\uc2e4\\uc0dd\\uc0b0\\ubd80\", \"\\uc120\\uc2e4\\uc0dd\\uc0b0\\ubd80\", \"\\uc120\\uc2e4\\uc0dd\\uc0b0\\ubd80\", \"\\uc120\\uc2e4\\uc0dd\\uc0b0\\ubd80\", \"\\uc120\\uc2e4\\uc0dd\\uc0b0\\ubd80\", \"\\uc120\\uc2e4\\uc0dd\\uc0b0\\ubd80\", \"\\uc120\\uc2e4\\uc0dd\\uc0b0\\ubd80\", \"\\uc120\\uc2e4\\uc0dd\\uc0b0\\ubd80\"], \"yaxis\": \"y\"}, {\"alignmentgroup\": \"True\", \"customdata\": [[\"\\uc120\\uc2e4\\uc120\\ud589\\uc758\\uc7a5\", \"Copper Pipe \\uc124\\uce58_\\uc120\\uc2e4\", 30.0], [\"\\uc120\\uc2e4\\uc120\\ud589\\uc758\\uc7a5\", \"Cu-Ni Pipe \\uc124\\uce58_\\uc120\\uc2e4\", 30.0], [\"\\uc120\\uc2e4\\uc120\\ud589\\uc758\\uc7a5\", \"Duct \\uc124\\uce58 (Spiral, Square)\", 70.0], [\"\\uc120\\uc2e4\\uc120\\ud589\\uc758\\uc7a5\", \"EXH. Gas Pipe \\uc124\\uce58_\\uc120\\uc2e4\", 40.0], [\"\\uc120\\uc2e4\\uc120\\ud589\\uc758\\uc7a5\", \"Galley Hood \\uc124\\uce58\", 40.0], [\"\\uc120\\uc2e4\\uc120\\ud589\\uc758\\uc7a5\", \"Multi Core/Tray \\uc124\\uce58\", 30.0], [\"\\uc120\\uc2e4\\uc120\\ud589\\uc758\\uc7a5\", \"PP-R Pipe \\uc124\\uce58\", 30.0], [\"\\uc120\\uc2e4\\uc120\\ud589\\uc758\\uc7a5\", \"PVC Pipe Pipe \\uc124\\uce58\", 50.0], [\"\\uc120\\uc2e4\\uc120\\ud589\\uc758\\uc7a5\", \"Steel Pipe \\uc124\\uce58_\\uc120\\uc2e4\", 30.0], [\"\\uc120\\uc2e4\\uc120\\ud589\\uc758\\uc7a5\", \"SUS Pipe \\uc124\\uce58_\\uc120\\uc2e4\", 20.0], [\"\\uc120\\uc2e4\\uc120\\ud589\\uc758\\uc7a5\", \"Coaming \\uc124\\uce58 (Pipe, Oil, Save all)_\\uc120\\uc2e4\", 40.0], [\"\\uc120\\uc2e4\\uc120\\ud589\\uc758\\uc7a5\", \"Grating Frame \\uc124\\uce58_\\uc120\\uc2e4\", 50.0], [\"\\uc120\\uc2e4\\uc120\\ud589\\uc758\\uc7a5\", \"Hatch \\uc124\\uce58_\\uc120\\uc2e4\", 40.0], [\"\\uc120\\uc2e4\\uc120\\ud589\\uc758\\uc7a5\", \"Mushroom Ventilator \\uc124\\uce58_\\uc120\\uc2e4\", 60.0], [\"\\uc120\\uc2e4\\uc120\\ud589\\uc758\\uc7a5\", \"Pad \\uc124\\uce58_\\uc120\\uc2e4\", 70.0], [\"\\uc120\\uc2e4\\uc120\\ud589\\uc758\\uc7a5\", \"Platform \\uc124\\uce58_\\uc120\\uc2e4\", 30.0], [\"\\uc120\\uc2e4\\uc120\\ud589\\uc758\\uc7a5\", \"Signal Post \\uc124\\uce58\", 40.0], [\"\\uc120\\uc2e4\\uc120\\ud589\\uc758\\uc7a5\", \"Support \\uc124\\uce58 (Pipe, Duct \\ub4f1)\", 40.0], [\"\\uc120\\uc2e4\\uc120\\ud589\\uc758\\uc7a5\", \"Trolley Beam \\uc124\\uce58_\\uc120\\uc2e4\", 50.0], [\"\\uc120\\uc2e4\\uc120\\ud589\\uc758\\uc7a5\", \"\\ucca0\\uc758\\uc7a5 Seat \\uc124\\uce58\", 40.0], [\"\\uc120\\uc2e4\\uc120\\ud589\\uc758\\uc7a5\", \"\\ud1b5\\ud589\\uc6a9 \\ucca0\\uc758\\uc7a5 \\uc124\\uce58 (Hand Rail, Inclined Ladder \\ub4f1)\", 60.0], [\"\\uc120\\uc2e4\\uc120\\ud589\\uc758\\uc7a5\", \"Main Stairway Body \\uc124\\uce58\", 60.0], [\"\\uc120\\uc2e4\\uc120\\ud589\\uc758\\uc7a5\", \"\\ubaa9\\uc758\\uc7a5 \\ub9c8\\uac10\\uc7ac \\uc124\\uce58 (Joiner Angle/Channel/Coaming Platae/Profile/HangerRod \\ub4f1)\", 20.0], [\"\\uc120\\uc2e4\\uc120\\ud589\\uc758\\uc7a5\", \"Insulation Stud Pin \\uc124\\uce58_\\uc120\\uc2e4\", 20.0], [\"\\uc120\\uc2e4\\uc120\\ud589\\uc758\\uc7a5\", \"Load Test_\\uc120\\uc2e4\", 70.0], [\"\\uc120\\uc2e4\\uc120\\ud589\\uc758\\uc7a5\", \"Window Hose Test\", 40.0], [\"\\uc120\\uc2e4\\uc120\\ud589\\uc758\\uc7a5\", \"\\uc218\\uc555\\uac80\\uc0ac (Hyd. Test)\", 50.0], [\"\\uc120\\uc2e4\\uc120\\ud589\\uc758\\uc7a5\", \"\\uc804\\uc7a5 Coaming \\uc124\\uce58\", 40.0], [\"\\uc120\\uc2e4\\uc120\\ud589\\uc758\\uc7a5\", \"\\uc804\\uc7a5 Seat \\uc124\\uce58 (Lighting Seat, Alarm Seat \\ub4f1)\", 50.0], [\"\\uc120\\uc2e4\\uc120\\ud589\\uc758\\uc7a5\", \"Cable Pipe \\uc124\\uce58\", 30.0], [\"\\uc120\\uc2e4\\uc120\\ud589\\uc758\\uc7a5\", \"\\uc804\\ub85c \\uc124\\uce58 (Main, FB, SF \\ub4f1)\", 40.0], [\"\\uc120\\uc2e4\\uc120\\ud589\\uc758\\uc7a5\", \"\\uc804\\uc7a5 Coaming \\uc124\\uce58_\\uc120\\uc2e4\", 50.0], [\"\\uc120\\uc2e4\\uc120\\ud589\\uc758\\uc7a5\", \"\\uc804\\uc7a5 Seat \\uc124\\uce58 (Lighting Seat, Alarm Seat \\ub4f1)_\\uc120\\uc2e4\", 60.0]], \"hovertemplate\": \"\\ub300\\uad6c\\ubd84=%{customdata[0]}<br>R_vector=%{customdata[2]}<br>\\ubd80\\uc11c=%{y}<br>WORK_STAND_NM=%{customdata[1]}<extra></extra>\", \"legendgroup\": \"\\uc120\\uc2e4\\uc120\\ud589\\uc758\\uc7a5\", \"marker\": {\"color\": \"#636efa\"}, \"name\": \"\\uc120\\uc2e4\\uc120\\ud589\\uc758\\uc7a5\", \"offsetgroup\": \"\\uc120\\uc2e4\\uc120\\ud589\\uc758\\uc7a5\", \"orientation\": \"h\", \"showlegend\": true, \"textposition\": \"auto\", \"type\": \"bar\", \"x\": [30.0, 30.0, 70.0, 40.0, 40.0, 30.0, 30.0, 50.0, 30.0, 20.0, 40.0, 50.0, 40.0, 60.0, 70.0, 30.0, 40.0, 40.0, 50.0, 40.0, 60.0, 60.0, 20.0, 20.0, 70.0, 40.0, 50.0, 40.0, 50.0, 30.0, 40.0, 50.0, 60.0], \"xaxis\": \"x\", \"y\": [\"\\uc120\\ud589\\uc758\\uc7a5\\ubd80\", \"\\uc120\\ud589\\uc758\\uc7a5\\ubd80\", \"\\uc120\\ud589\\uc758\\uc7a5\\ubd80\", \"\\uc120\\ud589\\uc758\\uc7a5\\ubd80\", \"\\uc120\\ud589\\uc758\\uc7a5\\ubd80\", \"\\uc120\\ud589\\uc758\\uc7a5\\ubd80\", \"\\uc120\\ud589\\uc758\\uc7a5\\ubd80\", \"\\uc120\\ud589\\uc758\\uc7a5\\ubd80\", \"\\uc120\\ud589\\uc758\\uc7a5\\ubd80\", \"\\uc120\\ud589\\uc758\\uc7a5\\ubd80\", \"\\uc120\\ud589\\uc758\\uc7a5\\ubd80\", \"\\uc120\\ud589\\uc758\\uc7a5\\ubd80\", \"\\uc120\\ud589\\uc758\\uc7a5\\ubd80\", \"\\uc120\\ud589\\uc758\\uc7a5\\ubd80\", \"\\uc120\\ud589\\uc758\\uc7a5\\ubd80\", \"\\uc120\\ud589\\uc758\\uc7a5\\ubd80\", \"\\uc120\\ud589\\uc758\\uc7a5\\ubd80\", \"\\uc120\\ud589\\uc758\\uc7a5\\ubd80\", \"\\uc120\\ud589\\uc758\\uc7a5\\ubd80\", \"\\uc120\\ud589\\uc758\\uc7a5\\ubd80\", \"\\uc120\\ud589\\uc758\\uc7a5\\ubd80\", \"\\uc120\\ud589\\uc758\\uc7a5\\ubd80\", \"\\uc120\\ud589\\uc758\\uc7a5\\ubd80\", \"\\uc120\\ud589\\uc758\\uc7a5\\ubd80\", \"\\uc120\\ud589\\uc758\\uc7a5\\ubd80\", \"\\uc120\\ud589\\uc758\\uc7a5\\ubd80\", \"\\uc120\\ud589\\uc758\\uc7a5\\ubd80\", \"\\uc120\\uc2e4\\uc0dd\\uc0b0\\ubd80\", \"\\uc120\\uc2e4\\uc0dd\\uc0b0\\ubd80\", \"\\uc120\\ud589\\uc758\\uc7a5\\ubd80\", \"\\uc120\\ud589\\uc758\\uc7a5\\ubd80\", \"\\uc120\\ud589\\uc758\\uc7a5\\ubd80\", \"\\uc120\\ud589\\uc758\\uc7a5\\ubd80\"], \"yaxis\": \"y\"}, {\"alignmentgroup\": \"True\", \"customdata\": [[\"\\uc120\\ud589\\ub3c4\\uc7a5\", \"\\ube14\\ub85d \\ubcf4\\uc218 \\ub3c4\\uc7a5\", 170.0], [\"\\uc120\\ud589\\ub3c4\\uc7a5\", \"\\uc2a4\\ud504\\ub808\\uc774\", 250.0], [\"\\uc120\\ud589\\ub3c4\\uc7a5\", \"\\uadf8\\ub9ac\\ud2b8 \\ube14\\ub77c\\uc2a4\\ud305\", 170.0], [\"\\uc120\\ud589\\ub3c4\\uc7a5\", \"\\uadf8\\ub9ac\\ud2b8 \\uc218\\uac70\", 100.0], [\"\\uc120\\ud589\\ub3c4\\uc7a5\", \"\\uc18c\\uc9c0 \\uac80\\uc0ac\", 100.0]], \"hovertemplate\": \"\\ub300\\uad6c\\ubd84=%{customdata[0]}<br>R_vector=%{customdata[2]}<br>\\ubd80\\uc11c=%{y}<br>WORK_STAND_NM=%{customdata[1]}<extra></extra>\", \"legendgroup\": \"\\uc120\\ud589\\ub3c4\\uc7a5\", \"marker\": {\"color\": \"#EF553B\"}, \"name\": \"\\uc120\\ud589\\ub3c4\\uc7a5\", \"offsetgroup\": \"\\uc120\\ud589\\ub3c4\\uc7a5\", \"orientation\": \"h\", \"showlegend\": true, \"textposition\": \"auto\", \"type\": \"bar\", \"x\": [170.0, 250.0, 170.0, 100.0, 100.0], \"xaxis\": \"x\", \"y\": [\"\\uc120\\ud589\\ub3c4\\uc7a5\\ubd80\", \"\\uc120\\ud589\\ub3c4\\uc7a5\\ubd80\", \"\\uc120\\ud589\\ub3c4\\uc7a5\\ubd80\", \"\\uc120\\ud589\\ub3c4\\uc7a5\\ubd80\", \"\\uc120\\ud589\\ub3c4\\uc7a5\\ubd80\"], \"yaxis\": \"y\"}, {\"alignmentgroup\": \"True\", \"customdata\": [[\"\\uc120\\ud589\\uc758\\uc7a5\", \"Heating Coil \\uc124\\uce58\", 20.0], [\"\\uc120\\ud589\\uc758\\uc7a5\", \"G.R.E. Pipe \\uc124\\uce58\", 10.0], [\"\\uc120\\ud589\\uc758\\uc7a5\", \"G/Unit \\uc124\\uce58 (Group Unit)\", 40.0], [\"\\uc120\\ud589\\uc758\\uc7a5\", \"Heating Coil \\uc124\\uce58\", 20.0], [\"\\uc120\\ud589\\uc758\\uc7a5\", \"Steel Pipe \\uc124\\uce58\", 10.0], [\"\\uc120\\ud589\\uc758\\uc7a5\", \"SUS Pipe \\uc124\\uce58\", 10.0], [\"\\uc120\\ud589\\uc758\\uc7a5\", \"Copper Pipe \\uc124\\uce58\", 20.0], [\"\\uc120\\ud589\\uc758\\uc7a5\", \"Cu-Ni Pipe \\uc124\\uce58\", 20.0], [\"\\uc120\\ud589\\uc758\\uc7a5\", \"G.R.E. Pipe \\uc124\\uce58\", 10.0], [\"\\uc120\\ud589\\uc758\\uc7a5\", \"G/Unit \\uc124\\uce58 (Group Unit)\", 40.0], [\"\\uc120\\ud589\\uc758\\uc7a5\", \"Heating Coil \\uc124\\uce58\", 20.0], [\"\\uc120\\ud589\\uc758\\uc7a5\", \"Steel Pipe \\uc124\\uce58\", 10.0], [\"\\uc120\\ud589\\uc758\\uc7a5\", \"SUS Pipe \\uc124\\uce58\", 10.0], [\"\\uc120\\ud589\\uc758\\uc7a5\", \"Copper Pipe \\uc124\\uce58\", 20.0], [\"\\uc120\\ud589\\uc758\\uc7a5\", \"Cu-Ni Pipe \\uc124\\uce58\", 20.0], [\"\\uc120\\ud589\\uc758\\uc7a5\", \"EXH. Gas Pipe \\uc124\\uce58\", 30.0], [\"\\uc120\\ud589\\uc758\\uc7a5\", \"G.R.E. Pipe \\uc124\\uce58\", 20.0], [\"\\uc120\\ud589\\uc758\\uc7a5\", \"G/Unit \\uc124\\uce58 (Group Unit)\", 50.0], [\"\\uc120\\ud589\\uc758\\uc7a5\", \"Heating Coil \\uc124\\uce58\", 20.0], [\"\\uc120\\ud589\\uc758\\uc7a5\", \"Steel Pipe \\uc124\\uce58\", 70.0], [\"\\uc120\\ud589\\uc758\\uc7a5\", \"SUS Pipe \\uc124\\uce58\", 40.0], [\"\\uc120\\ud589\\uc758\\uc7a5\", \"Copper Pipe \\uc124\\uce58\", 10.0], [\"\\uc120\\ud589\\uc758\\uc7a5\", \"Cu-Ni Pipe \\uc124\\uce58\", 20.0], [\"\\uc120\\ud589\\uc758\\uc7a5\", \"G.R.E. Pipe \\uc124\\uce58\", 30.0], [\"\\uc120\\ud589\\uc758\\uc7a5\", \"Heating Coil \\uc124\\uce58\", 20.0], [\"\\uc120\\ud589\\uc758\\uc7a5\", \"Steel Pipe \\uc124\\uce58\", 70.0], [\"\\uc120\\ud589\\uc758\\uc7a5\", \"SUS Pipe \\uc124\\uce58\", 20.0], [\"\\uc120\\ud589\\uc758\\uc7a5\", \"Container Stool \\uc124\\uce58\", 50.0], [\"\\uc120\\ud589\\uc758\\uc7a5\", \"Hatch \\uc124\\uce58\", 30.0], [\"\\uc120\\ud589\\uc758\\uc7a5\", \"Mooring \\uc124\\uce58 (Bollard, Panama Chock, Chafing Rail, Cross Bit, Capstan)\", 40.0], [\"\\uc120\\ud589\\uc758\\uc7a5\", \"Grating Frame \\uc124\\uce58\", 20.0], [\"\\uc120\\ud589\\uc758\\uc7a5\", \"Pad \\uc124\\uce58\", 40.0], [\"\\uc120\\ud589\\uc758\\uc7a5\", \"Platform \\uc124\\uce58\", 30.0], [\"\\uc120\\ud589\\uc758\\uc7a5\", \"Seat \\uc124\\uce58\", 30.0], [\"\\uc120\\ud589\\uc758\\uc7a5\", \"Steel Door \\uc124\\uce58 (Tight, Non Tight)\", 40.0], [\"\\uc120\\ud589\\uc758\\uc7a5\", \"Support \\uc124\\uce58 (Pipe, Heating Coil, Duct \\ub4f1)\", 30.0], [\"\\uc120\\ud589\\uc758\\uc7a5\", \"\\ud1b5\\ud589\\uc6a9 \\uc124\\uce58 (Hand Rail, Hand Grip, Strom Rail, Vertical/Inclined Ladder)\", 40.0], [\"\\uc120\\ud589\\uc758\\uc7a5\", \"Grating Frame \\uc124\\uce58\", 20.0], [\"\\uc120\\ud589\\uc758\\uc7a5\", \"Hatch \\uc124\\uce58\", 30.0], [\"\\uc120\\ud589\\uc758\\uc7a5\", \"Pad \\uc124\\uce58\", 40.0], [\"\\uc120\\ud589\\uc758\\uc7a5\", \"Platform \\uc124\\uce58\", 30.0], [\"\\uc120\\ud589\\uc758\\uc7a5\", \"Seat \\uc124\\uce58\", 30.0], [\"\\uc120\\ud589\\uc758\\uc7a5\", \"Steel Door \\uc124\\uce58 (Tight, Non Tight)\", 40.0], [\"\\uc120\\ud589\\uc758\\uc7a5\", \"Support \\uc124\\uce58 (Pipe, Heating Coil, Duct \\ub4f1)\", 30.0], [\"\\uc120\\ud589\\uc758\\uc7a5\", \"\\ud1b5\\ud589\\uc6a9 \\uc124\\uce58 (Hand Rail, Hand Grip, Strom Rail, Vertical/Inclined Ladder)\", 40.0], [\"\\uc120\\ud589\\uc758\\uc7a5\", \"Boss \\uc124\\uce58\", 20.0], [\"\\uc120\\ud589\\uc758\\uc7a5\", \"Coaming \\uc124\\uce58 (Pipe, Oil, Save all)\", 40.0], [\"\\uc120\\ud589\\uc758\\uc7a5\", \"Container Stool \\uc124\\uce58\", 50.0], [\"\\uc120\\ud589\\uc758\\uc7a5\", \"Container Tool Box \\uc124\\uce58\", 40.0], [\"\\uc120\\ud589\\uc758\\uc7a5\", \"D/G Engine Seat \\uc124\\uce58\", 60.0], [\"\\uc120\\ud589\\uc758\\uc7a5\", \"Duct \\uc124\\uce58 (Round, Spiral, Square)\", 60.0], [\"\\uc120\\ud589\\uc758\\uc7a5\", \"Grating Frame \\uc124\\uce58\", 20.0], [\"\\uc120\\ud589\\uc758\\uc7a5\", \"Hatch \\uc124\\uce58\", 30.0], [\"\\uc120\\ud589\\uc758\\uc7a5\", \"Hose Reel \\uc124\\uce58\", 30.0], [\"\\uc120\\ud589\\uc758\\uc7a5\", \"Mooring \\uc124\\uce58 (Bollard, Panama Chock, Chafing Rail, Cross Bit, Capstan)\", 40.0], [\"\\uc120\\ud589\\uc758\\uc7a5\", \"Mushroom Ventilator \\uc124\\uce58\", 50.0], [\"\\uc120\\ud589\\uc758\\uc7a5\", \"Pad \\uc124\\uce58\", 60.0], [\"\\uc120\\ud589\\uc758\\uc7a5\", \"Pilot/Bunker Door \\uc124\\uce58\", 50.0], [\"\\uc120\\ud589\\uc758\\uc7a5\", \"Platform \\uc124\\uce58\", 30.0], [\"\\uc120\\ud589\\uc758\\uc7a5\", \"Pump \\uc124\\uce58\", 90.0], [\"\\uc120\\ud589\\uc758\\uc7a5\", \"Rigid Plate \\uc124\\uce58\", 30.0], [\"\\uc120\\ud589\\uc758\\uc7a5\", \"Sea Chest Grating \\uc124\\uce58\", 30.0], [\"\\uc120\\ud589\\uc758\\uc7a5\", \"Seat \\uc124\\uce58\", 30.0], [\"\\uc120\\ud589\\uc758\\uc7a5\", \"Steel Door \\uc124\\uce58 (Tight, Non Tight)\", 40.0], [\"\\uc120\\ud589\\uc758\\uc7a5\", \"Support \\uc124\\uce58 (Pipe, Heating Coil, Duct \\ub4f1)\", 30.0], [\"\\uc120\\ud589\\uc758\\uc7a5\", \"Tool Board \\uc124\\uce58\", 30.0], [\"\\uc120\\ud589\\uc758\\uc7a5\", \"Trolley Beam \\uc124\\uce58\", 50.0], [\"\\uc120\\ud589\\uc758\\uc7a5\", \"\\ucc9c\\uc7a5 \\ub9c8\\uac10\\uc7ac \\uc124\\uce58 (Joiner Angle/Channel/FlatBAr/Piece, Profile, HangerRod)\", 30.0], [\"\\uc120\\ud589\\uc758\\uc7a5\", \"\\ud1b5\\ud589\\uc6a9 \\uc124\\uce58 (Hand Rail, Hand Grip, Strom Rail, Vertical/Inclined Ladder)\", 40.0], [\"\\uc120\\ud589\\uc758\\uc7a5\", \"\\ud658\\uae30\\uad6c \\uc124\\uce58 (Louver Vent, Shutter Grill)\", 50.0], [\"\\uc120\\ud589\\uc758\\uc7a5\", \"Grating Frame \\uc124\\uce58\", 20.0], [\"\\uc120\\ud589\\uc758\\uc7a5\", \"Hatch \\uc124\\uce58\", 30.0], [\"\\uc120\\ud589\\uc758\\uc7a5\", \"Pad \\uc124\\uce58\", 40.0], [\"\\uc120\\ud589\\uc758\\uc7a5\", \"Platform \\uc124\\uce58\", 30.0], [\"\\uc120\\ud589\\uc758\\uc7a5\", \"Seat \\uc124\\uce58\", 30.0], [\"\\uc120\\ud589\\uc758\\uc7a5\", \"Steel Door \\uc124\\uce58 (Tight, Non Tight)\", 40.0], [\"\\uc120\\ud589\\uc758\\uc7a5\", \"Support \\uc124\\uce58 (Pipe, Heating Coil, Duct \\ub4f1)\", 30.0], [\"\\uc120\\ud589\\uc758\\uc7a5\", \"\\ud1b5\\ud589\\uc6a9 \\uc124\\uce58 (Hand Rail, Hand Grip, Strom Rail, Vertical/Inclined Ladder)\", 30.0], [\"\\uc120\\ud589\\uc758\\uc7a5\", \"Channel \\uc124\\uce58\", 20.0], [\"\\uc120\\ud589\\uc758\\uc7a5\", \"Insulation Stud Pin \\uc124\\uce58\", 20.0], [\"\\uc120\\ud589\\uc758\\uc7a5\", \"T-Bar \\uc124\\uce58\", 20.0], [\"\\uc120\\ud589\\uc758\\uc7a5\", \"\\uc758\\uc7a5\\uc870\\uc778\\ud2b8 \\uc791\\uc5c5\", 30.0], [\"\\uc120\\ud589\\uc758\\uc7a5\", \"\\uc120PE \\ucde8\\ubd80\\uc6a9\\uc811\", 200.0], [\"\\uc120\\ud589\\uc758\\uc7a5\", \"\\uc120PE \\ud0d1\\uc7ac\", 90.0], [\"\\uc120\\ud589\\uc758\\uc7a5\", \"\\ubc00\\ubd09 \\ubc0f \\ub9c8\\uc2a4\\ud0b9 \\uac80\\uc0ac\", 10.0], [\"\\uc120\\ud589\\uc758\\uc7a5\", \"\\uc758\\uc7a5\\ud488 \\uc124\\uce58 \\uac80\\uc0ac\", 10.0], [\"\\uc120\\ud589\\uc758\\uc7a5\", \"\\ubc00\\ubd09 \\ubc0f \\ub9c8\\uc2a4\\ud0b9 \\uac80\\uc0ac\", 10.0], [\"\\uc120\\ud589\\uc758\\uc7a5\", \"\\uc758\\uc7a5\\ud488 \\uc124\\uce58 \\uac80\\uc0ac\", 10.0], [\"\\uc120\\ud589\\uc758\\uc7a5\", \"Air Leak Test\", 30.0], [\"\\uc120\\ud589\\uc758\\uc7a5\", \"Load Test\", 90.0], [\"\\uc120\\ud589\\uc758\\uc7a5\", \"\\ubc00\\ubd09 \\ubc0f \\ub9c8\\uc2a4\\ud0b9 \\uac80\\uc0ac\", 10.0], [\"\\uc120\\ud589\\uc758\\uc7a5\", \"\\uc758\\uc7a5\\ud488 \\uc124\\uce58 \\uac80\\uc0ac\", 10.0], [\"\\uc120\\ud589\\uc758\\uc7a5\", \"\\ubc00\\ubd09 \\ubc0f \\ub9c8\\uc2a4\\ud0b9 \\uac80\\uc0ac\", 10.0], [\"\\uc120\\ud589\\uc758\\uc7a5\", \"\\uc758\\uc7a5\\ud488 \\uc124\\uce58 \\uac80\\uc0ac\", 10.0], [\"\\uc120\\ud589\\uc758\\uc7a5\", \"\\uc804\\ub85c \\uc124\\uce58 (Main, FB, SF, Multi Core)\", 40.0], [\"\\uc120\\ud589\\uc758\\uc7a5\", \"Cable Pipe/Duct \\uc124\\uce58\", 20.0], [\"\\uc120\\ud589\\uc758\\uc7a5\", \"Support \\uc124\\uce58\", 30.0], [\"\\uc120\\ud589\\uc758\\uc7a5\", \"\\uc804\\ub85c \\uc124\\uce58 (Main, FB, SF, Multi Core)\", 30.0], [\"\\uc120\\ud589\\uc758\\uc7a5\", \"\\uc804\\uc7a5 Coaming \\uc124\\uce58\", 40.0], [\"\\uc120\\ud589\\uc758\\uc7a5\", \"\\uc804\\uc7a5 Seat \\uc124\\uce58 (Lighting Seat, Alarm Seat \\ub4f1)\", 50.0], [\"\\uc120\\ud589\\uc758\\uc7a5\", \"Cable Pipe/Duct \\uc124\\uce58\", 20.0], [\"\\uc120\\ud589\\uc758\\uc7a5\", \"Support \\uc124\\uce58\", 30.0], [\"\\uc120\\ud589\\uc758\\uc7a5\", \"\\uc804\\ub85c \\uc124\\uce58 (Main, FB, SF, Multi Core)\", 30.0], [\"\\uc120\\ud589\\uc758\\uc7a5\", \"\\uc804\\uc7a5 Coaming \\uc124\\uce58\", 40.0], [\"\\uc120\\ud589\\uc758\\uc7a5\", \"\\uc804\\uc7a5 Seat \\uc124\\uce58 (Lighting Seat, Alarm Seat \\ub4f1)\", 50.0], [\"\\uc120\\ud589\\uc758\\uc7a5\", \"Support \\uc124\\uce58\", 30.0], [\"\\uc120\\ud589\\uc758\\uc7a5\", \"\\uc804\\ub85c \\uc124\\uce58 (Main, FB, SF, Multi Core)\", 30.0], [\"\\uc120\\ud589\\uc758\\uc7a5\", \"Cable Pipe/Duct \\uc124\\uce58\", 30.0], [\"\\uc120\\ud589\\uc758\\uc7a5\", \"Main Switchboard Seat \\uc124\\uce58\", 60.0], [\"\\uc120\\ud589\\uc758\\uc7a5\", \"Support \\uc124\\uce58\", 30.0], [\"\\uc120\\ud589\\uc758\\uc7a5\", \"\\uc804\\ub85c \\uc124\\uce58 (Main, FB, SF, Multi Core)\", 30.0], [\"\\uc120\\ud589\\uc758\\uc7a5\", \"\\uc804\\uc7a5 Coaming \\uc124\\uce58\", 40.0], [\"\\uc120\\ud589\\uc758\\uc7a5\", \"\\uc804\\uc7a5 Seat \\uc124\\uce58 (Lighting Seat, Alarm Seat \\ub4f1)\", 50.0], [\"\\uc120\\ud589\\uc758\\uc7a5\", \"Support \\uc124\\uce58\", 30.0], [\"\\uc120\\ud589\\uc758\\uc7a5\", \"\\uc804\\ub85c \\uc124\\uce58 (Main, FB, SF, Multi Core)\", 30.0], [\"\\uc120\\ud589\\uc758\\uc7a5\", \"Support \\uc124\\uce58\", 30.0], [\"\\uc120\\ud589\\uc758\\uc7a5\", \"\\uc804\\ub85c \\uc124\\uce58 (Main, FB, SF, Multi Core)\", 30.0], [\"\\uc120\\ud589\\uc758\\uc7a5\", \"Support \\uc124\\uce58\", 30.0], [\"\\uc120\\ud589\\uc758\\uc7a5\", \"\\uc804\\ub85c \\uc124\\uce58 (Main, FB, SF, Multi Core)\", 30.0], [\"\\uc120\\ud589\\uc758\\uc7a5\", \"Cable Pipe/Duct \\uc124\\uce58\", 20.0], [\"\\uc120\\ud589\\uc758\\uc7a5\", \"Support \\uc124\\uce58\", 30.0], [\"\\uc120\\ud589\\uc758\\uc7a5\", \"\\uc804\\ub85c \\uc124\\uce58 (Main, FB, SF, Multi Core)\", 40.0], [\"\\uc120\\ud589\\uc758\\uc7a5\", \"\\uc804\\uc7a5 Coaming \\uc124\\uce58\", 30.0], [\"\\uc120\\ud589\\uc758\\uc7a5\", \"\\uc804\\uc7a5 Seat \\uc124\\uce58 (Lighting Seat, Alarm Seat \\ub4f1)\", 50.0]], \"hovertemplate\": \"\\ub300\\uad6c\\ubd84=%{customdata[0]}<br>R_vector=%{customdata[2]}<br>\\ubd80\\uc11c=%{y}<br>WORK_STAND_NM=%{customdata[1]}<extra></extra>\", \"legendgroup\": \"\\uc120\\ud589\\uc758\\uc7a5\", \"marker\": {\"color\": \"#00cc96\"}, \"name\": \"\\uc120\\ud589\\uc758\\uc7a5\", \"offsetgroup\": \"\\uc120\\ud589\\uc758\\uc7a5\", \"orientation\": \"h\", \"showlegend\": true, \"textposition\": \"auto\", \"type\": \"bar\", \"x\": [20.0, 10.0, 40.0, 20.0, 10.0, 10.0, 20.0, 20.0, 10.0, 40.0, 20.0, 10.0, 10.0, 20.0, 20.0, 30.0, 20.0, 50.0, 20.0, 70.0, 40.0, 10.0, 20.0, 30.0, 20.0, 70.0, 20.0, 50.0, 30.0, 40.0, 20.0, 40.0, 30.0, 30.0, 40.0, 30.0, 40.0, 20.0, 30.0, 40.0, 30.0, 30.0, 40.0, 30.0, 40.0, 20.0, 40.0, 50.0, 40.0, 60.0, 60.0, 20.0, 30.0, 30.0, 40.0, 50.0, 60.0, 50.0, 30.0, 90.0, 30.0, 30.0, 30.0, 40.0, 30.0, 30.0, 50.0, 30.0, 40.0, 50.0, 20.0, 30.0, 40.0, 30.0, 30.0, 40.0, 30.0, 30.0, 20.0, 20.0, 20.0, 30.0, 200.0, 90.0, 10.0, 10.0, 10.0, 10.0, 30.0, 90.0, 10.0, 10.0, 10.0, 10.0, 40.0, 20.0, 30.0, 30.0, 40.0, 50.0, 20.0, 30.0, 30.0, 40.0, 50.0, 30.0, 30.0, 30.0, 60.0, 30.0, 30.0, 40.0, 50.0, 30.0, 30.0, 30.0, 30.0, 30.0, 30.0, 20.0, 30.0, 40.0, 30.0, 50.0], \"xaxis\": \"x\", \"y\": [\"\\uac00\\uacf5\\uc18c\\uc870\\ub9bd\\ubd80\", \"\\ub300\\uc870\\ub9bd1\\ubd80\", \"\\ub300\\uc870\\ub9bd1\\ubd80\", \"\\ub300\\uc870\\ub9bd1\\ubd80\", \"\\ub300\\uc870\\ub9bd1\\ubd80\", \"\\ub300\\uc870\\ub9bd1\\ubd80\", \"\\ub300\\uc870\\ub9bd2\\ubd80\", \"\\ub300\\uc870\\ub9bd2\\ubd80\", \"\\ub300\\uc870\\ub9bd2\\ubd80\", \"\\ub300\\uc870\\ub9bd2\\ubd80\", \"\\ub300\\uc870\\ub9bd2\\ubd80\", \"\\ub300\\uc870\\ub9bd2\\ubd80\", \"\\ub300\\uc870\\ub9bd2\\ubd80\", \"\\uc120\\ud589\\uc758\\uc7a5\\ubd80\", \"\\uc120\\ud589\\uc758\\uc7a5\\ubd80\", \"\\uc120\\ud589\\uc758\\uc7a5\\ubd80\", \"\\uc120\\ud589\\uc758\\uc7a5\\ubd80\", \"\\uc120\\ud589\\uc758\\uc7a5\\ubd80\", \"\\uc120\\ud589\\uc758\\uc7a5\\ubd80\", \"\\uc120\\ud589\\uc758\\uc7a5\\ubd80\", \"\\uc120\\ud589\\uc758\\uc7a5\\ubd80\", \"\\ud310\\ub12c\\uc870\\ub9bd\\ubd80\", \"\\ud310\\ub12c\\uc870\\ub9bd\\ubd80\", \"\\ud310\\ub12c\\uc870\\ub9bd\\ubd80\", \"\\ud310\\ub12c\\uc870\\ub9bd\\ubd80\", \"\\ud310\\ub12c\\uc870\\ub9bd\\ubd80\", \"\\ud310\\ub12c\\uc870\\ub9bd\\ubd80\", \"\\uac00\\uacf5\\uc18c\\uc870\\ub9bd\\ubd80\", \"\\uac00\\uacf5\\uc18c\\uc870\\ub9bd\\ubd80\", \"\\uac00\\uacf5\\uc18c\\uc870\\ub9bd\\ubd80\", \"\\ub300\\uc870\\ub9bd1\\ubd80\", \"\\ub300\\uc870\\ub9bd1\\ubd80\", \"\\ub300\\uc870\\ub9bd1\\ubd80\", \"\\ub300\\uc870\\ub9bd1\\ubd80\", \"\\ub300\\uc870\\ub9bd1\\ubd80\", \"\\ub300\\uc870\\ub9bd1\\ubd80\", \"\\ub300\\uc870\\ub9bd1\\ubd80\", \"\\ub300\\uc870\\ub9bd2\\ubd80\", \"\\ub300\\uc870\\ub9bd2\\ubd80\", \"\\ub300\\uc870\\ub9bd2\\ubd80\", \"\\ub300\\uc870\\ub9bd2\\ubd80\", \"\\ub300\\uc870\\ub9bd2\\ubd80\", \"\\ub300\\uc870\\ub9bd2\\ubd80\", \"\\ub300\\uc870\\ub9bd2\\ubd80\", \"\\ub300\\uc870\\ub9bd2\\ubd80\", \"\\uc120\\ud589\\uc758\\uc7a5\\ubd80\", \"\\uc120\\ud589\\uc758\\uc7a5\\ubd80\", \"\\uc120\\ud589\\uc758\\uc7a5\\ubd80\", \"\\uc120\\ud589\\uc758\\uc7a5\\ubd80\", \"\\uc120\\ud589\\uc758\\uc7a5\\ubd80\", \"\\uc120\\ud589\\uc758\\uc7a5\\ubd80\", \"\\uc120\\ud589\\uc758\\uc7a5\\ubd80\", \"\\uc120\\ud589\\uc758\\uc7a5\\ubd80\", \"\\uc120\\ud589\\uc758\\uc7a5\\ubd80\", \"\\uc120\\ud589\\uc758\\uc7a5\\ubd80\", \"\\uc120\\ud589\\uc758\\uc7a5\\ubd80\", \"\\uc120\\ud589\\uc758\\uc7a5\\ubd80\", \"\\uc120\\ud589\\uc758\\uc7a5\\ubd80\", \"\\uc120\\ud589\\uc758\\uc7a5\\ubd80\", \"\\uc120\\ud589\\uc758\\uc7a5\\ubd80\", \"\\uc120\\ud589\\uc758\\uc7a5\\ubd80\", \"\\uc120\\ud589\\uc758\\uc7a5\\ubd80\", \"\\uc120\\ud589\\uc758\\uc7a5\\ubd80\", \"\\uc120\\ud589\\uc758\\uc7a5\\ubd80\", \"\\uc120\\ud589\\uc758\\uc7a5\\ubd80\", \"\\uc120\\ud589\\uc758\\uc7a5\\ubd80\", \"\\uc120\\ud589\\uc758\\uc7a5\\ubd80\", \"\\uc120\\ud589\\uc758\\uc7a5\\ubd80\", \"\\uc120\\ud589\\uc758\\uc7a5\\ubd80\", \"\\uc120\\ud589\\uc758\\uc7a5\\ubd80\", \"\\ud310\\ub12c\\uc870\\ub9bd\\ubd80\", \"\\ud310\\ub12c\\uc870\\ub9bd\\ubd80\", \"\\ud310\\ub12c\\uc870\\ub9bd\\ubd80\", \"\\ud310\\ub12c\\uc870\\ub9bd\\ubd80\", \"\\ud310\\ub12c\\uc870\\ub9bd\\ubd80\", \"\\ud310\\ub12c\\uc870\\ub9bd\\ubd80\", \"\\ud310\\ub12c\\uc870\\ub9bd\\ubd80\", \"\\ud310\\ub12c\\uc870\\ub9bd\\ubd80\", \"\\uc120\\ud589\\uc758\\uc7a5\\ubd80\", \"\\uc120\\ud589\\uc758\\uc7a5\\ubd80\", \"\\uc120\\ud589\\uc758\\uc7a5\\ubd80\", \"\\uc120\\ud589\\uc758\\uc7a5\\ubd80\", \"\\uc120\\ud589\\uc758\\uc7a5\\ubd80\", \"\\uc120\\ud589\\uc758\\uc7a5\\ubd80\", \"\\ub300\\uc870\\ub9bd1\\ubd80\", \"\\ub300\\uc870\\ub9bd1\\ubd80\", \"\\ub300\\uc870\\ub9bd2\\ubd80\", \"\\ub300\\uc870\\ub9bd2\\ubd80\", \"\\uc120\\ud589\\uc758\\uc7a5\\ubd80\", \"\\uc120\\ud589\\uc758\\uc7a5\\ubd80\", \"\\uc120\\ud589\\uc758\\uc7a5\\ubd80\", \"\\uc120\\ud589\\uc758\\uc7a5\\ubd80\", \"\\ud310\\ub12c\\uc870\\ub9bd\\ubd80\", \"\\ud310\\ub12c\\uc870\\ub9bd\\ubd80\", \"\\uac00\\uacf5\\uc18c\\uc870\\ub9bd\\ubd80\", \"\\ub300\\uc870\\ub9bd1\\ubd80\", \"\\ub300\\uc870\\ub9bd1\\ubd80\", \"\\ub300\\uc870\\ub9bd1\\ubd80\", \"\\ub300\\uc870\\ub9bd1\\ubd80\", \"\\ub300\\uc870\\ub9bd1\\ubd80\", \"\\ub300\\uc870\\ub9bd2\\ubd80\", \"\\ub300\\uc870\\ub9bd2\\ubd80\", \"\\ub300\\uc870\\ub9bd2\\ubd80\", \"\\ub300\\uc870\\ub9bd2\\ubd80\", \"\\ub300\\uc870\\ub9bd2\\ubd80\", \"\\uc120\\uc2e4\\uc0dd\\uc0b0\\ubd80\", \"\\uc120\\uc2e4\\uc0dd\\uc0b0\\ubd80\", \"\\uc120\\ud589\\uc758\\uc7a5\\ubd80\", \"\\uc120\\ud589\\uc758\\uc7a5\\ubd80\", \"\\uc120\\ud589\\uc758\\uc7a5\\ubd80\", \"\\uc120\\ud589\\uc758\\uc7a5\\ubd80\", \"\\uc120\\ud589\\uc758\\uc7a5\\ubd80\", \"\\uc120\\ud589\\uc758\\uc7a5\\ubd80\", \"\\uc758\\uc7a51\\ubd80\", \"\\uc758\\uc7a51\\ubd80\", \"\\uc758\\uc7a52\\ubd80\", \"\\uc758\\uc7a52\\ubd80\", \"\\uc758\\uc7a53\\ubd80\", \"\\uc758\\uc7a53\\ubd80\", \"\\ud310\\ub12c\\uc870\\ub9bd\\ubd80\", \"\\ud310\\ub12c\\uc870\\ub9bd\\ubd80\", \"\\ud310\\ub12c\\uc870\\ub9bd\\ubd80\", \"\\ud310\\ub12c\\uc870\\ub9bd\\ubd80\", \"\\ud310\\ub12c\\uc870\\ub9bd\\ubd80\"], \"yaxis\": \"y\"}, {\"alignmentgroup\": \"True\", \"customdata\": [[\"\\uc18c\\uc870\\ub9bd\", \"\\uc18c\\uc870 \\ud310\\uacc4(\\ub300\\ud615)\", 110.0], [\"\\uc18c\\uc870\\ub9bd\", \"\\uc18c\\uc870 \\ud310\\uacc4(\\uc18c\\ud615)\", 90.0], [\"\\uc18c\\uc870\\ub9bd\", \"\\uc18c\\uc870 \\ud310\\uacc4(\\uc778\\uc11c\\ud2b8 \\ubd80\\uc7ac)\", 130.0], [\"\\uc18c\\uc870\\ub9bd\", \"\\uc18c\\uc870(\\ud3c9\\uc911\\uc870)\", 670.0], [\"\\uc18c\\uc870\\ub9bd\", \"\\uc77c\\ubc18 \\uc18c\\uc870(1\\ucc28 \\uc911\\uc870)\", 390.0], [\"\\uc18c\\uc870\\ub9bd\", \"\\uc77c\\ubc18 \\uc18c\\uc870(BOX\\uc911\\uc870)\", 700.0], [\"\\uc18c\\uc870\\ub9bd\", \"\\uc77c\\ubc18 \\uc18c\\uc870(T/O)\", 310.0], [\"\\uc18c\\uc870\\ub9bd\", \"\\uc77c\\ubc18 \\uc18c\\uc870(\\uae30\\ubcf8)\", 190.0], [\"\\uc18c\\uc870\\ub9bd\", \"\\uc77c\\ubc18 \\uc18c\\uc870(\\ub2e4\\uce35 \\uc911\\uc870)\", 540.0], [\"\\uc18c\\uc870\\ub9bd\", \"\\uc77c\\ubc18 \\uc18c\\uc870(\\ubc15\\ud310)\", 260.0], [\"\\uc18c\\uc870\\ub9bd\", \"\\uc120\\uc2e4 \\uc18c\\uc870(\\uc77c\\ubc18)\", 240.0], [\"\\uc18c\\uc870\\ub9bd\", \"\\uc120\\uc2e4 \\uc18c\\uc870(\\ud310\\uacc4)\", 110.0]], \"hovertemplate\": \"\\ub300\\uad6c\\ubd84=%{customdata[0]}<br>R_vector=%{customdata[2]}<br>\\ubd80\\uc11c=%{y}<br>WORK_STAND_NM=%{customdata[1]}<extra></extra>\", \"legendgroup\": \"\\uc18c\\uc870\\ub9bd\", \"marker\": {\"color\": \"#ab63fa\"}, \"name\": \"\\uc18c\\uc870\\ub9bd\", \"offsetgroup\": \"\\uc18c\\uc870\\ub9bd\", \"orientation\": \"h\", \"showlegend\": true, \"textposition\": \"auto\", \"type\": \"bar\", \"x\": [110.0, 90.0, 130.0, 670.0, 390.0, 700.0, 310.0, 190.0, 540.0, 260.0, 240.0, 110.0], \"xaxis\": \"x\", \"y\": [\"\\uac00\\uacf5\\uc18c\\uc870\\ub9bd\\ubd80\", \"\\uac00\\uacf5\\uc18c\\uc870\\ub9bd\\ubd80\", \"\\uac00\\uacf5\\uc18c\\uc870\\ub9bd\\ubd80\", \"\\uac00\\uacf5\\uc18c\\uc870\\ub9bd\\ubd80\", \"\\uac00\\uacf5\\uc18c\\uc870\\ub9bd\\ubd80\", \"\\uac00\\uacf5\\uc18c\\uc870\\ub9bd\\ubd80\", \"\\uac00\\uacf5\\uc18c\\uc870\\ub9bd\\ubd80\", \"\\uac00\\uacf5\\uc18c\\uc870\\ub9bd\\ubd80\", \"\\uac00\\uacf5\\uc18c\\uc870\\ub9bd\\ubd80\", \"\\uac00\\uacf5\\uc18c\\uc870\\ub9bd\\ubd80\", \"\\uac00\\uacf5\\uc18c\\uc870\\ub9bd\\ubd80\", \"\\uac00\\uacf5\\uc18c\\uc870\\ub9bd\\ubd80\"], \"yaxis\": \"y\"}, {\"alignmentgroup\": \"True\", \"customdata\": [[\"\\uc2dc\\uc6b4\\uc804\", \"AIR SYSTEM \\uc6b4\\uc804 \\ubc0f \\uac80\\uc0ac\", 20.0], [\"\\uc2dc\\uc6b4\\uc804\", \"AUTO. DISCH FILTER\", 0.0], [\"\\uc2dc\\uc6b4\\uc804\", \"BILGE SUCTION TEST\", 10.0], [\"\\uc2dc\\uc6b4\\uc804\", \"BOILER BUNKER CHANGE\", 20.0], [\"\\uc2dc\\uc6b4\\uc804\", \"BOILER \\uc6b4\\uc804\", 120.0], [\"\\uc2dc\\uc6b4\\uc804\", \"BUNKERING\", 100.0], [\"\\uc2dc\\uc6b4\\uc804\", \"C.O.P.T \\uc6b4\\uc804\", 70.0], [\"\\uc2dc\\uc6b4\\uc804\", \"C.P.P \\uc6b4\\uc804 \\ubc0f \\uac80\\uc0ac\", 50.0], [\"\\uc2dc\\uc6b4\\uc804\", \"CHEMICAL DOSING UNIT\", 0.0], [\"\\uc2dc\\uc6b4\\uc804\", \"D/G \\uc6b4\\uc804\", 30.0], [\"\\uc2dc\\uc6b4\\uc804\", \"DEAD WEIGHT\", 0.0], [\"\\uc2dc\\uc6b4\\uc804\", \"DOMESTIC FRESH WATER SYSTEM \\uc6b4\\uc804\", 30.0], [\"\\uc2dc\\uc6b4\\uc804\", \"E/R FAN CHECK\", 0.0], [\"\\uc2dc\\uc6b4\\uc804\", \"F. W COOLING SYSTEM LEAK CHECK\", 30.0], [\"\\uc2dc\\uc6b4\\uc804\", \"F.O SYSTEM AIR BLOWING \\ucc38\\uad00\", 0.0], [\"\\uc2dc\\uc6b4\\uc804\", \"F.O TK LEVEL GAUGE \\uc810\\uac80\", 0.0], [\"\\uc2dc\\uc6b4\\uc804\", \"FLOWMETER CHECK\", 0.0], [\"\\uc2dc\\uc6b4\\uc804\", \"INCINERATOR TEST\", 0.0], [\"\\uc2dc\\uc6b4\\uc804\", \"LAY-UP \\uad00\\ub9ac\", 0.0], [\"\\uc2dc\\uc6b4\\uc804\", \"M.G.P.S\", 0.0], [\"\\uc2dc\\uc6b4\\uc804\", \"M/E D/G VISCOTHERM CHECK\", 0.0], [\"\\uc2dc\\uc6b4\\uc804\", \"M/E \\uc6b4\\uc804 \\ubc0f DOCK TRIAL\", 60.0], [\"\\uc2dc\\uc6b4\\uc804\", \"MANUAL HYRO. VALVE\", 0.0], [\"\\uc2dc\\uc6b4\\uc804\", \"OILY W. SEPARATOR \\uc6b4\\uc804\", 10.0], [\"\\uc2dc\\uc6b4\\uc804\", \"PUMP \\uc6b4\\uc804\", 160.0], [\"\\uc2dc\\uc6b4\\uc804\", \"S/T L.O PUMP \\uc6b4\\uc804 & AFT SEAL CHECK\", 0.0], [\"\\uc2dc\\uc6b4\\uc804\", \"SEA WATER LINE LEAK CHECK\", 20.0], [\"\\uc2dc\\uc6b4\\uc804\", \"SEWAGE UNIT\", 0.0], [\"\\uc2dc\\uc6b4\\uc804\", \"SHAFT GENERATOR \\uc6b4\\uc804 \\ubc0f \\uac80\\uc0ac\", 80.0], [\"\\uc2dc\\uc6b4\\uc804\", \"STEAM BLOWING\", 50.0], [\"\\uc2dc\\uc6b4\\uc804\", \"STEAM TRACING LINE CHECK\", 0.0], [\"\\uc2dc\\uc6b4\\uc804\", \"T/GEN. \\uc6b4\\uc804(\\ud130\\ube48 \\uc81c\\ub108\\ub808\\uc774\\ud130)\", 30.0], [\"\\uc2dc\\uc6b4\\uc804\", \"TANK SOUNDING \\uc791\\uc5c5\", 10.0], [\"\\uc2dc\\uc6b4\\uc804\", \"VACUUM UNIT\", 0.0], [\"\\uc2dc\\uc6b4\\uc804\", \"VALVES OPERATION\", 0.0], [\"\\uc2dc\\uc6b4\\uc804\", \"WATER FILLING\", 30.0], [\"\\uc2dc\\uc6b4\\uc804\", \"\\uacf5\\uad6c BOX \\ud0d1\\uc7ac \\ubc0f \\ud558\\uc120\", 10.0], [\"\\uc2dc\\uc6b4\\uc804\", \"\\uae30\\uad00\\uc2e4 SYSTEM CHECK\", 20.0], [\"\\uc2dc\\uc6b4\\uc804\", \"\\uba85\\uba85\\uc2dd \\uc9c0\\uc6d0(\\uae30\\uad00)\", 0.0], [\"\\uc2dc\\uc6b4\\uc804\", \"\\uc720\\uc9c0\\ubcf4\\uc218 \\uad00\\ub9ac\", 0.0], [\"\\uc2dc\\uc6b4\\uc804\", \"\\uc791\\uc5c5\\uc7a5 \\uc774\\ub3d9(\\uae30\\uad00)\", 0.0], [\"\\uc2dc\\uc6b4\\uc804\", \"\\uc7a1\\uc720 CAN \\ubc0f CHEMICAL \\ud0d1\\uc7ac\", 30.0], [\"\\uc2dc\\uc6b4\\uc804\", \"\\uc870\\uc218\\uae30 \\uc6b4\\uc804 \\ubc0f \\uac80\\uc0ac\", 10.0], [\"\\uc2dc\\uc6b4\\uc804\", \"\\ud574\\uc0c1 \\uc2dc\\uc6b4\\uc804(\\uac00\\uc2a4\\uc120)\", 10.0], [\"\\uc2dc\\uc6b4\\uc804\", \"\\ud574\\uc0c1 \\uc2dc\\uc6b4\\uc804(\\uc77c\\ubc18)\", 210.0], [\"\\uc2dc\\uc6b4\\uc804\", \"\\uc120\\uad6c_ACCOM LADDER WIRE RIGGING\", 20.0], [\"\\uc2dc\\uc6b4\\uc804\", \"\\uc120\\uad6c_AIR WHISTLE LINE RIGGING\", 20.0], [\"\\uc2dc\\uc6b4\\uc804\", \"\\uc120\\uad6c_ANCHOR STOPPER WIRE \\uac00\\uacf5 \\uc124\\uce58\", 40.0], [\"\\uc2dc\\uc6b4\\uc804\", \"\\uc120\\uad6c_CARGO HOLD LIFE LINE WIRE \\uac00\\uacf5 \\uc124\\uce58\", 10.0], [\"\\uc2dc\\uc6b4\\uc804\", \"\\uc120\\uad6c_DECK CRANE HOOK LASHING WIRE \\uc124\\uce58\", 40.0], [\"\\uc2dc\\uc6b4\\uc804\", \"\\uc120\\uad6c_DECK CRANE WIRE RIGGING\", 20.0], [\"\\uc2dc\\uc6b4\\uc804\", \"\\uc120\\uad6c_FIRE EXTINGUISHER SEAT SCREW \\uc791\\uc5c5\", 30.0], [\"\\uc2dc\\uc6b4\\uc804\", \"\\uc120\\uad6c_FIRE EXTINGUISHER \\uc6b4\\ubc18 \\uc124\\uce58\", 0.0], [\"\\uc2dc\\uc6b4\\uc804\", \"\\uc120\\uad6c_FIRE FOAM HOSE AND BOX \\uc6b4\\ubc18 \\uc124\\uce58\", 40.0], [\"\\uc2dc\\uc6b4\\uc804\", \"\\uc120\\uad6c_FIRE HOSE AND BOX \\uc6b4\\ubc18 \\uc124\\uce58\", 20.0], [\"\\uc2dc\\uc6b4\\uc804\", \"\\uc120\\uad6c_FIRE HOSE BOX SEAT WELDING\", 10.0], [\"\\uc2dc\\uc6b4\\uc804\", \"\\uc120\\uad6c_FIRE HOSE REEL \\uc6b4\\ubc18 \\uc124\\uce58\", 30.0], [\"\\uc2dc\\uc6b4\\uc804\", \"\\uc120\\uad6c_FIRE LINE WINDING\", 40.0], [\"\\uc2dc\\uc6b4\\uc804\", \"\\uc120\\uad6c_FIRE MAN'S EQUIPMENT \\uc6b4\\ubc18 \\uc124\\uce58\", 10.0], [\"\\uc2dc\\uc6b4\\uc804\", \"\\uc120\\uad6c_FLAG LINE \\uac00\\uacf5 \\uc124\\uce58(RADAR/FORE MAST)\", 40.0], [\"\\uc2dc\\uc6b4\\uc804\", \"\\uc120\\uad6c_FORE MAST STAY \\uc6b4\\ubc18 \\uc124\\uce58\", 30.0], [\"\\uc2dc\\uc6b4\\uc804\", \"\\uc120\\uad6c_FORE MAST STAY \\uc81c\\uc791\", 40.0], [\"\\uc2dc\\uc6b4\\uc804\", \"\\uc120\\uad6c_HATCH COVER LIFE LINE WIRE \\uac00\\uacf5 \\uc124\\uce58\", 30.0], [\"\\uc2dc\\uc6b4\\uc804\", \"\\uc120\\uad6c_LIFE BOAT DAVIT WIRE \\uac00\\uacf5 \\uc124\\uce58\", 20.0], [\"\\uc2dc\\uc6b4\\uc804\", \"\\uc120\\uad6c_LIFE BOAT FITTINGS \\uc6b4\\ubc18 \\uc124\\uce58\", 40.0], [\"\\uc2dc\\uc6b4\\uc804\", \"\\uc120\\uad6c_LIFE BOAT FITTINGS \\uc81c\\uc791\", 20.0], [\"\\uc2dc\\uc6b4\\uc804\", \"\\uc120\\uad6c_LIFE BOAT INVENTORY \\uc6b4\\ubc18 \\uc124\\uce58\", 0.0], [\"\\uc2dc\\uc6b4\\uc804\", \"\\uc120\\uad6c_LIFE BUOY \\uc6b4\\ubc18 \\uc124\\uce58\", 20.0], [\"\\uc2dc\\uc6b4\\uc804\", \"\\uc120\\uad6c_LIFE JACKET \\uc6b4\\ubc18 \\uc124\\uce58\", 10.0], [\"\\uc2dc\\uc6b4\\uc804\", \"\\uc120\\uad6c_LIFT LINE WIRE ROPE \\uac00\\uacf5 \\uc124\\uce58\", 60.0], [\"\\uc2dc\\uc6b4\\uc804\", \"\\uc120\\uad6c_LIFT RAFT \\uc6b4\\ubc18 \\uc124\\uce58\", 10.0], [\"\\uc2dc\\uc6b4\\uc804\", \"\\uc120\\uad6c_LIFTING WIRE ROPE RIGGING\", 20.0], [\"\\uc2dc\\uc6b4\\uc804\", \"\\uc120\\uad6c_MOORING WIRE ROPE WINDING\", 20.0], [\"\\uc2dc\\uc6b4\\uc804\", \"\\uc120\\uad6c_MOVABLE RAMP WIRE RIGGING\", 20.0], [\"\\uc2dc\\uc6b4\\uc804\", \"\\uc120\\uad6c_PILOT ROPE LADDER \\uc6b4\\ubc18 \\uc124\\uce58\", 40.0], [\"\\uc2dc\\uc6b4\\uc804\", \"\\uc120\\uad6c_PILOT SLANT LADDER WIRE RIGGING\", 20.0], [\"\\uc2dc\\uc6b4\\uc804\", \"\\uc120\\uad6c_RADAR MAST STAY \\uc81c\\uc791 \\uc124\\uce58\", 40.0], [\"\\uc2dc\\uc6b4\\uc804\", \"\\uc120\\uad6c_RESCUE BOAT DAVIT WIRE RIGGING\", 40.0], [\"\\uc2dc\\uc6b4\\uc804\", \"\\uc120\\uad6c_ROPE LADDER \\uc6b4\\ubc18 \\uc124\\uce58\", 20.0], [\"\\uc2dc\\uc6b4\\uc804\", \"\\uc120\\uad6c_S/T\\uc6a9 ROPE LADDER/LIFE RAFT \\uc6b4\\ubc18 \\uc124\\uce58\", 30.0], [\"\\uc2dc\\uc6b4\\uc804\", \"\\uc120\\uad6c_SHIP'S BELL \\uc6b4\\ubc18 \\uc124\\uce58\", 30.0], [\"\\uc2dc\\uc6b4\\uc804\", \"\\uc120\\uad6c_SIDE RAMP WIRE RIGGING\", 30.0], [\"\\uc2dc\\uc6b4\\uc804\", \"\\uc120\\uad6c_SPREADING WIRE RIGGING\", 40.0], [\"\\uc2dc\\uc6b4\\uc804\", \"\\uc120\\uad6c_SPUD WIRE ROPE RIGGING\", 40.0], [\"\\uc2dc\\uc6b4\\uc804\", \"\\uc120\\uad6c_STERN RAMP WIRE RIGGING\", 40.0], [\"\\uc2dc\\uc6b4\\uc804\", \"\\uc120\\uad6c_SWING ANCHOR WIRE RIGGING\", 20.0], [\"\\uc2dc\\uc6b4\\uc804\", \"\\uc120\\uad6c_TOWING WIRE ROPE WINDING\", 30.0], [\"\\uc2dc\\uc6b4\\uc804\", \"\\uc120\\uad6c_WIRE SOCKET \\uc791\\uc5c5\", 10.0], [\"\\uc2dc\\uc6b4\\uc804\", \"Anchor chain \\ud0d1\\uc7ac\", 20.0], [\"\\uc2dc\\uc6b4\\uc804\", \"Anchoring test\", 30.0], [\"\\uc2dc\\uc6b4\\uc804\", \"Anti-heeling system\", 10.0], [\"\\uc2dc\\uc6b4\\uc804\", \"AUS\", 20.0], [\"\\uc2dc\\uc6b4\\uc804\", \"Bilge suction system\", 40.0], [\"\\uc2dc\\uc6b4\\uc804\", \"Bilge suction system(COSP \\uc0ac\\uc6a9)\", 10.0], [\"\\uc2dc\\uc6b4\\uc804\", \"Bilge suction system(IS bilge well)\", 0.0], [\"\\uc2dc\\uc6b4\\uc804\", \"Bow loading system\", 0.0], [\"\\uc2dc\\uc6b4\\uc804\", \"Bow thruster\", 0.0], [\"\\uc2dc\\uc6b4\\uc804\", \"BWTS(Ballast water treatment system)\", 10.0], [\"\\uc2dc\\uc6b4\\uc804\", \"Cargo oil pump\", 0.0], [\"\\uc2dc\\uc6b4\\uc804\", \"Cargo oil stripping pump\", 20.0], [\"\\uc2dc\\uc6b4\\uc804\", \"Cargo tank drying & Inerting (LPG)\", 20.0], [\"\\uc2dc\\uc6b4\\uc804\", \"Cargo tank level gauge(Tanker)\", 10.0], [\"\\uc2dc\\uc6b4\\uc804\", \"Cofferdam Glycol heating system\", 50.0], [\"\\uc2dc\\uc6b4\\uc804\", \"Crane\", 20.0], [\"\\uc2dc\\uc6b4\\uc804\", \"Deck machinery(Hyd & Elec type)\", 50.0], [\"\\uc2dc\\uc6b4\\uc804\", \"Dry powder system\", 20.0], [\"\\uc2dc\\uc6b4\\uc804\", \"DWT(Dead Weignt Test, \\uacbd\\uc0ac\\uc2dc\\ud5d8 \\ud3ec\\ud568)\", 40.0], [\"\\uc2dc\\uc6b4\\uc804\", \"Emergency fire pump\", 10.0], [\"\\uc2dc\\uc6b4\\uc804\", \"F.W/Glycol cooling system\", 20.0], [\"\\uc2dc\\uc6b4\\uc804\", \"Foam system\", 0.0], [\"\\uc2dc\\uc6b4\\uc804\", \"Framo cargo pump system\", 0.0], [\"\\uc2dc\\uc6b4\\uc804\", \"Gas sampling system\", 30.0], [\"\\uc2dc\\uc6b4\\uc804\", \"Hyd. Manual valve\", 10.0], [\"\\uc2dc\\uc6b4\\uc804\", \"IGG\", 0.0], [\"\\uc2dc\\uc6b4\\uc804\", \"IGS\", 0.0], [\"\\uc2dc\\uc6b4\\uc804\", \"Load master computer\", 10.0], [\"\\uc2dc\\uc6b4\\uc804\", \"Mooring winch auto tension test\", 20.0], [\"\\uc2dc\\uc6b4\\uc804\", \"ODME(Oil Discharge Monitoring System)\", 10.0], [\"\\uc2dc\\uc6b4\\uc804\", \"Pneumatic control valve\", 60.0], [\"\\uc2dc\\uc6b4\\uc804\", \"Remote valve(Elec. Type)\", 40.0], [\"\\uc2dc\\uc6b4\\uc804\", \"Remote valve(Hyd. Type)\", 30.0], [\"\\uc2dc\\uc6b4\\uc804\", \"RO-RO equipment system(Movable ramp)\", 0.0], [\"\\uc2dc\\uc6b4\\uc804\", \"RO-RO equipment system(Side ramp)\", 0.0], [\"\\uc2dc\\uc6b4\\uc804\", \"RO-RO equipment system(Stern ramp)\", 0.0], [\"\\uc2dc\\uc6b4\\uc804\", \"Sea water fire fighting system\", 40.0], [\"\\uc2dc\\uc6b4\\uc804\", \"Sea water spray system\", 10.0], [\"\\uc2dc\\uc6b4\\uc804\", \"Smoke detector system\", 10.0], [\"\\uc2dc\\uc6b4\\uc804\", \"Stripping eductor\", 0.0], [\"\\uc2dc\\uc6b4\\uc804\", \"T/C machinery\", 10.0], [\"\\uc2dc\\uc6b4\\uc804\", \"Tank level gauge(Air purge type)\", 10.0], [\"\\uc2dc\\uc6b4\\uc804\", \"Tank level gauge(Elec. type)\", 40.0], [\"\\uc2dc\\uc6b4\\uc804\", \"Water ballast pump\", 20.0], [\"\\uc2dc\\uc6b4\\uc804\", \"Passivation_LNG PUMP TOWER/VALVE PIECE\", 70.0], [\"\\uc2dc\\uc6b4\\uc804\", \"Passivation_Module Top Side SUS PIPE \\ubc0f Tank\", 50.0], [\"\\uc2dc\\uc6b4\\uc804\", \"Passivation_On-Board SUS Material\", 40.0], [\"\\uc2dc\\uc6b4\\uc804\", \"Passivation_\\ubc00\\ud3d0\\uad6c\\uc5ed \\uc0b0\\uc138\\ucc99 \\uc791\\uc5c5\", 70.0], [\"\\uc2dc\\uc6b4\\uc804\", \"\\uc720\\uc138_BLOWING\", 40.0], [\"\\uc2dc\\uc6b4\\uc804\", \"\\uc720\\uc138_FLUSHING\", 130.0], [\"\\uc2dc\\uc6b4\\uc804\", \"\\uc720\\uc138_TIG \\uc6a9\\uc811\", 50.0], [\"\\uc2dc\\uc6b4\\uc804\", \"\\uc720\\uc138_\\uadf8\\ub77c\\uc778\\ub354\", 10.0], [\"\\uc2dc\\uc6b4\\uc804\", \"\\uc720\\uc138_\\uc218\\ub3d9 \\uc808\\ub2e8\\uae30\", 40.0], [\"\\uc2dc\\uc6b4\\uc804\", \"\\uc720\\uc138_\\uce74\\ud06c\\ub808\\uc778 \\uc0c1\\ud558\\ucc28 \\uc791\\uc5c5\", 110.0], [\"\\uc2dc\\uc6b4\\uc804\", \"\\uc720\\uc138_\\ud06c\\ub9ac\\ub2dd \\uc791\\uc5c5(\\uc12c\\ud504\\ud0f1\\ud06c, \\uba54\\uc778\\uc5d4\\uc9c4 \\ubc0f \\ubc1c\\uc804\\uae30)\", 10.0], [\"\\uc2dc\\uc6b4\\uc804\", \"\\uc720\\uc138_\\ud53c\\ubcf5 \\uc544\\ud06c\\uc6a9\\uc811\", 40.0], [\"\\uc2dc\\uc6b4\\uc804\", \"AGS FUNCTION CHECK\", 40.0], [\"\\uc2dc\\uc6b4\\uc804\", \"AIR COMPRESSOR FUNCTION CHECK\", 50.0], [\"\\uc2dc\\uc6b4\\uc804\", \"AIR LOCK ALARM FUNCTION CHECK\", 10.0], [\"\\uc2dc\\uc6b4\\uc804\", \"AIR LUBRICATION SYSTEM FUNCTION CHECK\", 20.0], [\"\\uc2dc\\uc6b4\\uc804\", \"AIR WHISTLE CONTROL SYSTEM CHECK\", 20.0], [\"\\uc2dc\\uc6b4\\uc804\", \"ANTI HEELING CONTROL FUNC. CHECK\", 40.0], [\"\\uc2dc\\uc6b4\\uc804\", \"BATTERY CHARGER FUNCTION CHECK\", 50.0], [\"\\uc2dc\\uc6b4\\uc804\", \"BLACKOUT RECOVERY & SEQUENTIAL START\", 10.0], [\"\\uc2dc\\uc6b4\\uc804\", \"BNWAS FUNCTION CHECK\", 10.0], [\"\\uc2dc\\uc6b4\\uc804\", \"BOILER CONTROL SYSTEM FUNCTION CHECK\", 20.0], [\"\\uc2dc\\uc6b4\\uc804\", \"BOW THRUSTER CONTROL FUNCTION CHECK\", 0.0], [\"\\uc2dc\\uc6b4\\uc804\", \"BWTS CONTROL FUNCTION CHECK\", 30.0], [\"\\uc2dc\\uc6b4\\uc804\", \"CABLE CHECK\", 80.0], [\"\\uc2dc\\uc6b4\\uc804\", \"CO2 ALARM FUNCTION CHECK\", 40.0], [\"\\uc2dc\\uc6b4\\uc804\", \"CONTROL CONSOLE CHECK\", 40.0], [\"\\uc2dc\\uc6b4\\uc804\", \"DECK MACHINERY CHECK\", 80.0], [\"\\uc2dc\\uc6b4\\uc804\", \"DP TRANSPONDER \\uc124\\uce58/\\ud68c\\uc218\", 30.0], [\"\\uc2dc\\uc6b4\\uc804\", \"DYNAMIC POSITIONING SYSTEM CHECK\", 20.0], [\"\\uc2dc\\uc6b4\\uc804\", \"EGCS CONTROL FUNCTION CHECK\", 40.0], [\"\\uc2dc\\uc6b4\\uc804\", \"EMERGENCY D/G CONTROL FUNC. CHECK\", 10.0], [\"\\uc2dc\\uc6b4\\uc804\", \"EMERGENCY SHUTDOWN FUNCTION CHECK\", 70.0], [\"\\uc2dc\\uc6b4\\uc804\", \"EMERGENCY STOP FUNCTION CHECK\", 10.0], [\"\\uc2dc\\uc6b4\\uc804\", \"EXTENSION ALARM PANEL FUNC. CHECK\", 20.0], [\"\\uc2dc\\uc6b4\\uc804\", \"FIRE & GENERAL ALARM FUNCTION CHECK\", 40.0], [\"\\uc2dc\\uc6b4\\uc804\", \"FIRE PUMP FUNCTION CHECK\", 60.0], [\"\\uc2dc\\uc6b4\\uc804\", \"FOAM ALARM FUNCTION CHECK\", 0.0], [\"\\uc2dc\\uc6b4\\uc804\", \"GAS COMBUSTION UNIT CONTROL FUNC. CHECK\", 20.0], [\"\\uc2dc\\uc6b4\\uc804\", \"GAS DETECTION SYSTEM CHECK\", 40.0], [\"\\uc2dc\\uc6b4\\uc804\", \"GAS VALVE UNIT CONTROL FUNC. CHECK\", 20.0], [\"\\uc2dc\\uc6b4\\uc804\", \"GENERATOR ENGINE CONTROL FUNC. CHECK\", 50.0], [\"\\uc2dc\\uc6b4\\uc804\", \"GLYCOL HEATER CONTROL FUNC. CHECK\", 30.0], [\"\\uc2dc\\uc6b4\\uc804\", \"HIGH VOLTAGE CABLE POTENTIAL TEST\", 20.0], [\"\\uc2dc\\uc6b4\\uc804\", \"IAS(Integrated Automation System) CHECK\", 30.0], [\"\\uc2dc\\uc6b4\\uc804\", \"IGG CONTROL FUNCTION CHECK\", 30.0], [\"\\uc2dc\\uc6b4\\uc804\", \"INCINERATOR SYSTEM FUNCTION CHECK\", 20.0], [\"\\uc2dc\\uc6b4\\uc804\", \"LIFT & RAMP CONTROL FUNCTION CHECK\", 30.0], [\"\\uc2dc\\uc6b4\\uc804\", \"LIGHT SIGNAL COLUMN CHECK\", 20.0], [\"\\uc2dc\\uc6b4\\uc804\", \"LOAD TEST\", 50.0], [\"\\uc2dc\\uc6b4\\uc804\", \"LOCAL FIRE FIGHTING SYSTEM FUNCTION CHECK\", 20.0], [\"\\uc2dc\\uc6b4\\uc804\", \"LOCK OUT TAG OUT\", 70.0], [\"\\uc2dc\\uc6b4\\uc804\", \"MACHINERY AUTO CONTROL TEST\", 20.0], [\"\\uc2dc\\uc6b4\\uc804\", \"MAIN ENGINE CONTROL FUNCTION CHECK\", 40.0], [\"\\uc2dc\\uc6b4\\uc804\", \"MEGGER CHECK\", 20.0], [\"\\uc2dc\\uc6b4\\uc804\", \"MISC. ACCOM. IO TEST\", 30.0], [\"\\uc2dc\\uc6b4\\uc804\", \"MISC. CARGO MACHINERY IO TEST\", 60.0], [\"\\uc2dc\\uc6b4\\uc804\", \"MR CONTROL SYSTEM FUNCTION CHECK\", 70.0], [\"\\uc2dc\\uc6b4\\uc804\", \"N2 GENERATOR CONTROL FUNC. CHECK\", 10.0], [\"\\uc2dc\\uc6b4\\uc804\", \"NAVIGATION EQUIPMENT CHECK\", 20.0], [\"\\uc2dc\\uc6b4\\uc804\", \"NAVIGATION/SIGNAL/OUTDOOR LIGHT CHECK\", 30.0], [\"\\uc2dc\\uc6b4\\uc804\", \"POWER MANAGEMENT SYSTEM FUNC. CHECK\", 0.0], [\"\\uc2dc\\uc6b4\\uc804\", \"PROPULSION MOTOR CONTROL FUNC.CHECK\", 10.0], [\"\\uc2dc\\uc6b4\\uc804\", \"RADIO EQUIPMENT CHECK\", 20.0], [\"\\uc2dc\\uc6b4\\uc804\", \"REF GAS DETECTION SYSTEM CHECK\", 20.0], [\"\\uc2dc\\uc6b4\\uc804\", \"REF. CONTAINER BOX SOCKET CHECK\", 30.0], [\"\\uc2dc\\uc6b4\\uc804\", \"REGAS PLANT CONTROL SYSTEM FUNC. CHECK\", 40.0], [\"\\uc2dc\\uc6b4\\uc804\", \"REMOTE DOOR CONTROL FUNC. CHECK\", 0.0], [\"\\uc2dc\\uc6b4\\uc804\", \"REMOTE VALVE CONTROL FUNC. CHECK\", 40.0], [\"\\uc2dc\\uc6b4\\uc804\", \"SCR CONTROL FUNCTION CHECK\", 20.0], [\"\\uc2dc\\uc6b4\\uc804\", \"SENSOR CHECK\", 40.0], [\"\\uc2dc\\uc6b4\\uc804\", \"SHORE POWER CHECK\", 80.0], [\"\\uc2dc\\uc6b4\\uc804\", \"STARTER FUNCTION CHECK\", 40.0], [\"\\uc2dc\\uc6b4\\uc804\", \"STEERING GEAR CONTROL FUNCTION CHECK\", 60.0], [\"\\uc2dc\\uc6b4\\uc804\", \"SWBD FUNCTION CHECK\", 40.0], [\"\\uc2dc\\uc6b4\\uc804\", \"TURBINE PUMP CONTROL FUNCTION CHECK\", 40.0], [\"\\uc2dc\\uc6b4\\uc804\", \"UPS FUNCTION CHECK\", 60.0], [\"\\uc2dc\\uc6b4\\uc804\", \"VENT. FAN CONTROL SYSTEM CHECK\", 60.0], [\"\\uc2dc\\uc6b4\\uc804\", \"\\uba85\\uba85\\uc2dd \\uc9c0\\uc6d0(\\uc804\\uc7a5)\", 0.0], [\"\\uc2dc\\uc6b4\\uc804\", \"\\uc2dc\\ud5d8\\uc7a5\\ube44 \\ubc0f \\uc911\\ub7c9\\ubb3c \\uc774\\ub3d9\", 0.0], [\"\\uc2dc\\uc6b4\\uc804\", \"\\uc5f4\\ud654\\uc0c1 \\ucd2c\\uc601\", 30.0], [\"\\uc2dc\\uc6b4\\uc804\", \"\\uc778\\ub3c4 \\uc900\\ube44\", 20.0], [\"\\uc2dc\\uc6b4\\uc804\", \"\\uc791\\uc5c5\\uc7a5 \\uc774\\ub3d9(\\uc804\\uc7a5)\", 20.0], [\"\\uc2dc\\uc6b4\\uc804\", \"\\uc815\\uc804 \\uc791\\uc5c5\", 20.0], [\"\\uc2dc\\uc6b4\\uc804\", \"\\ud574\\uc0c1/\\uac00\\uc2a4 \\uc2dc\\uc6b4\\uc804\", 40.0]], \"hovertemplate\": \"\\ub300\\uad6c\\ubd84=%{customdata[0]}<br>R_vector=%{customdata[2]}<br>\\ubd80\\uc11c=%{y}<br>WORK_STAND_NM=%{customdata[1]}<extra></extra>\", \"legendgroup\": \"\\uc2dc\\uc6b4\\uc804\", \"marker\": {\"color\": \"#FFA15A\"}, \"name\": \"\\uc2dc\\uc6b4\\uc804\", \"offsetgroup\": \"\\uc2dc\\uc6b4\\uc804\", \"orientation\": \"h\", \"showlegend\": true, \"textposition\": \"auto\", \"type\": \"bar\", \"x\": [20.0, 0.0, 10.0, 20.0, 120.0, 100.0, 70.0, 50.0, 0.0, 30.0, 0.0, 30.0, 0.0, 30.0, 0.0, 0.0, 0.0, 0.0, 0.0, 0.0, 0.0, 60.0, 0.0, 10.0, 160.0, 0.0, 20.0, 0.0, 80.0, 50.0, 0.0, 30.0, 10.0, 0.0, 0.0, 30.0, 10.0, 20.0, 0.0, 0.0, 0.0, 30.0, 10.0, 10.0, 210.0, 20.0, 20.0, 40.0, 10.0, 40.0, 20.0, 30.0, 0.0, 40.0, 20.0, 10.0, 30.0, 40.0, 10.0, 40.0, 30.0, 40.0, 30.0, 20.0, 40.0, 20.0, 0.0, 20.0, 10.0, 60.0, 10.0, 20.0, 20.0, 20.0, 40.0, 20.0, 40.0, 40.0, 20.0, 30.0, 30.0, 30.0, 40.0, 40.0, 40.0, 20.0, 30.0, 10.0, 20.0, 30.0, 10.0, 20.0, 40.0, 10.0, 0.0, 0.0, 0.0, 10.0, 0.0, 20.0, 20.0, 10.0, 50.0, 20.0, 50.0, 20.0, 40.0, 10.0, 20.0, 0.0, 0.0, 30.0, 10.0, 0.0, 0.0, 10.0, 20.0, 10.0, 60.0, 40.0, 30.0, 0.0, 0.0, 0.0, 40.0, 10.0, 10.0, 0.0, 10.0, 10.0, 40.0, 20.0, 70.0, 50.0, 40.0, 70.0, 40.0, 130.0, 50.0, 10.0, 40.0, 110.0, 10.0, 40.0, 40.0, 50.0, 10.0, 20.0, 20.0, 40.0, 50.0, 10.0, 10.0, 20.0, 0.0, 30.0, 80.0, 40.0, 40.0, 80.0, 30.0, 20.0, 40.0, 10.0, 70.0, 10.0, 20.0, 40.0, 60.0, 0.0, 20.0, 40.0, 20.0, 50.0, 30.0, 20.0, 30.0, 30.0, 20.0, 30.0, 20.0, 50.0, 20.0, 70.0, 20.0, 40.0, 20.0, 30.0, 60.0, 70.0, 10.0, 20.0, 30.0, 0.0, 10.0, 20.0, 20.0, 30.0, 40.0, 0.0, 40.0, 20.0, 40.0, 80.0, 40.0, 60.0, 40.0, 40.0, 60.0, 60.0, 0.0, 0.0, 30.0, 20.0, 20.0, 20.0, 40.0], \"xaxis\": \"x\", \"y\": [\"\\uc2dc\\uc6b4\\uc804\\ubd80\", \"\\uc2dc\\uc6b4\\uc804\\ubd80\", \"\\uc2dc\\uc6b4\\uc804\\ubd80\", \"\\uc2dc\\uc6b4\\uc804\\ubd80\", \"\\uc2dc\\uc6b4\\uc804\\ubd80\", \"\\uc2dc\\uc6b4\\uc804\\ubd80\", \"\\uc2dc\\uc6b4\\uc804\\ubd80\", \"\\uc2dc\\uc6b4\\uc804\\ubd80\", \"\\uc2dc\\uc6b4\\uc804\\ubd80\", \"\\uc2dc\\uc6b4\\uc804\\ubd80\", \"\\uc2dc\\uc6b4\\uc804\\ubd80\", \"\\uc2dc\\uc6b4\\uc804\\ubd80\", \"\\uc2dc\\uc6b4\\uc804\\ubd80\", \"\\uc2dc\\uc6b4\\uc804\\ubd80\", \"\\uc2dc\\uc6b4\\uc804\\ubd80\", \"\\uc2dc\\uc6b4\\uc804\\ubd80\", \"\\uc2dc\\uc6b4\\uc804\\ubd80\", \"\\uc2dc\\uc6b4\\uc804\\ubd80\", \"\\uc2dc\\uc6b4\\uc804\\ubd80\", \"\\uc2dc\\uc6b4\\uc804\\ubd80\", \"\\uc2dc\\uc6b4\\uc804\\ubd80\", \"\\uc2dc\\uc6b4\\uc804\\ubd80\", \"\\uc2dc\\uc6b4\\uc804\\ubd80\", \"\\uc2dc\\uc6b4\\uc804\\ubd80\", \"\\uc2dc\\uc6b4\\uc804\\ubd80\", \"\\uc2dc\\uc6b4\\uc804\\ubd80\", \"\\uc2dc\\uc6b4\\uc804\\ubd80\", \"\\uc2dc\\uc6b4\\uc804\\ubd80\", \"\\uc2dc\\uc6b4\\uc804\\ubd80\", \"\\uc2dc\\uc6b4\\uc804\\ubd80\", \"\\uc2dc\\uc6b4\\uc804\\ubd80\", \"\\uc2dc\\uc6b4\\uc804\\ubd80\", \"\\uc2dc\\uc6b4\\uc804\\ubd80\", \"\\uc2dc\\uc6b4\\uc804\\ubd80\", \"\\uc2dc\\uc6b4\\uc804\\ubd80\", \"\\uc2dc\\uc6b4\\uc804\\ubd80\", \"\\uc2dc\\uc6b4\\uc804\\ubd80\", \"\\uc2dc\\uc6b4\\uc804\\ubd80\", \"\\uc2dc\\uc6b4\\uc804\\ubd80\", \"\\uc2dc\\uc6b4\\uc804\\ubd80\", \"\\uc2dc\\uc6b4\\uc804\\ubd80\", \"\\uc2dc\\uc6b4\\uc804\\ubd80\", \"\\uc2dc\\uc6b4\\uc804\\ubd80\", \"\\uc2dc\\uc6b4\\uc804\\ubd80\", \"\\uc2dc\\uc6b4\\uc804\\ubd80\", \"\\uc2dc\\uc6b4\\uc804\\ubd80\", \"\\uc2dc\\uc6b4\\uc804\\ubd80\", \"\\uc2dc\\uc6b4\\uc804\\ubd80\", \"\\uc2dc\\uc6b4\\uc804\\ubd80\", \"\\uc2dc\\uc6b4\\uc804\\ubd80\", \"\\uc2dc\\uc6b4\\uc804\\ubd80\", \"\\uc2dc\\uc6b4\\uc804\\ubd80\", \"\\uc2dc\\uc6b4\\uc804\\ubd80\", \"\\uc2dc\\uc6b4\\uc804\\ubd80\", \"\\uc2dc\\uc6b4\\uc804\\ubd80\", \"\\uc2dc\\uc6b4\\uc804\\ubd80\", \"\\uc2dc\\uc6b4\\uc804\\ubd80\", \"\\uc2dc\\uc6b4\\uc804\\ubd80\", \"\\uc2dc\\uc6b4\\uc804\\ubd80\", \"\\uc2dc\\uc6b4\\uc804\\ubd80\", \"\\uc2dc\\uc6b4\\uc804\\ubd80\", \"\\uc2dc\\uc6b4\\uc804\\ubd80\", \"\\uc2dc\\uc6b4\\uc804\\ubd80\", \"\\uc2dc\\uc6b4\\uc804\\ubd80\", \"\\uc2dc\\uc6b4\\uc804\\ubd80\", \"\\uc2dc\\uc6b4\\uc804\\ubd80\", \"\\uc2dc\\uc6b4\\uc804\\ubd80\", \"\\uc2dc\\uc6b4\\uc804\\ubd80\", \"\\uc2dc\\uc6b4\\uc804\\ubd80\", \"\\uc2dc\\uc6b4\\uc804\\ubd80\", \"\\uc2dc\\uc6b4\\uc804\\ubd80\", \"\\uc2dc\\uc6b4\\uc804\\ubd80\", \"\\uc2dc\\uc6b4\\uc804\\ubd80\", \"\\uc2dc\\uc6b4\\uc804\\ubd80\", \"\\uc2dc\\uc6b4\\uc804\\ubd80\", \"\\uc2dc\\uc6b4\\uc804\\ubd80\", \"\\uc2dc\\uc6b4\\uc804\\ubd80\", \"\\uc2dc\\uc6b4\\uc804\\ubd80\", \"\\uc2dc\\uc6b4\\uc804\\ubd80\", \"\\uc2dc\\uc6b4\\uc804\\ubd80\", \"\\uc2dc\\uc6b4\\uc804\\ubd80\", \"\\uc2dc\\uc6b4\\uc804\\ubd80\", \"\\uc2dc\\uc6b4\\uc804\\ubd80\", \"\\uc2dc\\uc6b4\\uc804\\ubd80\", \"\\uc2dc\\uc6b4\\uc804\\ubd80\", \"\\uc2dc\\uc6b4\\uc804\\ubd80\", \"\\uc2dc\\uc6b4\\uc804\\ubd80\", \"\\uc2dc\\uc6b4\\uc804\\ubd80\", \"\\uc2dc\\uc6b4\\uc804\\ubd80\", \"\\uc2dc\\uc6b4\\uc804\\ubd80\", \"\\uc2dc\\uc6b4\\uc804\\ubd80\", \"\\uc2dc\\uc6b4\\uc804\\ubd80\", \"\\uc2dc\\uc6b4\\uc804\\ubd80\", \"\\uc2dc\\uc6b4\\uc804\\ubd80\", \"\\uc2dc\\uc6b4\\uc804\\ubd80\", \"\\uc2dc\\uc6b4\\uc804\\ubd80\", \"\\uc2dc\\uc6b4\\uc804\\ubd80\", \"\\uc2dc\\uc6b4\\uc804\\ubd80\", \"\\uc2dc\\uc6b4\\uc804\\ubd80\", \"\\uc2dc\\uc6b4\\uc804\\ubd80\", \"\\uc2dc\\uc6b4\\uc804\\ubd80\", \"\\uc2dc\\uc6b4\\uc804\\ubd80\", \"\\uc2dc\\uc6b4\\uc804\\ubd80\", \"\\uc2dc\\uc6b4\\uc804\\ubd80\", \"\\uc2dc\\uc6b4\\uc804\\ubd80\", \"\\uc2dc\\uc6b4\\uc804\\ubd80\", \"\\uc2dc\\uc6b4\\uc804\\ubd80\", \"\\uc2dc\\uc6b4\\uc804\\ubd80\", \"\\uc2dc\\uc6b4\\uc804\\ubd80\", \"\\uc2dc\\uc6b4\\uc804\\ubd80\", \"\\uc2dc\\uc6b4\\uc804\\ubd80\", \"\\uc2dc\\uc6b4\\uc804\\ubd80\", \"\\uc2dc\\uc6b4\\uc804\\ubd80\", \"\\uc2dc\\uc6b4\\uc804\\ubd80\", \"\\uc2dc\\uc6b4\\uc804\\ubd80\", \"\\uc2dc\\uc6b4\\uc804\\ubd80\", \"\\uc2dc\\uc6b4\\uc804\\ubd80\", \"\\uc2dc\\uc6b4\\uc804\\ubd80\", \"\\uc2dc\\uc6b4\\uc804\\ubd80\", \"\\uc2dc\\uc6b4\\uc804\\ubd80\", \"\\uc2dc\\uc6b4\\uc804\\ubd80\", \"\\uc2dc\\uc6b4\\uc804\\ubd80\", \"\\uc2dc\\uc6b4\\uc804\\ubd80\", \"\\uc2dc\\uc6b4\\uc804\\ubd80\", \"\\uc2dc\\uc6b4\\uc804\\ubd80\", \"\\uc2dc\\uc6b4\\uc804\\ubd80\", \"\\uc2dc\\uc6b4\\uc804\\ubd80\", \"\\uc2dc\\uc6b4\\uc804\\ubd80\", \"\\uc2dc\\uc6b4\\uc804\\ubd80\", \"\\uc2dc\\uc6b4\\uc804\\ubd80\", \"\\uc2dc\\uc6b4\\uc804\\ubd80\", \"\\uc2dc\\uc6b4\\uc804\\ubd80\", \"\\uc2dc\\uc6b4\\uc804\\ubd80\", \"\\uc2dc\\uc6b4\\uc804\\ubd80\", \"\\uc2dc\\uc6b4\\uc804\\ubd80\", \"\\uc2dc\\uc6b4\\uc804\\ubd80\", \"\\uc2dc\\uc6b4\\uc804\\ubd80\", \"\\uc2dc\\uc6b4\\uc804\\ubd80\", \"\\uc2dc\\uc6b4\\uc804\\ubd80\", \"\\uc2dc\\uc6b4\\uc804\\ubd80\", \"\\uc2dc\\uc6b4\\uc804\\ubd80\", \"\\uc2dc\\uc6b4\\uc804\\ubd80\", \"\\uc2dc\\uc6b4\\uc804\\ubd80\", \"\\uc2dc\\uc6b4\\uc804\\ubd80\", \"\\uc2dc\\uc6b4\\uc804\\ubd80\", \"\\uc2dc\\uc6b4\\uc804\\ubd80\", \"\\uc2dc\\uc6b4\\uc804\\ubd80\", \"\\uc2dc\\uc6b4\\uc804\\ubd80\", \"\\uc2dc\\uc6b4\\uc804\\ubd80\", \"\\uc2dc\\uc6b4\\uc804\\ubd80\", \"\\uc2dc\\uc6b4\\uc804\\ubd80\", \"\\uc2dc\\uc6b4\\uc804\\ubd80\", \"\\uc2dc\\uc6b4\\uc804\\ubd80\", \"\\uc2dc\\uc6b4\\uc804\\ubd80\", \"\\uc2dc\\uc6b4\\uc804\\ubd80\", \"\\uc2dc\\uc6b4\\uc804\\ubd80\", \"\\uc2dc\\uc6b4\\uc804\\ubd80\", \"\\uc2dc\\uc6b4\\uc804\\ubd80\", \"\\uc2dc\\uc6b4\\uc804\\ubd80\", \"\\uc2dc\\uc6b4\\uc804\\ubd80\", \"\\uc2dc\\uc6b4\\uc804\\ubd80\", \"\\uc2dc\\uc6b4\\uc804\\ubd80\", \"\\uc2dc\\uc6b4\\uc804\\ubd80\", \"\\uc2dc\\uc6b4\\uc804\\ubd80\", \"\\uc2dc\\uc6b4\\uc804\\ubd80\", \"\\uc2dc\\uc6b4\\uc804\\ubd80\", \"\\uc2dc\\uc6b4\\uc804\\ubd80\", \"\\uc2dc\\uc6b4\\uc804\\ubd80\", \"\\uc2dc\\uc6b4\\uc804\\ubd80\", \"\\uc2dc\\uc6b4\\uc804\\ubd80\", \"\\uc2dc\\uc6b4\\uc804\\ubd80\", \"\\uc2dc\\uc6b4\\uc804\\ubd80\", \"\\uc2dc\\uc6b4\\uc804\\ubd80\", \"\\uc2dc\\uc6b4\\uc804\\ubd80\", \"\\uc2dc\\uc6b4\\uc804\\ubd80\", \"\\uc2dc\\uc6b4\\uc804\\ubd80\", \"\\uc2dc\\uc6b4\\uc804\\ubd80\", \"\\uc2dc\\uc6b4\\uc804\\ubd80\", \"\\uc2dc\\uc6b4\\uc804\\ubd80\", \"\\uc2dc\\uc6b4\\uc804\\ubd80\", \"\\uc2dc\\uc6b4\\uc804\\ubd80\", \"\\uc2dc\\uc6b4\\uc804\\ubd80\", \"\\uc2dc\\uc6b4\\uc804\\ubd80\", \"\\uc2dc\\uc6b4\\uc804\\ubd80\", \"\\uc2dc\\uc6b4\\uc804\\ubd80\", \"\\uc2dc\\uc6b4\\uc804\\ubd80\", \"\\uc2dc\\uc6b4\\uc804\\ubd80\", \"\\uc2dc\\uc6b4\\uc804\\ubd80\", \"\\uc2dc\\uc6b4\\uc804\\ubd80\", \"\\uc2dc\\uc6b4\\uc804\\ubd80\", \"\\uc2dc\\uc6b4\\uc804\\ubd80\", \"\\uc2dc\\uc6b4\\uc804\\ubd80\", \"\\uc2dc\\uc6b4\\uc804\\ubd80\", \"\\uc2dc\\uc6b4\\uc804\\ubd80\", \"\\uc2dc\\uc6b4\\uc804\\ubd80\", \"\\uc2dc\\uc6b4\\uc804\\ubd80\", \"\\uc2dc\\uc6b4\\uc804\\ubd80\", \"\\uc2dc\\uc6b4\\uc804\\ubd80\", \"\\uc2dc\\uc6b4\\uc804\\ubd80\", \"\\uc2dc\\uc6b4\\uc804\\ubd80\", \"\\uc2dc\\uc6b4\\uc804\\ubd80\", \"\\uc2dc\\uc6b4\\uc804\\ubd80\", \"\\uc2dc\\uc6b4\\uc804\\ubd80\", \"\\uc2dc\\uc6b4\\uc804\\ubd80\", \"\\uc2dc\\uc6b4\\uc804\\ubd80\", \"\\uc2dc\\uc6b4\\uc804\\ubd80\", \"\\uc2dc\\uc6b4\\uc804\\ubd80\", \"\\uc2dc\\uc6b4\\uc804\\ubd80\", \"\\uc2dc\\uc6b4\\uc804\\ubd80\", \"\\uc2dc\\uc6b4\\uc804\\ubd80\", \"\\uc2dc\\uc6b4\\uc804\\ubd80\", \"\\uc2dc\\uc6b4\\uc804\\ubd80\", \"\\uc2dc\\uc6b4\\uc804\\ubd80\", \"\\uc2dc\\uc6b4\\uc804\\ubd80\", \"\\uc2dc\\uc6b4\\uc804\\ubd80\", \"\\uc2dc\\uc6b4\\uc804\\ubd80\", \"\\uc2dc\\uc6b4\\uc804\\ubd80\"], \"yaxis\": \"y\"}, {\"alignmentgroup\": \"True\", \"customdata\": [[\"\\uc6b4\\ud56d\\uad00\\uc81c\", \"\\ud638\\uc120 \\ubcf5\\uc120 \\uc6e8\\uc774\\ud2b8 \\uc0ac\\ub2e4\\ub9ac \\uc124\\uce58 \\ubc0f \\ucca0\\uac70\", 10.0], [\"\\uc6b4\\ud56d\\uad00\\uc81c\", \"\\ud638\\uc120 \\uc2b9\\ud558\\uc120 \\uc0ac\\ub2e4\\ub9ac (1,2,3\\ub2e8) \\uc124\\uce58 \\ubc0f \\ucca0\\uac70\", 110.0], [\"\\uc6b4\\ud56d\\uad00\\uc81c\", \"\\ud638\\uc120 \\uc5d4\\uc9c4\\ub8f8 \\uc0ac\\ub2e4\\ub9ac \\uc124\\uce58 \\ubc0f \\ucca0\\uac70\", 10.0], [\"\\uc6b4\\ud56d\\uad00\\uc81c\", \"\\uc11c\\ube44\\uc2a4\\ud0c0\\uc6cc \\uc624\\ubc84\\ube0c\\ub9bf\\uc9c0 \\uc124\\uce58 \\ubc0f \\ucca0\\uac70\", 20.0], [\"\\uc6b4\\ud56d\\uad00\\uc81c\", \"\\uc2b9\\ud558\\uc120 \\uc2dc\\uc124\\ubb3c \\ubcf4\\uc218\\uc791\\uc5c5(\\uace0\\uc815\\uc2dd)\", 10.0], [\"\\uc6b4\\ud56d\\uad00\\uc81c\", \"\\uc2b9\\ud558\\uc120 \\uc2dc\\uc124\\ubb3c \\ubcf4\\uc218\\uc791\\uc5c5(\\uc774\\ub3d9\\uc2dd)\", 10.0], [\"\\uc6b4\\ud56d\\uad00\\uc81c\", \"\\uc2b9\\ud558\\uc120 \\uc2dc\\uc124\\ubb3c \\uc81c\\uc791\", 10.0], [\"\\uc6b4\\ud56d\\uad00\\uc81c\", \"\\uc2b9\\ud558\\uc120 \\uc2dc\\uc124\\ubb3c \\ud3d0\\uae30\", 10.0], [\"\\uc6b4\\ud56d\\uad00\\uc81c\", \"\\ud39c\\ub354 \\ubcf4\\uc218\\uc791\\uc5c5\", 10.0], [\"\\uc6b4\\ud56d\\uad00\\uc81c\", \"\\ud39c\\ub354 \\ud3d0\\uae30\\uc791\\uc5c5\", 10.0], [\"\\uc6b4\\ud56d\\uad00\\uc81c\", \"\\uce74\\ud06c\\ub808\\uc778 \\uc548\\uc804\\uc791\\uc5c5 \\uc694\\ub839\", 10.0], [\"\\uc6b4\\ud56d\\uad00\\uc81c\", \"\\uc548\\ubcbd\\ud638\\uc120 DOCK TRIAL \\uc9c0\\uc6d0\\uc791\\uc5c5\", 30.0], [\"\\uc6b4\\ud56d\\uad00\\uc81c\", \"\\uc721\\uc0c1 \\ubb34\\uc5b4\\ub9c1\\ub85c\\ud504 \\uc791\\uc5c5\", 30.0], [\"\\uc6b4\\ud56d\\uad00\\uc81c\", \"\\ub85c\\ubca1\\uc2a4 \\uacc4\\ub958\\uc791\\uc5c5\", 40.0], [\"\\uc6b4\\ud56d\\uad00\\uc81c\", \"\\uc120\\uc0c1 \\ubb34\\uc5b4\\ub9c1\\ub85c\\ud504 \\uc791\\uc5c5\", 70.0], [\"\\uc6b4\\ud56d\\uad00\\uc81c\", \"\\ub3c4\\ud06c\\uac8c\\uc774\\ud2b8 \\uac1c\\ud3d0\\uc791\\uc5c5(\\uc120\\uac70)\", 20.0], [\"\\uc6b4\\ud56d\\uad00\\uc81c\", \"\\ubb34\\uc5b4\\ub9c1\\ub85c\\ud504 \\ubcf4\\uc218\\uc791\\uc5c5\", 20.0], [\"\\uc6b4\\ud56d\\uad00\\uc81c\", \"\\uc548\\ubcbd\\ud638\\uc120 \\ub77c\\uc774\\ud504\\ubcf4\\ud2b8 \\ud14c\\uc2a4\\ud2b8 \\uc9c0\\uc6d0\\uc791\\uc5c5\", 60.0], [\"\\uc6b4\\ud56d\\uad00\\uc81c\", \"\\uc548\\ubcbd\\ud638\\uc120 \\uc911\\uacbd\\uc0ac\\uc2dc\\ud5d8 \\uc9c0\\uc6d0\\uc791\\uc5c5\", 30.0], [\"\\uc6b4\\ud56d\\uad00\\uc81c\", \"\\ud39c\\ub354 \\uc721\\uc0c1 \\uc801\\uce58\\ubc29\\ubc95\", 80.0], [\"\\uc6b4\\ud56d\\uad00\\uc81c\", \"\\ub3c4\\ud06c\\ud638\\uc120 \\uc785.\\ucd9c\\uac70 \\uc791\\uc5c5\", 140.0], [\"\\uc6b4\\ud56d\\uad00\\uc81c\", \"\\uc120\\ubc15 \\uc785/\\ucd9c\\ud56d \\uc791\\uc5c5\", 110.0], [\"\\uc6b4\\ud56d\\uad00\\uc81c\", \"\\ud3ec\\ud130\\ube14\\uc708\\uce58 \\ubcf4\\uc218\\uc791\\uc5c5\", 20.0], [\"\\uc6b4\\ud56d\\uad00\\uc81c\", \"\\ud638\\uc120 \\ub9ac\\uc138\\ud305 \\uc791\\uc5c5\", 70.0], [\"\\uc6b4\\ud56d\\uad00\\uc81c\", \"\\ub3c4\\ud06c \\ud638\\uc120 RE-SETTING \\uc815\\ub3c4\\ud655\\uc778\", 60.0], [\"\\uc6b4\\ud56d\\uad00\\uc81c\", \"\\ubd80\\uc591\\ud638\\uc120 \\ub7ec\\uadf8\\uc5d0 \\ubb34\\uc5b4\\ub9c1\\ub85c\\ud504 \\uc791\\uc5c5\", 120.0], [\"\\uc6b4\\ud56d\\uad00\\uc81c\", \"\\ud3ec\\ud130\\ube14\\uc708\\uce58 \\uc124\\uce58 \\ubc0f \\uc791\\uc5c5\\ubc29\\ubc95\", 80.0], [\"\\uc6b4\\ud56d\\uad00\\uc81c\", \"\\ubb34\\uc5b4\\ub9c1\\ub85c\\ud504 \\ubcf4\\uac15\\uc791\\uc5c5\", 100.0], [\"\\uc6b4\\ud56d\\uad00\\uc81c\", \"\\uc120\\ubc15 \\uc774\\ub3d9\\uc791\\uc5c5\", 70.0], [\"\\uc6b4\\ud56d\\uad00\\uc81c\", \"\\uc5d0\\uc5b4\\ud39c\\ub354 \\uc124\\uce58 \\ubc0f \\ud574\\uccb4\\uc791\\uc5c5\", 70.0], [\"\\uc6b4\\ud56d\\uad00\\uc81c\", \"\\uc5d0\\uc5b4\\ud39c\\ub354 \\ubcf4\\uc218\\uc791\\uc5c5\", 30.0], [\"\\uc6b4\\ud56d\\uad00\\uc81c\", \"\\uba54\\uc778\\uc5d4\\uc9c4 \\ubd84\\ud574 \\ubc0f \\uc870\\ub9bd\\uc791\\uc5c5\", 70.0], [\"\\uc6b4\\ud56d\\uad00\\uc81c\", \"\\ubb34\\uc5b4\\ub9c1 \\ub85c\\ud504 \\uc815\\ub9ac\\uc791\\uc5c5\", 50.0], [\"\\uc6b4\\ud56d\\uad00\\uc81c\", \"\\ubc1c\\uc804\\uae30 \\ubd84\\ud574 \\ubc0f \\uc870\\ub9bd\\uc791\\uc5c5\", 50.0], [\"\\uc6b4\\ud56d\\uad00\\uc81c\", \"\\ube44\\ud2b8 \\uc720\\uc9c0\\ubcf4\\uc218 \\uc791\\uc5c5\", 40.0], [\"\\uc6b4\\ud56d\\uad00\\uc81c\", \"\\uc218\\uc2ec\\uce21\\uc815 \\uc791\\uc5c5\", 60.0], [\"\\uc6b4\\ud56d\\uad00\\uc81c\", \"\\uc218\\uc911 \\uac80\\uc0ac \\uc791\\uc5c5\", 120.0], [\"\\uc6b4\\ud56d\\uad00\\uc81c\", \"\\uc218\\uc911 \\ud398\\uc778\\ud305 \\uc791\\uc5c5\", 140.0], [\"\\uc6b4\\ud56d\\uad00\\uc81c\", \"\\uc548\\ubcbd \\ubc0f \\ub3c4\\ud06c \\uac70\\ub9ac \\ub9c8\\ud0b9\\uc791\\uc5c5\", 0.0], [\"\\uc6b4\\ud56d\\uad00\\uc81c\", \"\\uace0\\ubb34\\ubcf4\\ud2b8 \\uc9c0\\uc6d0\\uc791\\uc5c5\", 40.0], [\"\\uc6b4\\ud56d\\uad00\\uc81c\", \"\\uace0\\uc815\\uc2dd \\ud39c\\ub354 \\uccad\\uc18c\\uc791\\uc5c5\", 40.0], [\"\\uc6b4\\ud56d\\uad00\\uc81c\", \"\\uae30\\ud0c0 \\uc218\\uc911\\uc791\\uc5c5 \\uc9c0\\uc6d0\", 70.0], [\"\\uc6b4\\ud56d\\uad00\\uc81c\", \"\\ub3c4\\ud06c\\uac8c\\uc774\\ud2b8 \\ubd80\\uadfc \\uc900\\uc124\\uc791\\uc5c5\", 80.0], [\"\\uc6b4\\ud56d\\uad00\\uc81c\", \"\\ub3c4\\ud06c\\uac8c\\uc774\\ud2b8 \\uc218\\ubc00\\uc791\\uc5c5\", 70.0], [\"\\uc6b4\\ud56d\\uad00\\uc81c\", \"\\uc218\\uc911 \\ud06c\\ub9ac\\ub2dd \\uc791\\uc5c5\", 70.0], [\"\\uc6b4\\ud56d\\uad00\\uc81c\", \"\\uacf5\\uae30\\ud1b5 \\ucda9\\uc804\\uc791\\uc5c5\", 50.0], [\"\\uc6b4\\ud56d\\uad00\\uc81c\", \"\\ub3c4\\ud06c\\uac8c\\uc774\\ud2b8 \\uac1c\\ud3d0 \\uc791\\uc5c5\", 10.0], [\"\\uc6b4\\ud56d\\uad00\\uc81c\", \"\\uc785\\uac70 \\uc218\\ub9ac\\uc791\\uc5c5\", 10.0], [\"\\uc6b4\\ud56d\\uad00\\uc81c\", \"\\uae30\\ud0c0 \\ubcf4\\uae30 \\uc810\\uac80 \\ubc0f \\uc218\\ub9ac\\uc791\\uc5c5\", 30.0], [\"\\uc6b4\\ud56d\\uad00\\uc81c\", \"\\ub9c8\\uc2a4\\ud2b8 \\uc218\\ub9ac\\uc791\\uc5c5\", 40.0], [\"\\uc6b4\\ud56d\\uad00\\uc81c\", \"\\uc120\\uccb4 \\uc720\\uc9c0\\ubcf4\\uc218 \\uc791\\uc5c5\", 10.0], [\"\\uc6b4\\ud56d\\uad00\\uc81c\", \"\\uc9c4\\uc218\\uc2dc \\ud638\\uc120 \\uc608\\uc778 \\uc791\\uc5c5\", 0.0], [\"\\uc6b4\\ud56d\\uad00\\uc81c\", \"\\uc708\\ub4dc\\ub77c\\uc2a4/\\uc708\\uce58 \\uc870\\uc815 \\uc791\\uc5c5\", 0.0], [\"\\uc6b4\\ud56d\\uad00\\uc81c\", \"TUG LINE \\uc5f0\\uacb0\\uc791\\uc5c5(\\uc708\\uce58/\\ud06c\\ub808\\uc778 \\uc9c0\\uc6d0 \\ubd88\\uac00)\", 10.0], [\"\\uc6b4\\ud56d\\uad00\\uc81c\", \"\\ud130\\uadf8\\ubcf4\\ud2b8 \\uc120\\uae09\\uac80\\uc0ac\", 0.0], [\"\\uc6b4\\ud56d\\uad00\\uc81c\", \"\\uc2dc\\uc6b4\\uc804\\uc120 \\ud1b5\\uc120 \\uc9c0\\uc6d0\\uc791\\uc5c5\", 0.0], [\"\\uc6b4\\ud56d\\uad00\\uc81c\", \"\\ud39c\\ub354 \\ud574\\uc0c1\\uc774\\ub3d9 \\uc791\\uc5c5\", 0.0]], \"hovertemplate\": \"\\ub300\\uad6c\\ubd84=%{customdata[0]}<br>R_vector=%{customdata[2]}<br>\\ubd80\\uc11c=%{y}<br>WORK_STAND_NM=%{customdata[1]}<extra></extra>\", \"legendgroup\": \"\\uc6b4\\ud56d\\uad00\\uc81c\", \"marker\": {\"color\": \"#19d3f3\"}, \"name\": \"\\uc6b4\\ud56d\\uad00\\uc81c\", \"offsetgroup\": \"\\uc6b4\\ud56d\\uad00\\uc81c\", \"orientation\": \"h\", \"showlegend\": true, \"textposition\": \"auto\", \"type\": \"bar\", \"x\": [10.0, 110.0, 10.0, 20.0, 10.0, 10.0, 10.0, 10.0, 10.0, 10.0, 10.0, 30.0, 30.0, 40.0, 70.0, 20.0, 20.0, 60.0, 30.0, 80.0, 140.0, 110.0, 20.0, 70.0, 60.0, 120.0, 80.0, 100.0, 70.0, 70.0, 30.0, 70.0, 50.0, 50.0, 40.0, 60.0, 120.0, 140.0, 0.0, 40.0, 40.0, 70.0, 80.0, 70.0, 70.0, 50.0, 10.0, 10.0, 30.0, 40.0, 10.0, 0.0, 0.0, 10.0, 0.0, 0.0, 0.0], \"xaxis\": \"x\", \"y\": [\"\\uc6b4\\ud56d\\uad00\\uc81c\\uacfc\", \"\\uc6b4\\ud56d\\uad00\\uc81c\\uacfc\", \"\\uc6b4\\ud56d\\uad00\\uc81c\\uacfc\", \"\\uc6b4\\ud56d\\uad00\\uc81c\\uacfc\", \"\\uc6b4\\ud56d\\uad00\\uc81c\\uacfc\", \"\\uc6b4\\ud56d\\uad00\\uc81c\\uacfc\", \"\\uc6b4\\ud56d\\uad00\\uc81c\\uacfc\", \"\\uc6b4\\ud56d\\uad00\\uc81c\\uacfc\", \"\\uc6b4\\ud56d\\uad00\\uc81c\\uacfc\", \"\\uc6b4\\ud56d\\uad00\\uc81c\\uacfc\", \"\\uc6b4\\ud56d\\uad00\\uc81c\\uacfc\", \"\\uc6b4\\ud56d\\uad00\\uc81c\\uacfc\", \"\\uc6b4\\ud56d\\uad00\\uc81c\\uacfc\", \"\\uc6b4\\ud56d\\uad00\\uc81c\\uacfc\", \"\\uc6b4\\ud56d\\uad00\\uc81c\\uacfc\", \"\\uc6b4\\ud56d\\uad00\\uc81c\\uacfc\", \"\\uc6b4\\ud56d\\uad00\\uc81c\\uacfc\", \"\\uc6b4\\ud56d\\uad00\\uc81c\\uacfc\", \"\\uc6b4\\ud56d\\uad00\\uc81c\\uacfc\", \"\\uc6b4\\ud56d\\uad00\\uc81c\\uacfc\", \"\\uc6b4\\ud56d\\uad00\\uc81c\\uacfc\", \"\\uc6b4\\ud56d\\uad00\\uc81c\\uacfc\", \"\\uc6b4\\ud56d\\uad00\\uc81c\\uacfc\", \"\\uc6b4\\ud56d\\uad00\\uc81c\\uacfc\", \"\\uc6b4\\ud56d\\uad00\\uc81c\\uacfc\", \"\\uc6b4\\ud56d\\uad00\\uc81c\\uacfc\", \"\\uc6b4\\ud56d\\uad00\\uc81c\\uacfc\", \"\\uc6b4\\ud56d\\uad00\\uc81c\\uacfc\", \"\\uc6b4\\ud56d\\uad00\\uc81c\\uacfc\", \"\\uc6b4\\ud56d\\uad00\\uc81c\\uacfc\", \"\\uc6b4\\ud56d\\uad00\\uc81c\\uacfc\", \"\\uc6b4\\ud56d\\uad00\\uc81c\\uacfc\", \"\\uc6b4\\ud56d\\uad00\\uc81c\\uacfc\", \"\\uc6b4\\ud56d\\uad00\\uc81c\\uacfc\", \"\\uc6b4\\ud56d\\uad00\\uc81c\\uacfc\", \"\\uc6b4\\ud56d\\uad00\\uc81c\\uacfc\", \"\\uc6b4\\ud56d\\uad00\\uc81c\\uacfc\", \"\\uc6b4\\ud56d\\uad00\\uc81c\\uacfc\", \"\\uc6b4\\ud56d\\uad00\\uc81c\\uacfc\", \"\\uc6b4\\ud56d\\uad00\\uc81c\\uacfc\", \"\\uc6b4\\ud56d\\uad00\\uc81c\\uacfc\", \"\\uc6b4\\ud56d\\uad00\\uc81c\\uacfc\", \"\\uc6b4\\ud56d\\uad00\\uc81c\\uacfc\", \"\\uc6b4\\ud56d\\uad00\\uc81c\\uacfc\", \"\\uc6b4\\ud56d\\uad00\\uc81c\\uacfc\", \"\\uc6b4\\ud56d\\uad00\\uc81c\\uacfc\", \"\\uc6b4\\ud56d\\uad00\\uc81c\\uacfc\", \"\\uc6b4\\ud56d\\uad00\\uc81c\\uacfc\", \"\\uc6b4\\ud56d\\uad00\\uc81c\\uacfc\", \"\\uc6b4\\ud56d\\uad00\\uc81c\\uacfc\", \"\\uc6b4\\ud56d\\uad00\\uc81c\\uacfc\", \"\\uc6b4\\ud56d\\uad00\\uc81c\\uacfc\", \"\\uc6b4\\ud56d\\uad00\\uc81c\\uacfc\", \"\\uc6b4\\ud56d\\uad00\\uc81c\\uacfc\", \"\\uc6b4\\ud56d\\uad00\\uc81c\\uacfc\", \"\\uc6b4\\ud56d\\uad00\\uc81c\\uacfc\", \"\\uc6b4\\ud56d\\uad00\\uc81c\\uacfc\"], \"yaxis\": \"y\"}, {\"alignmentgroup\": \"True\", \"customdata\": [[\"\\uc758\\uc7a5\\uc0dd\\uc0b0\", \"M/UNIT \\uc124\\uce58 (\\uc11c\\ud3ec\\ud2b8)\", 80.0], [\"\\uc758\\uc7a5\\uc0dd\\uc0b0\", \"M/UNIT \\uc124\\uce58 (\\uc758\\uc7a5\\ud488)\", 230.0], [\"\\uc758\\uc7a5\\uc0dd\\uc0b0\", \"M/UNIT \\uc124\\uce58 (\\ud30c\\uc774\\ud504)\", 110.0], [\"\\uc758\\uc7a5\\uc0dd\\uc0b0\", \"M/UNIT(2\\ub2e8 \\ud0d1\\uc7ac)\", 20.0], [\"\\uc758\\uc7a5\\uc0dd\\uc0b0\", \"M/UNIT(\\ubc18\\ucd9c)\", 10.0], [\"\\uc758\\uc7a5\\uc0dd\\uc0b0\", \"Manifold Sub Unit \\uc81c\\uc791\", 210.0], [\"\\uc758\\uc7a5\\uc0dd\\uc0b0\", \"SUS \\uc77c\\ubc18 PCS \\uc81c\\uc791\", 90.0], [\"\\uc758\\uc7a5\\uc0dd\\uc0b0\", \"Manifold Sub Unit \\uc81c\\uc791\", 210.0], [\"\\uc758\\uc7a5\\uc0dd\\uc0b0\", \"Pump Tower \\ubcf5\\uad00 \\uc81c\\uc791\", 420.0], [\"\\uc758\\uc7a5\\uc0dd\\uc0b0\", \"Pump Tower \\ucd1d\\uc870\\ub9bd \\uc81c\\uc791\", 370.0], [\"\\uc758\\uc7a5\\uc0dd\\uc0b0\", \"SUS Cargo Valve PCS \\uc81c\\uc791\", 150.0], [\"\\uc758\\uc7a5\\uc0dd\\uc0b0\", \"SUS \\uc77c\\ubc18 PCS \\uc81c\\uc791\", 90.0], [\"\\uc758\\uc7a5\\uc0dd\\uc0b0\", \"\\ube44\\ucca0(Copper) PCS \\uc81c\\uc791\", 50.0], [\"\\uc758\\uc7a5\\uc0dd\\uc0b0\", \"STEEL PCS \\uc81c\\uc791\", 130.0], [\"\\uc758\\uc7a5\\uc0dd\\uc0b0\", \"CHOCK LINER \\uac00\\uacf5\", 60.0], [\"\\uc758\\uc7a5\\uc0dd\\uc0b0\", \"COTTER \\uac00\\uacf5\", 60.0], [\"\\uc758\\uc7a5\\uc0dd\\uc0b0\", \"Coupling Key \\ud648 \\uac00\\uacf5\", 50.0], [\"\\uc758\\uc7a5\\uc0dd\\uc0b0\", \"PIPE \\ub098\\uc0ac\\uac00\\uacf5\", 20.0], [\"\\uc758\\uc7a5\\uc0dd\\uc0b0\", \"R/D EDGE BAR \\uc81c\\uc791\", 270.0], [\"\\uc758\\uc7a5\\uc0dd\\uc0b0\", \"REAMER BOLT \\uc81c\\uc791\", 90.0], [\"\\uc758\\uc7a5\\uc0dd\\uc0b0\", \"SOUNDING PIPE SLOT HOLE \\uac00\\uacf5\", 40.0], [\"\\uc758\\uc7a5\\uc0dd\\uc0b0\", \"Stern Tubu Bush \\uac00\\uacf5\", 40.0], [\"\\uc758\\uc7a5\\uc0dd\\uc0b0\", \"\\uc0ac\\uac01 & \\uc6d0\\ud615 HOLE \\uc791\\uc5c5\", 20.0], [\"\\uc758\\uc7a5\\uc0dd\\uc0b0\", \"\\uc774\\uacbd SOCKET \\uc81c\\uc791\", 30.0], [\"\\uc758\\uc7a5\\uc0dd\\uc0b0\", \"\\ube14\\ub77c\\uc2a4\\ud305\", 70.0], [\"\\uc758\\uc7a5\\uc0dd\\uc0b0\", \"Moudule unit \\uc808\\ub2e8\", 80.0], [\"\\uc758\\uc7a5\\uc0dd\\uc0b0\", \"Moudule unit \\uc81c\\uc791\", 30.0], [\"\\uc758\\uc7a5\\uc0dd\\uc0b0\", \"\\ub7ec\\uadf8 \\uc808\\ub2e8\", 60.0], [\"\\uc758\\uc7a5\\uc0dd\\uc0b0\", \"\\ub7ec\\uadf8 \\uc81c\\uc791\", 100.0], [\"\\uc758\\uc7a5\\uc0dd\\uc0b0\", \"\\ucca0\\uc758\\uc7a5\\ud488 \\uc81c\\uc791\", 320.0], [\"\\uc758\\uc7a5\\uc0dd\\uc0b0\", \"H/cover fitting\\ub958 \\uc808\\ub2e8\", 50.0], [\"\\uc758\\uc7a5\\uc0dd\\uc0b0\", \"H/cover fitting\\ub958 \\uc81c\\uc791\", 70.0], [\"\\uc758\\uc7a5\\uc0dd\\uc0b0\", \"H/cover fitting\\ub958 \\uc808\\ub2e8\", 50.0], [\"\\uc758\\uc7a5\\uc0dd\\uc0b0\", \"H/cover fitting\\ub958 \\uc81c\\uc791\", 70.0], [\"\\uc758\\uc7a5\\uc0dd\\uc0b0\", \"Moudule unit \\uc808\\ub2e8\", 80.0], [\"\\uc758\\uc7a5\\uc0dd\\uc0b0\", \"Moudule unit \\uc81c\\uc791\", 30.0], [\"\\uc758\\uc7a5\\uc0dd\\uc0b0\", \"\\ub7ec\\uadf8 \\uc808\\ub2e8\", 60.0], [\"\\uc758\\uc7a5\\uc0dd\\uc0b0\", \"\\ub7ec\\uadf8 \\uc81c\\uc791\", 100.0], [\"\\uc758\\uc7a5\\uc0dd\\uc0b0\", \"\\ucca0\\uc758\\uc7a5\\ud488 \\uc81c\\uc791\", 320.0], [\"\\uc758\\uc7a5\\uc0dd\\uc0b0\", \"\\uc2a4\\ud504\\ub808\\uc774\", 160.0]], \"hovertemplate\": \"\\ub300\\uad6c\\ubd84=%{customdata[0]}<br>R_vector=%{customdata[2]}<br>\\ubd80\\uc11c=%{y}<br>WORK_STAND_NM=%{customdata[1]}<extra></extra>\", \"legendgroup\": \"\\uc758\\uc7a5\\uc0dd\\uc0b0\", \"marker\": {\"color\": \"#FF6692\"}, \"name\": \"\\uc758\\uc7a5\\uc0dd\\uc0b0\", \"offsetgroup\": \"\\uc758\\uc7a5\\uc0dd\\uc0b0\", \"orientation\": \"h\", \"showlegend\": true, \"textposition\": \"auto\", \"type\": \"bar\", \"x\": [80.0, 230.0, 110.0, 20.0, 10.0, 210.0, 90.0, 210.0, 420.0, 370.0, 150.0, 90.0, 50.0, 130.0, 60.0, 60.0, 50.0, 20.0, 270.0, 90.0, 40.0, 40.0, 20.0, 30.0, 70.0, 80.0, 30.0, 60.0, 100.0, 320.0, 50.0, 70.0, 50.0, 70.0, 80.0, 30.0, 60.0, 100.0, 320.0, 160.0], \"xaxis\": \"x\", \"y\": [\"Unit\\uc0dd\\uc0b0\\ubd80\", \"Unit\\uc0dd\\uc0b0\\ubd80\", \"Unit\\uc0dd\\uc0b0\\ubd80\", \"Unit\\uc0dd\\uc0b0\\ubd80\", \"Unit\\uc0dd\\uc0b0\\ubd80\", \"Unit\\uc0dd\\uc0b0\\ubd80\", \"Unit\\uc0dd\\uc0b0\\ubd80\", \"\\uc758\\uc7a5\\uc0dd\\uc0b0\\ubd80\", \"\\uc758\\uc7a5\\uc0dd\\uc0b0\\ubd80\", \"\\uc758\\uc7a5\\uc0dd\\uc0b0\\ubd80\", \"\\uc758\\uc7a5\\uc0dd\\uc0b0\\ubd80\", \"\\uc758\\uc7a5\\uc0dd\\uc0b0\\ubd80\", \"\\uc758\\uc7a5\\uc0dd\\uc0b0\\ubd80\", \"\\uc758\\uc7a5\\uc0dd\\uc0b0\\ubd80\", \"\\uc758\\uc7a5\\uc0dd\\uc0b0\\ubd80\", \"\\uc758\\uc7a5\\uc0dd\\uc0b0\\ubd80\", \"\\uc758\\uc7a5\\uc0dd\\uc0b0\\ubd80\", \"\\uc758\\uc7a5\\uc0dd\\uc0b0\\ubd80\", \"\\uc758\\uc7a5\\uc0dd\\uc0b0\\ubd80\", \"\\uc758\\uc7a5\\uc0dd\\uc0b0\\ubd80\", \"\\uc758\\uc7a5\\uc0dd\\uc0b0\\ubd80\", \"\\uc758\\uc7a5\\uc0dd\\uc0b0\\ubd80\", \"\\uc758\\uc7a5\\uc0dd\\uc0b0\\ubd80\", \"\\uc758\\uc7a5\\uc0dd\\uc0b0\\ubd80\", \"\\uc758\\uc7a5\\uc0dd\\uc0b0\\ubd80\", \"Unit\\uc0dd\\uc0b0\\ubd80\", \"Unit\\uc0dd\\uc0b0\\ubd80\", \"Unit\\uc0dd\\uc0b0\\ubd80\", \"Unit\\uc0dd\\uc0b0\\ubd80\", \"Unit\\uc0dd\\uc0b0\\ubd80\", \"Unit\\uc0dd\\uc0b0\\ubd80\", \"Unit\\uc0dd\\uc0b0\\ubd80\", \"\\uc758\\uc7a5\\uc0dd\\uc0b0\\ubd80\", \"\\uc758\\uc7a5\\uc0dd\\uc0b0\\ubd80\", \"\\uc758\\uc7a5\\uc0dd\\uc0b0\\ubd80\", \"\\uc758\\uc7a5\\uc0dd\\uc0b0\\ubd80\", \"\\uc758\\uc7a5\\uc0dd\\uc0b0\\ubd80\", \"\\uc758\\uc7a5\\uc0dd\\uc0b0\\ubd80\", \"\\uc758\\uc7a5\\uc0dd\\uc0b0\\ubd80\", \"\\uc758\\uc7a5\\uc0dd\\uc0b0\\ubd80\"], \"yaxis\": \"y\"}, {\"alignmentgroup\": \"True\", \"customdata\": [[\"\\ud310\\ub12c\\uc870\\ub9bd\", \"\\uc120PE \\ucde8\\ubd80\\uc6a9\\uc811\", 200.0], [\"\\ud310\\ub12c\\uc870\\ub9bd\", \"DOUBLE SLIT\", 140.0], [\"\\ud310\\ub12c\\uc870\\ub9bd\", \"\\ud3c9\\uc870\\ub9bd\", 160.0], [\"\\ud310\\ub12c\\uc870\\ub9bd\", \"\\ud310\\uacc4(\\uc8fc\\ud310)_1\\uc57c\\ub4dc\", 80.0], [\"\\ud310\\ub12c\\uc870\\ub9bd\", \"\\ud310\\uacc4(\\uc8fc\\ud310)_2\\uc57c\\ub4dc\", 80.0], [\"\\ud310\\ub12c\\uc870\\ub9bd\", \"\\ud310\\uacc4(\\ud615\\uac15)_1\\uc57c\\ub4dc\", 120.0], [\"\\ud310\\ub12c\\uc870\\ub9bd\", \"\\ud310\\uacc4(\\ud615\\uac15)_2\\uc57c\\ub4dc\", 120.0], [\"\\ud310\\ub12c\\uc870\\ub9bd\", \"\\ud3c9\\uc911\\uc870\", 100.0], [\"\\ud310\\ub12c\\uc870\\ub9bd\", \"\\ud3c9\\uc911\\uc870(F/Bay)\", 150.0], [\"\\ud310\\ub12c\\uc870\\ub9bd\", \"\\uc120\\uc2e4 \\uc870\\ub9bd(\\uc6a9\\uc811)\", 80.0], [\"\\ud310\\ub12c\\uc870\\ub9bd\", \"\\uc120\\uc2e4 \\uc870\\ub9bd(\\ucde8\\ubd80)\", 20.0], [\"\\ud310\\ub12c\\uc870\\ub9bd\", \"\\uc120\\uc2e4 \\ud310\\uacc4(LONGI)\", 10.0], [\"\\ud310\\ub12c\\uc870\\ub9bd\", \"\\uc120\\uc2e4 \\ud310\\uacc4(\\uc8fc\\ud310)\", 30.0], [\"\\ud310\\ub12c\\uc870\\ub9bd\", \"\\uc120\\uc2e4 \\ud310\\uacc4(\\ud615\\uac15)\", 150.0]], \"hovertemplate\": \"\\ub300\\uad6c\\ubd84=%{customdata[0]}<br>R_vector=%{customdata[2]}<br>\\ubd80\\uc11c=%{y}<br>WORK_STAND_NM=%{customdata[1]}<extra></extra>\", \"legendgroup\": \"\\ud310\\ub12c\\uc870\\ub9bd\", \"marker\": {\"color\": \"#B6E880\"}, \"name\": \"\\ud310\\ub12c\\uc870\\ub9bd\", \"offsetgroup\": \"\\ud310\\ub12c\\uc870\\ub9bd\", \"orientation\": \"h\", \"showlegend\": true, \"textposition\": \"auto\", \"type\": \"bar\", \"x\": [200.0, 140.0, 160.0, 80.0, 80.0, 120.0, 120.0, 100.0, 150.0, 80.0, 20.0, 10.0, 30.0, 150.0], \"xaxis\": \"x\", \"y\": [\"\\ud310\\ub12c\\uc870\\ub9bd\\ubd80\", \"\\ud310\\ub12c\\uc870\\ub9bd\\ubd80\", \"\\ud310\\ub12c\\uc870\\ub9bd\\ubd80\", \"\\ud310\\ub12c\\uc870\\ub9bd\\ubd80\", \"\\ud310\\ub12c\\uc870\\ub9bd\\ubd80\", \"\\ud310\\ub12c\\uc870\\ub9bd\\ubd80\", \"\\ud310\\ub12c\\uc870\\ub9bd\\ubd80\", \"\\ud310\\ub12c\\uc870\\ub9bd\\ubd80\", \"\\ud310\\ub12c\\uc870\\ub9bd\\ubd80\", \"\\ud310\\ub12c\\uc870\\ub9bd\\ubd80\", \"\\ud310\\ub12c\\uc870\\ub9bd\\ubd80\", \"\\ud310\\ub12c\\uc870\\ub9bd\\ubd80\", \"\\ud310\\ub12c\\uc870\\ub9bd\\ubd80\", \"\\ud310\\ub12c\\uc870\\ub9bd\\ubd80\"], \"yaxis\": \"y\"}, {\"alignmentgroup\": \"True\", \"customdata\": [[\"\\ud488\\uc9c8\\uad00\\ub9ac\", \"\\uc120\\ud589\\ub3c4\\uc7a5 \\ubc0f P/E Block \\uc18c\\uc9c0 \\uac80\\uc0ac\", 0.0], [\"\\ud488\\uc9c8\\uad00\\ub9ac\", \"\\uc120\\ud589\\ub3c4\\uc7a5 \\ubc0f P/E Block \\ud6c4\\uc18d/Final \\uac80\\uc0ac\", 10.0], [\"\\ud488\\uc9c8\\uad00\\ub9ac\", \"\\ud6c4\\ud589\\ub3c4\\uc7a5 \\uc18c\\uc9c0 \\uac80\\uc0ac\", 0.0], [\"\\ud488\\uc9c8\\uad00\\ub9ac\", \"\\ud6c4\\ud589\\ub3c4\\uc7a5 \\ud6c4\\uc18d/Final \\uac80\\uc0ac\", 10.0], [\"\\ud488\\uc9c8\\uad00\\ub9ac\", \"MT\\uac80\\uc0ac\", 20.0], [\"\\ud488\\uc9c8\\uad00\\ub9ac\", \"CNTR PAUT\\uac80\\uc0ac\", 40.0], [\"\\ud488\\uc9c8\\uad00\\ub9ac\", \"LNG \\uba64\\ube0c\\ub808\\uc778 DPT \\uac80\\uc0ac\", 10.0], [\"\\ud488\\uc9c8\\uad00\\ub9ac\", \"PT\\uac80\\uc0ac\", 20.0], [\"\\ud488\\uc9c8\\uad00\\ub9ac\", \"RT\\uac80\\uc0ac(RT ROOM)\", 50.0], [\"\\ud488\\uc9c8\\uad00\\ub9ac\", \"RT\\uac80\\uc0ac(\\uc625\\uc678)\", 40.0], [\"\\ud488\\uc9c8\\uad00\\ub9ac\", \"UT\\uac80\\uc0ac\", 20.0], [\"\\ud488\\uc9c8\\uad00\\ub9ac\", \"\\uac15\\uc7ac,\\uac00\\uacf5 \\uac80\\uc0ac\", 0.0], [\"\\ud488\\uc9c8\\uad00\\ub9ac\", \"\\uc120\\uccb4 \\ub0b4\\uc5c5 Block \\uac80\\uc0ac\", 10.0], [\"\\ud488\\uc9c8\\uad00\\ub9ac\", \"\\uc120\\uccb4 \\uc678\\uc5c5 Joint \\ubc0f Dimension \\uac80\\uc0ac\", 10.0], [\"\\ud488\\uc9c8\\uad00\\ub9ac\", \"\\uc120\\uccb4 \\uc678\\uc5c5 Tank Test \\uac80\\uc0ac\", 0.0], [\"\\ud488\\uc9c8\\uad00\\ub9ac\", \"\\uc2dc\\ud3b8\\uc6a9\\uc811 \\ubc0f \\uc808\\ub2e8\\uc791\\uc5c5\", 110.0], [\"\\ud488\\uc9c8\\uad00\\ub9ac\", \"\\uae30\\uacc4\\uc758\\uc7a5 \\uc124\\uce58 \\uac80\\uc0ac\", 90.0], [\"\\ud488\\uc9c8\\uad00\\ub9ac\", \"\\uc120\\uc2e4\\uc0dd\\uc0b0 \\uc758\\uc7a5 \\uac80\\uc0ac\", 30.0], [\"\\ud488\\uc9c8\\uad00\\ub9ac\", \"\\uc120\\ud589\\uc758\\uc7a5 \\uac80\\uc0ac\", 10.0], [\"\\ud488\\uc9c8\\uad00\\ub9ac\", \"\\uc2dc\\uc6b4\\uc804 \\uc791\\ub3d9 \\uac80\\uc0ac\", 80.0], [\"\\ud488\\uc9c8\\uad00\\ub9ac\", \"\\ubc00\\ud3d0\\uad6c\\uc5ed \\uc758\\uc7a5\\ud488 \\uac80\\uc0ac\", 10.0], [\"\\ud488\\uc9c8\\uad00\\ub9ac\", \"\\uc758\\uc7a5 \\ubc30\\uad00 \\uc124\\uce58 & \\uc555\\ub825 \\uac80\\uc0ac\", 30.0], [\"\\ud488\\uc9c8\\uad00\\ub9ac\", \"\\uc758\\uc7a5 \\uc791\\ub3d9 \\uac80\\uc0ac\", 0.0], [\"\\ud488\\uc9c8\\uad00\\ub9ac\", \"\\uc804\\uc7a5 \\uc124\\uce58 \\uac80\\uc0ac\", 0.0], [\"\\ud488\\uc9c8\\uad00\\ub9ac\", \"\\uac00\\uacf5 \\uc815\\ub3c4 \\uccb4\\ud06c \\uac80\\uc0ac\", 10.0], [\"\\ud488\\uc9c8\\uad00\\ub9ac\", \"\\ube14\\ub85d \\uc815\\ub3c4 \\uccb4\\ud06c\\uac80\\uc0ac\", 50.0], [\"\\ud488\\uc9c8\\uad00\\ub9ac\", \"\\uc18c\\uc870 \\uc815\\ub3c4 \\uccb4\\ud06c \\uac80\\uc0ac\", 0.0], [\"\\ud488\\uc9c8\\uad00\\ub9ac\", \"\\ud380\\uce58 \\ubc0f \\ud654\\uae30\\ub370\\ubbf8\\uc9c0 \\ubc29\\uc9c0 \\ub9c8\\ud0b9 \\uc791\\uc5c5\", 10.0], [\"\\ud488\\uc9c8\\uad00\\ub9ac\", \"\\uc678\\uc5c5 \\uc815\\ub3c4 \\uccb4\\ud06c \\uac80\\uc0ac\", 60.0], [\"\\ud488\\uc9c8\\uad00\\ub9ac\", \"\\uc758\\uc7a5 \\uc815\\ub3c4 \\uad00\\ub9ac \\uc791\\uc5c5\", 110.0]], \"hovertemplate\": \"\\ub300\\uad6c\\ubd84=%{customdata[0]}<br>R_vector=%{customdata[2]}<br>\\ubd80\\uc11c=%{y}<br>WORK_STAND_NM=%{customdata[1]}<extra></extra>\", \"legendgroup\": \"\\ud488\\uc9c8\\uad00\\ub9ac\", \"marker\": {\"color\": \"#FF97FF\"}, \"name\": \"\\ud488\\uc9c8\\uad00\\ub9ac\", \"offsetgroup\": \"\\ud488\\uc9c8\\uad00\\ub9ac\", \"orientation\": \"h\", \"showlegend\": true, \"textposition\": \"auto\", \"type\": \"bar\", \"x\": [0.0, 10.0, 0.0, 10.0, 20.0, 40.0, 10.0, 20.0, 50.0, 40.0, 20.0, 0.0, 10.0, 10.0, 0.0, 110.0, 90.0, 30.0, 10.0, 80.0, 10.0, 30.0, 0.0, 0.0, 10.0, 50.0, 0.0, 10.0, 60.0, 110.0], \"xaxis\": \"x\", \"y\": [\"\\uc870\\uc120\\ud574\\uc591\\ud488\\uc9c8\\uacbd\\uc6011\\ubd80\", \"\\uc870\\uc120\\ud574\\uc591\\ud488\\uc9c8\\uacbd\\uc6011\\ubd80\", \"\\uc870\\uc120\\ud574\\uc591\\ud488\\uc9c8\\uacbd\\uc6011\\ubd80\", \"\\uc870\\uc120\\ud574\\uc591\\ud488\\uc9c8\\uacbd\\uc6011\\ubd80\", \"\\uc870\\uc120\\ud574\\uc591\\ud488\\uc9c8\\uacbd\\uc6012\\ubd80\", \"\\uc870\\uc120\\ud574\\uc591\\ud488\\uc9c8\\uacbd\\uc6012\\ubd80\", \"\\uc870\\uc120\\ud574\\uc591\\ud488\\uc9c8\\uacbd\\uc6012\\ubd80\", \"\\uc870\\uc120\\ud574\\uc591\\ud488\\uc9c8\\uacbd\\uc6012\\ubd80\", \"\\uc870\\uc120\\ud574\\uc591\\ud488\\uc9c8\\uacbd\\uc6012\\ubd80\", \"\\uc870\\uc120\\ud574\\uc591\\ud488\\uc9c8\\uacbd\\uc6012\\ubd80\", \"\\uc870\\uc120\\ud574\\uc591\\ud488\\uc9c8\\uacbd\\uc6012\\ubd80\", \"\\uc870\\uc120\\ud574\\uc591\\ud488\\uc9c8\\uacbd\\uc6011\\ubd80\", \"\\uc870\\uc120\\ud574\\uc591\\ud488\\uc9c8\\uacbd\\uc6011\\ubd80\", \"\\uc870\\uc120\\ud574\\uc591\\ud488\\uc9c8\\uacbd\\uc6011\\ubd80\", \"\\uc870\\uc120\\ud574\\uc591\\ud488\\uc9c8\\uacbd\\uc6011\\ubd80\", \"\\uc870\\uc120\\ud574\\uc591\\ud488\\uc9c8\\uacbd\\uc6012\\ubd80\", \"\\uc870\\uc120\\ud574\\uc591\\ud488\\uc9c8\\uacbd\\uc6011\\ubd80\", \"\\uc870\\uc120\\ud574\\uc591\\ud488\\uc9c8\\uacbd\\uc6011\\ubd80\", \"\\uc870\\uc120\\ud574\\uc591\\ud488\\uc9c8\\uacbd\\uc6011\\ubd80\", \"\\uc870\\uc120\\ud574\\uc591\\ud488\\uc9c8\\uacbd\\uc6011\\ubd80\", \"\\uc870\\uc120\\ud574\\uc591\\ud488\\uc9c8\\uacbd\\uc6011\\ubd80\", \"\\uc870\\uc120\\ud574\\uc591\\ud488\\uc9c8\\uacbd\\uc6011\\ubd80\", \"\\uc870\\uc120\\ud574\\uc591\\ud488\\uc9c8\\uacbd\\uc6011\\ubd80\", \"\\uc870\\uc120\\ud574\\uc591\\ud488\\uc9c8\\uacbd\\uc6011\\ubd80\", \"\\uc870\\uc120\\ud574\\uc591\\ud488\\uc9c8\\uacbd\\uc6012\\ubd80\", \"\\uc870\\uc120\\ud574\\uc591\\ud488\\uc9c8\\uacbd\\uc6012\\ubd80\", \"\\uc870\\uc120\\ud574\\uc591\\ud488\\uc9c8\\uacbd\\uc6012\\ubd80\", \"\\uc870\\uc120\\ud574\\uc591\\ud488\\uc9c8\\uacbd\\uc6012\\ubd80\", \"\\uc870\\uc120\\ud574\\uc591\\ud488\\uc9c8\\uacbd\\uc6012\\ubd80\", \"\\uc870\\uc120\\ud574\\uc591\\ud488\\uc9c8\\uacbd\\uc6012\\ubd80\"], \"yaxis\": \"y\"}, {\"alignmentgroup\": \"True\", \"customdata\": [[\"\\ud6c4\\ud589\\ub3c4\\uc7a5\", \"\\uc2a4\\ud504\\ub808\\uc774\", 240.0], [\"\\ud6c4\\ud589\\ub3c4\\uc7a5\", \"\\uccad\\uc218 \\uc138\\ucc99(\\uc6cc\\uc2f1)\", 100.0], [\"\\ud6c4\\ud589\\ub3c4\\uc7a5\", \"\\ud0f1\\ud06c \\ub3c4\\uc7a5 \\ucc29\\uc218\\uc804 \\uc810\\uac80\", 40.0], [\"\\ud6c4\\ud589\\ub3c4\\uc7a5\", \"\\ud130\\uce58\\uc5c5\", 50.0], [\"\\ud6c4\\ud589\\ub3c4\\uc7a5\", \"Airless \\ud38c\\ud504 \\uc774\\uc6a9\\ud55c \\ub3c4\\uc7a5\\uc791\\uc5c5\", 80.0], [\"\\ud6c4\\ud589\\ub3c4\\uc7a5\", \"Longi. \\ub3c4\\uc7a5 \\uc791\\uc5c5\", 20.0], [\"\\ud6c4\\ud589\\ub3c4\\uc7a5\", \"\\uc2a4\\ud504\\ub808\\uc774\", 240.0], [\"\\ud6c4\\ud589\\ub3c4\\uc7a5\", \"\\uccad\\uc218 \\uc138\\ucc99(\\uc6cc\\uc2f1)\", 100.0], [\"\\ud6c4\\ud589\\ub3c4\\uc7a5\", \"\\ud0f1\\ud06c \\ub3c4\\uc7a5 \\ucc29\\uc218\\uc804 \\uc810\\uac80\", 40.0], [\"\\ud6c4\\ud589\\ub3c4\\uc7a5\", \"\\ud130\\uce58\\uc5c5\", 50.0], [\"\\ud6c4\\ud589\\ub3c4\\uc7a5\", \"\\uc2a4\\ud504\\ub808\\uc774\", 210.0], [\"\\ud6c4\\ud589\\ub3c4\\uc7a5\", \"\\uccad\\uc218 \\uc138\\ucc99(\\uc6cc\\uc2f1)\", 90.0], [\"\\ud6c4\\ud589\\ub3c4\\uc7a5\", \"\\ud0f1\\ud06c \\ub3c4\\uc7a5 \\ucc29\\uc218\\uc804 \\uc810\\uac80\", 70.0], [\"\\ud6c4\\ud589\\ub3c4\\uc7a5\", \"\\ud130\\uce58\\uc5c5\", 40.0], [\"\\ud6c4\\ud589\\ub3c4\\uc7a5\", \"\\uc2a4\\ud504\\ub808\\uc774\", 210.0], [\"\\ud6c4\\ud589\\ub3c4\\uc7a5\", \"\\uccad\\uc218 \\uc138\\ucc99(\\uc6cc\\uc2f1)\", 90.0], [\"\\ud6c4\\ud589\\ub3c4\\uc7a5\", \"\\ud0f1\\ud06c \\ub3c4\\uc7a5 \\ucc29\\uc218\\uc804 \\uc810\\uac80\", 70.0], [\"\\ud6c4\\ud589\\ub3c4\\uc7a5\", \"\\ud130\\uce58\\uc5c5\", 40.0], [\"\\ud6c4\\ud589\\ub3c4\\uc7a5\", \"\\uc2a4\\ud504\\ub808\\uc774\", 270.0], [\"\\ud6c4\\ud589\\ub3c4\\uc7a5\", \"\\uccad\\uc218 \\uc138\\ucc99(\\uc6cc\\uc2f1)\", 90.0], [\"\\ud6c4\\ud589\\ub3c4\\uc7a5\", \"\\ud0f1\\ud06c \\ub3c4\\uc7a5 \\ucc29\\uc218\\uc804 \\uc810\\uac80\", 70.0], [\"\\ud6c4\\ud589\\ub3c4\\uc7a5\", \"\\ud130\\uce58\\uc5c5\", 40.0], [\"\\ud6c4\\ud589\\ub3c4\\uc7a5\", \"\\uac00\\ub124\\ud2b8 \\ube14\\ub77c\\uc2a4\\ud305\", 160.0], [\"\\ud6c4\\ud589\\ub3c4\\uc7a5\", \"\\uc18c\\uc9c0\", 120.0], [\"\\ud6c4\\ud589\\ub3c4\\uc7a5\", \"\\uac00\\ub124\\ud2b8 \\ube14\\ub77c\\uc2a4\\ud305\", 160.0], [\"\\ud6c4\\ud589\\ub3c4\\uc7a5\", \"\\uc18c\\uc9c0\", 120.0], [\"\\ud6c4\\ud589\\ub3c4\\uc7a5\", \"\\uc18c\\uc9c0\", 160.0], [\"\\ud6c4\\ud589\\ub3c4\\uc7a5\", \"\\uc18c\\uc9c0\", 160.0], [\"\\ud6c4\\ud589\\ub3c4\\uc7a5\", \"\\uc18c\\uc9c0\", 110.0]], \"hovertemplate\": \"\\ub300\\uad6c\\ubd84=%{customdata[0]}<br>R_vector=%{customdata[2]}<br>\\ubd80\\uc11c=%{y}<br>WORK_STAND_NM=%{customdata[1]}<extra></extra>\", \"legendgroup\": \"\\ud6c4\\ud589\\ub3c4\\uc7a5\", \"marker\": {\"color\": \"#FECB52\"}, \"name\": \"\\ud6c4\\ud589\\ub3c4\\uc7a5\", \"offsetgroup\": \"\\ud6c4\\ud589\\ub3c4\\uc7a5\", \"orientation\": \"h\", \"showlegend\": true, \"textposition\": \"auto\", \"type\": \"bar\", \"x\": [240.0, 100.0, 40.0, 50.0, 80.0, 20.0, 240.0, 100.0, 40.0, 50.0, 210.0, 90.0, 70.0, 40.0, 210.0, 90.0, 70.0, 40.0, 270.0, 90.0, 70.0, 40.0, 160.0, 120.0, 160.0, 120.0, 160.0, 160.0, 110.0], \"xaxis\": \"x\", \"y\": [\"\\ub3c4\\uc7a51\\ubd80\", \"\\ub3c4\\uc7a51\\ubd80\", \"\\ub3c4\\uc7a51\\ubd80\", \"\\ub3c4\\uc7a51\\ubd80\", \"\\ub3c4\\uc7a52\\ubd80\", \"\\ub3c4\\uc7a52\\ubd80\", \"\\ub3c4\\uc7a52\\ubd80\", \"\\ub3c4\\uc7a52\\ubd80\", \"\\ub3c4\\uc7a52\\ubd80\", \"\\ub3c4\\uc7a52\\ubd80\", \"\\uc758\\uc7a51\\ubd80\", \"\\uc758\\uc7a51\\ubd80\", \"\\uc758\\uc7a51\\ubd80\", \"\\uc758\\uc7a51\\ubd80\", \"\\uc758\\uc7a52\\ubd80\", \"\\uc758\\uc7a52\\ubd80\", \"\\uc758\\uc7a52\\ubd80\", \"\\uc758\\uc7a52\\ubd80\", \"\\uc758\\uc7a53\\ubd80\", \"\\uc758\\uc7a53\\ubd80\", \"\\uc758\\uc7a53\\ubd80\", \"\\uc758\\uc7a53\\ubd80\", \"\\ub3c4\\uc7a51\\ubd80\", \"\\ub3c4\\uc7a51\\ubd80\", \"\\ub3c4\\uc7a52\\ubd80\", \"\\ub3c4\\uc7a52\\ubd80\", \"\\uc758\\uc7a51\\ubd80\", \"\\uc758\\uc7a52\\ubd80\", \"\\uc758\\uc7a53\\ubd80\"], \"yaxis\": \"y\"}, {\"alignmentgroup\": \"True\", \"customdata\": [[\"\\ud6c4\\ud589\\uc758\\uc7a5\", \"SMR LEAK TEST\", 20.0], [\"\\ud6c4\\ud589\\uc758\\uc7a5\", \"\\uc2dc\\uc6b4\\uc804\\ubd80 LN2 TEST\", 50.0], [\"\\ud6c4\\ud589\\uc758\\uc7a5\", \"CARGO LINE N2 TEST\", 20.0], [\"\\ud6c4\\ud589\\uc758\\uc7a5\", \"GAS DOME \\uc758\\uc7a5 \\uc791\\uc5c5\", 40.0], [\"\\ud6c4\\ud589\\uc758\\uc7a5\", \"LIQUID DOME \\uc758\\uc7a5 \\uc791\\uc5c5\", 50.0], [\"\\ud6c4\\ud589\\uc758\\uc7a5\", \"CARGO BELLOWS \\uc124\\uce58\", 0.0], [\"\\ud6c4\\ud589\\uc758\\uc7a5\", \"SMR SKID \\uc124\\uce58\", 60.0], [\"\\ud6c4\\ud589\\uc758\\uc7a5\", \"\\ubc30\\uad00 \\uac80\\uc0ac_PIPING HYD. TEST (Oil)\", 30.0], [\"\\ud6c4\\ud589\\uc758\\uc7a5\", \"\\ubc30\\uad00 \\uac80\\uc0ac_PIPING HYD. TEST (Pneumatic)\", 30.0], [\"\\ud6c4\\ud589\\uc758\\uc7a5\", \"\\ubc30\\uad00 \\uac80\\uc0ac_PIPING HYD. TEST (Water)\", 30.0], [\"\\ud6c4\\ud589\\uc758\\uc7a5\", \"\\ucca0\\uc758\\uc7a5 \\uac80\\uc0ac_ACC./PILOT SLANT LADDER TEST\", 130.0], [\"\\ud6c4\\ud589\\uc758\\uc7a5\", \"\\ucca0\\uc758\\uc7a5 \\uac80\\uc0ac_DAVIT & CRANE Test\", 130.0], [\"\\ud6c4\\ud589\\uc758\\uc7a5\", \"\\ucca0\\uc758\\uc7a5 \\uac80\\uc0ac_DOOR & HATCH  CHALK & HOSE TEST\", 50.0], [\"\\ud6c4\\ud589\\uc758\\uc7a5\", \"\\ucca0\\uc758\\uc7a5 \\uac80\\uc0ac_FAN & DAMPER OPERATION/VOLUME TEST\", 50.0], [\"\\ud6c4\\ud589\\uc758\\uc7a5\", \"\\ucca0\\uc758\\uc7a5 \\uac80\\uc0ac_LIFE & RESCUE BOAT/DAVIT TEST\", 170.0], [\"\\ud6c4\\ud589\\uc758\\uc7a5\", \"\\ubc30\\uad00 \\uac80\\uc0ac_PIPING HYD. TEST (Oil)\", 30.0], [\"\\ud6c4\\ud589\\uc758\\uc7a5\", \"\\ubc30\\uad00 \\uac80\\uc0ac_PIPING HYD. TEST (Pneumatic)\", 30.0], [\"\\ud6c4\\ud589\\uc758\\uc7a5\", \"\\ubc30\\uad00 \\uac80\\uc0ac_PIPING HYD. TEST (Water)\", 30.0], [\"\\ud6c4\\ud589\\uc758\\uc7a5\", \"\\ucca0\\uc758\\uc7a5 \\uac80\\uc0ac_ACC./PILOT SLANT LADDER TEST\", 130.0], [\"\\ud6c4\\ud589\\uc758\\uc7a5\", \"\\ucca0\\uc758\\uc7a5 \\uac80\\uc0ac_DAVIT & CRANE Test\", 130.0], [\"\\ud6c4\\ud589\\uc758\\uc7a5\", \"\\ucca0\\uc758\\uc7a5 \\uac80\\uc0ac_DOOR & HATCH  CHALK & HOSE TEST\", 50.0], [\"\\ud6c4\\ud589\\uc758\\uc7a5\", \"\\ucca0\\uc758\\uc7a5 \\uac80\\uc0ac_FAN & DAMPER OPERATION/VOLUME TEST\", 50.0], [\"\\ud6c4\\ud589\\uc758\\uc7a5\", \"\\ucca0\\uc758\\uc7a5 \\uac80\\uc0ac_LIFE & RESCUE BOAT/DAVIT TEST\", 170.0], [\"\\ud6c4\\ud589\\uc758\\uc7a5\", \"\\ubc30\\uad00 \\uac80\\uc0ac_PIPING HYD. TEST (Oil)\", 30.0], [\"\\ud6c4\\ud589\\uc758\\uc7a5\", \"\\ubc30\\uad00 \\uac80\\uc0ac_PIPING HYD. TEST (Pneumatic)\", 30.0], [\"\\ud6c4\\ud589\\uc758\\uc7a5\", \"\\ubc30\\uad00 \\uac80\\uc0ac_PIPING HYD. TEST (Water)\", 30.0], [\"\\ud6c4\\ud589\\uc758\\uc7a5\", \"\\ucca0\\uc758\\uc7a5 \\uac80\\uc0ac_ACC./PILOT SLANT LADDER TEST\", 130.0], [\"\\ud6c4\\ud589\\uc758\\uc7a5\", \"\\ucca0\\uc758\\uc7a5 \\uac80\\uc0ac_DAVIT & CRANE Test\", 130.0], [\"\\ud6c4\\ud589\\uc758\\uc7a5\", \"\\ucca0\\uc758\\uc7a5 \\uac80\\uc0ac_DOOR & HATCH  CHALK & HOSE TEST\", 50.0], [\"\\ud6c4\\ud589\\uc758\\uc7a5\", \"\\ucca0\\uc758\\uc7a5 \\uac80\\uc0ac_FAN & DAMPER OPERATION/VOLUME TEST\", 50.0], [\"\\ud6c4\\ud589\\uc758\\uc7a5\", \"\\ucca0\\uc758\\uc7a5 \\uac80\\uc0ac_LIFE & RESCUE BOAT/DAVIT TEST\", 170.0], [\"\\ud6c4\\ud589\\uc758\\uc7a5\", \"\\ubc30\\uad00 \\uac80\\uc0ac_PIPING HYD. TEST (Oil)\", 30.0], [\"\\ud6c4\\ud589\\uc758\\uc7a5\", \"\\ubc30\\uad00 \\uac80\\uc0ac_PIPING HYD. TEST (Pneumatic)\", 30.0], [\"\\ud6c4\\ud589\\uc758\\uc7a5\", \"\\ubc30\\uad00 \\uac80\\uc0ac_PIPING HYD. TEST (Water)\", 30.0], [\"\\ud6c4\\ud589\\uc758\\uc7a5\", \"\\ucca0\\uc758\\uc7a5 \\uac80\\uc0ac_ACC./PILOT SLANT LADDER TEST\", 130.0], [\"\\ud6c4\\ud589\\uc758\\uc7a5\", \"\\ucca0\\uc758\\uc7a5 \\uac80\\uc0ac_DAVIT & CRANE Test\", 130.0], [\"\\ud6c4\\ud589\\uc758\\uc7a5\", \"\\ucca0\\uc758\\uc7a5 \\uac80\\uc0ac_DOOR & HATCH  CHALK & HOSE TEST\", 50.0], [\"\\ud6c4\\ud589\\uc758\\uc7a5\", \"\\ucca0\\uc758\\uc7a5 \\uac80\\uc0ac_FAN & DAMPER OPERATION/VOLUME TEST\", 50.0], [\"\\ud6c4\\ud589\\uc758\\uc7a5\", \"\\ucca0\\uc758\\uc7a5 \\uac80\\uc0ac_LIFE & RESCUE BOAT/DAVIT TEST\", 170.0], [\"\\ud6c4\\ud589\\uc758\\uc7a5\", \"COUPLING JOINT \\uc124\\uce58\", 10.0], [\"\\ud6c4\\ud589\\uc758\\uc7a5\", \"FLANGE JOINT \\uc124\\uce58\", 40.0], [\"\\ud6c4\\ud589\\uc758\\uc7a5\", \"MULTI-CORE \\uc124\\uce58\", 150.0], [\"\\ud6c4\\ud589\\uc758\\uc7a5\", \"SLEEVE JOINT \\uc124\\uce58\", 80.0], [\"\\ud6c4\\ud589\\uc758\\uc7a5\", \"SOCKET/DRP JOINT \\uc124\\uce58\", 40.0], [\"\\ud6c4\\ud589\\uc758\\uc7a5\", \"\\uacc4\\uce21\\uad00 \\uc124\\uce58\", 10.0], [\"\\ud6c4\\ud589\\uc758\\uc7a5\", \"\\uace0\\uc815\\uad00 \\uc124\\uce58\", 30.0], [\"\\ud6c4\\ud589\\uc758\\uc7a5\", \"\\uad00\\ud1b5\\uad00 \\uc124\\uce58\", 50.0], [\"\\ud6c4\\ud589\\uc758\\uc7a5\", \"\\uc870\\uc815\\uad00 \\uc124\\uce58\", 180.0], [\"\\ud6c4\\ud589\\uc758\\uc7a5\", \"BUTT JOINT \\uc124\\uce58\", 80.0], [\"\\ud6c4\\ud589\\uc758\\uc7a5\", \"\\uc870\\uc815\\uad00 \\uc124\\uce58\", 180.0], [\"\\ud6c4\\ud589\\uc758\\uc7a5\", \"BUTT JOINT \\uc124\\uce58\", 80.0], [\"\\ud6c4\\ud589\\uc758\\uc7a5\", \"COUPLING JOINT \\uc124\\uce58\", 10.0], [\"\\ud6c4\\ud589\\uc758\\uc7a5\", \"FLANGE JOINT \\uc124\\uce58\", 40.0], [\"\\ud6c4\\ud589\\uc758\\uc7a5\", \"MULTI-CORE \\uc124\\uce58\", 150.0], [\"\\ud6c4\\ud589\\uc758\\uc7a5\", \"SLEEVE JOINT \\uc124\\uce58\", 80.0], [\"\\ud6c4\\ud589\\uc758\\uc7a5\", \"SOCKET/DRP JOINT \\uc124\\uce58\", 40.0], [\"\\ud6c4\\ud589\\uc758\\uc7a5\", \"\\uacc4\\uce21\\uad00 \\uc124\\uce58\", 10.0], [\"\\ud6c4\\ud589\\uc758\\uc7a5\", \"\\uace0\\uc815\\uad00 \\uc124\\uce58\", 30.0], [\"\\ud6c4\\ud589\\uc758\\uc7a5\", \"\\uad00\\ud1b5\\uad00 \\uc124\\uce58\", 50.0], [\"\\ud6c4\\ud589\\uc758\\uc7a5\", \"\\uc870\\uc815\\uad00 \\uc124\\uce58\", 180.0], [\"\\ud6c4\\ud589\\uc758\\uc7a5\", \"BUTT JOINT \\uc124\\uce58\", 80.0], [\"\\ud6c4\\ud589\\uc758\\uc7a5\", \"COUPLING JOINT \\uc124\\uce58\", 10.0], [\"\\ud6c4\\ud589\\uc758\\uc7a5\", \"FLANGE JOINT \\uc124\\uce58\", 40.0], [\"\\ud6c4\\ud589\\uc758\\uc7a5\", \"MULTI-CORE \\uc124\\uce58\", 150.0], [\"\\ud6c4\\ud589\\uc758\\uc7a5\", \"SLEEVE JOINT \\uc124\\uce58\", 80.0], [\"\\ud6c4\\ud589\\uc758\\uc7a5\", \"SOCKET/DRP JOINT \\uc124\\uce58\", 40.0], [\"\\ud6c4\\ud589\\uc758\\uc7a5\", \"\\uacc4\\uce21\\uad00 \\uc124\\uce58\", 10.0], [\"\\ud6c4\\ud589\\uc758\\uc7a5\", \"\\uace0\\uc815\\uad00 \\uc124\\uce58\", 30.0], [\"\\ud6c4\\ud589\\uc758\\uc7a5\", \"\\uad00\\ud1b5\\uad00 \\uc124\\uce58\", 50.0], [\"\\ud6c4\\ud589\\uc758\\uc7a5\", \"\\uc870\\uc815\\uad00 \\uc124\\uce58\", 180.0], [\"\\ud6c4\\ud589\\uc758\\uc7a5\", \"BUTT JOINT \\uc124\\uce58\", 80.0], [\"\\ud6c4\\ud589\\uc758\\uc7a5\", \"COUPLING JOINT \\uc124\\uce58\", 10.0], [\"\\ud6c4\\ud589\\uc758\\uc7a5\", \"FLANGE JOINT \\uc124\\uce58\", 40.0], [\"\\ud6c4\\ud589\\uc758\\uc7a5\", \"MULTI-CORE \\uc124\\uce58\", 150.0], [\"\\ud6c4\\ud589\\uc758\\uc7a5\", \"SLEEVE JOINT \\uc124\\uce58\", 80.0], [\"\\ud6c4\\ud589\\uc758\\uc7a5\", \"SOCKET/DRP JOINT \\uc124\\uce58\", 40.0], [\"\\ud6c4\\ud589\\uc758\\uc7a5\", \"\\uacc4\\uce21\\uad00 \\uc124\\uce58\", 10.0], [\"\\ud6c4\\ud589\\uc758\\uc7a5\", \"\\uace0\\uc815\\uad00 \\uc124\\uce58\", 30.0], [\"\\ud6c4\\ud589\\uc758\\uc7a5\", \"\\uad00\\ud1b5\\uad00 \\uc124\\uce58\", 50.0], [\"\\ud6c4\\ud589\\uc758\\uc7a5\", \"\\uc870\\uc815\\uad00 \\uc124\\uce58\", 180.0], [\"\\ud6c4\\ud589\\uc758\\uc7a5\", \"ANCHOR\\ub958 \\uc124\\uce58 (ANCHOR CHAIN)\", 70.0], [\"\\ud6c4\\ud589\\uc758\\uc7a5\", \"LIFE/RESCUE DAVIT & BOAT \\uc124\\uce58\", 40.0], [\"\\ud6c4\\ud589\\uc758\\uc7a5\", \"UNIT \\uc124\\uce58 (MODULE, PACKAGE, GROUP, HEATING COIL)\", 110.0], [\"\\ud6c4\\ud589\\uc758\\uc7a5\", \"\\uc2b9\\ud558\\uc120 \\uc7a5\\uce58\\ub958 \\uc124\\uce58 (ACC. & SLANT LADDER)\", 60.0], [\"\\ud6c4\\ud589\\uc758\\uc7a5\", \"ANCHOR\\ub958 \\uc124\\uce58 (ANCHOR CHAIN)\", 70.0], [\"\\ud6c4\\ud589\\uc758\\uc7a5\", \"LIFE/RESCUE DAVIT & BOAT \\uc124\\uce58\", 40.0], [\"\\ud6c4\\ud589\\uc758\\uc7a5\", \"UNIT \\uc124\\uce58 (MODULE, PACKAGE, GROUP, HEATING COIL)\", 110.0], [\"\\ud6c4\\ud589\\uc758\\uc7a5\", \"\\uc2b9\\ud558\\uc120 \\uc7a5\\uce58\\ub958 \\uc124\\uce58 (ACC. & SLANT LADDER)\", 60.0], [\"\\ud6c4\\ud589\\uc758\\uc7a5\", \"ANCHOR\\ub958 \\uc124\\uce58 (ANCHOR CHAIN)\", 70.0], [\"\\ud6c4\\ud589\\uc758\\uc7a5\", \"LIFE/RESCUE DAVIT & BOAT \\uc124\\uce58\", 40.0], [\"\\ud6c4\\ud589\\uc758\\uc7a5\", \"UNIT \\uc124\\uce58 (MODULE, PACKAGE, GROUP, HEATING COIL)\", 110.0], [\"\\ud6c4\\ud589\\uc758\\uc7a5\", \"\\uc2b9\\ud558\\uc120 \\uc7a5\\uce58\\ub958 \\uc124\\uce58 (ACC. & SLANT LADDER)\", 60.0], [\"\\ud6c4\\ud589\\uc758\\uc7a5\", \"ANCHOR\\ub958 \\uc124\\uce58 (ANCHOR CHAIN)\", 70.0], [\"\\ud6c4\\ud589\\uc758\\uc7a5\", \"LIFE/RESCUE DAVIT & BOAT \\uc124\\uce58\", 40.0], [\"\\ud6c4\\ud589\\uc758\\uc7a5\", \"UNIT \\uc124\\uce58 (MODULE, PACKAGE, GROUP, HEATING COIL)\", 110.0], [\"\\ud6c4\\ud589\\uc758\\uc7a5\", \"\\uc2b9\\ud558\\uc120 \\uc7a5\\uce58\\ub958 \\uc124\\uce58 (ACC. & SLANT LADDER)\", 60.0], [\"\\ud6c4\\ud589\\uc758\\uc7a5\", \"COAMING\\ub958 \\uc124\\uce58\", 120.0], [\"\\ud6c4\\ud589\\uc758\\uc7a5\", \"COVER\\ub958 \\uc124\\uce58\", 100.0], [\"\\ud6c4\\ud589\\uc758\\uc7a5\", \"DAVIT\\ub958 \\uc124\\uce58\", 110.0], [\"\\ud6c4\\ud589\\uc758\\uc7a5\", \"DOOR\\ub958 \\uc124\\uce58\", 120.0], [\"\\ud6c4\\ud589\\uc758\\uc7a5\", \"Duct \\uc124\\uce58 (Round, Spiral, Square)\", 50.0], [\"\\ud6c4\\ud589\\uc758\\uc7a5\", \"EYE, PAD, LUG\\ub958 \\uc124\\uce58\", 100.0], [\"\\ud6c4\\ud589\\uc758\\uc7a5\", \"ANODE \\uc124\\uce58\", 100.0], [\"\\ud6c4\\ud589\\uc758\\uc7a5\", \"HATCH\\ub958 \\uc124\\uce58\", 110.0], [\"\\ud6c4\\ud589\\uc758\\uc7a5\", \"H-RAIL\\ub958 \\uc124\\uce58\", 100.0], [\"\\ud6c4\\ud589\\uc758\\uc7a5\", \"LADDER\\ub958 \\uc124\\uce58\", 100.0], [\"\\ud6c4\\ud589\\uc758\\uc7a5\", \"PLATFORM\\ub958 \\uc124\\uce58\", 100.0], [\"\\ud6c4\\ud589\\uc758\\uc7a5\", \"POST & MAST \\uc124\\uce58\", 100.0], [\"\\ud6c4\\ud589\\uc758\\uc7a5\", \"SEAT\\ub958 \\uc124\\uce58\", 100.0], [\"\\ud6c4\\ud589\\uc758\\uc7a5\", \"SHELF\\ub958 \\uc124\\uce58\", 100.0], [\"\\ud6c4\\ud589\\uc758\\uc7a5\", \"STEP\\ub958 \\uc124\\uce58\", 100.0], [\"\\ud6c4\\ud589\\uc758\\uc7a5\", \"SUPPORT\\ub958 \\uc124\\uce58\", 100.0], [\"\\ud6c4\\ud589\\uc758\\uc7a5\", \"BAR\\ub958 \\uc124\\uce58\", 100.0], [\"\\ud6c4\\ud589\\uc758\\uc7a5\", \"VENT \\ubc0f DAMPER\\ub958 \\uc124\\uce58\", 100.0], [\"\\ud6c4\\ud589\\uc758\\uc7a5\", \"\\ub300\\ud615 \\ucca0\\uc758\\uc7a5\\ub958 \\uc124\\uce58\", 100.0], [\"\\ud6c4\\ud589\\uc758\\uc7a5\", \"BOX, LOCKER, CABINET\\ub958 \\uc124\\uce58\", 100.0], [\"\\ud6c4\\ud589\\uc758\\uc7a5\", \"\\uc77c\\ubc18 \\uacf5\\ud1b5\\uc124\\uce58\", 100.0], [\"\\ud6c4\\ud589\\uc758\\uc7a5\", \"BRACING\\ub958 \\uc124\\uce58\", 100.0], [\"\\ud6c4\\ud589\\uc758\\uc7a5\", \"ANODE \\uc124\\uce58\", 100.0], [\"\\ud6c4\\ud589\\uc758\\uc7a5\", \"BAR\\ub958 \\uc124\\uce58\", 100.0], [\"\\ud6c4\\ud589\\uc758\\uc7a5\", \"BOX, LOCKER, CABINET\\ub958 \\uc124\\uce58\", 100.0], [\"\\ud6c4\\ud589\\uc758\\uc7a5\", \"BRACING\\ub958 \\uc124\\uce58\", 100.0], [\"\\ud6c4\\ud589\\uc758\\uc7a5\", \"COAMING\\ub958 \\uc124\\uce58\", 120.0], [\"\\ud6c4\\ud589\\uc758\\uc7a5\", \"COVER\\ub958 \\uc124\\uce58\", 100.0], [\"\\ud6c4\\ud589\\uc758\\uc7a5\", \"DAVIT\\ub958 \\uc124\\uce58\", 110.0], [\"\\ud6c4\\ud589\\uc758\\uc7a5\", \"DOOR\\ub958 \\uc124\\uce58\", 120.0], [\"\\ud6c4\\ud589\\uc758\\uc7a5\", \"Duct \\uc124\\uce58 (Round, Spiral, Square)\", 50.0], [\"\\ud6c4\\ud589\\uc758\\uc7a5\", \"EYE, PAD, LUG\\ub958 \\uc124\\uce58\", 100.0], [\"\\ud6c4\\ud589\\uc758\\uc7a5\", \"HATCH\\ub958 \\uc124\\uce58\", 110.0], [\"\\ud6c4\\ud589\\uc758\\uc7a5\", \"H-RAIL\\ub958 \\uc124\\uce58\", 100.0], [\"\\ud6c4\\ud589\\uc758\\uc7a5\", \"LADDER\\ub958 \\uc124\\uce58\", 100.0], [\"\\ud6c4\\ud589\\uc758\\uc7a5\", \"PLATFORM\\ub958 \\uc124\\uce58\", 100.0], [\"\\ud6c4\\ud589\\uc758\\uc7a5\", \"POST & MAST \\uc124\\uce58\", 100.0], [\"\\ud6c4\\ud589\\uc758\\uc7a5\", \"SEAT\\ub958 \\uc124\\uce58\", 100.0], [\"\\ud6c4\\ud589\\uc758\\uc7a5\", \"SHELF\\ub958 \\uc124\\uce58\", 100.0], [\"\\ud6c4\\ud589\\uc758\\uc7a5\", \"STEP\\ub958 \\uc124\\uce58\", 100.0], [\"\\ud6c4\\ud589\\uc758\\uc7a5\", \"SUPPORT\\ub958 \\uc124\\uce58\", 100.0], [\"\\ud6c4\\ud589\\uc758\\uc7a5\", \"VENT \\ubc0f DAMPER\\ub958 \\uc124\\uce58\", 100.0], [\"\\ud6c4\\ud589\\uc758\\uc7a5\", \"\\ub300\\ud615 \\ucca0\\uc758\\uc7a5\\ub958 \\uc124\\uce58\", 100.0], [\"\\ud6c4\\ud589\\uc758\\uc7a5\", \"\\uc77c\\ubc18 \\uacf5\\ud1b5\\uc124\\uce58\", 100.0], [\"\\ud6c4\\ud589\\uc758\\uc7a5\", \"ANODE \\uc124\\uce58\", 100.0], [\"\\ud6c4\\ud589\\uc758\\uc7a5\", \"BAR\\ub958 \\uc124\\uce58\", 100.0], [\"\\ud6c4\\ud589\\uc758\\uc7a5\", \"BOX, LOCKER, CABINET\\ub958 \\uc124\\uce58\", 100.0], [\"\\ud6c4\\ud589\\uc758\\uc7a5\", \"BRACING\\ub958 \\uc124\\uce58\", 100.0], [\"\\ud6c4\\ud589\\uc758\\uc7a5\", \"COAMING\\ub958 \\uc124\\uce58\", 120.0], [\"\\ud6c4\\ud589\\uc758\\uc7a5\", \"COVER\\ub958 \\uc124\\uce58\", 100.0], [\"\\ud6c4\\ud589\\uc758\\uc7a5\", \"DAVIT\\ub958 \\uc124\\uce58\", 110.0], [\"\\ud6c4\\ud589\\uc758\\uc7a5\", \"DOOR\\ub958 \\uc124\\uce58\", 120.0], [\"\\ud6c4\\ud589\\uc758\\uc7a5\", \"Duct \\uc124\\uce58 (Round, Spiral, Square)\", 50.0], [\"\\ud6c4\\ud589\\uc758\\uc7a5\", \"EYE, PAD, LUG\\ub958 \\uc124\\uce58\", 100.0], [\"\\ud6c4\\ud589\\uc758\\uc7a5\", \"HATCH\\ub958 \\uc124\\uce58\", 110.0], [\"\\ud6c4\\ud589\\uc758\\uc7a5\", \"H-RAIL\\ub958 \\uc124\\uce58\", 100.0], [\"\\ud6c4\\ud589\\uc758\\uc7a5\", \"LADDER\\ub958 \\uc124\\uce58\", 100.0], [\"\\ud6c4\\ud589\\uc758\\uc7a5\", \"PLATFORM\\ub958 \\uc124\\uce58\", 100.0], [\"\\ud6c4\\ud589\\uc758\\uc7a5\", \"POST & MAST \\uc124\\uce58\", 100.0], [\"\\ud6c4\\ud589\\uc758\\uc7a5\", \"SEAT\\ub958 \\uc124\\uce58\", 100.0], [\"\\ud6c4\\ud589\\uc758\\uc7a5\", \"SHELF\\ub958 \\uc124\\uce58\", 100.0], [\"\\ud6c4\\ud589\\uc758\\uc7a5\", \"STEP\\ub958 \\uc124\\uce58\", 100.0], [\"\\ud6c4\\ud589\\uc758\\uc7a5\", \"SUPPORT\\ub958 \\uc124\\uce58\", 100.0], [\"\\ud6c4\\ud589\\uc758\\uc7a5\", \"VENT \\ubc0f DAMPER\\ub958 \\uc124\\uce58\", 100.0], [\"\\ud6c4\\ud589\\uc758\\uc7a5\", \"\\ub300\\ud615 \\ucca0\\uc758\\uc7a5\\ub958 \\uc124\\uce58\", 100.0], [\"\\ud6c4\\ud589\\uc758\\uc7a5\", \"\\uc77c\\ubc18 \\uacf5\\ud1b5\\uc124\\uce58\", 100.0], [\"\\ud6c4\\ud589\\uc758\\uc7a5\", \"ANODE \\uc124\\uce58\", 100.0], [\"\\ud6c4\\ud589\\uc758\\uc7a5\", \"BAR\\ub958 \\uc124\\uce58\", 100.0], [\"\\ud6c4\\ud589\\uc758\\uc7a5\", \"BOX, LOCKER, CABINET\\ub958 \\uc124\\uce58\", 100.0], [\"\\ud6c4\\ud589\\uc758\\uc7a5\", \"BRACING\\ub958 \\uc124\\uce58\", 100.0], [\"\\ud6c4\\ud589\\uc758\\uc7a5\", \"COAMING\\ub958 \\uc124\\uce58\", 120.0], [\"\\ud6c4\\ud589\\uc758\\uc7a5\", \"COVER\\ub958 \\uc124\\uce58\", 100.0], [\"\\ud6c4\\ud589\\uc758\\uc7a5\", \"DAVIT\\ub958 \\uc124\\uce58\", 110.0], [\"\\ud6c4\\ud589\\uc758\\uc7a5\", \"DOOR\\ub958 \\uc124\\uce58\", 120.0], [\"\\ud6c4\\ud589\\uc758\\uc7a5\", \"Duct \\uc124\\uce58 (Round, Spiral, Square)\", 50.0], [\"\\ud6c4\\ud589\\uc758\\uc7a5\", \"EYE, PAD, LUG\\ub958 \\uc124\\uce58\", 100.0], [\"\\ud6c4\\ud589\\uc758\\uc7a5\", \"HATCH\\ub958 \\uc124\\uce58\", 110.0], [\"\\ud6c4\\ud589\\uc758\\uc7a5\", \"H-RAIL\\ub958 \\uc124\\uce58\", 100.0], [\"\\ud6c4\\ud589\\uc758\\uc7a5\", \"LADDER\\ub958 \\uc124\\uce58\", 100.0], [\"\\ud6c4\\ud589\\uc758\\uc7a5\", \"PLATFORM\\ub958 \\uc124\\uce58\", 100.0], [\"\\ud6c4\\ud589\\uc758\\uc7a5\", \"POST & MAST \\uc124\\uce58\", 100.0], [\"\\ud6c4\\ud589\\uc758\\uc7a5\", \"SEAT\\ub958 \\uc124\\uce58\", 100.0], [\"\\ud6c4\\ud589\\uc758\\uc7a5\", \"SHELF\\ub958 \\uc124\\uce58\", 100.0], [\"\\ud6c4\\ud589\\uc758\\uc7a5\", \"STEP\\ub958 \\uc124\\uce58\", 100.0], [\"\\ud6c4\\ud589\\uc758\\uc7a5\", \"SUPPORT\\ub958 \\uc124\\uce58\", 100.0], [\"\\ud6c4\\ud589\\uc758\\uc7a5\", \"VENT \\ubc0f DAMPER\\ub958 \\uc124\\uce58\", 100.0], [\"\\ud6c4\\ud589\\uc758\\uc7a5\", \"\\ub300\\ud615 \\ucca0\\uc758\\uc7a5\\ub958 \\uc124\\uce58\", 100.0], [\"\\ud6c4\\ud589\\uc758\\uc7a5\", \"\\uc77c\\ubc18 \\uacf5\\ud1b5\\uc124\\uce58\", 100.0], [\"\\ud6c4\\ud589\\uc758\\uc7a5\", \"Dock \\uc804\\uc7a5 \\uc124\\uce58\", 190.0], [\"\\ud6c4\\ud589\\uc758\\uc7a5\", \"\\uc120\\ud589Block \\uc804\\uc7a5 \\uc124\\uce58\", 80.0], [\"\\ud6c4\\ud589\\uc758\\uc7a5\", \"\\uc548\\ubcbd \\uc804\\uc7a5 \\uc124\\uce58\", 120.0], [\"\\ud6c4\\ud589\\uc758\\uc7a5\", \"\\uc804\\uc7a5 Coaming \\uc124\\uce58\", 40.0], [\"\\ud6c4\\ud589\\uc758\\uc7a5\", \"\\uc804\\uc7a5 Seat \\uc124\\uce58 (Lighting Seat, Alarm Seat \\ub4f1)\", 50.0], [\"\\ud6c4\\ud589\\uc758\\uc7a5\", \"\\ud6c4PE \\uc804\\uc7a5 \\uc124\\uce58\", 580.0], [\"\\ud6c4\\ud589\\uc758\\uc7a5\", \"Dock \\uc804\\uc7a5 \\uc124\\uce58\", 190.0], [\"\\ud6c4\\ud589\\uc758\\uc7a5\", \"\\uc120\\ud589Block \\uc804\\uc7a5 \\uc124\\uce58\", 80.0], [\"\\ud6c4\\ud589\\uc758\\uc7a5\", \"\\uc548\\ubcbd \\uc804\\uc7a5 \\uc124\\uce58\", 120.0], [\"\\ud6c4\\ud589\\uc758\\uc7a5\", \"\\uc804\\uc7a5 Coaming \\uc124\\uce58\", 40.0], [\"\\ud6c4\\ud589\\uc758\\uc7a5\", \"\\uc804\\uc7a5 Seat \\uc124\\uce58 (Lighting Seat, Alarm Seat \\ub4f1)\", 50.0], [\"\\ud6c4\\ud589\\uc758\\uc7a5\", \"\\ud6c4PE \\uc804\\uc7a5 \\uc124\\uce58\", 160.0], [\"\\ud6c4\\ud589\\uc758\\uc7a5\", \"Dock \\uc804\\uc7a5 \\uc124\\uce58\", 190.0], [\"\\ud6c4\\ud589\\uc758\\uc7a5\", \"\\uc120\\ud589Block \\uc804\\uc7a5 \\uc124\\uce58\", 80.0], [\"\\ud6c4\\ud589\\uc758\\uc7a5\", \"\\uc548\\ubcbd \\uc804\\uc7a5 \\uc124\\uce58\", 120.0], [\"\\ud6c4\\ud589\\uc758\\uc7a5\", \"\\uc804\\uc7a5 Coaming \\uc124\\uce58\", 40.0], [\"\\ud6c4\\ud589\\uc758\\uc7a5\", \"\\uc804\\uc7a5 Seat \\uc124\\uce58 (Lighting Seat, Alarm Seat \\ub4f1)\", 50.0], [\"\\ud6c4\\ud589\\uc758\\uc7a5\", \"\\ud6c4PE \\uc804\\uc7a5 \\uc124\\uce58\", 160.0], [\"\\ud6c4\\ud589\\uc758\\uc7a5\", \"\\uc804\\ub85c\\ub3c4\\uc7a5(\\uc5d4\\uc9c4\\ub8f8)\", 210.0], [\"\\ud6c4\\ud589\\uc758\\uc7a5\", \"\\uc804\\ub85c\\ub3c4\\uc7a5(\\uc5d4\\uc9c4\\ub8f8)\", 210.0], [\"\\ud6c4\\ud589\\uc758\\uc7a5\", \"\\uc804\\ub85c\\ub3c4\\uc7a5(\\uc5d4\\uc9c4\\ub8f8)\", 210.0], [\"\\ud6c4\\ud589\\uc758\\uc7a5\", \"A-60 \\ubcf4\\uc628\", 50.0], [\"\\ud6c4\\ud589\\uc758\\uc7a5\", \"Insulation Stud Pin \\uc124\\uce58(\\uc5d4\\uc9c4\\ub8f8)\", 60.0], [\"\\ud6c4\\ud589\\uc758\\uc7a5\", \"Pipe \\ubcf4\\uc628\", 90.0], [\"\\ud6c4\\ud589\\uc758\\uc7a5\", \"Thermal \\ubcf4\\uc628\", 30.0], [\"\\ud6c4\\ud589\\uc758\\uc7a5\", \"\\ud568\\uc11d\\uc2dc\\uacf5\", 100.0], [\"\\ud6c4\\ud589\\uc758\\uc7a5\", \"A-60 \\ubcf4\\uc628\", 50.0], [\"\\ud6c4\\ud589\\uc758\\uc7a5\", \"Insulation Stud Pin \\uc124\\uce58(\\uc5d4\\uc9c4\\ub8f8)\", 60.0], [\"\\ud6c4\\ud589\\uc758\\uc7a5\", \"Pipe \\ubcf4\\uc628\", 90.0], [\"\\ud6c4\\ud589\\uc758\\uc7a5\", \"Thermal \\ubcf4\\uc628\", 30.0], [\"\\ud6c4\\ud589\\uc758\\uc7a5\", \"\\ud568\\uc11d\\uc2dc\\uacf5\", 100.0], [\"\\ud6c4\\ud589\\uc758\\uc7a5\", \"A-60 \\ubcf4\\uc628\", 50.0], [\"\\ud6c4\\ud589\\uc758\\uc7a5\", \"Insulation Stud Pin \\uc124\\uce58(\\uc5d4\\uc9c4\\ub8f8)\", 60.0], [\"\\ud6c4\\ud589\\uc758\\uc7a5\", \"Pipe \\ubcf4\\uc628\", 90.0], [\"\\ud6c4\\ud589\\uc758\\uc7a5\", \"Thermal \\ubcf4\\uc628\", 30.0], [\"\\ud6c4\\ud589\\uc758\\uc7a5\", \"\\ud568\\uc11d\\uc2dc\\uacf5\", 100.0]], \"hovertemplate\": \"\\ub300\\uad6c\\ubd84=%{customdata[0]}<br>R_vector=%{customdata[2]}<br>\\ubd80\\uc11c=%{y}<br>WORK_STAND_NM=%{customdata[1]}<extra></extra>\", \"legendgroup\": \"\\ud6c4\\ud589\\uc758\\uc7a5\", \"marker\": {\"color\": \"#636efa\"}, \"name\": \"\\ud6c4\\ud589\\uc758\\uc7a5\", \"offsetgroup\": \"\\ud6c4\\ud589\\uc758\\uc7a5\", \"orientation\": \"h\", \"showlegend\": true, \"textposition\": \"auto\", \"type\": \"bar\", \"x\": [20.0, 50.0, 20.0, 40.0, 50.0, 0.0, 60.0, 30.0, 30.0, 30.0, 130.0, 130.0, 50.0, 50.0, 170.0, 30.0, 30.0, 30.0, 130.0, 130.0, 50.0, 50.0, 170.0, 30.0, 30.0, 30.0, 130.0, 130.0, 50.0, 50.0, 170.0, 30.0, 30.0, 30.0, 130.0, 130.0, 50.0, 50.0, 170.0, 10.0, 40.0, 150.0, 80.0, 40.0, 10.0, 30.0, 50.0, 180.0, 80.0, 180.0, 80.0, 10.0, 40.0, 150.0, 80.0, 40.0, 10.0, 30.0, 50.0, 180.0, 80.0, 10.0, 40.0, 150.0, 80.0, 40.0, 10.0, 30.0, 50.0, 180.0, 80.0, 10.0, 40.0, 150.0, 80.0, 40.0, 10.0, 30.0, 50.0, 180.0, 70.0, 40.0, 110.0, 60.0, 70.0, 40.0, 110.0, 60.0, 70.0, 40.0, 110.0, 60.0, 70.0, 40.0, 110.0, 60.0, 120.0, 100.0, 110.0, 120.0, 50.0, 100.0, 100.0, 110.0, 100.0, 100.0, 100.0, 100.0, 100.0, 100.0, 100.0, 100.0, 100.0, 100.0, 100.0, 100.0, 100.0, 100.0, 100.0, 100.0, 100.0, 100.0, 120.0, 100.0, 110.0, 120.0, 50.0, 100.0, 110.0, 100.0, 100.0, 100.0, 100.0, 100.0, 100.0, 100.0, 100.0, 100.0, 100.0, 100.0, 100.0, 100.0, 100.0, 100.0, 120.0, 100.0, 110.0, 120.0, 50.0, 100.0, 110.0, 100.0, 100.0, 100.0, 100.0, 100.0, 100.0, 100.0, 100.0, 100.0, 100.0, 100.0, 100.0, 100.0, 100.0, 100.0, 120.0, 100.0, 110.0, 120.0, 50.0, 100.0, 110.0, 100.0, 100.0, 100.0, 100.0, 100.0, 100.0, 100.0, 100.0, 100.0, 100.0, 100.0, 190.0, 80.0, 120.0, 40.0, 50.0, 580.0, 190.0, 80.0, 120.0, 40.0, 50.0, 160.0, 190.0, 80.0, 120.0, 40.0, 50.0, 160.0, 210.0, 210.0, 210.0, 50.0, 60.0, 90.0, 30.0, 100.0, 50.0, 60.0, 90.0, 30.0, 100.0, 50.0, 60.0, 90.0, 30.0, 100.0], \"xaxis\": \"x\", \"y\": [\"CHS\\uacf5\\uc0ac\\ubd80\", \"CHS\\uacf5\\uc0ac\\ubd80\", \"CHS\\uacf5\\uc0ac\\ubd80\", \"CHS\\uacf5\\uc0ac\\ubd80\", \"CHS\\uacf5\\uc0ac\\ubd80\", \"CHS\\uacf5\\uc0ac\\ubd80\", \"CHS\\uacf5\\uc0ac\\ubd80\", \"CHS\\uacf5\\uc0ac\\ubd80\", \"CHS\\uacf5\\uc0ac\\ubd80\", \"CHS\\uacf5\\uc0ac\\ubd80\", \"CHS\\uacf5\\uc0ac\\ubd80\", \"CHS\\uacf5\\uc0ac\\ubd80\", \"CHS\\uacf5\\uc0ac\\ubd80\", \"CHS\\uacf5\\uc0ac\\ubd80\", \"CHS\\uacf5\\uc0ac\\ubd80\", \"\\uc758\\uc7a51\\ubd80\", \"\\uc758\\uc7a51\\ubd80\", \"\\uc758\\uc7a51\\ubd80\", \"\\uc758\\uc7a51\\ubd80\", \"\\uc758\\uc7a51\\ubd80\", \"\\uc758\\uc7a51\\ubd80\", \"\\uc758\\uc7a51\\ubd80\", \"\\uc758\\uc7a51\\ubd80\", \"\\uc758\\uc7a52\\ubd80\", \"\\uc758\\uc7a52\\ubd80\", \"\\uc758\\uc7a52\\ubd80\", \"\\uc758\\uc7a52\\ubd80\", \"\\uc758\\uc7a52\\ubd80\", \"\\uc758\\uc7a52\\ubd80\", \"\\uc758\\uc7a52\\ubd80\", \"\\uc758\\uc7a52\\ubd80\", \"\\uc758\\uc7a53\\ubd80\", \"\\uc758\\uc7a53\\ubd80\", \"\\uc758\\uc7a53\\ubd80\", \"\\uc758\\uc7a53\\ubd80\", \"\\uc758\\uc7a53\\ubd80\", \"\\uc758\\uc7a53\\ubd80\", \"\\uc758\\uc7a53\\ubd80\", \"\\uc758\\uc7a53\\ubd80\", \"CHS\\uacf5\\uc0ac\\ubd80\", \"CHS\\uacf5\\uc0ac\\ubd80\", \"CHS\\uacf5\\uc0ac\\ubd80\", \"CHS\\uacf5\\uc0ac\\ubd80\", \"CHS\\uacf5\\uc0ac\\ubd80\", \"CHS\\uacf5\\uc0ac\\ubd80\", \"CHS\\uacf5\\uc0ac\\ubd80\", \"CHS\\uacf5\\uc0ac\\ubd80\", \"CHS\\uacf5\\uc0ac\\ubd80\", \"CHS\\uacf5\\uc0ac\\ubd80\", \"\\uc120\\uc2e4\\uc0dd\\uc0b0\\ubd80\", \"\\uc758\\uc7a51\\ubd80\", \"\\uc758\\uc7a51\\ubd80\", \"\\uc758\\uc7a51\\ubd80\", \"\\uc758\\uc7a51\\ubd80\", \"\\uc758\\uc7a51\\ubd80\", \"\\uc758\\uc7a51\\ubd80\", \"\\uc758\\uc7a51\\ubd80\", \"\\uc758\\uc7a51\\ubd80\", \"\\uc758\\uc7a51\\ubd80\", \"\\uc758\\uc7a51\\ubd80\", \"\\uc758\\uc7a52\\ubd80\", \"\\uc758\\uc7a52\\ubd80\", \"\\uc758\\uc7a52\\ubd80\", \"\\uc758\\uc7a52\\ubd80\", \"\\uc758\\uc7a52\\ubd80\", \"\\uc758\\uc7a52\\ubd80\", \"\\uc758\\uc7a52\\ubd80\", \"\\uc758\\uc7a52\\ubd80\", \"\\uc758\\uc7a52\\ubd80\", \"\\uc758\\uc7a52\\ubd80\", \"\\uc758\\uc7a53\\ubd80\", \"\\uc758\\uc7a53\\ubd80\", \"\\uc758\\uc7a53\\ubd80\", \"\\uc758\\uc7a53\\ubd80\", \"\\uc758\\uc7a53\\ubd80\", \"\\uc758\\uc7a53\\ubd80\", \"\\uc758\\uc7a53\\ubd80\", \"\\uc758\\uc7a53\\ubd80\", \"\\uc758\\uc7a53\\ubd80\", \"\\uc758\\uc7a53\\ubd80\", \"CHS\\uacf5\\uc0ac\\ubd80\", \"CHS\\uacf5\\uc0ac\\ubd80\", \"CHS\\uacf5\\uc0ac\\ubd80\", \"CHS\\uacf5\\uc0ac\\ubd80\", \"\\uc758\\uc7a51\\ubd80\", \"\\uc758\\uc7a51\\ubd80\", \"\\uc758\\uc7a51\\ubd80\", \"\\uc758\\uc7a51\\ubd80\", \"\\uc758\\uc7a52\\ubd80\", \"\\uc758\\uc7a52\\ubd80\", \"\\uc758\\uc7a52\\ubd80\", \"\\uc758\\uc7a52\\ubd80\", \"\\uc758\\uc7a53\\ubd80\", \"\\uc758\\uc7a53\\ubd80\", \"\\uc758\\uc7a53\\ubd80\", \"\\uc758\\uc7a53\\ubd80\", \"CHS\\uacf5\\uc0ac\\ubd80\", \"CHS\\uacf5\\uc0ac\\ubd80\", \"CHS\\uacf5\\uc0ac\\ubd80\", \"CHS\\uacf5\\uc0ac\\ubd80\", \"CHS\\uacf5\\uc0ac\\ubd80\", \"CHS\\uacf5\\uc0ac\\ubd80\", \"CHS\\uacf5\\uc0ac\\ubd80\", \"CHS\\uacf5\\uc0ac\\ubd80\", \"CHS\\uacf5\\uc0ac\\ubd80\", \"CHS\\uacf5\\uc0ac\\ubd80\", \"CHS\\uacf5\\uc0ac\\ubd80\", \"CHS\\uacf5\\uc0ac\\ubd80\", \"CHS\\uacf5\\uc0ac\\ubd80\", \"CHS\\uacf5\\uc0ac\\ubd80\", \"CHS\\uacf5\\uc0ac\\ubd80\", \"CHS\\uacf5\\uc0ac\\ubd80\", \"CHS\\uacf5\\uc0ac\\ubd80\", \"CHS\\uacf5\\uc0ac\\ubd80\", \"CHS\\uacf5\\uc0ac\\ubd80\", \"CHS\\uacf5\\uc0ac\\ubd80\", \"CHS\\uacf5\\uc0ac\\ubd80\", \"CHS\\uacf5\\uc0ac\\ubd80\", \"\\uc758\\uc7a51\\ubd80\", \"\\uc758\\uc7a51\\ubd80\", \"\\uc758\\uc7a51\\ubd80\", \"\\uc758\\uc7a51\\ubd80\", \"\\uc758\\uc7a51\\ubd80\", \"\\uc758\\uc7a51\\ubd80\", \"\\uc758\\uc7a51\\ubd80\", \"\\uc758\\uc7a51\\ubd80\", \"\\uc758\\uc7a51\\ubd80\", \"\\uc758\\uc7a51\\ubd80\", \"\\uc758\\uc7a51\\ubd80\", \"\\uc758\\uc7a51\\ubd80\", \"\\uc758\\uc7a51\\ubd80\", \"\\uc758\\uc7a51\\ubd80\", \"\\uc758\\uc7a51\\ubd80\", \"\\uc758\\uc7a51\\ubd80\", \"\\uc758\\uc7a51\\ubd80\", \"\\uc758\\uc7a51\\ubd80\", \"\\uc758\\uc7a51\\ubd80\", \"\\uc758\\uc7a51\\ubd80\", \"\\uc758\\uc7a51\\ubd80\", \"\\uc758\\uc7a51\\ubd80\", \"\\uc758\\uc7a52\\ubd80\", \"\\uc758\\uc7a52\\ubd80\", \"\\uc758\\uc7a52\\ubd80\", \"\\uc758\\uc7a52\\ubd80\", \"\\uc758\\uc7a52\\ubd80\", \"\\uc758\\uc7a52\\ubd80\", \"\\uc758\\uc7a52\\ubd80\", \"\\uc758\\uc7a52\\ubd80\", \"\\uc758\\uc7a52\\ubd80\", \"\\uc758\\uc7a52\\ubd80\", \"\\uc758\\uc7a52\\ubd80\", \"\\uc758\\uc7a52\\ubd80\", \"\\uc758\\uc7a52\\ubd80\", \"\\uc758\\uc7a52\\ubd80\", \"\\uc758\\uc7a52\\ubd80\", \"\\uc758\\uc7a52\\ubd80\", \"\\uc758\\uc7a52\\ubd80\", \"\\uc758\\uc7a52\\ubd80\", \"\\uc758\\uc7a52\\ubd80\", \"\\uc758\\uc7a52\\ubd80\", \"\\uc758\\uc7a52\\ubd80\", \"\\uc758\\uc7a52\\ubd80\", \"\\uc758\\uc7a53\\ubd80\", \"\\uc758\\uc7a53\\ubd80\", \"\\uc758\\uc7a53\\ubd80\", \"\\uc758\\uc7a53\\ubd80\", \"\\uc758\\uc7a53\\ubd80\", \"\\uc758\\uc7a53\\ubd80\", \"\\uc758\\uc7a53\\ubd80\", \"\\uc758\\uc7a53\\ubd80\", \"\\uc758\\uc7a53\\ubd80\", \"\\uc758\\uc7a53\\ubd80\", \"\\uc758\\uc7a53\\ubd80\", \"\\uc758\\uc7a53\\ubd80\", \"\\uc758\\uc7a53\\ubd80\", \"\\uc758\\uc7a53\\ubd80\", \"\\uc758\\uc7a53\\ubd80\", \"\\uc758\\uc7a53\\ubd80\", \"\\uc758\\uc7a53\\ubd80\", \"\\uc758\\uc7a53\\ubd80\", \"\\uc758\\uc7a53\\ubd80\", \"\\uc758\\uc7a53\\ubd80\", \"\\uc758\\uc7a53\\ubd80\", \"\\uc758\\uc7a53\\ubd80\", \"\\uc758\\uc7a51\\ubd80\", \"\\uc758\\uc7a51\\ubd80\", \"\\uc758\\uc7a51\\ubd80\", \"\\uc758\\uc7a51\\ubd80\", \"\\uc758\\uc7a51\\ubd80\", \"\\uc758\\uc7a51\\ubd80\", \"\\uc758\\uc7a52\\ubd80\", \"\\uc758\\uc7a52\\ubd80\", \"\\uc758\\uc7a52\\ubd80\", \"\\uc758\\uc7a52\\ubd80\", \"\\uc758\\uc7a52\\ubd80\", \"\\uc758\\uc7a52\\ubd80\", \"\\uc758\\uc7a53\\ubd80\", \"\\uc758\\uc7a53\\ubd80\", \"\\uc758\\uc7a53\\ubd80\", \"\\uc758\\uc7a53\\ubd80\", \"\\uc758\\uc7a53\\ubd80\", \"\\uc758\\uc7a53\\ubd80\", \"\\uc758\\uc7a51\\ubd80\", \"\\uc758\\uc7a52\\ubd80\", \"\\uc758\\uc7a53\\ubd80\", \"\\uc758\\uc7a51\\ubd80\", \"\\uc758\\uc7a51\\ubd80\", \"\\uc758\\uc7a51\\ubd80\", \"\\uc758\\uc7a51\\ubd80\", \"\\uc758\\uc7a51\\ubd80\", \"\\uc758\\uc7a52\\ubd80\", \"\\uc758\\uc7a52\\ubd80\", \"\\uc758\\uc7a52\\ubd80\", \"\\uc758\\uc7a52\\ubd80\", \"\\uc758\\uc7a52\\ubd80\", \"\\uc758\\uc7a53\\ubd80\", \"\\uc758\\uc7a53\\ubd80\", \"\\uc758\\uc7a53\\ubd80\", \"\\uc758\\uc7a53\\ubd80\", \"\\uc758\\uc7a53\\ubd80\"], \"yaxis\": \"y\"}],                        {\"barmode\": \"relative\", \"height\": 800, \"legend\": {\"title\": {\"text\": \"\\ub300\\uad6c\\ubd84\"}, \"tracegroupgap\": 0}, \"template\": {\"data\": {\"bar\": [{\"error_x\": {\"color\": \"#2a3f5f\"}, \"error_y\": {\"color\": \"#2a3f5f\"}, \"marker\": {\"line\": {\"color\": \"#E5ECF6\", \"width\": 0.5}}, \"type\": \"bar\"}], \"barpolar\": [{\"marker\": {\"line\": {\"color\": \"#E5ECF6\", \"width\": 0.5}}, \"type\": \"barpolar\"}], \"carpet\": [{\"aaxis\": {\"endlinecolor\": \"#2a3f5f\", \"gridcolor\": \"white\", \"linecolor\": \"white\", \"minorgridcolor\": \"white\", \"startlinecolor\": \"#2a3f5f\"}, \"baxis\": {\"endlinecolor\": \"#2a3f5f\", \"gridcolor\": \"white\", \"linecolor\": \"white\", \"minorgridcolor\": \"white\", \"startlinecolor\": \"#2a3f5f\"}, \"type\": \"carpet\"}], \"choropleth\": [{\"colorbar\": {\"outlinewidth\": 0, \"ticks\": \"\"}, \"type\": \"choropleth\"}], \"contour\": [{\"colorbar\": {\"outlinewidth\": 0, \"ticks\": \"\"}, \"colorscale\": [[0.0, \"#0d0887\"], [0.1111111111111111, \"#46039f\"], [0.2222222222222222, \"#7201a8\"], [0.3333333333333333, \"#9c179e\"], [0.4444444444444444, \"#bd3786\"], [0.5555555555555556, \"#d8576b\"], [0.6666666666666666, \"#ed7953\"], [0.7777777777777778, \"#fb9f3a\"], [0.8888888888888888, \"#fdca26\"], [1.0, \"#f0f921\"]], \"type\": \"contour\"}], \"contourcarpet\": [{\"colorbar\": {\"outlinewidth\": 0, \"ticks\": \"\"}, \"type\": \"contourcarpet\"}], \"heatmap\": [{\"colorbar\": {\"outlinewidth\": 0, \"ticks\": \"\"}, \"colorscale\": [[0.0, \"#0d0887\"], [0.1111111111111111, \"#46039f\"], [0.2222222222222222, \"#7201a8\"], [0.3333333333333333, \"#9c179e\"], [0.4444444444444444, \"#bd3786\"], [0.5555555555555556, \"#d8576b\"], [0.6666666666666666, \"#ed7953\"], [0.7777777777777778, \"#fb9f3a\"], [0.8888888888888888, \"#fdca26\"], [1.0, \"#f0f921\"]], \"type\": \"heatmap\"}], \"heatmapgl\": [{\"colorbar\": {\"outlinewidth\": 0, \"ticks\": \"\"}, \"colorscale\": [[0.0, \"#0d0887\"], [0.1111111111111111, \"#46039f\"], [0.2222222222222222, \"#7201a8\"], [0.3333333333333333, \"#9c179e\"], [0.4444444444444444, \"#bd3786\"], [0.5555555555555556, \"#d8576b\"], [0.6666666666666666, \"#ed7953\"], [0.7777777777777778, \"#fb9f3a\"], [0.8888888888888888, \"#fdca26\"], [1.0, \"#f0f921\"]], \"type\": \"heatmapgl\"}], \"histogram\": [{\"marker\": {\"colorbar\": {\"outlinewidth\": 0, \"ticks\": \"\"}}, \"type\": \"histogram\"}], \"histogram2d\": [{\"colorbar\": {\"outlinewidth\": 0, \"ticks\": \"\"}, \"colorscale\": [[0.0, \"#0d0887\"], [0.1111111111111111, \"#46039f\"], [0.2222222222222222, \"#7201a8\"], [0.3333333333333333, \"#9c179e\"], [0.4444444444444444, \"#bd3786\"], [0.5555555555555556, \"#d8576b\"], [0.6666666666666666, \"#ed7953\"], [0.7777777777777778, \"#fb9f3a\"], [0.8888888888888888, \"#fdca26\"], [1.0, \"#f0f921\"]], \"type\": \"histogram2d\"}], \"histogram2dcontour\": [{\"colorbar\": {\"outlinewidth\": 0, \"ticks\": \"\"}, \"colorscale\": [[0.0, \"#0d0887\"], [0.1111111111111111, \"#46039f\"], [0.2222222222222222, \"#7201a8\"], [0.3333333333333333, \"#9c179e\"], [0.4444444444444444, \"#bd3786\"], [0.5555555555555556, \"#d8576b\"], [0.6666666666666666, \"#ed7953\"], [0.7777777777777778, \"#fb9f3a\"], [0.8888888888888888, \"#fdca26\"], [1.0, \"#f0f921\"]], \"type\": \"histogram2dcontour\"}], \"mesh3d\": [{\"colorbar\": {\"outlinewidth\": 0, \"ticks\": \"\"}, \"type\": \"mesh3d\"}], \"parcoords\": [{\"line\": {\"colorbar\": {\"outlinewidth\": 0, \"ticks\": \"\"}}, \"type\": \"parcoords\"}], \"pie\": [{\"automargin\": true, \"type\": \"pie\"}], \"scatter\": [{\"marker\": {\"colorbar\": {\"outlinewidth\": 0, \"ticks\": \"\"}}, \"type\": \"scatter\"}], \"scatter3d\": [{\"line\": {\"colorbar\": {\"outlinewidth\": 0, \"ticks\": \"\"}}, \"marker\": {\"colorbar\": {\"outlinewidth\": 0, \"ticks\": \"\"}}, \"type\": \"scatter3d\"}], \"scattercarpet\": [{\"marker\": {\"colorbar\": {\"outlinewidth\": 0, \"ticks\": \"\"}}, \"type\": \"scattercarpet\"}], \"scattergeo\": [{\"marker\": {\"colorbar\": {\"outlinewidth\": 0, \"ticks\": \"\"}}, \"type\": \"scattergeo\"}], \"scattergl\": [{\"marker\": {\"colorbar\": {\"outlinewidth\": 0, \"ticks\": \"\"}}, \"type\": \"scattergl\"}], \"scattermapbox\": [{\"marker\": {\"colorbar\": {\"outlinewidth\": 0, \"ticks\": \"\"}}, \"type\": \"scattermapbox\"}], \"scatterpolar\": [{\"marker\": {\"colorbar\": {\"outlinewidth\": 0, \"ticks\": \"\"}}, \"type\": \"scatterpolar\"}], \"scatterpolargl\": [{\"marker\": {\"colorbar\": {\"outlinewidth\": 0, \"ticks\": \"\"}}, \"type\": \"scatterpolargl\"}], \"scatterternary\": [{\"marker\": {\"colorbar\": {\"outlinewidth\": 0, \"ticks\": \"\"}}, \"type\": \"scatterternary\"}], \"surface\": [{\"colorbar\": {\"outlinewidth\": 0, \"ticks\": \"\"}, \"colorscale\": [[0.0, \"#0d0887\"], [0.1111111111111111, \"#46039f\"], [0.2222222222222222, \"#7201a8\"], [0.3333333333333333, \"#9c179e\"], [0.4444444444444444, \"#bd3786\"], [0.5555555555555556, \"#d8576b\"], [0.6666666666666666, \"#ed7953\"], [0.7777777777777778, \"#fb9f3a\"], [0.8888888888888888, \"#fdca26\"], [1.0, \"#f0f921\"]], \"type\": \"surface\"}], \"table\": [{\"cells\": {\"fill\": {\"color\": \"#EBF0F8\"}, \"line\": {\"color\": \"white\"}}, \"header\": {\"fill\": {\"color\": \"#C8D4E3\"}, \"line\": {\"color\": \"white\"}}, \"type\": \"table\"}]}, \"layout\": {\"annotationdefaults\": {\"arrowcolor\": \"#2a3f5f\", \"arrowhead\": 0, \"arrowwidth\": 1}, \"autotypenumbers\": \"strict\", \"coloraxis\": {\"colorbar\": {\"outlinewidth\": 0, \"ticks\": \"\"}}, \"colorscale\": {\"diverging\": [[0, \"#8e0152\"], [0.1, \"#c51b7d\"], [0.2, \"#de77ae\"], [0.3, \"#f1b6da\"], [0.4, \"#fde0ef\"], [0.5, \"#f7f7f7\"], [0.6, \"#e6f5d0\"], [0.7, \"#b8e186\"], [0.8, \"#7fbc41\"], [0.9, \"#4d9221\"], [1, \"#276419\"]], \"sequential\": [[0.0, \"#0d0887\"], [0.1111111111111111, \"#46039f\"], [0.2222222222222222, \"#7201a8\"], [0.3333333333333333, \"#9c179e\"], [0.4444444444444444, \"#bd3786\"], [0.5555555555555556, \"#d8576b\"], [0.6666666666666666, \"#ed7953\"], [0.7777777777777778, \"#fb9f3a\"], [0.8888888888888888, \"#fdca26\"], [1.0, \"#f0f921\"]], \"sequentialminus\": [[0.0, \"#0d0887\"], [0.1111111111111111, \"#46039f\"], [0.2222222222222222, \"#7201a8\"], [0.3333333333333333, \"#9c179e\"], [0.4444444444444444, \"#bd3786\"], [0.5555555555555556, \"#d8576b\"], [0.6666666666666666, \"#ed7953\"], [0.7777777777777778, \"#fb9f3a\"], [0.8888888888888888, \"#fdca26\"], [1.0, \"#f0f921\"]]}, \"colorway\": [\"#636efa\", \"#EF553B\", \"#00cc96\", \"#ab63fa\", \"#FFA15A\", \"#19d3f3\", \"#FF6692\", \"#B6E880\", \"#FF97FF\", \"#FECB52\"], \"font\": {\"color\": \"#2a3f5f\"}, \"geo\": {\"bgcolor\": \"white\", \"lakecolor\": \"white\", \"landcolor\": \"#E5ECF6\", \"showlakes\": true, \"showland\": true, \"subunitcolor\": \"white\"}, \"hoverlabel\": {\"align\": \"left\"}, \"hovermode\": \"closest\", \"mapbox\": {\"style\": \"light\"}, \"paper_bgcolor\": \"white\", \"plot_bgcolor\": \"#E5ECF6\", \"polar\": {\"angularaxis\": {\"gridcolor\": \"white\", \"linecolor\": \"white\", \"ticks\": \"\"}, \"bgcolor\": \"#E5ECF6\", \"radialaxis\": {\"gridcolor\": \"white\", \"linecolor\": \"white\", \"ticks\": \"\"}}, \"scene\": {\"xaxis\": {\"backgroundcolor\": \"#E5ECF6\", \"gridcolor\": \"white\", \"gridwidth\": 2, \"linecolor\": \"white\", \"showbackground\": true, \"ticks\": \"\", \"zerolinecolor\": \"white\"}, \"yaxis\": {\"backgroundcolor\": \"#E5ECF6\", \"gridcolor\": \"white\", \"gridwidth\": 2, \"linecolor\": \"white\", \"showbackground\": true, \"ticks\": \"\", \"zerolinecolor\": \"white\"}, \"zaxis\": {\"backgroundcolor\": \"#E5ECF6\", \"gridcolor\": \"white\", \"gridwidth\": 2, \"linecolor\": \"white\", \"showbackground\": true, \"ticks\": \"\", \"zerolinecolor\": \"white\"}}, \"shapedefaults\": {\"line\": {\"color\": \"#2a3f5f\"}}, \"ternary\": {\"aaxis\": {\"gridcolor\": \"white\", \"linecolor\": \"white\", \"ticks\": \"\"}, \"baxis\": {\"gridcolor\": \"white\", \"linecolor\": \"white\", \"ticks\": \"\"}, \"bgcolor\": \"#E5ECF6\", \"caxis\": {\"gridcolor\": \"white\", \"linecolor\": \"white\", \"ticks\": \"\"}}, \"title\": {\"x\": 0.05}, \"xaxis\": {\"automargin\": true, \"gridcolor\": \"white\", \"linecolor\": \"white\", \"ticks\": \"\", \"title\": {\"standoff\": 15}, \"zerolinecolor\": \"white\", \"zerolinewidth\": 2}, \"yaxis\": {\"automargin\": true, \"gridcolor\": \"white\", \"linecolor\": \"white\", \"ticks\": \"\", \"title\": {\"standoff\": 15}, \"zerolinecolor\": \"white\", \"zerolinewidth\": 2}}}, \"title\": {\"text\": \"Test1\"}, \"xaxis\": {\"anchor\": \"y\", \"domain\": [0.0, 1.0], \"title\": {\"text\": \"R_vector\"}}, \"yaxis\": {\"anchor\": \"x\", \"categoryarray\": [\"\\uc791\\uc5c5\\ud45c\\uc900\\ud601\\uc2e0TF\", \"\\uc870\\uc120\\ud574\\uc591\\ud488\\uc9c8\\uacbd\\uc6012\\ubd80\", \"\\uc870\\uc120\\ud574\\uc591\\ud488\\uc9c8\\uacbd\\uc6011\\ubd80\", \"\\uc790\\uc7ac\\uc6b4\\uc601\\ubd80\", \"\\uc6b4\\ud56d\\uad00\\uc81c\\uacfc\", \"\\uc2dc\\uc6b4\\uc804\\ubd80\", \"\\uc678\\uc5c5\\uacf5\\uc0ac\\uc9c0\\uc6d0\\ubd80\", \"\\ubc1c\\ud310\\uc9c0\\uc6d0\\ubd80\", \"\\ub3c4\\uc7a52\\ubd80\", \"\\ub3c4\\uc7a51\\ubd80\", \"LNG\\uacf5\\uc0ac\\ubd80\", \"\\uae30\\uacc4\\uc758\\uc7a5\\ubd80\", \"CHS\\uacf5\\uc0ac\\ubd80\", \"\\uc758\\uc7a53\\ubd80\", \"\\uc758\\uc7a52\\ubd80\", \"\\uc758\\uc7a51\\ubd80\", \"\\uac74\\uc8703\\ubd80\", \"\\uac74\\uc8702\\ubd80\", \"\\uac74\\uc8701\\ubd80\", \"\\uc120\\uc2e4\\uc0dd\\uc0b0\\ubd80\", \"\\ub0b4\\uc5c5\\uacf5\\uc0ac\\uc9c0\\uc6d0\\ubd80\", \"\\uc120\\ud589\\ub3c4\\uc7a5\\ubd80\", \"Unit\\uc0dd\\uc0b0\\ubd80\", \"\\uc758\\uc7a5\\uc0dd\\uc0b0\\ubd80\", \"\\uc120\\ud589\\uc758\\uc7a5\\ubd80\", \"\\ub300\\uc870\\ub9bd2\\ubd80\", \"\\ub300\\uc870\\ub9bd1\\ubd80\", \"\\ud310\\ub12c\\uc870\\ub9bd\\ubd80\", \"\\uac00\\uacf5\\uc18c\\uc870\\ub9bd\\ubd80\"], \"categoryorder\": \"array\", \"domain\": [0.0, 1.0], \"title\": {\"text\": \"\\ubd80\\uc11c\"}}},                        {\"responsive\": true}                    ).then(function(){\n",
       "                            \n",
       "var gd = document.getElementById('fc3ad423-8057-48fe-bfd4-17187b69eba3');\n",
       "var x = new MutationObserver(function (mutations, observer) {{\n",
       "        var display = window.getComputedStyle(gd).display;\n",
       "        if (!display || display === 'none') {{\n",
       "            console.log([gd, 'removed!']);\n",
       "            Plotly.purge(gd);\n",
       "            observer.disconnect();\n",
       "        }}\n",
       "}});\n",
       "\n",
       "// Listen for the removal of the full notebook cells\n",
       "var notebookContainer = gd.closest('#notebook-container');\n",
       "if (notebookContainer) {{\n",
       "    x.observe(notebookContainer, {childList: true});\n",
       "}}\n",
       "\n",
       "// Listen for the clearing of the current output cell\n",
       "var outputEl = gd.closest('.output');\n",
       "if (outputEl) {{\n",
       "    x.observe(outputEl, {childList: true});\n",
       "}}\n",
       "\n",
       "                        })                };                });            </script>        </div>"
      ]
     },
     "metadata": {},
     "output_type": "display_data"
    }
   ],
   "source": [
    "fig = px.bar(gdf, x=\"R_vector\", y=\"부서\", color='대구분', orientation='h',\n",
    "             hover_data=[\"대구분\", \"WORK_STAND_NM\", \"R_vector\"],\n",
    "             height=800,\n",
    "             title='Test1',\n",
    "            category_orders = {\"부서\":\n",
    "                              [\"가공소조립부\", \"판넬조립부\", \"대조립1부\", \"대조립2부\",\n",
    "                              \"선행의장부\", \"의장생산부\", \"Unit생산부\", \"선행도장부\", \"내업공사지원부\",\n",
    "                              \"선실생산부\", \"건조1부\", \"건조2부\", \"건조3부\", \"의장1부\", \"의장2부\",\n",
    "                              \"의장3부\", \"CHS공사부\", \"기계의장부\", \"LNG공사부\", \"도장1부\", \"도장2부\",\"발판지원부\",\n",
    "                              \"외업공사지원부\", \"시운전부\", \"운항관제과\", \"자재운영부\", \"조선해양품질경영1부\", \"조선해양품질경영2부\", \"작업표준혁신TF\"]})\n",
    "fig.show()"
   ]
  },
  {
   "cell_type": "markdown",
   "metadata": {},
   "source": [
    "## Plotly Dash Visual"
   ]
  },
  {
   "cell_type": "code",
   "execution_count": 119,
   "metadata": {},
   "outputs": [],
   "source": [
    "import pandas as pd #(version 0.24.2)\n",
    "import datetime as dt\n",
    "import dash         #(version 1.0.0)\n",
    "import dash_core_components as dcc\n",
    "import dash_html_components as html\n",
    "from dash.dependencies import Input, Output\n",
    "\n",
    "import plotly       #(version 4.4.1)\n",
    "import plotly.express as px"
   ]
  },
  {
   "cell_type": "code",
   "execution_count": 120,
   "metadata": {},
   "outputs": [],
   "source": [
    "app = dash.Dash(__name__)"
   ]
  },
  {
   "cell_type": "code",
   "execution_count": 230,
   "metadata": {},
   "outputs": [],
   "source": [
    "app.layout = html.Div([\n",
    "\n",
    "        html.Div([\n",
    "            html.Label(['부서'],style={'font-weight': 'bold'}),\n",
    "            dcc.RadioItems(\n",
    "                id='xaxis_raditem',\n",
    "                options=[\n",
    "                         {'label': '부서', 'value': '부서'},\n",
    "                         {'label': '대구분', 'value': '대구분'},\n",
    "                ],\n",
    "                value='부서',\n",
    "                style={\"width\": \"50%\"}\n",
    "            ),\n",
    "        ]),\n",
    "\n",
    "        html.Div([\n",
    "            html.Br(),\n",
    "            html.Label(['값'], style={'font-weight': 'bold'}),\n",
    "            dcc.RadioItems(\n",
    "                id='yaxis_raditem',\n",
    "                options=[\n",
    "                         {'label': 'Risk Vector', 'value': 'R_vector'},\n",
    "                         {'label': 'Risk Count', 'value': '위험_id개수'},\n",
    "                ],\n",
    "                value='R_vector',\n",
    "                style={\"width\": \"50%\"}\n",
    "            ),\n",
    "        ]),\n",
    "\n",
    "    html.Div([\n",
    "        dcc.Graph(id='the_graph')\n",
    "    ]),\n",
    "\n",
    "])"
   ]
  },
  {
   "cell_type": "code",
   "execution_count": 229,
   "metadata": {},
   "outputs": [
    {
     "name": "stdout",
     "output_type": "stream",
     "text": [
      "['선각 철의장품/치공구류 제작', '주판재/내부재 선별', '성형', '강재 적치', '전처리', 'GAS 절단', '플라즈마 절단', '고소차 점검 및 운전', '곤돌라 운전작업', '지게차 운행 및 상하차 작업', '카크레인 상하차 작업', '화물차량(1/2.5/5ton) 운전 및 주정차', '사내/생산현장 이동', '그라인딩', '마킹', '40 Pole 자동용접 (부서별 Pole 수에 맞게 검토 요망)', 'FCAW 반자동 용접(CO2 용접)', 'SW-41 용접', '소부재 취부_수동', '오토 캐리지 용접(FCAW 자동)', '취부', '형강 취부작업_자동', '로봇 형강 절단', '컨테이너선 UPPER DECK 후판 반자동 절단', 'A형 사다리 설치 및 사용', 'Heating Coil 설치', 'Container Stool 설치', 'Hatch 설치', 'Mooring 설치 (Bollard, Panama Chock, Chafing Rail, Cross Bit, Capstan)', '전로 설치 (Main, FB, SF, Multi Core)', '소조 판계(대형)', '소조 판계(소형)', '소조 판계(인서트 부재)', '소조(평중조)', '일반 소조(1차 중조)', '일반 소조(BOX중조)', '일반 소조(T/O)', '일반 소조(기본)', '일반 소조(다층 중조)', '일반 소조(박판)', '선실 소조(일반)', '선실 소조(판계)']\n",
      "[60.0, 80.0, 60.0, 50.0, 110.0, 120.0, 120.0, 100.0, 80.0, 130.0, 150.0, 60.0, 130.0, 40.0, 100.0, 80.0, 140.0, 50.0, 100.0, 70.0, 40.0, 90.0, 90.0, 50.0, 30.0, 20.0, 50.0, 30.0, 40.0, 40.0, 110.0, 90.0, 130.0, 670.0, 390.0, 700.0, 310.0, 190.0, 540.0, 260.0, 240.0, 110.0]\n"
     ]
    }
   ],
   "source": [
    "dff = gdf\n",
    "x1 = dff.loc[dff[\"부서\"] == \"가공소조립부\", \"WORK_STAND_NM\"].to_list()\n",
    "y1 = dff.loc[dff[\"부서\"] == \"가공소조립부\", \"R_vector\"].to_list()\n",
    "print(x1)\n",
    "print(y1)"
   ]
  },
  {
   "cell_type": "code",
   "execution_count": 231,
   "metadata": {},
   "outputs": [],
   "source": [
    "@app.callback(\n",
    "    Output(component_id='the_graph', component_property='figure'),\n",
    "    [Input(component_id='xaxis_raditem', component_property='value'),\n",
    "     Input(component_id='yaxis_raditem', component_property='value')]\n",
    ")\n",
    "def update_graph(x_axis, y_axis):\n",
    "\n",
    "    dff = gdf\n",
    "#     x = dff.loc[dff[\"부서\"]==x_axis, \"WORK_STAND_NM\"]\n",
    "#     y = dff.loc[dff[\"부서\"]==x_axis, y_axis]\n",
    "\n",
    "    barchart=px.bar(\n",
    "            data_frame=dff,\n",
    "            x= x_axis,\n",
    "            y= y_axis,\n",
    "#             x=dff[dff[\"부서\"]==x_axis],\n",
    "#             y=dff.loc[dff[\"부서\"]==x_axis, dff[y_axis]],\n",
    "            title=\"dash test1\",\n",
    "            # facet_col='Borough',\n",
    "            # color='Borough',\n",
    "            # barmode='group',\n",
    "            )\n",
    "\n",
    "    barchart.update_layout(xaxis={'categoryorder':'total ascending'},\n",
    "                           title={'xanchor':'center', 'yanchor': 'top', 'y':0.9,'x':0.5,})\n",
    "\n",
    "    return (barchart)"
   ]
  },
  {
   "cell_type": "code",
   "execution_count": 232,
   "metadata": {},
   "outputs": [
    {
     "name": "stdout",
     "output_type": "stream",
     "text": [
      "Dash is running on http://127.0.0.1:4050/\n",
      "\n",
      "Dash is running on http://127.0.0.1:4050/\n",
      "\n",
      " * Serving Flask app \"__main__\" (lazy loading)\n",
      " * Environment: production\n",
      "   WARNING: This is a development server. Do not use it in a production deployment.\n",
      "   Use a production WSGI server instead.\n",
      " * Debug mode: off\n"
     ]
    }
   ],
   "source": [
    "if __name__ == '__main__':\n",
    "    app.run_server(port = 4050)\n",
    "#     app.run_server(debug=True)"
   ]
  },
  {
   "cell_type": "code",
   "execution_count": null,
   "metadata": {},
   "outputs": [],
   "source": []
  },
  {
   "cell_type": "code",
   "execution_count": null,
   "metadata": {},
   "outputs": [],
   "source": []
  },
  {
   "cell_type": "code",
   "execution_count": null,
   "metadata": {},
   "outputs": [],
   "source": []
  }
 ],
 "metadata": {
  "kernelspec": {
   "display_name": "Python 3",
   "language": "python",
   "name": "python3"
  },
  "language_info": {
   "codemirror_mode": {
    "name": "ipython",
    "version": 3
   },
   "file_extension": ".py",
   "mimetype": "text/x-python",
   "name": "python",
   "nbconvert_exporter": "python",
   "pygments_lexer": "ipython3",
   "version": "3.7.7"
  }
 },
 "nbformat": 4,
 "nbformat_minor": 4
}
